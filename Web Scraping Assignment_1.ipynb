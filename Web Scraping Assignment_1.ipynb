{
 "cells": [
  {
   "cell_type": "code",
   "execution_count": 1,
   "id": "207e3692",
   "metadata": {},
   "outputs": [],
   "source": [
    "import bs4\n",
    "import requests"
   ]
  },
  {
   "cell_type": "code",
   "execution_count": 2,
   "id": "48eb93cf",
   "metadata": {},
   "outputs": [],
   "source": [
    "from bs4 import BeautifulSoup\n",
    "import requests"
   ]
  },
  {
   "cell_type": "markdown",
   "id": "715972b3",
   "metadata": {},
   "source": [
    "#### 1.Write a python program to display all the header tags from ‘en.wikipedia.org/wiki/Main_Page’."
   ]
  },
  {
   "cell_type": "code",
   "execution_count": 3,
   "id": "ac50df5c",
   "metadata": {},
   "outputs": [
    {
     "data": {
      "text/plain": [
       "<Response [200]>"
      ]
     },
     "execution_count": 3,
     "metadata": {},
     "output_type": "execute_result"
    }
   ],
   "source": [
    "page=requests.get('https://en.wikipedia.org/wiki/Main_Page')\n",
    "page"
   ]
  },
  {
   "cell_type": "code",
   "execution_count": 4,
   "id": "02e101b5",
   "metadata": {},
   "outputs": [
    {
     "data": {
      "text/plain": [
       "b'<!DOCTYPE html>\\n<html class=\"client-nojs\" lang=\"en\" dir=\"ltr\">\\n<head>\\n<meta charset=\"UTF-8\"/>\\n<title>Wikipedia, the free encyclopedia</title>\\n<script>document.documentElement.className=\"client-js\";RLCONF={\"wgBreakFrames\":!1,\"wgSeparatorTransformTable\":[\"\",\"\"],\"wgDigitTransformTable\":[\"\",\"\"],\"wgDefaultDateFormat\":\"dmy\",\"wgMonthNames\":[\"\",\"January\",\"February\",\"March\",\"April\",\"May\",\"June\",\"July\",\"August\",\"September\",\"October\",\"November\",\"December\"],\"wgRequestId\":\"11a22519-aa63-41c1-8b74-b245cbafcab5\",\"wgCSPNonce\":!1,\"wgCanonicalNamespace\":\"\",\"wgCanonicalSpecialPageName\":!1,\"wgNamespaceNumber\":0,\"wgPageName\":\"Main_Page\",\"wgTitle\":\"Main Page\",\"wgCurRevisionId\":1004593520,\"wgRevisionId\":1004593520,\"wgArticleId\":15580374,\"wgIsArticle\":!0,\"wgIsRedirect\":!1,\"wgAction\":\"view\",\"wgUserName\":null,\"wgUserGroups\":[\"*\"],\"wgCategories\":[],\"wgPageContentLanguage\":\"en\",\"wgPageContentModel\":\"wikitext\",\"wgRelevantPageName\":\"Main_Page\",\"wgRelevantArticleId\":15580374,\"wgIsProbablyEditable\":!1,\"wgRelevantPageIsProbablyEditable\":!1,\"wgRestrictionEdit\":[\"sysop\"],\"wgRestrictionMove\":[\"sysop\"],\"wgIsMainPage\":!0,\"wgFlaggedRevsParams\":{\\n\"tags\":{\"status\":{\"levels\":-1}}},\"wgMediaViewerOnClick\":!0,\"wgMediaViewerEnabledByDefault\":!0,\"wgPopupsFlags\":10,\"wgVisualEditor\":{\"pageLanguageCode\":\"en\",\"pageLanguageDir\":\"ltr\",\"pageVariantFallbacks\":\"en\"},\"wgMFDisplayWikibaseDescriptions\":{\"search\":!0,\"nearby\":!0,\"watchlist\":!0,\"tagline\":!1},\"wgWMESchemaEditAttemptStepOversample\":!1,\"wgULSCurrentAutonym\":\"English\",\"wgNoticeProject\":\"wikipedia\",\"wgCentralAuthMobileDomain\":!1,\"wgEditSubmitButtonLabelPublish\":!0,\"wgULSPosition\":\"interlanguage\",\"wgULSisCompactLinksEnabled\":!0,\"wgGENewcomerTasksGuidanceEnabled\":!0,\"wgGEAskQuestionEnabled\":!1,\"wgGELinkRecommendationsFrontendEnabled\":!1,\"wgWikibaseItemId\":\"Q5296\"};RLSTATE={\"ext.globalCssJs.user.styles\":\"ready\",\"site.styles\":\"ready\",\"noscript\":\"ready\",\"user.styles\":\"ready\",\"ext.globalCssJs.user\":\"ready\",\"user\":\"ready\",\"user.options\":\"loading\",\"skins.vector.styles.legacy\":\"ready\",\"ext.visualEditor.desktopArticleTarget.noscript\":\"ready\",\"ext.uls.interlanguage\":\\n\"ready\",\"ext.wikimediaBadges\":\"ready\"};RLPAGEMODULES=[\"site\",\"mediawiki.page.ready\",\"skins.vector.legacy.js\",\"ext.gadget.ReferenceTooltips\",\"ext.gadget.charinsert\",\"ext.gadget.extra-toolbar-buttons\",\"ext.gadget.refToolbar\",\"ext.gadget.switcher\",\"ext.centralauth.centralautologin\",\"mmv.head\",\"mmv.bootstrap.autostart\",\"ext.popups\",\"ext.visualEditor.desktopArticleTarget.init\",\"ext.visualEditor.targetLoader\",\"ext.eventLogging\",\"ext.wikimediaEvents\",\"ext.navigationTiming\",\"ext.uls.interface\",\"ext.cx.eventlogging.campaigns\",\"ext.centralNotice.geoIP\",\"ext.centralNotice.startUp\",\"ext.growthExperiments.SuggestedEditSession\"];</script>\\n<script>(RLQ=window.RLQ||[]).push(function(){mw.loader.implement(\"user.options@1hzgi\",function($,jQuery,require,module){/*@nomin*/mw.user.tokens.set({\"patrolToken\":\"+\\\\\\\\\",\"watchToken\":\"+\\\\\\\\\",\"csrfToken\":\"+\\\\\\\\\"});\\n});});</script>\\n<link rel=\"stylesheet\" href=\"/w/load.php?lang=en&amp;modules=ext.uls.interlanguage%7Cext.visualEditor.desktopArticleTarget.noscript%7Cext.wikimediaBadges%7Cskins.vector.styles.legacy&amp;only=styles&amp;skin=vector\"/>\\n<script async=\"\" src=\"/w/load.php?lang=en&amp;modules=startup&amp;only=scripts&amp;raw=1&amp;skin=vector\"></script>\\n<meta name=\"ResourceLoaderDynamicStyles\" content=\"\"/>\\n<link rel=\"stylesheet\" href=\"/w/load.php?lang=en&amp;modules=site.styles&amp;only=styles&amp;skin=vector\"/>\\n<meta name=\"generator\" content=\"MediaWiki 1.37.0-wmf.15\"/>\\n<meta name=\"referrer\" content=\"origin\"/>\\n<meta name=\"referrer\" content=\"origin-when-crossorigin\"/>\\n<meta name=\"referrer\" content=\"origin-when-cross-origin\"/>\\n<meta property=\"og:image\" content=\"https://upload.wikimedia.org/wikipedia/commons/thumb/4/4b/Tour_de_l%27%C3%89changeur_en_2018.jpg/1200px-Tour_de_l%27%C3%89changeur_en_2018.jpg\"/>\\n<meta property=\"og:title\" content=\"Wikipedia, the free encyclopedia\"/>\\n<meta property=\"og:type\" content=\"website\"/>\\n<link rel=\"preconnect\" href=\"//upload.wikimedia.org\"/>\\n<link rel=\"alternate\" media=\"only screen and (max-width: 720px)\" href=\"//en.m.wikipedia.org/wiki/Main_Page\"/>\\n<link rel=\"alternate\" type=\"application/atom+xml\" title=\"Wikipedia picture of the day feed\" href=\"/w/api.php?action=featuredfeed&amp;feed=potd&amp;feedformat=atom\"/>\\n<link rel=\"alternate\" type=\"application/atom+xml\" title=\"Wikipedia featured articles feed\" href=\"/w/api.php?action=featuredfeed&amp;feed=featured&amp;feedformat=atom\"/>\\n<link rel=\"alternate\" type=\"application/atom+xml\" title=\"Wikipedia &quot;On this day...&quot; feed\" href=\"/w/api.php?action=featuredfeed&amp;feed=onthisday&amp;feedformat=atom\"/>\\n<link rel=\"apple-touch-icon\" href=\"/static/apple-touch/wikipedia.png\"/>\\n<link rel=\"shortcut icon\" href=\"/static/favicon/wikipedia.ico\"/>\\n<link rel=\"search\" type=\"application/opensearchdescription+xml\" href=\"/w/opensearch_desc.php\" title=\"Wikipedia (en)\"/>\\n<link rel=\"EditURI\" type=\"application/rsd+xml\" href=\"//en.wikipedia.org/w/api.php?action=rsd\"/>\\n<link rel=\"license\" href=\"//creativecommons.org/licenses/by-sa/3.0/\"/>\\n<link rel=\"canonical\" href=\"https://en.wikipedia.org/wiki/Main_Page\"/>\\n<link rel=\"dns-prefetch\" href=\"//login.wikimedia.org\"/>\\n<link rel=\"dns-prefetch\" href=\"//meta.wikimedia.org\" />\\n</head>\\n<body class=\"mediawiki ltr sitedir-ltr mw-hide-empty-elt ns-0 ns-subject page-Main_Page rootpage-Main_Page skin-vector action-view skin-vector-legacy\"><div id=\"mw-page-base\" class=\"noprint\"></div>\\n<div id=\"mw-head-base\" class=\"noprint\"></div>\\n<div id=\"content\" class=\"mw-body\" role=\"main\">\\n\\t<a id=\"top\"></a>\\n\\t<div id=\"siteNotice\"><!-- CentralNotice --></div>\\n\\t<div class=\"mw-indicators\">\\n\\t</div>\\n\\t<h1 id=\"firstHeading\" class=\"firstHeading\" >Main Page</h1>\\n\\t<div id=\"bodyContent\" class=\"vector-body\">\\n\\t\\t<div id=\"siteSub\" class=\"noprint\">From Wikipedia, the free encyclopedia</div>\\n\\t\\t<div id=\"contentSub\"></div>\\n\\t\\t<div id=\"contentSub2\"></div>\\n\\t\\t\\n\\t\\t<div id=\"jump-to-nav\"></div>\\n\\t\\t<a class=\"mw-jump-link\" href=\"#mw-head\">Jump to navigation</a>\\n\\t\\t<a class=\"mw-jump-link\" href=\"#searchInput\">Jump to search</a>\\n\\t\\t<div id=\"mw-content-text\" class=\"mw-body-content mw-content-ltr\" lang=\"en\" dir=\"ltr\"><div class=\"mw-parser-output\"><style data-mw-deduplicate=\"TemplateStyles:r1004580458\">.mw-parser-output #mp-topbanner{position:relative;box-sizing:border-box;min-width:47em;border-color:#ddd;background-color:#f9f9f9;white-space:nowrap}.mw-parser-output .mp-bordered,.mw-parser-output .mp-h2,body.skin-timeless .mw-parser-output .mp-h2{border-width:1px;border-style:solid}.mw-parser-output #mp-topbanner,.mw-parser-output .mp-h2,.mw-parser-output #mp-left{color:#000}.mw-parser-output #mp-welcomecount{margin:0.4em;width:22em;text-align:center}.mw-parser-output #mp-welcome{font-size:162%;padding:0.1em}.mw-parser-output #mp-free{font-size:95%}.mw-parser-output #articlecount{font-size:85%}.mw-parser-output #mp-portals{position:absolute;right:-1em;top:50%;margin-top:-2.4em;width:38%;min-width:25em;font-size:95%}.mw-parser-output #mp-portals li{position:absolute;left:0;top:0}.mw-parser-output #mp-portals .portal-hmid{left:33%}.mw-parser-output #mp-portals .portal-hright{left:66%}.mw-parser-output #mp-portals .portal-vmid{top:1.6em}.mw-parser-output #mp-portals .portal-vbot{top:3.2em}.mw-parser-output #mp-portals li:last-child{font-weight:bold}.mw-parser-output #mp-banner{margin-top:4px;padding:0.5em;background-color:#fffaf5;border-color:#f2e0ce}.mw-parser-output .mp-h2,body.skin-timeless .mw-parser-output .mp-h2{margin:0.5em;padding:0.2em 0.4em;font-size:120%;font-weight:bold;font-family:inherit}.mw-parser-output h2.mp-h2::after{border:none}.mw-parser-output .mp-later{font-size:85%;font-weight:normal}.mw-parser-output #mp-upper{width:100%;margin-top:4px;margin-bottom:0;border-spacing:0;border-collapse:separate}.mw-parser-output #mp-upper .mid-table{border-color:transparent}.mw-parser-output #mp-left{width:55%;border-color:#cef2e0;background:#f5fffa}.mw-parser-output #mp-right{width:45%;border-color:#cedff2;background:#f5faff}.mw-parser-output #mp-left,.mw-parser-output #mp-right{padding:0;vertical-align:top}.mw-parser-output #mp-left .mp-h2{background:#cef2e0;border-color:#a3bfb1}.mw-parser-output #mp-right .mp-h2{background:#cedff2;border-color:#a3b0bf}.mw-parser-output #mp-tfa,.mw-parser-output #mp-dyk,.mw-parser-output #mp-itn,.mw-parser-output #mp-otd,.mw-parser-output #mp-other-lower>div{padding:0.1em 0.6em}.mw-parser-output #mp-dyk-h2,.mw-parser-output #mp-otd-h2{clear:both}.mw-parser-output #mp-middle{margin-top:4px;border-color:#f2cedd;background:#fff5fa}.mw-parser-output #mp-middle,.mw-parser-output #mp-lower,.mw-parser-output #mp-other-lower{overflow:auto}.mw-parser-output #mp-tfl-h2{background:#f2cedd;border-color:#bfa3af}.mw-parser-output #mp-tfl{padding:0.3em 0.7em}.mw-parser-output #mp-lower{margin-top:4px;border-color:#ddcef2;background:#faf5ff}.mw-parser-output #mp-tfp-h2{background:#ddcef2;border-color:#afa3bf}.mw-parser-output #mp-tfp{margin:0.1em 0.4em 0.6em}.mw-parser-output #mp-other-lower{padding:0;border-color:#e2e2e2;margin-top:4px}.mw-parser-output #mp-dyk,.mw-parser-output #mp-otd,.mw-parser-output #mp-other-lower{padding-bottom:0.5em}.mw-parser-output #mp-other-lower .mp-h2{background:#eee;border-color:#ddd;color:#222}@media(max-width:875px){body.skin--responsive .mw-parser-output #mp-welcomecount{width:auto}body.skin--responsive .mw-parser-output #mp-topbanner{min-width:0;white-space:normal}body.skin--responsive .mw-parser-output #mp-portals{position:static;width:auto;min-width:0;text-align:center;border-top:1px solid #ddd;padding:0.4em 0;margin:0 0.4em}body.skin--responsive .mw-parser-output #mp-portals li{position:static;display:inline;padding:0 5px;white-space:nowrap}body.skin--responsive .mw-parser-output table,body.skin--responsive .mw-parser-output tr,body.skin--responsive .mw-parser-output td,body.skin--responsive .mw-parser-output tbody{display:block!important;width:100%!important;box-sizing:border-box}body.skin--responsive .mw-parser-output #mp-tfp tr:first-child td:first-child a{text-align:center;display:table;margin:0 auto}}</style>\\n<div id=\"mp-topbanner\" class=\"mp-bordered\">\\n<div id=\"mp-welcomecount\">\\n<div id=\"mp-welcome\">Welcome to <a href=\"/wiki/Wikipedia\" title=\"Wikipedia\">Wikipedia</a>,</div>\\n<div id=\"mp-free\">the <a href=\"/wiki/Free_content\" title=\"Free content\">free</a> <a href=\"/wiki/Encyclopedia\" title=\"Encyclopedia\">encyclopedia</a> that <a href=\"/wiki/Help:Introduction_to_Wikipedia\" title=\"Help:Introduction to Wikipedia\">anyone can edit</a>.</div>\\n<div id=\"articlecount\"><a href=\"/wiki/Special:Statistics\" title=\"Special:Statistics\">6,345,100</a> articles in <a href=\"/wiki/English_language\" title=\"English language\">English</a></div>\\n</div>\\n<ul id=\"mp-portals\">\\n<li><a href=\"/wiki/Portal:The_arts\" title=\"Portal:The arts\">The arts</a></li>\\n<li class=\"portal-vmid\"><a href=\"/wiki/Portal:Biography\" title=\"Portal:Biography\">Biography</a></li>\\n<li class=\"portal-vbot\"><a href=\"/wiki/Portal:Geography\" title=\"Portal:Geography\">Geography</a></li>\\n<li class=\"portal-hmid\"><a href=\"/wiki/Portal:History\" title=\"Portal:History\">History</a></li>\\n<li class=\"portal-hmid portal-vmid\"><a href=\"/wiki/Portal:Mathematics\" title=\"Portal:Mathematics\">Mathematics</a></li>\\n<li class=\"portal-hmid portal-vbot\"><a href=\"/wiki/Portal:Science\" title=\"Portal:Science\">Science</a></li>\\n<li class=\"portal-hright\"><a href=\"/wiki/Portal:Society\" title=\"Portal:Society\">Society</a></li>\\n<li class=\"portal-hright portal-vmid\"><a href=\"/wiki/Portal:Technology\" title=\"Portal:Technology\">Technology</a></li>\\n<li class=\"portal-hright portal-vbot\"><a href=\"/wiki/Wikipedia:Contents/Portals\" title=\"Wikipedia:Contents/Portals\">All portals</a></li>\\n</ul>\\n</div>\\n<table role=\"presentation\" id=\"mp-upper\">\\n<tbody><tr>\\n<td id=\"mp-left\" class=\"MainPageBG mp-bordered\">\\n<h2 id=\"mp-tfa-h2\" class=\"mp-h2\"><span id=\"From_today.27s_featured_article\"></span><span class=\"mw-headline\" id=\"From_today\\'s_featured_article\">From today\\'s featured article</span></h2>\\n<div id=\"mp-tfa\"><div id=\"mp-tfa-img\" style=\"float: left; margin: 0.5em 0.9em 0.4em 0em;\">\\n<div class=\"thumbinner mp-thumb\" style=\"background: transparent; border: none; padding: 0; max-width: 160px;\">\\n<a href=\"/wiki/File:CallofDutyLogo.svg\" class=\"image\" title=\"Call of Duty\"><img alt=\"Call of Duty\" src=\"//upload.wikimedia.org/wikipedia/commons/thumb/b/bd/CallofDutyLogo.svg/160px-CallofDutyLogo.svg.png\" decoding=\"async\" width=\"160\" height=\"35\" srcset=\"//upload.wikimedia.org/wikipedia/commons/thumb/b/bd/CallofDutyLogo.svg/240px-CallofDutyLogo.svg.png 1.5x, //upload.wikimedia.org/wikipedia/commons/thumb/b/bd/CallofDutyLogo.svg/320px-CallofDutyLogo.svg.png 2x\" data-file-width=\"600\" data-file-height=\"130\" /></a></div>\\n</div>\\n<p><i><b><a href=\"/wiki/Call_of_Duty:_Modern_Warfare_Remastered\" title=\"Call of Duty: Modern Warfare Remastered\">Call of Duty: Modern Warfare Remastered</a></b></i> is a <a href=\"/wiki/First-person_shooter\" title=\"First-person shooter\">first-person shooter</a> game, developed by <a href=\"/wiki/Raven_Software\" title=\"Raven Software\">Raven Software</a> and published by <a href=\"/wiki/Activision\" title=\"Activision\">Activision</a>. It is a <a href=\"/wiki/Remaster\" title=\"Remaster\">remastered</a> version of 2007\\'s <i><a href=\"/wiki/Call_of_Duty_4:_Modern_Warfare\" title=\"Call of Duty 4: Modern Warfare\">Call of Duty&#160;4: Modern Warfare</a></i>. It was initially released for <a href=\"/wiki/PlayStation_4\" title=\"PlayStation 4\">PlayStation&#160;4</a>, <a href=\"/wiki/Xbox_One\" title=\"Xbox One\">Xbox One</a>, and <a href=\"/wiki/Microsoft_Windows\" title=\"Microsoft Windows\">Microsoft Windows</a> in November&#160;2016 as part of special edition <a href=\"/wiki/Product_bundling\" title=\"Product bundling\">bundles</a> of <i><a href=\"/wiki/Call_of_Duty:_Infinite_Warfare\" title=\"Call of Duty: Infinite Warfare\">Call of Duty: Infinite Warfare</a></i>. The story follows the <a href=\"/wiki/United_States_Marine_Corps\" title=\"United States Marine Corps\">USMC</a> and <a href=\"/wiki/Special_Air_Service\" title=\"Special Air Service\">SAS</a> in conflict against a <a href=\"/wiki/Middle_East\" title=\"Middle East\">Middle  Eastern</a> separatist group and a Russian ultranationalist group. The remaster began development as the result of an online petition. It features extensive technical enhancements while retaining the original core gameplay, and includes new single-player and multiplayer content. Critical reception was generally positive, with praise for the range of modifications and the simplistic but challenging gameplay. However, it was criticized for its <a href=\"/wiki/Game_balance\" title=\"Game balance\">balancing</a>, narrative pacing, and <a href=\"/wiki/Artificial_intelligence_in_video_games\" title=\"Artificial intelligence in video games\">artificial intelligence</a>. The game was controversial for several business decisions made by Activision. (<b><a href=\"/wiki/Call_of_Duty:_Modern_Warfare_Remastered\" title=\"Call of Duty: Modern Warfare Remastered\">Full&#160;article...</a></b>)\\n</p>\\n<div class=\"tfa-recent\" style=\"text-align: right;\">\\nRecently featured: <div class=\"hlist hlist-separated inline\">\\n<ul><li><a href=\"/wiki/Battle_of_Caen_(1346)\" title=\"Battle of Caen (1346)\">Battle of Caen (1346)</a></li>\\n<li><i><a href=\"/wiki/Oryzomys_dimidiatus\" title=\"Oryzomys dimidiatus\">Oryzomys dimidiatus</a></i></li>\\n<li><a href=\"/wiki/The_1975_(2019_song)\" title=\"The 1975 (2019 song)\">\"The 1975\" (2019 song)</a></li></ul>\\n</div></div>\\n<div class=\"tfa-footer hlist hlist-separated noprint\" style=\"text-align: right;\">\\n<ul><li><b><a href=\"/wiki/Wikipedia:Today%27s_featured_article/July_2021\" title=\"Wikipedia:Today&#39;s featured article/July 2021\">Archive</a></b></li>\\n<li><b><a href=\"https://lists.wikimedia.org/mailman/listinfo/daily-article-l\" class=\"extiw\" title=\"mail:daily-article-l\">By email</a></b></li>\\n<li><b><a href=\"/wiki/Wikipedia:Featured_articles\" title=\"Wikipedia:Featured articles\">More featured articles</a></b></li></ul>\\n</div></div>\\n<h2 id=\"mp-dyk-h2\" class=\"mp-h2\"><span class=\"mw-headline\" id=\"Did_you_know_...\">Did you know&#160;...</span></h2>\\n<div id=\"mp-dyk\">\\n<div class=\"dyk-img\" style=\"float: right; margin-left: 0.5em;\">\\n<div class=\"thumbinner mp-thumb\" style=\"background: transparent; border: none; padding: 0; max-width: 121px;\">\\n<a href=\"/wiki/File:Tour_de_l%27%C3%89changeur_en_2018.jpg\" class=\"image\" title=\"Limete Tower\"><img alt=\"Limete Tower\" src=\"//upload.wikimedia.org/wikipedia/commons/thumb/4/4b/Tour_de_l%27%C3%89changeur_en_2018.jpg/121px-Tour_de_l%27%C3%89changeur_en_2018.jpg\" decoding=\"async\" width=\"121\" height=\"161\" srcset=\"//upload.wikimedia.org/wikipedia/commons/thumb/4/4b/Tour_de_l%27%C3%89changeur_en_2018.jpg/182px-Tour_de_l%27%C3%89changeur_en_2018.jpg 1.5x, //upload.wikimedia.org/wikipedia/commons/thumb/4/4b/Tour_de_l%27%C3%89changeur_en_2018.jpg/242px-Tour_de_l%27%C3%89changeur_en_2018.jpg 2x\" data-file-width=\"2959\" data-file-height=\"3948\" /></a><div class=\"thumbcaption\" style=\"padding: 0.25em 0; word-wrap: break-word;\">Limete Tower</div></div>\\n</div>\\n<ul><li>... that the foundation stone for the <b><a href=\"/wiki/Limete_Tower\" title=\"Limete Tower\">Limete Tower</a></b> <i>(pictured)</i> in the Democratic Republic of the Congo was laid by <a href=\"/wiki/Julius_Nyerere\" title=\"Julius Nyerere\">Julius Nyerere</a>, then President of Tanzania?</li>\\n<li>... that two <a href=\"/wiki/Hagiography\" title=\"Hagiography\">hagiographic</a> documents about St. <b><a href=\"/wiki/Hunegund_of_France\" title=\"Hunegund of France\">Hunegund of France</a></b> publicized Hunegund\\'s miracles to create a sense of identity in <a href=\"/wiki/Hombli%C3%A8res\" title=\"Hombli\\xc3\\xa8res\">Hombli\\xc3\\xa8res</a> and to raise money for the monastery?</li>\\n<li>... that <b><a href=\"/wiki/Monturaqui_crater\" title=\"Monturaqui crater\">Monturaqui crater</a></b> in Chile is threatened by human action?</li>\\n<li>... that Turkish champion <b><a href=\"/wiki/Esra_Y%C4%B1ld%C4%B1z\" title=\"Esra Y\\xc4\\xb1ld\\xc4\\xb1z\">Esra Y\\xc4\\xb1ld\\xc4\\xb1z</a></b>, who was named the \"Most Hyped Boxer\", has been selected to represent <a href=\"/wiki/Turkey_at_the_2020_Summer_Olympics\" title=\"Turkey at the 2020 Summer Olympics\">Turkey at the 2020 Summer Olympics</a>?</li>\\n<li>... that American website <b><a href=\"/wiki/ChickClick\" title=\"ChickClick\">ChickClick</a></b> was owned by the same company who owned <i><a href=\"/wiki/IGN\" title=\"IGN\">IGN</a></i>?</li>\\n<li>... that the Dutch ordered <b><a href=\"/wiki/Roosseno_Soerjohadikoesoemo\" title=\"Roosseno Soerjohadikoesoemo\">Roosseno Soerjohadikoesoemo</a></b> to destroy bridges, but then the Japanese ordered him to build them back?</li>\\n<li>... that the <b><a href=\"/wiki/WHO_Blue_Books\" title=\"WHO Blue Books\">WHO Blue Books</a></b> give expert consensus opinion on cancers?</li>\\n<li>... that <b><a href=\"/wiki/Raychell\" title=\"Raychell\">Raychell</a></b><span class=\"nowrap\">&#39;s</span> previous stage name Lay was meant to represent her belief that singing while lying down would heal listeners?</li></ul>\\n<div class=\"dyk-footer hlist noprint\" style=\"margin-top: 0.5em; text-align: right;\">\\n<ul><li><b><a href=\"/wiki/Wikipedia:Recent_additions\" title=\"Wikipedia:Recent additions\">Archive</a></b></li>\\n<li><b><a href=\"/wiki/Help:Your_first_article\" title=\"Help:Your first article\">Start a new article</a></b></li>\\n<li><b><a href=\"/wiki/Template_talk:Did_you_know\" title=\"Template talk:Did you know\">Nominate an article</a></b></li></ul>\\n</div>\\n</div>\\n</td>\\n<td class=\"mp-bordered mid-table\">\\n</td>\\n<td id=\"mp-right\" class=\"MainPageBG mp-bordered\">\\n<h2 id=\"mp-itn-h2\" class=\"mp-h2\"><span class=\"mw-headline\" id=\"In_the_news\">In the news</span></h2>\\n<div id=\"mp-itn\"><div role=\"figure\" class=\"itn-img\" style=\"float: right; margin-left: 0.5em; margin-top: 0.2em;\">\\n<div class=\"thumbinner mp-thumb\" style=\"background: transparent; border: none; padding: 0; max-width: 187px;\">\\n<a href=\"/wiki/File:New_national_stadium_tokyo_1.jpg\" class=\"image\" title=\"Japan National Stadium\"><img alt=\"Japan National Stadium\" src=\"//upload.wikimedia.org/wikipedia/commons/thumb/9/9d/New_national_stadium_tokyo_1.jpg/187px-New_national_stadium_tokyo_1.jpg\" decoding=\"async\" width=\"187\" height=\"105\" srcset=\"//upload.wikimedia.org/wikipedia/commons/thumb/9/9d/New_national_stadium_tokyo_1.jpg/281px-New_national_stadium_tokyo_1.jpg 1.5x, //upload.wikimedia.org/wikipedia/commons/thumb/9/9d/New_national_stadium_tokyo_1.jpg/374px-New_national_stadium_tokyo_1.jpg 2x\" data-file-width=\"5280\" data-file-height=\"2967\" /></a><div class=\"thumbcaption\" style=\"padding: 0.25em 0; word-wrap: break-word; text-align: left;\"><a href=\"/wiki/Japan_National_Stadium\" title=\"Japan National Stadium\">Japan National Stadium</a></div></div>\\n</div>\\n<ul><li>The <a href=\"/wiki/2020_Summer_Olympics\" title=\"2020 Summer Olympics\">2020 Summer Olympics</a> <b><a href=\"/wiki/2020_Summer_Olympics_opening_ceremony\" title=\"2020 Summer Olympics opening ceremony\">open</a></b> <i>(stadium pictured)</i> in <a href=\"/wiki/Tokyo\" title=\"Tokyo\">Tokyo</a>, Japan.</li>\\n<li>The Australian city of <a href=\"/wiki/Brisbane\" title=\"Brisbane\">Brisbane</a> is announced as <b><a href=\"/wiki/Bids_for_the_2032_Summer_Olympics\" title=\"Bids for the 2032 Summer Olympics\">the host city</a></b> of the <a href=\"/wiki/2032_Summer_Olympics\" title=\"2032 Summer Olympics\">2032 Summer Olympics</a>.</li>\\n<li>In <a href=\"/wiki/Sumo\" title=\"Sumo\">sumo</a>, <b><a href=\"/wiki/Terunofuji_Haruo\" title=\"Terunofuji Haruo\">Terunofuji Haruo</a></b> becomes the 73rd <a href=\"/wiki/Makuuchi#Yokozuna\" title=\"Makuuchi\"><i>yokozuna</i></a>.</li>\\n<li><b><a href=\"/wiki/Liverpool_Maritime_Mercantile_City\" title=\"Liverpool Maritime Mercantile City\">Liverpool Maritime Mercantile City</a></b> in England is <a href=\"/wiki/Former_UNESCO_World_Heritage_Sites\" title=\"Former UNESCO World Heritage Sites\">stripped of its status</a> as a <a href=\"/wiki/UNESCO\" title=\"UNESCO\">UNESCO</a> <a href=\"/wiki/World_Heritage_Site\" title=\"World Heritage Site\">World Heritage Site</a> due to modern development in the area.</li>\\n<li><b><a href=\"/wiki/2021_Henan_floods\" title=\"2021 Henan floods\">Floods and landslides</a></b> result in at least 69 deaths in <a href=\"/wiki/Henan\" title=\"Henan\">Henan</a>, China.</li></ul>\\n<div class=\"itn-footer\" style=\"margin-top: 0.5em;\">\\n<div><b><a href=\"/wiki/Portal:Current_events\" title=\"Portal:Current events\">Ongoing</a></b>: <div class=\"hlist hlist-separated inline\">\\n<ul><li><a href=\"/wiki/COVID-19_pandemic\" title=\"COVID-19 pandemic\">COVID-19 pandemic</a></li></ul></div></div>\\n<div><b><a href=\"/wiki/Deaths_in_2021\" title=\"Deaths in 2021\">Recent deaths</a></b>&#58; <div class=\"hlist hlist-separated inline\">\\n<ul><li><a href=\"/wiki/Peter_Trueman\" title=\"Peter Trueman\">Peter Trueman</a></li>\\n<li><a href=\"/wiki/Peter_Rehberg\" title=\"Peter Rehberg\">Peter Rehberg</a></li>\\n<li><a href=\"/wiki/Herbert_K%C3%B6fer\" title=\"Herbert K\\xc3\\xb6fer\">Herbert K\\xc3\\xb6fer</a></li>\\n<li><span class=\"nowrap\"><a href=\"/wiki/R._Rajamahendran\" title=\"R. Rajamahendran\">R. Rajamahendran</a></span></li>\\n<li><a href=\"/wiki/Steven_Weinberg\" title=\"Steven Weinberg\">Steven Weinberg</a></li>\\n<li><a href=\"/wiki/Jackie_Mason\" title=\"Jackie Mason\">Jackie Mason</a></li></ul></div></div></div>\\n<div class=\"itn-footer hlist hlist-separated noprint\" style=\"text-align: right;\">\\n<ul><li><b><a href=\"/wiki/Wikipedia:In_the_news/Candidates\" title=\"Wikipedia:In the news/Candidates\">Nominate an article</a></b></li></ul></div></div>\\n<h2 id=\"mp-otd-h2\" class=\"mp-h2\"><span class=\"mw-headline\" id=\"On_this_day\">On this day</span></h2>\\n<div id=\"mp-otd\">\\n<p><b><a href=\"/wiki/July_27\" title=\"July 27\">July 27</a></b>: <b><a href=\"/wiki/Jos%C3%A9_Celso_Barbosa\" title=\"Jos\\xc3\\xa9 Celso Barbosa\">Jos\\xc3\\xa9 Celso Barbosa Day</a></b> in <a href=\"/wiki/Puerto_Rico\" title=\"Puerto Rico\">Puerto Rico</a>\\n</p>\\n<div style=\"float:right;margin-left:0.5em;\" id=\"mp-otd-img\">\\n<div class=\"thumbinner mp-thumb\" style=\"background: transparent; border: none; padding: 0; max-width: 116px;\">\\n<a href=\"/wiki/File:MadonnaVirginTour_cropped.jpg\" class=\"image\" title=\"Madonna with members of her tour crew\"><img alt=\"Madonna with members of her tour crew\" src=\"//upload.wikimedia.org/wikipedia/commons/thumb/a/ad/MadonnaVirginTour_cropped.jpg/116px-MadonnaVirginTour_cropped.jpg\" decoding=\"async\" width=\"116\" height=\"168\" srcset=\"//upload.wikimedia.org/wikipedia/commons/thumb/a/ad/MadonnaVirginTour_cropped.jpg/174px-MadonnaVirginTour_cropped.jpg 1.5x, //upload.wikimedia.org/wikipedia/commons/thumb/a/ad/MadonnaVirginTour_cropped.jpg/232px-MadonnaVirginTour_cropped.jpg 2x\" data-file-width=\"246\" data-file-height=\"356\" /></a><div class=\"thumbcaption\" style=\"padding: 0.25em 0; word-wrap: break-word;\">Madonna with members of her tour crew</div></div>\\n</div>\\n<ul><li><a href=\"/wiki/678\" title=\"678\">678</a> \\xe2\\x80\\x93 Unable to penetrate the city\\'s defences, the <i><a href=\"/wiki/Sclaveni\" title=\"Sclaveni\">Sclaveni</a></i> were forced to give up <b><a href=\"/wiki/Siege_of_Thessalonica_(676%E2%80%93678)\" title=\"Siege of Thessalonica (676\\xe2\\x80\\x93678)\">their siege</a></b> of the Byzantine city of <a href=\"/wiki/Thessaloniki\" title=\"Thessaloniki\">Thessalonica</a>.</li>\\n<li><a href=\"/wiki/1302\" title=\"1302\">1302</a> \\xe2\\x80\\x93 <a href=\"/wiki/Byzantine%E2%80%93Ottoman_wars\" title=\"Byzantine\\xe2\\x80\\x93Ottoman wars\">Byzantine\\xe2\\x80\\x93Ottoman wars</a>: The <a href=\"/wiki/Ottoman_Empire\" title=\"Ottoman Empire\">Ottoman sultanate</a> gained its first major victory against the <a href=\"/wiki/Byzantine_Empire\" title=\"Byzantine Empire\">Byzantine Empire</a> at the <b><a href=\"/wiki/Battle_of_Bapheus\" title=\"Battle of Bapheus\">Battle of Bapheus</a></b> in <a href=\"/wiki/Bithynia\" title=\"Bithynia\">Bithynia</a>.</li>\\n<li><a href=\"/wiki/1955\" title=\"1955\">1955</a> \\xe2\\x80\\x93 The <a href=\"/wiki/Austrian_State_Treaty\" title=\"Austrian State Treaty\">Austrian State Treaty</a> came into effect, ending the <b><a href=\"/wiki/Allied-occupied_Austria\" title=\"Allied-occupied Austria\">Allied occupation of Austria</a></b>, although the country was not free of Allied troops until October.</li>\\n<li><a href=\"/wiki/1983\" title=\"1983\">1983</a> \\xe2\\x80\\x93 <a href=\"/wiki/Madonna\" title=\"Madonna\">Madonna</a> <i>(pictured)</i> released <b><a href=\"/wiki/Madonna_(Madonna_album)\" title=\"Madonna (Madonna album)\">her self-titled debut album</a></b>, which set the standard for the genre of <a href=\"/wiki/Dance-pop\" title=\"Dance-pop\">dance-pop</a> for decades.</li>\\n<li><a href=\"/wiki/2007\" title=\"2007\">2007</a> \\xe2\\x80\\x93 While covering a <a href=\"/wiki/Car_chase\" title=\"Car chase\">police pursuit</a> in <a href=\"/wiki/Phoenix,_Arizona\" title=\"Phoenix, Arizona\">Phoenix, Arizona</a>, two news helicopters <b><a href=\"/wiki/Phoenix_news_helicopter_collision\" title=\"Phoenix news helicopter collision\">collided in mid-air</a></b>, killing both crews.</li></ul>\\n<div class=\"hlist hlist-separated\" style=\"margin-top: 0.5em;\"><ul><li><b><a href=\"/wiki/Jeanne_Baret\" title=\"Jeanne Baret\">Jeanne Baret</a></b>  (<abbr title=\"born\">b.</abbr>&#160;1740)</li><li><b><a href=\"/wiki/Elizabeth_Plankinton\" title=\"Elizabeth Plankinton\">Elizabeth Plankinton</a></b>  (<abbr title=\"born\">b.</abbr>&#160;1853)</li><li><b><a href=\"/wiki/Elizabeth_Rona\" title=\"Elizabeth Rona\">Elizabeth Rona</a></b>  (<abbr title=\"died\">d.</abbr>&#160;1981)</li></ul></div>\\n<div style=\"margin-top: 0.5em;\">\\nMore anniversaries: <div class=\"hlist hlist-separated inline nowraplinks\">\\n<ul><li><a href=\"/wiki/July_26\" title=\"July 26\">July 26</a></li>\\n<li><b><a href=\"/wiki/July_27\" title=\"July 27\">July 27</a></b></li>\\n<li><a href=\"/wiki/July_28\" title=\"July 28\">July 28</a></li></ul>\\n</div></div>\\n<div class=\"otd-footer hlist hlist-separated noprint\" style=\"text-align: right;\">\\n<ul><li><b><a href=\"/wiki/Wikipedia:Selected_anniversaries/July\" title=\"Wikipedia:Selected anniversaries/July\">Archive</a></b></li>\\n<li><b><a href=\"https://lists.wikimedia.org/mailman/listinfo/daily-article-l\" class=\"extiw\" title=\"mail:daily-article-l\">By email</a></b></li>\\n<li><b><a href=\"/wiki/List_of_days_of_the_year\" title=\"List of days of the year\">List of days of the year</a></b></li></ul>\\n</div></div>\\n</td></tr></tbody></table>\\n<div id=\"mp-lower\" class=\"MainPageBG mp-bordered\">\\n<div id=\"mp-bottom\">\\n<h2 id=\"mp-tfp-h2\" class=\"mp-h2\"><span id=\"Today.27s_featured_picture\"></span><span class=\"mw-headline\" id=\"Today\\'s_featured_picture\">Today\\'s featured picture</span></h2>\\n<div id=\"mp-tfp\">\\n<table role=\"presentation\" style=\"margin:0 3px 3px; width:100%; box-sizing:border-box; text-align:left; background-color:transparent; border-collapse:collapse;\">\\n<tbody><tr>\\n<td style=\"padding:0 0.9em 0 0; width:350px;\"><a href=\"/wiki/File:Nelly_Diener_cropped.jpg\" class=\"image\" title=\"1934 Swissair Tuttlingen accident\"><img alt=\"1934 Swissair Tuttlingen accident\" src=\"//upload.wikimedia.org/wikipedia/commons/thumb/5/56/Nelly_Diener_cropped.jpg/350px-Nelly_Diener_cropped.jpg\" decoding=\"async\" width=\"350\" height=\"258\" srcset=\"//upload.wikimedia.org/wikipedia/commons/thumb/5/56/Nelly_Diener_cropped.jpg/525px-Nelly_Diener_cropped.jpg 1.5x, //upload.wikimedia.org/wikipedia/commons/thumb/5/56/Nelly_Diener_cropped.jpg/700px-Nelly_Diener_cropped.jpg 2x\" data-file-width=\"4841\" data-file-height=\"3573\" /></a>\\n</td>\\n<td style=\"padding:0 6px 0 0\">\\n<p>The <b><a href=\"/wiki/1934_Swissair_Tuttlingen_accident\" title=\"1934 Swissair Tuttlingen accident\">1934 Swissair Tuttlingen accident</a></b> occurred on 27&#160;July&#160;1934 when a <a href=\"/wiki/Curtiss_T-32_Condor_II\" title=\"Curtiss T-32 Condor II\">Curtiss <span class=\"nowrap\">T-32</span> Condor&#160;II</a> aircraft operated by <a href=\"/wiki/Swissair\" title=\"Swissair\">Swissair</a> crashed near <a href=\"/wiki/Tuttlingen\" title=\"Tuttlingen\">Tuttlingen</a>, Germany, while flying through a thunderstorm, killing all twelve people on board. This 1934 photograph shows <a href=\"/wiki/Nelly_Diener\" title=\"Nelly Diener\">Nelly Diener</a>, the first air stewardess in Europe, standing in front of the aircraft in which she would lose her life that same year.\\n</p>\\n<p style=\"text-align:left;\"><small>Photograph credit: <a href=\"/wiki/Swissair\" title=\"Swissair\">Swissair</a>; retouched by <a href=\"/wiki/User:Pawe%C5%82MM\" title=\"User:Pawe\\xc5\\x82MM\">Pawe\\xc5\\x82MM</a> and <a href=\"/wiki/User:Brandmeister\" title=\"User:Brandmeister\">Brandmeister</a></small></p>\\n<div class=\"potd-recent\" style=\"text-align:right;\">\\nRecently featured: <div class=\"hlist hlist-separated inline\">\\n<ul><li><a href=\"/wiki/Template:POTD/2021-07-26\" title=\"Template:POTD/2021-07-26\">Japanese government-issued dollar in Malaya and Borneo</a></li>\\n<li><a href=\"/wiki/Template:POTD/2021-07-25\" title=\"Template:POTD/2021-07-25\">Castle of St&#160;John the Baptist</a></li>\\n<li><a href=\"/wiki/Template:POTD/2021-07-24\" title=\"Template:POTD/2021-07-24\">John Adams Dix</a></li></ul>\\n</div></div>\\n<div class=\"potd-footer hlist hlist-separated noprint\" style=\"text-align:right;\">\\n<ul><li><b><a href=\"/wiki/Wikipedia:Picture_of_the_day/Archive\" title=\"Wikipedia:Picture of the day/Archive\">Archive</a></b></li>\\n<li><b><a href=\"/wiki/Wikipedia:Featured_pictures\" title=\"Wikipedia:Featured pictures\">More featured pictures</a></b></li></ul>\\n</div>\\n</td></tr></tbody></table></div>\\n</div>\\n</div>\\n<div id=\"mp-other-lower\" class=\"mp-bordered\">\\n<h2 id=\"mp-other\" class=\"mp-h2\"><span class=\"mw-headline\" id=\"Other_areas_of_Wikipedia\">Other areas of Wikipedia</span></h2>\\n<div id=\"mp-other-content\">\\n<ul><li><b><a href=\"/wiki/Wikipedia:Community_portal\" title=\"Wikipedia:Community portal\">Community portal</a></b> \\xe2\\x80\\x93 Bulletin board, projects, resources and activities covering a wide range of Wikipedia areas.</li>\\n<li><b><a href=\"/wiki/Wikipedia:Help_desk\" title=\"Wikipedia:Help desk\">Help desk</a></b> \\xe2\\x80\\x93 Ask questions about using Wikipedia.</li>\\n<li><b><a href=\"/wiki/Wikipedia:Reference_desk\" title=\"Wikipedia:Reference desk\">Reference desk</a></b> \\xe2\\x80\\x93 Serving as virtual librarians, Wikipedia volunteers tackle your questions on a wide range of subjects.</li>\\n<li><b><a href=\"/wiki/Wikipedia:News\" title=\"Wikipedia:News\">Site news</a></b> \\xe2\\x80\\x93 Announcements, updates, articles and press releases on Wikipedia and the Wikimedia Foundation.</li>\\n<li><b><a href=\"/wiki/Wikipedia:Village_pump\" title=\"Wikipedia:Village pump\">Village pump</a></b> \\xe2\\x80\\x93 For discussions about Wikipedia itself, including areas for technical issues and policies.</li></ul>\\n</div>\\n<h2 id=\"mp-sister\" class=\"mp-h2\"><span id=\"Wikipedia.27s_sister_projects\"></span><span class=\"mw-headline\" id=\"Wikipedia\\'s_sister_projects\">Wikipedia\\'s sister projects</span></h2>\\n<div id=\"mp-sister-content\"><style data-mw-deduplicate=\"TemplateStyles:r1007624485\">.mw-parser-output #sister-projects-list{display:flex;flex-wrap:wrap}.mw-parser-output #sister-projects-list li{display:inline-block}.mw-parser-output #sister-projects-list li span{font-weight:bold}.mw-parser-output #sister-projects-list li>div{display:inline-block;vertical-align:middle;padding:6px 4px}.mw-parser-output #sister-projects-list li>div:first-child{text-align:center}@media(min-width:360px){.mw-parser-output #sister-projects-list li{width:33%;min-width:20em;white-space:nowrap;flex:1 0 25%}.mw-parser-output #sister-projects-list li>div:first-child{min-width:50px}}</style>\\n<p>Wikipedia is hosted by the <a href=\"/wiki/Wikimedia_Foundation\" title=\"Wikimedia Foundation\">Wikimedia Foundation</a>, a non-profit organization that also hosts a range of other <a href=\"https://wikimediafoundation.org/our-work/wikimedia-projects/\" class=\"extiw\" title=\"foundationsite:our-work/wikimedia-projects/\">projects</a>:\\n</p>\\n<div class=\"plainlist\">\\n<ul id=\"sister-projects-list\">\\n<li>\\n  <div><a href=\"https://commons.wikimedia.org/wiki/\" title=\"Commons\"><img alt=\"Commons logo\" src=\"//upload.wikimedia.org/wikipedia/en/thumb/4/4a/Commons-logo.svg/31px-Commons-logo.svg.png\" decoding=\"async\" width=\"31\" height=\"42\" srcset=\"//upload.wikimedia.org/wikipedia/en/thumb/4/4a/Commons-logo.svg/47px-Commons-logo.svg.png 1.5x, //upload.wikimedia.org/wikipedia/en/thumb/4/4a/Commons-logo.svg/62px-Commons-logo.svg.png 2x\" data-file-width=\"1024\" data-file-height=\"1376\" /></a></div>\\n  <div><span><a href=\"https://commons.wikimedia.org/wiki/\" class=\"extiw\" title=\"c:\">Commons</a></span><br />Free media repository</div>\\n</li>\\n<li>\\n  <div><a href=\"https://www.mediawiki.org/wiki/\" title=\"MediaWiki\"><img alt=\"MediaWiki logo\" src=\"//upload.wikimedia.org/wikipedia/commons/thumb/a/a6/MediaWiki-2020-icon.svg/35px-MediaWiki-2020-icon.svg.png\" decoding=\"async\" width=\"35\" height=\"35\" srcset=\"//upload.wikimedia.org/wikipedia/commons/thumb/a/a6/MediaWiki-2020-icon.svg/53px-MediaWiki-2020-icon.svg.png 1.5x, //upload.wikimedia.org/wikipedia/commons/thumb/a/a6/MediaWiki-2020-icon.svg/70px-MediaWiki-2020-icon.svg.png 2x\" data-file-width=\"100\" data-file-height=\"100\" /></a></div>\\n  <div><span><a href=\"https://www.mediawiki.org/wiki/\" class=\"extiw\" title=\"mw:\">MediaWiki</a></span><br />Wiki software development</div>\\n</li>\\n<li>\\n  <div><a href=\"https://meta.wikimedia.org/wiki/\" title=\"Meta-Wiki\"><img alt=\"Meta-Wiki logo\" src=\"//upload.wikimedia.org/wikipedia/commons/thumb/7/75/Wikimedia_Community_Logo.svg/35px-Wikimedia_Community_Logo.svg.png\" decoding=\"async\" width=\"35\" height=\"35\" srcset=\"//upload.wikimedia.org/wikipedia/commons/thumb/7/75/Wikimedia_Community_Logo.svg/53px-Wikimedia_Community_Logo.svg.png 1.5x, //upload.wikimedia.org/wikipedia/commons/thumb/7/75/Wikimedia_Community_Logo.svg/70px-Wikimedia_Community_Logo.svg.png 2x\" data-file-width=\"900\" data-file-height=\"900\" /></a></div>\\n  <div><span><a href=\"https://meta.wikimedia.org/wiki/\" class=\"extiw\" title=\"m:\">Meta-Wiki</a></span><br />Wikimedia project coordination</div>\\n</li>\\n<li>\\n  <div><a href=\"https://en.wikibooks.org/wiki/\" title=\"Wikibooks\"><img alt=\"Wikibooks logo\" src=\"//upload.wikimedia.org/wikipedia/commons/thumb/f/fa/Wikibooks-logo.svg/35px-Wikibooks-logo.svg.png\" decoding=\"async\" width=\"35\" height=\"35\" srcset=\"//upload.wikimedia.org/wikipedia/commons/thumb/f/fa/Wikibooks-logo.svg/53px-Wikibooks-logo.svg.png 1.5x, //upload.wikimedia.org/wikipedia/commons/thumb/f/fa/Wikibooks-logo.svg/70px-Wikibooks-logo.svg.png 2x\" data-file-width=\"300\" data-file-height=\"300\" /></a></div>\\n  <div><span><a href=\"https://en.wikibooks.org/wiki/\" class=\"extiw\" title=\"b:\">Wikibooks</a></span><br />Free textbooks and manuals</div>\\n</li>\\n<li>\\n  <div><a href=\"https://www.wikidata.org/wiki/\" title=\"Wikidata\"><img alt=\"Wikidata logo\" src=\"//upload.wikimedia.org/wikipedia/commons/thumb/f/ff/Wikidata-logo.svg/47px-Wikidata-logo.svg.png\" decoding=\"async\" width=\"47\" height=\"26\" srcset=\"//upload.wikimedia.org/wikipedia/commons/thumb/f/ff/Wikidata-logo.svg/71px-Wikidata-logo.svg.png 1.5x, //upload.wikimedia.org/wikipedia/commons/thumb/f/ff/Wikidata-logo.svg/94px-Wikidata-logo.svg.png 2x\" data-file-width=\"1050\" data-file-height=\"590\" /></a></div>\\n  <div><span><a href=\"https://www.wikidata.org/wiki/\" class=\"extiw\" title=\"d:\">Wikidata</a></span><br />Free knowledge base</div>\\n</li>\\n<li>\\n  <div><a href=\"https://en.wikinews.org/wiki/\" title=\"Wikinews\"><img alt=\"Wikinews logo\" src=\"//upload.wikimedia.org/wikipedia/commons/thumb/2/24/Wikinews-logo.svg/51px-Wikinews-logo.svg.png\" decoding=\"async\" width=\"51\" height=\"28\" srcset=\"//upload.wikimedia.org/wikipedia/commons/thumb/2/24/Wikinews-logo.svg/77px-Wikinews-logo.svg.png 1.5x, //upload.wikimedia.org/wikipedia/commons/thumb/2/24/Wikinews-logo.svg/102px-Wikinews-logo.svg.png 2x\" data-file-width=\"759\" data-file-height=\"415\" /></a></div>\\n  <div><span><a href=\"https://en.wikinews.org/wiki/\" class=\"extiw\" title=\"n:\">Wikinews</a></span><br />Free-content news</div>\\n</li>\\n<li>\\n  <div><a href=\"https://en.wikiquote.org/wiki/\" title=\"Wikiquote\"><img alt=\"Wikiquote logo\" src=\"//upload.wikimedia.org/wikipedia/commons/thumb/f/fa/Wikiquote-logo.svg/35px-Wikiquote-logo.svg.png\" decoding=\"async\" width=\"35\" height=\"41\" srcset=\"//upload.wikimedia.org/wikipedia/commons/thumb/f/fa/Wikiquote-logo.svg/53px-Wikiquote-logo.svg.png 1.5x, //upload.wikimedia.org/wikipedia/commons/thumb/f/fa/Wikiquote-logo.svg/70px-Wikiquote-logo.svg.png 2x\" data-file-width=\"300\" data-file-height=\"355\" /></a></div>\\n  <div><span><a href=\"https://en.wikiquote.org/wiki/\" class=\"extiw\" title=\"q:\">Wikiquote</a></span><br />Collection of quotations</div>\\n</li>\\n<li>\\n  <div><a href=\"https://en.wikisource.org/wiki/\" title=\"Wikisource\"><img alt=\"Wikisource logo\" src=\"//upload.wikimedia.org/wikipedia/commons/thumb/4/4c/Wikisource-logo.svg/35px-Wikisource-logo.svg.png\" decoding=\"async\" width=\"35\" height=\"37\" srcset=\"//upload.wikimedia.org/wikipedia/commons/thumb/4/4c/Wikisource-logo.svg/53px-Wikisource-logo.svg.png 1.5x, //upload.wikimedia.org/wikipedia/commons/thumb/4/4c/Wikisource-logo.svg/70px-Wikisource-logo.svg.png 2x\" data-file-width=\"410\" data-file-height=\"430\" /></a></div>\\n  <div><span><a href=\"https://en.wikisource.org/wiki/\" class=\"extiw\" title=\"s:\">Wikisource</a></span><br />Free-content library</div>\\n</li>\\n<li>\\n  <div><a href=\"https://species.wikimedia.org/wiki/\" title=\"Wikispecies\"><img alt=\"Wikispecies logo\" src=\"//upload.wikimedia.org/wikipedia/commons/thumb/d/df/Wikispecies-logo.svg/35px-Wikispecies-logo.svg.png\" decoding=\"async\" width=\"35\" height=\"41\" srcset=\"//upload.wikimedia.org/wikipedia/commons/thumb/d/df/Wikispecies-logo.svg/53px-Wikispecies-logo.svg.png 1.5x, //upload.wikimedia.org/wikipedia/commons/thumb/d/df/Wikispecies-logo.svg/70px-Wikispecies-logo.svg.png 2x\" data-file-width=\"941\" data-file-height=\"1103\" /></a></div>\\n  <div><span><a href=\"https://species.wikimedia.org/wiki/\" class=\"extiw\" title=\"species:\">Wikispecies</a></span><br />Directory of species</div>\\n</li>\\n<li>\\n  <div><a href=\"https://en.wikiversity.org/wiki/\" title=\"Wikiversity\"><img alt=\"Wikiversity logo\" src=\"//upload.wikimedia.org/wikipedia/commons/thumb/0/0b/Wikiversity_logo_2017.svg/41px-Wikiversity_logo_2017.svg.png\" decoding=\"async\" width=\"41\" height=\"34\" srcset=\"//upload.wikimedia.org/wikipedia/commons/thumb/0/0b/Wikiversity_logo_2017.svg/62px-Wikiversity_logo_2017.svg.png 1.5x, //upload.wikimedia.org/wikipedia/commons/thumb/0/0b/Wikiversity_logo_2017.svg/82px-Wikiversity_logo_2017.svg.png 2x\" data-file-width=\"626\" data-file-height=\"512\" /></a></div>\\n  <div><span><a href=\"https://en.wikiversity.org/wiki/\" class=\"extiw\" title=\"v:\">Wikiversity</a></span><br />Free learning tools</div>\\n</li>\\n<li>\\n  <div><a href=\"https://en.wikivoyage.org/wiki/\" title=\"Wikivoyage\"><img alt=\"Wikivoyage logo\" src=\"//upload.wikimedia.org/wikipedia/commons/thumb/d/dd/Wikivoyage-Logo-v3-icon.svg/35px-Wikivoyage-Logo-v3-icon.svg.png\" decoding=\"async\" width=\"35\" height=\"35\" srcset=\"//upload.wikimedia.org/wikipedia/commons/thumb/d/dd/Wikivoyage-Logo-v3-icon.svg/53px-Wikivoyage-Logo-v3-icon.svg.png 1.5x, //upload.wikimedia.org/wikipedia/commons/thumb/d/dd/Wikivoyage-Logo-v3-icon.svg/70px-Wikivoyage-Logo-v3-icon.svg.png 2x\" data-file-width=\"193\" data-file-height=\"193\" /></a></div>\\n  <div><span><a href=\"https://en.wikivoyage.org/wiki/\" class=\"extiw\" title=\"voy:\">Wikivoyage</a></span><br />Free travel guide</div>\\n</li>\\n<li>\\n  <div><a href=\"https://en.wiktionary.org/wiki/\" title=\"Wiktionary\"><img alt=\"Wiktionary logo\" src=\"//upload.wikimedia.org/wikipedia/en/thumb/0/06/Wiktionary-logo-v2.svg/35px-Wiktionary-logo-v2.svg.png\" decoding=\"async\" width=\"35\" height=\"35\" srcset=\"//upload.wikimedia.org/wikipedia/en/thumb/0/06/Wiktionary-logo-v2.svg/53px-Wiktionary-logo-v2.svg.png 1.5x, //upload.wikimedia.org/wikipedia/en/thumb/0/06/Wiktionary-logo-v2.svg/70px-Wiktionary-logo-v2.svg.png 2x\" data-file-width=\"391\" data-file-height=\"391\" /></a></div>\\n  <div><span><a href=\"https://en.wiktionary.org/wiki/\" class=\"extiw\" title=\"wikt:\">Wiktionary</a></span><br />Dictionary and thesaurus</div>\\n</li>\\n</ul>\\n</div></div>\\n<h2 id=\"mp-lang\" class=\"mp-h2\"><span class=\"mw-headline\" id=\"Wikipedia_languages\">Wikipedia languages</span></h2>\\n<div><style data-mw-deduplicate=\"TemplateStyles:r997272951\">.mw-parser-output .wikipedia-languages-complete{font-weight:bold}.mw-parser-output .wikipedia-languages ul{margin-left:0}.mw-parser-output .wikipedia-languages ul a{white-space:nowrap}.mw-parser-output .wikipedia-languages>ul{list-style:none;text-align:center;clear:both}.mw-parser-output .wikipedia-languages-count-container{width:90%;display:flex;justify-content:center;padding-top:1em;margin:0 auto}.mw-parser-output .wikipedia-languages-prettybars{width:100%;height:1px;margin:0.5em 0;background-color:#c8ccd1;flex-shrink:1;align-self:center}.mw-parser-output .wikipedia-languages-count{padding:0 1em;white-space:nowrap}</style>\\n<div class=\"wikipedia-languages nourlexpansion\">\\n<p>This Wikipedia is written in <a href=\"/wiki/English_language\" title=\"English language\">English</a>. Many <a href=\"https://meta.wikimedia.org/wiki/List_of_Wikipedias\" class=\"extiw\" title=\"meta:List of Wikipedias\">other Wikipedias are available</a>; some of the largest are listed below.\\n</p>\\n<ul class=\"plainlinks\">\\n<li>\\n  <div class=\"wikipedia-languages-count-container\">\\n    <div class=\"wikipedia-languages-prettybars\"></div>\\n    <div role=\"heading\" class=\"wikipedia-languages-count\">1,000,000+ articles</div>\\n    <div class=\"wikipedia-languages-prettybars\"></div>\\n  </div>\\n  <ul class=\"wikipedia-languages-langs hlist hlist-separated inline\">\\n    <li><a class=\"external text\" href=\"https://ar.wikipedia.org/wiki/\"><span class=\"autonym\" title=\"Arabic (ar:)\" lang=\"ar\">\\xd8\\xa7\\xd9\\x84\\xd8\\xb9\\xd8\\xb1\\xd8\\xa8\\xd9\\x8a\\xd8\\xa9</span></a></li>\\n    <li><a class=\"external text\" href=\"https://de.wikipedia.org/wiki/\"><span class=\"autonym\" title=\"German (de:)\" lang=\"de\">Deutsch</span></a></li>\\n    <li><a class=\"external text\" href=\"https://es.wikipedia.org/wiki/\"><span class=\"autonym\" title=\"Spanish (es:)\" lang=\"es\">Espa\\xc3\\xb1ol</span></a></li>\\n    <li><a class=\"external text\" href=\"https://fr.wikipedia.org/wiki/\"><span class=\"autonym\" title=\"French (fr:)\" lang=\"fr\">Fran\\xc3\\xa7ais</span></a></li>\\n    <li><a class=\"external text\" href=\"https://it.wikipedia.org/wiki/\"><span class=\"autonym\" title=\"Italian (it:)\" lang=\"it\">Italiano</span></a></li>\\n    <li><a class=\"external text\" href=\"https://nl.wikipedia.org/wiki/\"><span class=\"autonym\" title=\"Dutch (nl:)\" lang=\"nl\">Nederlands</span></a></li>\\n    <li><a class=\"external text\" href=\"https://ja.wikipedia.org/wiki/\"><span class=\"autonym\" title=\"Japanese (ja:)\" lang=\"ja\">\\xe6\\x97\\xa5\\xe6\\x9c\\xac\\xe8\\xaa\\x9e</span></a></li>\\n    <li><a class=\"external text\" href=\"https://pl.wikipedia.org/wiki/\"><span class=\"autonym\" title=\"Polish (pl:)\" lang=\"pl\">Polski</span></a></li>\\n    <li><a class=\"external text\" href=\"https://pt.wikipedia.org/wiki/\"><span class=\"autonym\" title=\"Portuguese (pt:)\" lang=\"pt\">Portugu\\xc3\\xaas</span></a></li>\\n    <li><a class=\"external text\" href=\"https://ru.wikipedia.org/wiki/\"><span class=\"autonym\" title=\"Russian (ru:)\" lang=\"ru\">\\xd0\\xa0\\xd1\\x83\\xd1\\x81\\xd1\\x81\\xd0\\xba\\xd0\\xb8\\xd0\\xb9</span></a></li>\\n    <li><a class=\"external text\" href=\"https://sv.wikipedia.org/wiki/\"><span class=\"autonym\" title=\"Swedish (sv:)\" lang=\"sv\">Svenska</span></a></li>\\n    <li><a class=\"external text\" href=\"https://uk.wikipedia.org/wiki/\"><span class=\"autonym\" title=\"Ukrainian (uk:)\" lang=\"uk\">\\xd0\\xa3\\xd0\\xba\\xd1\\x80\\xd0\\xb0\\xd1\\x97\\xd0\\xbd\\xd1\\x81\\xd1\\x8c\\xd0\\xba\\xd0\\xb0</span></a></li>\\n    <li><a class=\"external text\" href=\"https://vi.wikipedia.org/wiki/\"><span class=\"autonym\" title=\"Vietnamese (vi:)\" lang=\"vi\">Ti\\xe1\\xba\\xbfng Vi\\xe1\\xbb\\x87t</span></a></li>\\n    <li><a class=\"external text\" href=\"https://zh.wikipedia.org/wiki/\"><span class=\"autonym\" title=\"Chinese (zh:)\" lang=\"zh\">\\xe4\\xb8\\xad\\xe6\\x96\\x87</span></a></li>\\n  </ul>\\n</li>\\n<li>\\n  <div class=\"wikipedia-languages-count-container\">\\n    <div class=\"wikipedia-languages-prettybars\"></div>\\n    <div role=\"heading\" class=\"wikipedia-languages-count\">250,000+ articles</div>\\n    <div class=\"wikipedia-languages-prettybars\"></div>\\n  </div>\\n  <ul class=\"wikipedia-languages-langs hlist hlist-separated inline\">\\n    <li><a class=\"external text\" href=\"https://id.wikipedia.org/wiki/\"><span class=\"autonym\" title=\"Indonesian (id:)\" lang=\"id\">Bahasa Indonesia</span></a></li>\\n    <li><a class=\"external text\" href=\"https://ms.wikipedia.org/wiki/\"><span class=\"autonym\" title=\"Malay (ms:)\" lang=\"ms\">Bahasa Melayu</span></a></li>\\n    <li><a class=\"external text\" href=\"https://zh-min-nan.wikipedia.org/wiki/\"><span class=\"autonym\" title=\"Min Nan Chinese (nan:)\" lang=\"nan\">B\\xc3\\xa2n-l\\xc3\\xa2m-g\\xc3\\xba</span></a></li>\\n    <li><a class=\"external text\" href=\"https://bg.wikipedia.org/wiki/\"><span class=\"autonym\" title=\"Bulgarian (bg:)\" lang=\"bg\">\\xd0\\x91\\xd1\\x8a\\xd0\\xbb\\xd0\\xb3\\xd0\\xb0\\xd1\\x80\\xd1\\x81\\xd0\\xba\\xd0\\xb8</span></a></li>\\n    <li><a class=\"external text\" href=\"https://ca.wikipedia.org/wiki/\"><span class=\"autonym\" title=\"Catalan (ca:)\" lang=\"ca\">Catal\\xc3\\xa0</span></a></li>\\n    <li><a class=\"external text\" href=\"https://cs.wikipedia.org/wiki/\"><span class=\"autonym\" title=\"Czech (cs:)\" lang=\"cs\">\\xc4\\x8ce\\xc5\\xa1tina</span></a></li>\\n    <li><a class=\"external text\" href=\"https://da.wikipedia.org/wiki/\"><span class=\"autonym\" title=\"Danish (da:)\" lang=\"da\">Dansk</span></a></li>\\n    <li><a class=\"external text\" href=\"https://eo.wikipedia.org/wiki/\"><span class=\"autonym\" title=\"Esperanto (eo:)\" lang=\"eo\">Esperanto</span></a></li>\\n    <li><a class=\"external text\" href=\"https://eu.wikipedia.org/wiki/\"><span class=\"autonym\" title=\"Basque (eu:)\" lang=\"eu\">Euskara</span></a></li>\\n    <li><a class=\"external text\" href=\"https://fa.wikipedia.org/wiki/\"><span class=\"autonym\" title=\"Persian (fa:)\" lang=\"fa\">\\xd9\\x81\\xd8\\xa7\\xd8\\xb1\\xd8\\xb3\\xdb\\x8c</span></a>&#8206;</li>\\n    <li><a class=\"external text\" href=\"https://he.wikipedia.org/wiki/\"><span class=\"autonym\" title=\"Hebrew (he:)\" lang=\"he\">\\xd7\\xa2\\xd7\\x91\\xd7\\xa8\\xd7\\x99\\xd7\\xaa</span></a></li>\\n    <li><a class=\"external text\" href=\"https://ko.wikipedia.org/wiki/\"><span class=\"autonym\" title=\"Korean (ko:)\" lang=\"ko\">\\xed\\x95\\x9c\\xea\\xb5\\xad\\xec\\x96\\xb4</span></a></li>\\n    <li><a class=\"external text\" href=\"https://hu.wikipedia.org/wiki/\"><span class=\"autonym\" title=\"Hungarian (hu:)\" lang=\"hu\">Magyar</span></a></li>\\n    <li><a class=\"external text\" href=\"https://no.wikipedia.org/wiki/\"><span class=\"autonym\" title=\"Norwegian (no:)\" lang=\"no\">Norsk Bokm\\xc3\\xa5l</span></a></li>\\n    <li><a class=\"external text\" href=\"https://ro.wikipedia.org/wiki/\"><span class=\"autonym\" title=\"Romanian (ro:)\" lang=\"ro\">Rom\\xc3\\xa2n\\xc4\\x83</span></a></li>\\n    <li><a class=\"external text\" href=\"https://sr.wikipedia.org/wiki/\"><span class=\"autonym\" title=\"Serbian (sr:)\" lang=\"sr\">Srpski</span></a></li>\\n    <li><a class=\"external text\" href=\"https://sh.wikipedia.org/wiki/\"><span class=\"autonym\" title=\"Serbo-Croatian (sh:)\" lang=\"sh\">Srpskohrvatski</span></a></li>\\n    <li><a class=\"external text\" href=\"https://fi.wikipedia.org/wiki/\"><span class=\"autonym\" title=\"Finnish (fi:)\" lang=\"fi\">Suomi</span></a></li>\\n    <li><a class=\"external text\" href=\"https://tr.wikipedia.org/wiki/\"><span class=\"autonym\" title=\"Turkish (tr:)\" lang=\"tr\">T\\xc3\\xbcrk\\xc3\\xa7e</span></a></li>\\n  </ul>\\n</li>\\n<li>\\n  <div class=\"wikipedia-languages-count-container\">\\n    <div class=\"wikipedia-languages-prettybars\"></div>\\n    <div role=\"heading\" class=\"wikipedia-languages-count\">50,000+ articles</div>\\n    <div class=\"wikipedia-languages-prettybars\"></div>\\n  </div>\\n  <ul class=\"wikipedia-languages-langs hlist hlist-separated inline\">\\n    <li><a class=\"external text\" href=\"https://ast.wikipedia.org/wiki/\"><span class=\"autonym\" title=\"Asturian (ast:)\" lang=\"ast\">Asturianu</span></a></li>\\n    <li><a class=\"external text\" href=\"https://bs.wikipedia.org/wiki/\"><span class=\"autonym\" title=\"Bosnian (bs:)\" lang=\"bs\">Bosanski</span></a></li>\\n    <li><a class=\"external text\" href=\"https://et.wikipedia.org/wiki/\"><span class=\"autonym\" title=\"Estonian (et:)\" lang=\"et\">Eesti</span></a></li>\\n    <li><a class=\"external text\" href=\"https://el.wikipedia.org/wiki/\"><span class=\"autonym\" title=\"Greek (el:)\" lang=\"el\">\\xce\\x95\\xce\\xbb\\xce\\xbb\\xce\\xb7\\xce\\xbd\\xce\\xb9\\xce\\xba\\xce\\xac</span></a></li>\\n    <li><a class=\"external text\" href=\"https://simple.wikipedia.org/wiki/\"><span class=\"autonym\" title=\"Simple English (simple:)\" lang=\"simple\">Simple English</span></a></li>\\n    <li><a class=\"external text\" href=\"https://gl.wikipedia.org/wiki/\"><span class=\"autonym\" title=\"Galician (gl:)\" lang=\"gl\">Galego</span></a></li>\\n    <li><a class=\"external text\" href=\"https://hr.wikipedia.org/wiki/\"><span class=\"autonym\" title=\"Croatian (hr:)\" lang=\"hr\">Hrvatski</span></a></li>\\n    <li><a class=\"external text\" href=\"https://lv.wikipedia.org/wiki/\"><span class=\"autonym\" title=\"Latvian (lv:)\" lang=\"lv\">Latvie\\xc5\\xa1u</span></a></li>\\n    <li><a class=\"external text\" href=\"https://lt.wikipedia.org/wiki/\"><span class=\"autonym\" title=\"Lithuanian (lt:)\" lang=\"lt\">Lietuvi\\xc5\\xb3</span></a></li>\\n    <li><a class=\"external text\" href=\"https://ml.wikipedia.org/wiki/\"><span class=\"autonym\" title=\"Malayalam (ml:)\" lang=\"ml\">\\xe0\\xb4\\xae\\xe0\\xb4\\xb2\\xe0\\xb4\\xaf\\xe0\\xb4\\xbe\\xe0\\xb4\\xb3\\xe0\\xb4\\x82</span></a></li>\\n    <li><a class=\"external text\" href=\"https://mk.wikipedia.org/wiki/\"><span class=\"autonym\" title=\"Macedonian (mk:)\" lang=\"mk\">\\xd0\\x9c\\xd0\\xb0\\xd0\\xba\\xd0\\xb5\\xd0\\xb4\\xd0\\xbe\\xd0\\xbd\\xd1\\x81\\xd0\\xba\\xd0\\xb8</span></a></li>\\n    <li><a class=\"external text\" href=\"https://nn.wikipedia.org/wiki/\"><span class=\"autonym\" title=\"Norwegian Nynorsk (nn:)\" lang=\"nn\">Norsk nynorsk</span></a></li>\\n    <li><a class=\"external text\" href=\"https://sk.wikipedia.org/wiki/\"><span class=\"autonym\" title=\"Slovak (sk:)\" lang=\"sk\">Sloven\\xc4\\x8dina</span></a></li>\\n    <li><a class=\"external text\" href=\"https://sl.wikipedia.org/wiki/\"><span class=\"autonym\" title=\"Slovenian (sl:)\" lang=\"sl\">Sloven\\xc5\\xa1\\xc4\\x8dina</span></a></li>\\n    <li><a class=\"external text\" href=\"https://th.wikipedia.org/wiki/\"><span class=\"autonym\" title=\"Thai (th:)\" lang=\"th\">\\xe0\\xb9\\x84\\xe0\\xb8\\x97\\xe0\\xb8\\xa2</span></a></li>\\n  </ul>\\n</li>\\n</ul>\\n</div></div>\\n</div>\\n<!-- \\nNewPP limit report\\nParsed by mw2277\\nCached time: 20210727091821\\nCache expiry: 3600\\nReduced expiry: true\\nComplications: []\\nCPU time usage: 0.467 seconds\\nReal time usage: 0.661 seconds\\nPreprocessor visited node count: 3836/1000000\\nPost\\xe2\\x80\\x90expand include size: 110602/2097152 bytes\\nTemplate argument size: 5635/2097152 bytes\\nHighest expansion depth: 21/40\\nExpensive parser function count: 12/500\\nUnstrip recursion depth: 0/20\\nUnstrip post\\xe2\\x80\\x90expand size: 5370/5000000 bytes\\nLua time usage: 0.101/10.000 seconds\\nLua memory usage: 2254594/52428800 bytes\\nNumber of Wikibase entities loaded: 0/400\\n-->\\n<!--\\nTransclusion expansion time report (%,ms,calls,template)\\n100.00%  485.122      1 -total\\n 35.68%  173.100      8 Template:Main_page_image\\n 28.58%  138.632      1 Wikipedia:Main_Page/Tomorrow\\n 21.83%  105.903      8 Template:Str_number/trim\\n 19.33%   93.796      2 Template:In_the_news\\n 17.85%   86.579     24 Template:If_empty\\n 16.88%   81.885      2 Template:Main_page_image/ITN\\n 15.40%   74.697      2 Template:Main_page_image/TFA\\n 14.06%   68.220      1 Wikipedia:Selected_anniversaries/July_27\\n 14.05%   68.157      1 Wikipedia:Today\\'s_featured_article/July_27,_2021\\n-->\\n\\n<!-- Saved in parser cache with key enwiki:pcache:idhash:15580374-0!canonical and timestamp 20210727091820 and revision id 1004593520. Serialized with JSON.\\n -->\\n</div><noscript><img src=\"//en.wikipedia.org/wiki/Special:CentralAutoLogin/start?type=1x1\" alt=\"\" title=\"\" width=\"1\" height=\"1\" style=\"border: none; position: absolute;\" /></noscript>\\n<div class=\"printfooter\">Retrieved from \"<a dir=\"ltr\" href=\"https://en.wikipedia.org/w/index.php?title=Main_Page&amp;oldid=1004593520\">https://en.wikipedia.org/w/index.php?title=Main_Page&amp;oldid=1004593520</a>\"</div></div>\\n\\t\\t<div id=\"catlinks\" class=\"catlinks catlinks-allhidden\" data-mw=\"interface\"></div>\\n\\t</div>\\n</div>\\n<div id=\\'mw-data-after-content\\'>\\n\\t<div class=\"read-more-container\"></div>\\n</div>\\n\\n<div id=\"mw-navigation\">\\n\\t<h2>Navigation menu</h2>\\n\\t<div id=\"mw-head\">\\n\\t\\t<nav id=\"p-personal\" class=\"mw-portlet mw-portlet-personal vector-user-menu-legacy vector-menu\" aria-labelledby=\"p-personal-label\" role=\"navigation\" \\n\\t >\\n\\t<h3 id=\"p-personal-label\" class=\"vector-menu-heading\">\\n\\t\\t<span>Personal tools</span>\\n\\t</h3>\\n\\t<div class=\"vector-menu-content\">\\n\\t\\t\\n\\t\\t<ul class=\"vector-menu-content-list\"><li id=\"pt-anonuserpage\">Not logged in</li><li id=\"pt-anontalk\"><a href=\"/wiki/Special:MyTalk\" title=\"Discussion about edits from this IP address [n]\" accesskey=\"n\">Talk</a></li><li id=\"pt-anoncontribs\"><a href=\"/wiki/Special:MyContributions\" title=\"A list of edits made from this IP address [y]\" accesskey=\"y\">Contributions</a></li><li id=\"pt-createaccount\"><a href=\"/w/index.php?title=Special:CreateAccount&amp;returnto=Main+Page\" title=\"You are encouraged to create an account and log in; however, it is not mandatory\">Create account</a></li><li id=\"pt-login\"><a href=\"/w/index.php?title=Special:UserLogin&amp;returnto=Main+Page\" title=\"You&#039;re encouraged to log in; however, it&#039;s not mandatory. [o]\" accesskey=\"o\">Log in</a></li></ul>\\n\\t\\t\\n\\t</div>\\n</nav>\\n\\n\\t\\t<div id=\"left-navigation\">\\n\\t\\t\\t<nav id=\"p-namespaces\" class=\"mw-portlet mw-portlet-namespaces vector-menu vector-menu-tabs\" aria-labelledby=\"p-namespaces-label\" role=\"navigation\" \\n\\t >\\n\\t<h3 id=\"p-namespaces-label\" class=\"vector-menu-heading\">\\n\\t\\t<span>Namespaces</span>\\n\\t</h3>\\n\\t<div class=\"vector-menu-content\">\\n\\t\\t\\n\\t\\t<ul class=\"vector-menu-content-list\"><li id=\"ca-nstab-main\" class=\"selected\"><a href=\"/wiki/Main_Page\" title=\"View the content page [c]\" accesskey=\"c\">Main Page</a></li><li id=\"ca-talk\"><a href=\"/wiki/Talk:Main_Page\" rel=\"discussion\" title=\"Discuss improvements to the content page [t]\" accesskey=\"t\">Talk</a></li></ul>\\n\\t\\t\\n\\t</div>\\n</nav>\\n\\n\\t\\t\\t<nav id=\"p-variants\" class=\"mw-portlet mw-portlet-variants emptyPortlet vector-menu vector-menu-dropdown\" aria-labelledby=\"p-variants-label\" role=\"navigation\" \\n\\t >\\n\\t<input type=\"checkbox\"\\n\\t\\tdata-event-name=\"ui.dropdown-p-variants\"\\n\\t\\tclass=\"vector-menu-checkbox\" aria-labelledby=\"p-variants-label\" />\\n\\t<h3 id=\"p-variants-label\" class=\"vector-menu-heading\">\\n\\t\\t<span>Variants</span>\\n\\t</h3>\\n\\t<div class=\"vector-menu-content\">\\n\\t\\t\\n\\t\\t<ul class=\"vector-menu-content-list\"></ul>\\n\\t\\t\\n\\t</div>\\n</nav>\\n\\n\\t\\t</div>\\n\\t\\t<div id=\"right-navigation\">\\n\\t\\t\\t<nav id=\"p-views\" class=\"mw-portlet mw-portlet-views vector-menu vector-menu-tabs\" aria-labelledby=\"p-views-label\" role=\"navigation\" \\n\\t >\\n\\t<h3 id=\"p-views-label\" class=\"vector-menu-heading\">\\n\\t\\t<span>Views</span>\\n\\t</h3>\\n\\t<div class=\"vector-menu-content\">\\n\\t\\t\\n\\t\\t<ul class=\"vector-menu-content-list\"><li id=\"ca-view\" class=\"selected\"><a href=\"/wiki/Main_Page\">Read</a></li><li id=\"ca-viewsource\"><a href=\"/w/index.php?title=Main_Page&amp;action=edit\" title=\"This page is protected.&#10;You can view its source [e]\" accesskey=\"e\">View source</a></li><li id=\"ca-history\"><a href=\"/w/index.php?title=Main_Page&amp;action=history\" title=\"Past revisions of this page [h]\" accesskey=\"h\">View history</a></li></ul>\\n\\t\\t\\n\\t</div>\\n</nav>\\n\\n\\t\\t\\t<nav id=\"p-cactions\" class=\"mw-portlet mw-portlet-cactions emptyPortlet vector-menu vector-menu-dropdown\" aria-labelledby=\"p-cactions-label\" role=\"navigation\" \\n\\t >\\n\\t<input type=\"checkbox\"\\n\\t\\tdata-event-name=\"ui.dropdown-p-cactions\"\\n\\t\\tclass=\"vector-menu-checkbox\" aria-labelledby=\"p-cactions-label\" />\\n\\t<h3 id=\"p-cactions-label\" class=\"vector-menu-heading\">\\n\\t\\t<span>More</span>\\n\\t</h3>\\n\\t<div class=\"vector-menu-content\">\\n\\t\\t\\n\\t\\t<ul class=\"vector-menu-content-list\"></ul>\\n\\t\\t\\n\\t</div>\\n</nav>\\n\\n\\t\\t\\t<div id=\"p-search\" role=\"search\" class=\"vector-search-box\">\\n\\t<div>\\n\\t\\t<h3 >\\n\\t\\t\\t<label for=\"searchInput\">Search</label>\\n\\t\\t</h3>\\n\\t\\t<form action=\"/w/index.php\" id=\"searchform\">\\n\\t\\t\\t<div id=\"simpleSearch\" data-search-loc=\"header-navigation\">\\n\\t\\t\\t\\t<input type=\"search\" name=\"search\" placeholder=\"Search Wikipedia\" autocapitalize=\"sentences\" title=\"Search Wikipedia [f]\" accesskey=\"f\" id=\"searchInput\"/>\\n\\t\\t\\t\\t<input type=\"hidden\" name=\"title\" value=\"Special:Search\"/>\\n\\t\\t\\t\\t<input type=\"submit\" name=\"fulltext\" value=\"Search\" title=\"Search Wikipedia for this text\" id=\"mw-searchButton\" class=\"searchButton mw-fallbackSearchButton\"/>\\n\\t\\t\\t\\t<input type=\"submit\" name=\"go\" value=\"Go\" title=\"Go to a page with this exact name if it exists\" id=\"searchButton\" class=\"searchButton\"/>\\n\\t\\t\\t</div>\\n\\t\\t</form>\\n\\t</div>\\n</div>\\n\\n\\t\\t</div>\\n\\t</div>\\n\\t\\n<div id=\"mw-panel\">\\n\\t<div id=\"p-logo\" role=\"banner\">\\n\\t\\t<a class=\"mw-wiki-logo\" href=\"/wiki/Main_Page\"\\n\\t\\t\\ttitle=\"Visit the main page\"></a>\\n\\t</div>\\n\\t<nav id=\"p-navigation\" class=\"mw-portlet mw-portlet-navigation vector-menu vector-menu-portal portal\" aria-labelledby=\"p-navigation-label\" role=\"navigation\" \\n\\t >\\n\\t<h3 id=\"p-navigation-label\" class=\"vector-menu-heading\">\\n\\t\\t<span>Navigation</span>\\n\\t</h3>\\n\\t<div class=\"vector-menu-content\">\\n\\t\\t\\n\\t\\t<ul class=\"vector-menu-content-list\"><li id=\"n-mainpage-description\"><a href=\"/wiki/Main_Page\" title=\"Visit the main page [z]\" accesskey=\"z\">Main page</a></li><li id=\"n-contents\"><a href=\"/wiki/Wikipedia:Contents\" title=\"Guides to browsing Wikipedia\">Contents</a></li><li id=\"n-currentevents\"><a href=\"/wiki/Portal:Current_events\" title=\"Articles related to current events\">Current events</a></li><li id=\"n-randompage\"><a href=\"/wiki/Special:Random\" title=\"Visit a randomly selected article [x]\" accesskey=\"x\">Random article</a></li><li id=\"n-aboutsite\"><a href=\"/wiki/Wikipedia:About\" title=\"Learn about Wikipedia and how it works\">About Wikipedia</a></li><li id=\"n-contactpage\"><a href=\"//en.wikipedia.org/wiki/Wikipedia:Contact_us\" title=\"How to contact Wikipedia\">Contact us</a></li><li id=\"n-sitesupport\"><a href=\"https://donate.wikimedia.org/wiki/Special:FundraiserRedirector?utm_source=donate&amp;utm_medium=sidebar&amp;utm_campaign=C13_en.wikipedia.org&amp;uselang=en\" title=\"Support us by donating to the Wikimedia Foundation\">Donate</a></li></ul>\\n\\t\\t\\n\\t</div>\\n</nav>\\n\\n\\t<nav id=\"p-interaction\" class=\"mw-portlet mw-portlet-interaction vector-menu vector-menu-portal portal\" aria-labelledby=\"p-interaction-label\" role=\"navigation\" \\n\\t >\\n\\t<h3 id=\"p-interaction-label\" class=\"vector-menu-heading\">\\n\\t\\t<span>Contribute</span>\\n\\t</h3>\\n\\t<div class=\"vector-menu-content\">\\n\\t\\t\\n\\t\\t<ul class=\"vector-menu-content-list\"><li id=\"n-help\"><a href=\"/wiki/Help:Contents\" title=\"Guidance on how to use and edit Wikipedia\">Help</a></li><li id=\"n-introduction\"><a href=\"/wiki/Help:Introduction\" title=\"Learn how to edit Wikipedia\">Learn to edit</a></li><li id=\"n-portal\"><a href=\"/wiki/Wikipedia:Community_portal\" title=\"The hub for editors\">Community portal</a></li><li id=\"n-recentchanges\"><a href=\"/wiki/Special:RecentChanges\" title=\"A list of recent changes to Wikipedia [r]\" accesskey=\"r\">Recent changes</a></li><li id=\"n-upload\"><a href=\"/wiki/Wikipedia:File_Upload_Wizard\" title=\"Add images or other media for use on Wikipedia\">Upload file</a></li></ul>\\n\\t\\t\\n\\t</div>\\n</nav>\\n<nav id=\"p-tb\" class=\"mw-portlet mw-portlet-tb vector-menu vector-menu-portal portal\" aria-labelledby=\"p-tb-label\" role=\"navigation\" \\n\\t >\\n\\t<h3 id=\"p-tb-label\" class=\"vector-menu-heading\">\\n\\t\\t<span>Tools</span>\\n\\t</h3>\\n\\t<div class=\"vector-menu-content\">\\n\\t\\t\\n\\t\\t<ul class=\"vector-menu-content-list\"><li id=\"t-whatlinkshere\"><a href=\"/wiki/Special:WhatLinksHere/Main_Page\" title=\"List of all English Wikipedia pages containing links to this page [j]\" accesskey=\"j\">What links here</a></li><li id=\"t-recentchangeslinked\"><a href=\"/wiki/Special:RecentChangesLinked/Main_Page\" rel=\"nofollow\" title=\"Recent changes in pages linked from this page [k]\" accesskey=\"k\">Related changes</a></li><li id=\"t-upload\"><a href=\"/wiki/Wikipedia:File_Upload_Wizard\" title=\"Upload files [u]\" accesskey=\"u\">Upload file</a></li><li id=\"t-specialpages\"><a href=\"/wiki/Special:SpecialPages\" title=\"A list of all special pages [q]\" accesskey=\"q\">Special pages</a></li><li id=\"t-permalink\"><a href=\"/w/index.php?title=Main_Page&amp;oldid=1004593520\" title=\"Permanent link to this revision of this page\">Permanent link</a></li><li id=\"t-info\"><a href=\"/w/index.php?title=Main_Page&amp;action=info\" title=\"More information about this page\">Page information</a></li><li id=\"t-cite\"><a href=\"/w/index.php?title=Special:CiteThisPage&amp;page=Main_Page&amp;id=1004593520&amp;wpFormIdentifier=titleform\" title=\"Information on how to cite this page\">Cite this page</a></li><li id=\"t-wikibase\"><a href=\"https://www.wikidata.org/wiki/Special:EntityPage/Q5296\" title=\"Structured data on this page hosted by Wikidata [g]\" accesskey=\"g\">Wikidata item</a></li></ul>\\n\\t\\t\\n\\t</div>\\n</nav>\\n<nav id=\"p-coll-print_export\" class=\"mw-portlet mw-portlet-coll-print_export vector-menu vector-menu-portal portal\" aria-labelledby=\"p-coll-print_export-label\" role=\"navigation\" \\n\\t >\\n\\t<h3 id=\"p-coll-print_export-label\" class=\"vector-menu-heading\">\\n\\t\\t<span>Print/export</span>\\n\\t</h3>\\n\\t<div class=\"vector-menu-content\">\\n\\t\\t\\n\\t\\t<ul class=\"vector-menu-content-list\"><li id=\"coll-download-as-rl\"><a href=\"/w/index.php?title=Special:DownloadAsPdf&amp;page=Main_Page&amp;action=show-download-screen\" title=\"Download this page as a PDF file\">Download as PDF</a></li><li id=\"t-print\"><a href=\"/w/index.php?title=Main_Page&amp;printable=yes\" title=\"Printable version of this page [p]\" accesskey=\"p\">Printable version</a></li></ul>\\n\\t\\t\\n\\t</div>\\n</nav>\\n<nav id=\"p-wikibase-otherprojects\" class=\"mw-portlet mw-portlet-wikibase-otherprojects vector-menu vector-menu-portal portal\" aria-labelledby=\"p-wikibase-otherprojects-label\" role=\"navigation\" \\n\\t >\\n\\t<h3 id=\"p-wikibase-otherprojects-label\" class=\"vector-menu-heading\">\\n\\t\\t<span>In other projects</span>\\n\\t</h3>\\n\\t<div class=\"vector-menu-content\">\\n\\t\\t\\n\\t\\t<ul class=\"vector-menu-content-list\"><li class=\"wb-otherproject-link wb-otherproject-commons\"><a href=\"https://commons.wikimedia.org/wiki/Main_Page\" hreflang=\"en\">Wikimedia Commons</a></li><li class=\"wb-otherproject-link wb-otherproject-mediawiki\"><a href=\"https://www.mediawiki.org/wiki/MediaWiki\" hreflang=\"en\">MediaWiki</a></li><li class=\"wb-otherproject-link wb-otherproject-meta\"><a href=\"https://meta.wikimedia.org/wiki/Main_Page\" hreflang=\"en\">Meta-Wiki</a></li><li class=\"wb-otherproject-link wb-otherproject-sources\"><a href=\"https://wikisource.org/wiki/Main_Page\" hreflang=\"en\">Multilingual Wikisource</a></li><li class=\"wb-otherproject-link wb-otherproject-species\"><a href=\"https://species.wikimedia.org/wiki/Main_Page\" hreflang=\"en\">Wikispecies</a></li><li class=\"wb-otherproject-link wb-otherproject-wikibooks\"><a href=\"https://en.wikibooks.org/wiki/Main_Page\" hreflang=\"en\">Wikibooks</a></li><li class=\"wb-otherproject-link wb-otherproject-wikidata\"><a href=\"https://www.wikidata.org/wiki/Wikidata:Main_Page\" hreflang=\"en\">Wikidata</a></li><li class=\"wb-otherproject-link wb-otherproject-wikimania\"><a href=\"https://wikimania.wikimedia.org/wiki/Wikimania\" hreflang=\"en\">Wikimania</a></li><li class=\"wb-otherproject-link wb-otherproject-wikinews\"><a href=\"https://en.wikinews.org/wiki/Main_Page\" hreflang=\"en\">Wikinews</a></li><li class=\"wb-otherproject-link wb-otherproject-wikiquote\"><a href=\"https://en.wikiquote.org/wiki/Main_Page\" hreflang=\"en\">Wikiquote</a></li><li class=\"wb-otherproject-link wb-otherproject-wikisource\"><a href=\"https://en.wikisource.org/wiki/Main_Page\" hreflang=\"en\">Wikisource</a></li><li class=\"wb-otherproject-link wb-otherproject-wikiversity\"><a href=\"https://en.wikiversity.org/wiki/Wikiversity:Main_Page\" hreflang=\"en\">Wikiversity</a></li><li class=\"wb-otherproject-link wb-otherproject-wikivoyage\"><a href=\"https://en.wikivoyage.org/wiki/Main_Page\" hreflang=\"en\">Wikivoyage</a></li><li class=\"wb-otherproject-link wb-otherproject-wiktionary\"><a href=\"https://en.wiktionary.org/wiki/Wiktionary:Main_Page\" hreflang=\"en\">Wiktionary</a></li></ul>\\n\\t\\t\\n\\t</div>\\n</nav>\\n\\n\\t<nav id=\"p-lang\" class=\"mw-portlet mw-portlet-lang vector-menu vector-menu-portal portal\" aria-labelledby=\"p-lang-label\" role=\"navigation\" \\n\\t >\\n\\t<h3 id=\"p-lang-label\" class=\"vector-menu-heading\">\\n\\t\\t<span>Languages</span>\\n\\t</h3>\\n\\t<div class=\"vector-menu-content\">\\n\\t\\t\\n\\t\\t<ul class=\"vector-menu-content-list\"><li class=\"interlanguage-link interwiki-ar\"><a href=\"https://ar.wikipedia.org/wiki/\" title=\"Arabic\" lang=\"ar\" hreflang=\"ar\" class=\"interlanguage-link-target\">\\xd8\\xa7\\xd9\\x84\\xd8\\xb9\\xd8\\xb1\\xd8\\xa8\\xd9\\x8a\\xd8\\xa9</a></li><li class=\"interlanguage-link interwiki-bn\"><a href=\"https://bn.wikipedia.org/wiki/\" title=\"Bangla\" lang=\"bn\" hreflang=\"bn\" class=\"interlanguage-link-target\">\\xe0\\xa6\\xac\\xe0\\xa6\\xbe\\xe0\\xa6\\x82\\xe0\\xa6\\xb2\\xe0\\xa6\\xbe</a></li><li class=\"interlanguage-link interwiki-bg\"><a href=\"https://bg.wikipedia.org/wiki/\" title=\"Bulgarian\" lang=\"bg\" hreflang=\"bg\" class=\"interlanguage-link-target\">\\xd0\\x91\\xd1\\x8a\\xd0\\xbb\\xd0\\xb3\\xd0\\xb0\\xd1\\x80\\xd1\\x81\\xd0\\xba\\xd0\\xb8</a></li><li class=\"interlanguage-link interwiki-bs\"><a href=\"https://bs.wikipedia.org/wiki/\" title=\"Bosnian\" lang=\"bs\" hreflang=\"bs\" class=\"interlanguage-link-target\">Bosanski</a></li><li class=\"interlanguage-link interwiki-ca\"><a href=\"https://ca.wikipedia.org/wiki/\" title=\"Catalan\" lang=\"ca\" hreflang=\"ca\" class=\"interlanguage-link-target\">Catal\\xc3\\xa0</a></li><li class=\"interlanguage-link interwiki-cs\"><a href=\"https://cs.wikipedia.org/wiki/\" title=\"Czech\" lang=\"cs\" hreflang=\"cs\" class=\"interlanguage-link-target\">\\xc4\\x8ce\\xc5\\xa1tina</a></li><li class=\"interlanguage-link interwiki-da\"><a href=\"https://da.wikipedia.org/wiki/\" title=\"Danish\" lang=\"da\" hreflang=\"da\" class=\"interlanguage-link-target\">Dansk</a></li><li class=\"interlanguage-link interwiki-de\"><a href=\"https://de.wikipedia.org/wiki/\" title=\"German\" lang=\"de\" hreflang=\"de\" class=\"interlanguage-link-target\">Deutsch</a></li><li class=\"interlanguage-link interwiki-et\"><a href=\"https://et.wikipedia.org/wiki/\" title=\"Estonian\" lang=\"et\" hreflang=\"et\" class=\"interlanguage-link-target\">Eesti</a></li><li class=\"interlanguage-link interwiki-el\"><a href=\"https://el.wikipedia.org/wiki/\" title=\"Greek\" lang=\"el\" hreflang=\"el\" class=\"interlanguage-link-target\">\\xce\\x95\\xce\\xbb\\xce\\xbb\\xce\\xb7\\xce\\xbd\\xce\\xb9\\xce\\xba\\xce\\xac</a></li><li class=\"interlanguage-link interwiki-es\"><a href=\"https://es.wikipedia.org/wiki/\" title=\"Spanish\" lang=\"es\" hreflang=\"es\" class=\"interlanguage-link-target\">Espa\\xc3\\xb1ol</a></li><li class=\"interlanguage-link interwiki-eo\"><a href=\"https://eo.wikipedia.org/wiki/\" title=\"Esperanto\" lang=\"eo\" hreflang=\"eo\" class=\"interlanguage-link-target\">Esperanto</a></li><li class=\"interlanguage-link interwiki-eu\"><a href=\"https://eu.wikipedia.org/wiki/\" title=\"Basque\" lang=\"eu\" hreflang=\"eu\" class=\"interlanguage-link-target\">Euskara</a></li><li class=\"interlanguage-link interwiki-fa\"><a href=\"https://fa.wikipedia.org/wiki/\" title=\"Persian\" lang=\"fa\" hreflang=\"fa\" class=\"interlanguage-link-target\">\\xd9\\x81\\xd8\\xa7\\xd8\\xb1\\xd8\\xb3\\xdb\\x8c</a></li><li class=\"interlanguage-link interwiki-fr\"><a href=\"https://fr.wikipedia.org/wiki/\" title=\"French\" lang=\"fr\" hreflang=\"fr\" class=\"interlanguage-link-target\">Fran\\xc3\\xa7ais</a></li><li class=\"interlanguage-link interwiki-gl\"><a href=\"https://gl.wikipedia.org/wiki/\" title=\"Galician\" lang=\"gl\" hreflang=\"gl\" class=\"interlanguage-link-target\">Galego</a></li><li class=\"interlanguage-link interwiki-ko\"><a href=\"https://ko.wikipedia.org/wiki/\" title=\"Korean\" lang=\"ko\" hreflang=\"ko\" class=\"interlanguage-link-target\">\\xed\\x95\\x9c\\xea\\xb5\\xad\\xec\\x96\\xb4</a></li><li class=\"interlanguage-link interwiki-hr\"><a href=\"https://hr.wikipedia.org/wiki/\" title=\"Croatian\" lang=\"hr\" hreflang=\"hr\" class=\"interlanguage-link-target\">Hrvatski</a></li><li class=\"interlanguage-link interwiki-id\"><a href=\"https://id.wikipedia.org/wiki/\" title=\"Indonesian\" lang=\"id\" hreflang=\"id\" class=\"interlanguage-link-target\">Bahasa Indonesia</a></li><li class=\"interlanguage-link interwiki-it\"><a href=\"https://it.wikipedia.org/wiki/\" title=\"Italian\" lang=\"it\" hreflang=\"it\" class=\"interlanguage-link-target\">Italiano</a></li><li class=\"interlanguage-link interwiki-he\"><a href=\"https://he.wikipedia.org/wiki/\" title=\"Hebrew\" lang=\"he\" hreflang=\"he\" class=\"interlanguage-link-target\">\\xd7\\xa2\\xd7\\x91\\xd7\\xa8\\xd7\\x99\\xd7\\xaa</a></li><li class=\"interlanguage-link interwiki-ka\"><a href=\"https://ka.wikipedia.org/wiki/\" title=\"Georgian\" lang=\"ka\" hreflang=\"ka\" class=\"interlanguage-link-target\">\\xe1\\x83\\xa5\\xe1\\x83\\x90\\xe1\\x83\\xa0\\xe1\\x83\\x97\\xe1\\x83\\xa3\\xe1\\x83\\x9a\\xe1\\x83\\x98</a></li><li class=\"interlanguage-link interwiki-lv\"><a href=\"https://lv.wikipedia.org/wiki/\" title=\"Latvian\" lang=\"lv\" hreflang=\"lv\" class=\"interlanguage-link-target\">Latvie\\xc5\\xa1u</a></li><li class=\"interlanguage-link interwiki-lt\"><a href=\"https://lt.wikipedia.org/wiki/\" title=\"Lithuanian\" lang=\"lt\" hreflang=\"lt\" class=\"interlanguage-link-target\">Lietuvi\\xc5\\xb3</a></li><li class=\"interlanguage-link interwiki-hu\"><a href=\"https://hu.wikipedia.org/wiki/\" title=\"Hungarian\" lang=\"hu\" hreflang=\"hu\" class=\"interlanguage-link-target\">Magyar</a></li><li class=\"interlanguage-link interwiki-mk\"><a href=\"https://mk.wikipedia.org/wiki/\" title=\"Macedonian\" lang=\"mk\" hreflang=\"mk\" class=\"interlanguage-link-target\">\\xd0\\x9c\\xd0\\xb0\\xd0\\xba\\xd0\\xb5\\xd0\\xb4\\xd0\\xbe\\xd0\\xbd\\xd1\\x81\\xd0\\xba\\xd0\\xb8</a></li><li class=\"interlanguage-link interwiki-ms\"><a href=\"https://ms.wikipedia.org/wiki/\" title=\"Malay\" lang=\"ms\" hreflang=\"ms\" class=\"interlanguage-link-target\">Bahasa Melayu</a></li><li class=\"interlanguage-link interwiki-nl\"><a href=\"https://nl.wikipedia.org/wiki/\" title=\"Dutch\" lang=\"nl\" hreflang=\"nl\" class=\"interlanguage-link-target\">Nederlands</a></li><li class=\"interlanguage-link interwiki-ja\"><a href=\"https://ja.wikipedia.org/wiki/\" title=\"Japanese\" lang=\"ja\" hreflang=\"ja\" class=\"interlanguage-link-target\">\\xe6\\x97\\xa5\\xe6\\x9c\\xac\\xe8\\xaa\\x9e</a></li><li class=\"interlanguage-link interwiki-no\"><a href=\"https://no.wikipedia.org/wiki/\" title=\"Norwegian Bokm\\xc3\\xa5l\" lang=\"nb\" hreflang=\"nb\" class=\"interlanguage-link-target\">Norsk bokm\\xc3\\xa5l</a></li><li class=\"interlanguage-link interwiki-nn\"><a href=\"https://nn.wikipedia.org/wiki/\" title=\"Norwegian Nynorsk\" lang=\"nn\" hreflang=\"nn\" class=\"interlanguage-link-target\">Norsk nynorsk</a></li><li class=\"interlanguage-link interwiki-pl\"><a href=\"https://pl.wikipedia.org/wiki/\" title=\"Polish\" lang=\"pl\" hreflang=\"pl\" class=\"interlanguage-link-target\">Polski</a></li><li class=\"interlanguage-link interwiki-pt\"><a href=\"https://pt.wikipedia.org/wiki/\" title=\"Portuguese\" lang=\"pt\" hreflang=\"pt\" class=\"interlanguage-link-target\">Portugu\\xc3\\xaas</a></li><li class=\"interlanguage-link interwiki-ro\"><a href=\"https://ro.wikipedia.org/wiki/\" title=\"Romanian\" lang=\"ro\" hreflang=\"ro\" class=\"interlanguage-link-target\">Rom\\xc3\\xa2n\\xc4\\x83</a></li><li class=\"interlanguage-link interwiki-ru\"><a href=\"https://ru.wikipedia.org/wiki/\" title=\"Russian\" lang=\"ru\" hreflang=\"ru\" class=\"interlanguage-link-target\">\\xd0\\xa0\\xd1\\x83\\xd1\\x81\\xd1\\x81\\xd0\\xba\\xd0\\xb8\\xd0\\xb9</a></li><li class=\"interlanguage-link interwiki-simple\"><a href=\"https://simple.wikipedia.org/wiki/\" title=\"Simple English\" lang=\"en-simple\" hreflang=\"en-simple\" class=\"interlanguage-link-target\">Simple English</a></li><li class=\"interlanguage-link interwiki-sk\"><a href=\"https://sk.wikipedia.org/wiki/\" title=\"Slovak\" lang=\"sk\" hreflang=\"sk\" class=\"interlanguage-link-target\">Sloven\\xc4\\x8dina</a></li><li class=\"interlanguage-link interwiki-sl\"><a href=\"https://sl.wikipedia.org/wiki/\" title=\"Slovenian\" lang=\"sl\" hreflang=\"sl\" class=\"interlanguage-link-target\">Sloven\\xc5\\xa1\\xc4\\x8dina</a></li><li class=\"interlanguage-link interwiki-sr\"><a href=\"https://sr.wikipedia.org/wiki/\" title=\"Serbian\" lang=\"sr\" hreflang=\"sr\" class=\"interlanguage-link-target\">\\xd0\\xa1\\xd1\\x80\\xd0\\xbf\\xd1\\x81\\xd0\\xba\\xd0\\xb8 / srpski</a></li><li class=\"interlanguage-link interwiki-sh\"><a href=\"https://sh.wikipedia.org/wiki/\" title=\"Serbo-Croatian\" lang=\"sh\" hreflang=\"sh\" class=\"interlanguage-link-target\">Srpskohrvatski / \\xd1\\x81\\xd1\\x80\\xd0\\xbf\\xd1\\x81\\xd0\\xba\\xd0\\xbe\\xd1\\x85\\xd1\\x80\\xd0\\xb2\\xd0\\xb0\\xd1\\x82\\xd1\\x81\\xd0\\xba\\xd0\\xb8</a></li><li class=\"interlanguage-link interwiki-fi\"><a href=\"https://fi.wikipedia.org/wiki/\" title=\"Finnish\" lang=\"fi\" hreflang=\"fi\" class=\"interlanguage-link-target\">Suomi</a></li><li class=\"interlanguage-link interwiki-sv\"><a href=\"https://sv.wikipedia.org/wiki/\" title=\"Swedish\" lang=\"sv\" hreflang=\"sv\" class=\"interlanguage-link-target\">Svenska</a></li><li class=\"interlanguage-link interwiki-th\"><a href=\"https://th.wikipedia.org/wiki/\" title=\"Thai\" lang=\"th\" hreflang=\"th\" class=\"interlanguage-link-target\">\\xe0\\xb9\\x84\\xe0\\xb8\\x97\\xe0\\xb8\\xa2</a></li><li class=\"interlanguage-link interwiki-tr\"><a href=\"https://tr.wikipedia.org/wiki/\" title=\"Turkish\" lang=\"tr\" hreflang=\"tr\" class=\"interlanguage-link-target\">T\\xc3\\xbcrk\\xc3\\xa7e</a></li><li class=\"interlanguage-link interwiki-uk\"><a href=\"https://uk.wikipedia.org/wiki/\" title=\"Ukrainian\" lang=\"uk\" hreflang=\"uk\" class=\"interlanguage-link-target\">\\xd0\\xa3\\xd0\\xba\\xd1\\x80\\xd0\\xb0\\xd1\\x97\\xd0\\xbd\\xd1\\x81\\xd1\\x8c\\xd0\\xba\\xd0\\xb0</a></li><li class=\"interlanguage-link interwiki-vi\"><a href=\"https://vi.wikipedia.org/wiki/\" title=\"Vietnamese\" lang=\"vi\" hreflang=\"vi\" class=\"interlanguage-link-target\">Ti\\xe1\\xba\\xbfng Vi\\xe1\\xbb\\x87t</a></li><li class=\"interlanguage-link interwiki-zh\"><a href=\"https://zh.wikipedia.org/wiki/\" title=\"Chinese\" lang=\"zh\" hreflang=\"zh\" class=\"interlanguage-link-target\">\\xe4\\xb8\\xad\\xe6\\x96\\x87</a></li></ul>\\n\\t\\t\\n\\t</div>\\n</nav>\\n\\n</div>\\n\\n</div>\\n<footer id=\"footer\" class=\"mw-footer\" role=\"contentinfo\" >\\n\\t<ul id=\"footer-info\" >\\n\\t<li id=\"footer-info-lastmod\"> This page was last edited on 3 February 2021, at 11:11<span class=\"anonymous-show\">&#160;(UTC)</span>.</li>\\n\\t<li id=\"footer-info-copyright\">Text is available under the <a rel=\"license\" href=\"//en.wikipedia.org/wiki/Wikipedia:Text_of_Creative_Commons_Attribution-ShareAlike_3.0_Unported_License\">Creative Commons Attribution-ShareAlike License</a><a rel=\"license\" href=\"//creativecommons.org/licenses/by-sa/3.0/\" style=\"display:none;\"></a>;\\nadditional terms may apply.  By using this site, you agree to the <a href=\"//foundation.wikimedia.org/wiki/Terms_of_Use\">Terms of Use</a> and <a href=\"//foundation.wikimedia.org/wiki/Privacy_policy\">Privacy Policy</a>. Wikipedia\\xc2\\xae is a registered trademark of the <a href=\"//www.wikimediafoundation.org/\">Wikimedia Foundation, Inc.</a>, a non-profit organization.</li>\\n</ul>\\n\\n\\t<ul id=\"footer-places\" >\\n\\t<li id=\"footer-places-privacy\"><a href=\"https://foundation.wikimedia.org/wiki/Privacy_policy\" class=\"extiw\" title=\"wmf:Privacy policy\">Privacy policy</a></li>\\n\\t<li id=\"footer-places-about\"><a href=\"/wiki/Wikipedia:About\" title=\"Wikipedia:About\">About Wikipedia</a></li>\\n\\t<li id=\"footer-places-disclaimer\"><a href=\"/wiki/Wikipedia:General_disclaimer\" title=\"Wikipedia:General disclaimer\">Disclaimers</a></li>\\n\\t<li id=\"footer-places-contact\"><a href=\"//en.wikipedia.org/wiki/Wikipedia:Contact_us\">Contact Wikipedia</a></li>\\n\\t<li id=\"footer-places-mobileview\"><a href=\"//en.m.wikipedia.org/w/index.php?title=Main_Page&amp;mobileaction=toggle_view_mobile\" class=\"noprint stopMobileRedirectToggle\">Mobile view</a></li>\\n\\t<li id=\"footer-places-developers\"><a href=\"https://www.mediawiki.org/wiki/Special:MyLanguage/How_to_contribute\">Developers</a></li>\\n\\t<li id=\"footer-places-statslink\"><a href=\"https://stats.wikimedia.org/#/en.wikipedia.org\">Statistics</a></li>\\n\\t<li id=\"footer-places-cookiestatement\"><a href=\"https://foundation.wikimedia.org/wiki/Cookie_statement\">Cookie statement</a></li>\\n</ul>\\n\\n\\t<ul id=\"footer-icons\" class=\"noprint\">\\n\\t<li id=\"footer-copyrightico\"><a href=\"https://wikimediafoundation.org/\"><img src=\"/static/images/footer/wikimedia-button.png\" srcset=\"/static/images/footer/wikimedia-button-1.5x.png 1.5x, /static/images/footer/wikimedia-button-2x.png 2x\" width=\"88\" height=\"31\" alt=\"Wikimedia Foundation\" loading=\"lazy\" /></a></li>\\n\\t<li id=\"footer-poweredbyico\"><a href=\"https://www.mediawiki.org/\"><img src=\"/static/images/footer/poweredby_mediawiki_88x31.png\" alt=\"Powered by MediaWiki\" srcset=\"/static/images/footer/poweredby_mediawiki_132x47.png 1.5x, /static/images/footer/poweredby_mediawiki_176x62.png 2x\" width=\"88\" height=\"31\" loading=\"lazy\"/></a></li>\\n</ul>\\n\\n</footer>\\n\\n\\n<script>(RLQ=window.RLQ||[]).push(function(){mw.config.set({\"wgPageParseReport\":{\"limitreport\":{\"cputime\":\"0.467\",\"walltime\":\"0.661\",\"ppvisitednodes\":{\"value\":3836,\"limit\":1000000},\"postexpandincludesize\":{\"value\":110602,\"limit\":2097152},\"templateargumentsize\":{\"value\":5635,\"limit\":2097152},\"expansiondepth\":{\"value\":21,\"limit\":40},\"expensivefunctioncount\":{\"value\":12,\"limit\":500},\"unstrip-depth\":{\"value\":0,\"limit\":20},\"unstrip-size\":{\"value\":5370,\"limit\":5000000},\"entityaccesscount\":{\"value\":0,\"limit\":400},\"timingprofile\":[\"100.00%  485.122      1 -total\",\" 35.68%  173.100      8 Template:Main_page_image\",\" 28.58%  138.632      1 Wikipedia:Main_Page/Tomorrow\",\" 21.83%  105.903      8 Template:Str_number/trim\",\" 19.33%   93.796      2 Template:In_the_news\",\" 17.85%   86.579     24 Template:If_empty\",\" 16.88%   81.885      2 Template:Main_page_image/ITN\",\" 15.40%   74.697      2 Template:Main_page_image/TFA\",\" 14.06%   68.220      1 Wikipedia:Selected_anniversaries/July_27\",\" 14.05%   68.157      1 Wikipedia:Today\\'s_featured_article/July_27,_2021\"]},\"scribunto\":{\"limitreport-timeusage\":{\"value\":\"0.101\",\"limit\":\"10.000\"},\"limitreport-memusage\":{\"value\":2254594,\"limit\":52428800}},\"cachereport\":{\"origin\":\"mw2277\",\"timestamp\":\"20210727091821\",\"ttl\":3600,\"transientcontent\":true}}});});</script>\\n<script type=\"application/ld+json\">{\"@context\":\"https:\\\\/\\\\/schema.org\",\"@type\":\"Article\",\"name\":\"Main Page\",\"url\":\"https:\\\\/\\\\/en.wikipedia.org\\\\/wiki\\\\/Main_Page\",\"sameAs\":\"http:\\\\/\\\\/www.wikidata.org\\\\/entity\\\\/Q5296\",\"mainEntity\":\"http:\\\\/\\\\/www.wikidata.org\\\\/entity\\\\/Q5296\",\"author\":{\"@type\":\"Organization\",\"name\":\"Contributors to Wikimedia projects\"},\"publisher\":{\"@type\":\"Organization\",\"name\":\"Wikimedia Foundation, Inc.\",\"logo\":{\"@type\":\"ImageObject\",\"url\":\"https:\\\\/\\\\/www.wikimedia.org\\\\/static\\\\/images\\\\/wmf-hor-googpub.png\"}},\"datePublished\":\"2002-01-26T15:28:12Z\",\"dateModified\":\"2021-02-03T11:11:30Z\",\"image\":\"https:\\\\/\\\\/upload.wikimedia.org\\\\/wikipedia\\\\/commons\\\\/4\\\\/4b\\\\/Tour_de_l%27%C3%89changeur_en_2018.jpg\",\"headline\":\"Wikimedia project page\"}</script>\\n<script>(RLQ=window.RLQ||[]).push(function(){mw.config.set({\"wgBackendResponseTime\":134,\"wgHostname\":\"mw2329\"});});</script>\\n</body></html>'"
      ]
     },
     "execution_count": 4,
     "metadata": {},
     "output_type": "execute_result"
    }
   ],
   "source": [
    "page.content"
   ]
  },
  {
   "cell_type": "code",
   "execution_count": 5,
   "id": "398f3e84",
   "metadata": {},
   "outputs": [
    {
     "data": {
      "text/plain": [
       "<!DOCTYPE html>\n",
       "<html class=\"client-nojs\" dir=\"ltr\" lang=\"en\">\n",
       "<head>\n",
       "<meta charset=\"utf-8\"/>\n",
       "<title>Wikipedia, the free encyclopedia</title>\n",
       "<script>document.documentElement.className=\"client-js\";RLCONF={\"wgBreakFrames\":!1,\"wgSeparatorTransformTable\":[\"\",\"\"],\"wgDigitTransformTable\":[\"\",\"\"],\"wgDefaultDateFormat\":\"dmy\",\"wgMonthNames\":[\"\",\"January\",\"February\",\"March\",\"April\",\"May\",\"June\",\"July\",\"August\",\"September\",\"October\",\"November\",\"December\"],\"wgRequestId\":\"11a22519-aa63-41c1-8b74-b245cbafcab5\",\"wgCSPNonce\":!1,\"wgCanonicalNamespace\":\"\",\"wgCanonicalSpecialPageName\":!1,\"wgNamespaceNumber\":0,\"wgPageName\":\"Main_Page\",\"wgTitle\":\"Main Page\",\"wgCurRevisionId\":1004593520,\"wgRevisionId\":1004593520,\"wgArticleId\":15580374,\"wgIsArticle\":!0,\"wgIsRedirect\":!1,\"wgAction\":\"view\",\"wgUserName\":null,\"wgUserGroups\":[\"*\"],\"wgCategories\":[],\"wgPageContentLanguage\":\"en\",\"wgPageContentModel\":\"wikitext\",\"wgRelevantPageName\":\"Main_Page\",\"wgRelevantArticleId\":15580374,\"wgIsProbablyEditable\":!1,\"wgRelevantPageIsProbablyEditable\":!1,\"wgRestrictionEdit\":[\"sysop\"],\"wgRestrictionMove\":[\"sysop\"],\"wgIsMainPage\":!0,\"wgFlaggedRevsParams\":{\n",
       "\"tags\":{\"status\":{\"levels\":-1}}},\"wgMediaViewerOnClick\":!0,\"wgMediaViewerEnabledByDefault\":!0,\"wgPopupsFlags\":10,\"wgVisualEditor\":{\"pageLanguageCode\":\"en\",\"pageLanguageDir\":\"ltr\",\"pageVariantFallbacks\":\"en\"},\"wgMFDisplayWikibaseDescriptions\":{\"search\":!0,\"nearby\":!0,\"watchlist\":!0,\"tagline\":!1},\"wgWMESchemaEditAttemptStepOversample\":!1,\"wgULSCurrentAutonym\":\"English\",\"wgNoticeProject\":\"wikipedia\",\"wgCentralAuthMobileDomain\":!1,\"wgEditSubmitButtonLabelPublish\":!0,\"wgULSPosition\":\"interlanguage\",\"wgULSisCompactLinksEnabled\":!0,\"wgGENewcomerTasksGuidanceEnabled\":!0,\"wgGEAskQuestionEnabled\":!1,\"wgGELinkRecommendationsFrontendEnabled\":!1,\"wgWikibaseItemId\":\"Q5296\"};RLSTATE={\"ext.globalCssJs.user.styles\":\"ready\",\"site.styles\":\"ready\",\"noscript\":\"ready\",\"user.styles\":\"ready\",\"ext.globalCssJs.user\":\"ready\",\"user\":\"ready\",\"user.options\":\"loading\",\"skins.vector.styles.legacy\":\"ready\",\"ext.visualEditor.desktopArticleTarget.noscript\":\"ready\",\"ext.uls.interlanguage\":\n",
       "\"ready\",\"ext.wikimediaBadges\":\"ready\"};RLPAGEMODULES=[\"site\",\"mediawiki.page.ready\",\"skins.vector.legacy.js\",\"ext.gadget.ReferenceTooltips\",\"ext.gadget.charinsert\",\"ext.gadget.extra-toolbar-buttons\",\"ext.gadget.refToolbar\",\"ext.gadget.switcher\",\"ext.centralauth.centralautologin\",\"mmv.head\",\"mmv.bootstrap.autostart\",\"ext.popups\",\"ext.visualEditor.desktopArticleTarget.init\",\"ext.visualEditor.targetLoader\",\"ext.eventLogging\",\"ext.wikimediaEvents\",\"ext.navigationTiming\",\"ext.uls.interface\",\"ext.cx.eventlogging.campaigns\",\"ext.centralNotice.geoIP\",\"ext.centralNotice.startUp\",\"ext.growthExperiments.SuggestedEditSession\"];</script>\n",
       "<script>(RLQ=window.RLQ||[]).push(function(){mw.loader.implement(\"user.options@1hzgi\",function($,jQuery,require,module){/*@nomin*/mw.user.tokens.set({\"patrolToken\":\"+\\\\\",\"watchToken\":\"+\\\\\",\"csrfToken\":\"+\\\\\"});\n",
       "});});</script>\n",
       "<link href=\"/w/load.php?lang=en&amp;modules=ext.uls.interlanguage%7Cext.visualEditor.desktopArticleTarget.noscript%7Cext.wikimediaBadges%7Cskins.vector.styles.legacy&amp;only=styles&amp;skin=vector\" rel=\"stylesheet\"/>\n",
       "<script async=\"\" src=\"/w/load.php?lang=en&amp;modules=startup&amp;only=scripts&amp;raw=1&amp;skin=vector\"></script>\n",
       "<meta content=\"\" name=\"ResourceLoaderDynamicStyles\"/>\n",
       "<link href=\"/w/load.php?lang=en&amp;modules=site.styles&amp;only=styles&amp;skin=vector\" rel=\"stylesheet\"/>\n",
       "<meta content=\"MediaWiki 1.37.0-wmf.15\" name=\"generator\"/>\n",
       "<meta content=\"origin\" name=\"referrer\"/>\n",
       "<meta content=\"origin-when-crossorigin\" name=\"referrer\"/>\n",
       "<meta content=\"origin-when-cross-origin\" name=\"referrer\"/>\n",
       "<meta content=\"https://upload.wikimedia.org/wikipedia/commons/thumb/4/4b/Tour_de_l%27%C3%89changeur_en_2018.jpg/1200px-Tour_de_l%27%C3%89changeur_en_2018.jpg\" property=\"og:image\"/>\n",
       "<meta content=\"Wikipedia, the free encyclopedia\" property=\"og:title\"/>\n",
       "<meta content=\"website\" property=\"og:type\"/>\n",
       "<link href=\"//upload.wikimedia.org\" rel=\"preconnect\"/>\n",
       "<link href=\"//en.m.wikipedia.org/wiki/Main_Page\" media=\"only screen and (max-width: 720px)\" rel=\"alternate\"/>\n",
       "<link href=\"/w/api.php?action=featuredfeed&amp;feed=potd&amp;feedformat=atom\" rel=\"alternate\" title=\"Wikipedia picture of the day feed\" type=\"application/atom+xml\"/>\n",
       "<link href=\"/w/api.php?action=featuredfeed&amp;feed=featured&amp;feedformat=atom\" rel=\"alternate\" title=\"Wikipedia featured articles feed\" type=\"application/atom+xml\"/>\n",
       "<link href=\"/w/api.php?action=featuredfeed&amp;feed=onthisday&amp;feedformat=atom\" rel=\"alternate\" title='Wikipedia \"On this day...\" feed' type=\"application/atom+xml\"/>\n",
       "<link href=\"/static/apple-touch/wikipedia.png\" rel=\"apple-touch-icon\"/>\n",
       "<link href=\"/static/favicon/wikipedia.ico\" rel=\"shortcut icon\"/>\n",
       "<link href=\"/w/opensearch_desc.php\" rel=\"search\" title=\"Wikipedia (en)\" type=\"application/opensearchdescription+xml\"/>\n",
       "<link href=\"//en.wikipedia.org/w/api.php?action=rsd\" rel=\"EditURI\" type=\"application/rsd+xml\"/>\n",
       "<link href=\"//creativecommons.org/licenses/by-sa/3.0/\" rel=\"license\"/>\n",
       "<link href=\"https://en.wikipedia.org/wiki/Main_Page\" rel=\"canonical\"/>\n",
       "<link href=\"//login.wikimedia.org\" rel=\"dns-prefetch\"/>\n",
       "<link href=\"//meta.wikimedia.org\" rel=\"dns-prefetch\"/>\n",
       "</head>\n",
       "<body class=\"mediawiki ltr sitedir-ltr mw-hide-empty-elt ns-0 ns-subject page-Main_Page rootpage-Main_Page skin-vector action-view skin-vector-legacy\"><div class=\"noprint\" id=\"mw-page-base\"></div>\n",
       "<div class=\"noprint\" id=\"mw-head-base\"></div>\n",
       "<div class=\"mw-body\" id=\"content\" role=\"main\">\n",
       "<a id=\"top\"></a>\n",
       "<div id=\"siteNotice\"><!-- CentralNotice --></div>\n",
       "<div class=\"mw-indicators\">\n",
       "</div>\n",
       "<h1 class=\"firstHeading\" id=\"firstHeading\">Main Page</h1>\n",
       "<div class=\"vector-body\" id=\"bodyContent\">\n",
       "<div class=\"noprint\" id=\"siteSub\">From Wikipedia, the free encyclopedia</div>\n",
       "<div id=\"contentSub\"></div>\n",
       "<div id=\"contentSub2\"></div>\n",
       "<div id=\"jump-to-nav\"></div>\n",
       "<a class=\"mw-jump-link\" href=\"#mw-head\">Jump to navigation</a>\n",
       "<a class=\"mw-jump-link\" href=\"#searchInput\">Jump to search</a>\n",
       "<div class=\"mw-body-content mw-content-ltr\" dir=\"ltr\" id=\"mw-content-text\" lang=\"en\"><div class=\"mw-parser-output\"><style data-mw-deduplicate=\"TemplateStyles:r1004580458\">.mw-parser-output #mp-topbanner{position:relative;box-sizing:border-box;min-width:47em;border-color:#ddd;background-color:#f9f9f9;white-space:nowrap}.mw-parser-output .mp-bordered,.mw-parser-output .mp-h2,body.skin-timeless .mw-parser-output .mp-h2{border-width:1px;border-style:solid}.mw-parser-output #mp-topbanner,.mw-parser-output .mp-h2,.mw-parser-output #mp-left{color:#000}.mw-parser-output #mp-welcomecount{margin:0.4em;width:22em;text-align:center}.mw-parser-output #mp-welcome{font-size:162%;padding:0.1em}.mw-parser-output #mp-free{font-size:95%}.mw-parser-output #articlecount{font-size:85%}.mw-parser-output #mp-portals{position:absolute;right:-1em;top:50%;margin-top:-2.4em;width:38%;min-width:25em;font-size:95%}.mw-parser-output #mp-portals li{position:absolute;left:0;top:0}.mw-parser-output #mp-portals .portal-hmid{left:33%}.mw-parser-output #mp-portals .portal-hright{left:66%}.mw-parser-output #mp-portals .portal-vmid{top:1.6em}.mw-parser-output #mp-portals .portal-vbot{top:3.2em}.mw-parser-output #mp-portals li:last-child{font-weight:bold}.mw-parser-output #mp-banner{margin-top:4px;padding:0.5em;background-color:#fffaf5;border-color:#f2e0ce}.mw-parser-output .mp-h2,body.skin-timeless .mw-parser-output .mp-h2{margin:0.5em;padding:0.2em 0.4em;font-size:120%;font-weight:bold;font-family:inherit}.mw-parser-output h2.mp-h2::after{border:none}.mw-parser-output .mp-later{font-size:85%;font-weight:normal}.mw-parser-output #mp-upper{width:100%;margin-top:4px;margin-bottom:0;border-spacing:0;border-collapse:separate}.mw-parser-output #mp-upper .mid-table{border-color:transparent}.mw-parser-output #mp-left{width:55%;border-color:#cef2e0;background:#f5fffa}.mw-parser-output #mp-right{width:45%;border-color:#cedff2;background:#f5faff}.mw-parser-output #mp-left,.mw-parser-output #mp-right{padding:0;vertical-align:top}.mw-parser-output #mp-left .mp-h2{background:#cef2e0;border-color:#a3bfb1}.mw-parser-output #mp-right .mp-h2{background:#cedff2;border-color:#a3b0bf}.mw-parser-output #mp-tfa,.mw-parser-output #mp-dyk,.mw-parser-output #mp-itn,.mw-parser-output #mp-otd,.mw-parser-output #mp-other-lower>div{padding:0.1em 0.6em}.mw-parser-output #mp-dyk-h2,.mw-parser-output #mp-otd-h2{clear:both}.mw-parser-output #mp-middle{margin-top:4px;border-color:#f2cedd;background:#fff5fa}.mw-parser-output #mp-middle,.mw-parser-output #mp-lower,.mw-parser-output #mp-other-lower{overflow:auto}.mw-parser-output #mp-tfl-h2{background:#f2cedd;border-color:#bfa3af}.mw-parser-output #mp-tfl{padding:0.3em 0.7em}.mw-parser-output #mp-lower{margin-top:4px;border-color:#ddcef2;background:#faf5ff}.mw-parser-output #mp-tfp-h2{background:#ddcef2;border-color:#afa3bf}.mw-parser-output #mp-tfp{margin:0.1em 0.4em 0.6em}.mw-parser-output #mp-other-lower{padding:0;border-color:#e2e2e2;margin-top:4px}.mw-parser-output #mp-dyk,.mw-parser-output #mp-otd,.mw-parser-output #mp-other-lower{padding-bottom:0.5em}.mw-parser-output #mp-other-lower .mp-h2{background:#eee;border-color:#ddd;color:#222}@media(max-width:875px){body.skin--responsive .mw-parser-output #mp-welcomecount{width:auto}body.skin--responsive .mw-parser-output #mp-topbanner{min-width:0;white-space:normal}body.skin--responsive .mw-parser-output #mp-portals{position:static;width:auto;min-width:0;text-align:center;border-top:1px solid #ddd;padding:0.4em 0;margin:0 0.4em}body.skin--responsive .mw-parser-output #mp-portals li{position:static;display:inline;padding:0 5px;white-space:nowrap}body.skin--responsive .mw-parser-output table,body.skin--responsive .mw-parser-output tr,body.skin--responsive .mw-parser-output td,body.skin--responsive .mw-parser-output tbody{display:block!important;width:100%!important;box-sizing:border-box}body.skin--responsive .mw-parser-output #mp-tfp tr:first-child td:first-child a{text-align:center;display:table;margin:0 auto}}</style>\n",
       "<div class=\"mp-bordered\" id=\"mp-topbanner\">\n",
       "<div id=\"mp-welcomecount\">\n",
       "<div id=\"mp-welcome\">Welcome to <a href=\"/wiki/Wikipedia\" title=\"Wikipedia\">Wikipedia</a>,</div>\n",
       "<div id=\"mp-free\">the <a href=\"/wiki/Free_content\" title=\"Free content\">free</a> <a href=\"/wiki/Encyclopedia\" title=\"Encyclopedia\">encyclopedia</a> that <a href=\"/wiki/Help:Introduction_to_Wikipedia\" title=\"Help:Introduction to Wikipedia\">anyone can edit</a>.</div>\n",
       "<div id=\"articlecount\"><a href=\"/wiki/Special:Statistics\" title=\"Special:Statistics\">6,345,100</a> articles in <a href=\"/wiki/English_language\" title=\"English language\">English</a></div>\n",
       "</div>\n",
       "<ul id=\"mp-portals\">\n",
       "<li><a href=\"/wiki/Portal:The_arts\" title=\"Portal:The arts\">The arts</a></li>\n",
       "<li class=\"portal-vmid\"><a href=\"/wiki/Portal:Biography\" title=\"Portal:Biography\">Biography</a></li>\n",
       "<li class=\"portal-vbot\"><a href=\"/wiki/Portal:Geography\" title=\"Portal:Geography\">Geography</a></li>\n",
       "<li class=\"portal-hmid\"><a href=\"/wiki/Portal:History\" title=\"Portal:History\">History</a></li>\n",
       "<li class=\"portal-hmid portal-vmid\"><a href=\"/wiki/Portal:Mathematics\" title=\"Portal:Mathematics\">Mathematics</a></li>\n",
       "<li class=\"portal-hmid portal-vbot\"><a href=\"/wiki/Portal:Science\" title=\"Portal:Science\">Science</a></li>\n",
       "<li class=\"portal-hright\"><a href=\"/wiki/Portal:Society\" title=\"Portal:Society\">Society</a></li>\n",
       "<li class=\"portal-hright portal-vmid\"><a href=\"/wiki/Portal:Technology\" title=\"Portal:Technology\">Technology</a></li>\n",
       "<li class=\"portal-hright portal-vbot\"><a href=\"/wiki/Wikipedia:Contents/Portals\" title=\"Wikipedia:Contents/Portals\">All portals</a></li>\n",
       "</ul>\n",
       "</div>\n",
       "<table id=\"mp-upper\" role=\"presentation\">\n",
       "<tbody><tr>\n",
       "<td class=\"MainPageBG mp-bordered\" id=\"mp-left\">\n",
       "<h2 class=\"mp-h2\" id=\"mp-tfa-h2\"><span id=\"From_today.27s_featured_article\"></span><span class=\"mw-headline\" id=\"From_today's_featured_article\">From today's featured article</span></h2>\n",
       "<div id=\"mp-tfa\"><div id=\"mp-tfa-img\" style=\"float: left; margin: 0.5em 0.9em 0.4em 0em;\">\n",
       "<div class=\"thumbinner mp-thumb\" style=\"background: transparent; border: none; padding: 0; max-width: 160px;\">\n",
       "<a class=\"image\" href=\"/wiki/File:CallofDutyLogo.svg\" title=\"Call of Duty\"><img alt=\"Call of Duty\" data-file-height=\"130\" data-file-width=\"600\" decoding=\"async\" height=\"35\" src=\"//upload.wikimedia.org/wikipedia/commons/thumb/b/bd/CallofDutyLogo.svg/160px-CallofDutyLogo.svg.png\" srcset=\"//upload.wikimedia.org/wikipedia/commons/thumb/b/bd/CallofDutyLogo.svg/240px-CallofDutyLogo.svg.png 1.5x, //upload.wikimedia.org/wikipedia/commons/thumb/b/bd/CallofDutyLogo.svg/320px-CallofDutyLogo.svg.png 2x\" width=\"160\"/></a></div>\n",
       "</div>\n",
       "<p><i><b><a href=\"/wiki/Call_of_Duty:_Modern_Warfare_Remastered\" title=\"Call of Duty: Modern Warfare Remastered\">Call of Duty: Modern Warfare Remastered</a></b></i> is a <a href=\"/wiki/First-person_shooter\" title=\"First-person shooter\">first-person shooter</a> game, developed by <a href=\"/wiki/Raven_Software\" title=\"Raven Software\">Raven Software</a> and published by <a href=\"/wiki/Activision\" title=\"Activision\">Activision</a>. It is a <a href=\"/wiki/Remaster\" title=\"Remaster\">remastered</a> version of 2007's <i><a href=\"/wiki/Call_of_Duty_4:_Modern_Warfare\" title=\"Call of Duty 4: Modern Warfare\">Call of Duty 4: Modern Warfare</a></i>. It was initially released for <a href=\"/wiki/PlayStation_4\" title=\"PlayStation 4\">PlayStation 4</a>, <a href=\"/wiki/Xbox_One\" title=\"Xbox One\">Xbox One</a>, and <a href=\"/wiki/Microsoft_Windows\" title=\"Microsoft Windows\">Microsoft Windows</a> in November 2016 as part of special edition <a href=\"/wiki/Product_bundling\" title=\"Product bundling\">bundles</a> of <i><a href=\"/wiki/Call_of_Duty:_Infinite_Warfare\" title=\"Call of Duty: Infinite Warfare\">Call of Duty: Infinite Warfare</a></i>. The story follows the <a href=\"/wiki/United_States_Marine_Corps\" title=\"United States Marine Corps\">USMC</a> and <a href=\"/wiki/Special_Air_Service\" title=\"Special Air Service\">SAS</a> in conflict against a <a href=\"/wiki/Middle_East\" title=\"Middle East\">Middle  Eastern</a> separatist group and a Russian ultranationalist group. The remaster began development as the result of an online petition. It features extensive technical enhancements while retaining the original core gameplay, and includes new single-player and multiplayer content. Critical reception was generally positive, with praise for the range of modifications and the simplistic but challenging gameplay. However, it was criticized for its <a href=\"/wiki/Game_balance\" title=\"Game balance\">balancing</a>, narrative pacing, and <a href=\"/wiki/Artificial_intelligence_in_video_games\" title=\"Artificial intelligence in video games\">artificial intelligence</a>. The game was controversial for several business decisions made by Activision. (<b><a href=\"/wiki/Call_of_Duty:_Modern_Warfare_Remastered\" title=\"Call of Duty: Modern Warfare Remastered\">Full article...</a></b>)\n",
       "</p>\n",
       "<div class=\"tfa-recent\" style=\"text-align: right;\">\n",
       "Recently featured: <div class=\"hlist hlist-separated inline\">\n",
       "<ul><li><a href=\"/wiki/Battle_of_Caen_(1346)\" title=\"Battle of Caen (1346)\">Battle of Caen (1346)</a></li>\n",
       "<li><i><a href=\"/wiki/Oryzomys_dimidiatus\" title=\"Oryzomys dimidiatus\">Oryzomys dimidiatus</a></i></li>\n",
       "<li><a href=\"/wiki/The_1975_(2019_song)\" title=\"The 1975 (2019 song)\">\"The 1975\" (2019 song)</a></li></ul>\n",
       "</div></div>\n",
       "<div class=\"tfa-footer hlist hlist-separated noprint\" style=\"text-align: right;\">\n",
       "<ul><li><b><a href=\"/wiki/Wikipedia:Today%27s_featured_article/July_2021\" title=\"Wikipedia:Today's featured article/July 2021\">Archive</a></b></li>\n",
       "<li><b><a class=\"extiw\" href=\"https://lists.wikimedia.org/mailman/listinfo/daily-article-l\" title=\"mail:daily-article-l\">By email</a></b></li>\n",
       "<li><b><a href=\"/wiki/Wikipedia:Featured_articles\" title=\"Wikipedia:Featured articles\">More featured articles</a></b></li></ul>\n",
       "</div></div>\n",
       "<h2 class=\"mp-h2\" id=\"mp-dyk-h2\"><span class=\"mw-headline\" id=\"Did_you_know_...\">Did you know ...</span></h2>\n",
       "<div id=\"mp-dyk\">\n",
       "<div class=\"dyk-img\" style=\"float: right; margin-left: 0.5em;\">\n",
       "<div class=\"thumbinner mp-thumb\" style=\"background: transparent; border: none; padding: 0; max-width: 121px;\">\n",
       "<a class=\"image\" href=\"/wiki/File:Tour_de_l%27%C3%89changeur_en_2018.jpg\" title=\"Limete Tower\"><img alt=\"Limete Tower\" data-file-height=\"3948\" data-file-width=\"2959\" decoding=\"async\" height=\"161\" src=\"//upload.wikimedia.org/wikipedia/commons/thumb/4/4b/Tour_de_l%27%C3%89changeur_en_2018.jpg/121px-Tour_de_l%27%C3%89changeur_en_2018.jpg\" srcset=\"//upload.wikimedia.org/wikipedia/commons/thumb/4/4b/Tour_de_l%27%C3%89changeur_en_2018.jpg/182px-Tour_de_l%27%C3%89changeur_en_2018.jpg 1.5x, //upload.wikimedia.org/wikipedia/commons/thumb/4/4b/Tour_de_l%27%C3%89changeur_en_2018.jpg/242px-Tour_de_l%27%C3%89changeur_en_2018.jpg 2x\" width=\"121\"/></a><div class=\"thumbcaption\" style=\"padding: 0.25em 0; word-wrap: break-word;\">Limete Tower</div></div>\n",
       "</div>\n",
       "<ul><li>... that the foundation stone for the <b><a href=\"/wiki/Limete_Tower\" title=\"Limete Tower\">Limete Tower</a></b> <i>(pictured)</i> in the Democratic Republic of the Congo was laid by <a href=\"/wiki/Julius_Nyerere\" title=\"Julius Nyerere\">Julius Nyerere</a>, then President of Tanzania?</li>\n",
       "<li>... that two <a href=\"/wiki/Hagiography\" title=\"Hagiography\">hagiographic</a> documents about St. <b><a href=\"/wiki/Hunegund_of_France\" title=\"Hunegund of France\">Hunegund of France</a></b> publicized Hunegund's miracles to create a sense of identity in <a href=\"/wiki/Hombli%C3%A8res\" title=\"Homblières\">Homblières</a> and to raise money for the monastery?</li>\n",
       "<li>... that <b><a href=\"/wiki/Monturaqui_crater\" title=\"Monturaqui crater\">Monturaqui crater</a></b> in Chile is threatened by human action?</li>\n",
       "<li>... that Turkish champion <b><a href=\"/wiki/Esra_Y%C4%B1ld%C4%B1z\" title=\"Esra Yıldız\">Esra Yıldız</a></b>, who was named the \"Most Hyped Boxer\", has been selected to represent <a href=\"/wiki/Turkey_at_the_2020_Summer_Olympics\" title=\"Turkey at the 2020 Summer Olympics\">Turkey at the 2020 Summer Olympics</a>?</li>\n",
       "<li>... that American website <b><a href=\"/wiki/ChickClick\" title=\"ChickClick\">ChickClick</a></b> was owned by the same company who owned <i><a href=\"/wiki/IGN\" title=\"IGN\">IGN</a></i>?</li>\n",
       "<li>... that the Dutch ordered <b><a href=\"/wiki/Roosseno_Soerjohadikoesoemo\" title=\"Roosseno Soerjohadikoesoemo\">Roosseno Soerjohadikoesoemo</a></b> to destroy bridges, but then the Japanese ordered him to build them back?</li>\n",
       "<li>... that the <b><a href=\"/wiki/WHO_Blue_Books\" title=\"WHO Blue Books\">WHO Blue Books</a></b> give expert consensus opinion on cancers?</li>\n",
       "<li>... that <b><a href=\"/wiki/Raychell\" title=\"Raychell\">Raychell</a></b><span class=\"nowrap\">'s</span> previous stage name Lay was meant to represent her belief that singing while lying down would heal listeners?</li></ul>\n",
       "<div class=\"dyk-footer hlist noprint\" style=\"margin-top: 0.5em; text-align: right;\">\n",
       "<ul><li><b><a href=\"/wiki/Wikipedia:Recent_additions\" title=\"Wikipedia:Recent additions\">Archive</a></b></li>\n",
       "<li><b><a href=\"/wiki/Help:Your_first_article\" title=\"Help:Your first article\">Start a new article</a></b></li>\n",
       "<li><b><a href=\"/wiki/Template_talk:Did_you_know\" title=\"Template talk:Did you know\">Nominate an article</a></b></li></ul>\n",
       "</div>\n",
       "</div>\n",
       "</td>\n",
       "<td class=\"mp-bordered mid-table\">\n",
       "</td>\n",
       "<td class=\"MainPageBG mp-bordered\" id=\"mp-right\">\n",
       "<h2 class=\"mp-h2\" id=\"mp-itn-h2\"><span class=\"mw-headline\" id=\"In_the_news\">In the news</span></h2>\n",
       "<div id=\"mp-itn\"><div class=\"itn-img\" role=\"figure\" style=\"float: right; margin-left: 0.5em; margin-top: 0.2em;\">\n",
       "<div class=\"thumbinner mp-thumb\" style=\"background: transparent; border: none; padding: 0; max-width: 187px;\">\n",
       "<a class=\"image\" href=\"/wiki/File:New_national_stadium_tokyo_1.jpg\" title=\"Japan National Stadium\"><img alt=\"Japan National Stadium\" data-file-height=\"2967\" data-file-width=\"5280\" decoding=\"async\" height=\"105\" src=\"//upload.wikimedia.org/wikipedia/commons/thumb/9/9d/New_national_stadium_tokyo_1.jpg/187px-New_national_stadium_tokyo_1.jpg\" srcset=\"//upload.wikimedia.org/wikipedia/commons/thumb/9/9d/New_national_stadium_tokyo_1.jpg/281px-New_national_stadium_tokyo_1.jpg 1.5x, //upload.wikimedia.org/wikipedia/commons/thumb/9/9d/New_national_stadium_tokyo_1.jpg/374px-New_national_stadium_tokyo_1.jpg 2x\" width=\"187\"/></a><div class=\"thumbcaption\" style=\"padding: 0.25em 0; word-wrap: break-word; text-align: left;\"><a href=\"/wiki/Japan_National_Stadium\" title=\"Japan National Stadium\">Japan National Stadium</a></div></div>\n",
       "</div>\n",
       "<ul><li>The <a href=\"/wiki/2020_Summer_Olympics\" title=\"2020 Summer Olympics\">2020 Summer Olympics</a> <b><a href=\"/wiki/2020_Summer_Olympics_opening_ceremony\" title=\"2020 Summer Olympics opening ceremony\">open</a></b> <i>(stadium pictured)</i> in <a href=\"/wiki/Tokyo\" title=\"Tokyo\">Tokyo</a>, Japan.</li>\n",
       "<li>The Australian city of <a href=\"/wiki/Brisbane\" title=\"Brisbane\">Brisbane</a> is announced as <b><a href=\"/wiki/Bids_for_the_2032_Summer_Olympics\" title=\"Bids for the 2032 Summer Olympics\">the host city</a></b> of the <a href=\"/wiki/2032_Summer_Olympics\" title=\"2032 Summer Olympics\">2032 Summer Olympics</a>.</li>\n",
       "<li>In <a href=\"/wiki/Sumo\" title=\"Sumo\">sumo</a>, <b><a href=\"/wiki/Terunofuji_Haruo\" title=\"Terunofuji Haruo\">Terunofuji Haruo</a></b> becomes the 73rd <a href=\"/wiki/Makuuchi#Yokozuna\" title=\"Makuuchi\"><i>yokozuna</i></a>.</li>\n",
       "<li><b><a href=\"/wiki/Liverpool_Maritime_Mercantile_City\" title=\"Liverpool Maritime Mercantile City\">Liverpool Maritime Mercantile City</a></b> in England is <a href=\"/wiki/Former_UNESCO_World_Heritage_Sites\" title=\"Former UNESCO World Heritage Sites\">stripped of its status</a> as a <a href=\"/wiki/UNESCO\" title=\"UNESCO\">UNESCO</a> <a href=\"/wiki/World_Heritage_Site\" title=\"World Heritage Site\">World Heritage Site</a> due to modern development in the area.</li>\n",
       "<li><b><a href=\"/wiki/2021_Henan_floods\" title=\"2021 Henan floods\">Floods and landslides</a></b> result in at least 69 deaths in <a href=\"/wiki/Henan\" title=\"Henan\">Henan</a>, China.</li></ul>\n",
       "<div class=\"itn-footer\" style=\"margin-top: 0.5em;\">\n",
       "<div><b><a href=\"/wiki/Portal:Current_events\" title=\"Portal:Current events\">Ongoing</a></b>: <div class=\"hlist hlist-separated inline\">\n",
       "<ul><li><a href=\"/wiki/COVID-19_pandemic\" title=\"COVID-19 pandemic\">COVID-19 pandemic</a></li></ul></div></div>\n",
       "<div><b><a href=\"/wiki/Deaths_in_2021\" title=\"Deaths in 2021\">Recent deaths</a></b>: <div class=\"hlist hlist-separated inline\">\n",
       "<ul><li><a href=\"/wiki/Peter_Trueman\" title=\"Peter Trueman\">Peter Trueman</a></li>\n",
       "<li><a href=\"/wiki/Peter_Rehberg\" title=\"Peter Rehberg\">Peter Rehberg</a></li>\n",
       "<li><a href=\"/wiki/Herbert_K%C3%B6fer\" title=\"Herbert Köfer\">Herbert Köfer</a></li>\n",
       "<li><span class=\"nowrap\"><a href=\"/wiki/R._Rajamahendran\" title=\"R. Rajamahendran\">R. Rajamahendran</a></span></li>\n",
       "<li><a href=\"/wiki/Steven_Weinberg\" title=\"Steven Weinberg\">Steven Weinberg</a></li>\n",
       "<li><a href=\"/wiki/Jackie_Mason\" title=\"Jackie Mason\">Jackie Mason</a></li></ul></div></div></div>\n",
       "<div class=\"itn-footer hlist hlist-separated noprint\" style=\"text-align: right;\">\n",
       "<ul><li><b><a href=\"/wiki/Wikipedia:In_the_news/Candidates\" title=\"Wikipedia:In the news/Candidates\">Nominate an article</a></b></li></ul></div></div>\n",
       "<h2 class=\"mp-h2\" id=\"mp-otd-h2\"><span class=\"mw-headline\" id=\"On_this_day\">On this day</span></h2>\n",
       "<div id=\"mp-otd\">\n",
       "<p><b><a href=\"/wiki/July_27\" title=\"July 27\">July 27</a></b>: <b><a href=\"/wiki/Jos%C3%A9_Celso_Barbosa\" title=\"José Celso Barbosa\">José Celso Barbosa Day</a></b> in <a href=\"/wiki/Puerto_Rico\" title=\"Puerto Rico\">Puerto Rico</a>\n",
       "</p>\n",
       "<div id=\"mp-otd-img\" style=\"float:right;margin-left:0.5em;\">\n",
       "<div class=\"thumbinner mp-thumb\" style=\"background: transparent; border: none; padding: 0; max-width: 116px;\">\n",
       "<a class=\"image\" href=\"/wiki/File:MadonnaVirginTour_cropped.jpg\" title=\"Madonna with members of her tour crew\"><img alt=\"Madonna with members of her tour crew\" data-file-height=\"356\" data-file-width=\"246\" decoding=\"async\" height=\"168\" src=\"//upload.wikimedia.org/wikipedia/commons/thumb/a/ad/MadonnaVirginTour_cropped.jpg/116px-MadonnaVirginTour_cropped.jpg\" srcset=\"//upload.wikimedia.org/wikipedia/commons/thumb/a/ad/MadonnaVirginTour_cropped.jpg/174px-MadonnaVirginTour_cropped.jpg 1.5x, //upload.wikimedia.org/wikipedia/commons/thumb/a/ad/MadonnaVirginTour_cropped.jpg/232px-MadonnaVirginTour_cropped.jpg 2x\" width=\"116\"/></a><div class=\"thumbcaption\" style=\"padding: 0.25em 0; word-wrap: break-word;\">Madonna with members of her tour crew</div></div>\n",
       "</div>\n",
       "<ul><li><a href=\"/wiki/678\" title=\"678\">678</a> – Unable to penetrate the city's defences, the <i><a href=\"/wiki/Sclaveni\" title=\"Sclaveni\">Sclaveni</a></i> were forced to give up <b><a href=\"/wiki/Siege_of_Thessalonica_(676%E2%80%93678)\" title=\"Siege of Thessalonica (676–678)\">their siege</a></b> of the Byzantine city of <a href=\"/wiki/Thessaloniki\" title=\"Thessaloniki\">Thessalonica</a>.</li>\n",
       "<li><a href=\"/wiki/1302\" title=\"1302\">1302</a> – <a href=\"/wiki/Byzantine%E2%80%93Ottoman_wars\" title=\"Byzantine–Ottoman wars\">Byzantine–Ottoman wars</a>: The <a href=\"/wiki/Ottoman_Empire\" title=\"Ottoman Empire\">Ottoman sultanate</a> gained its first major victory against the <a href=\"/wiki/Byzantine_Empire\" title=\"Byzantine Empire\">Byzantine Empire</a> at the <b><a href=\"/wiki/Battle_of_Bapheus\" title=\"Battle of Bapheus\">Battle of Bapheus</a></b> in <a href=\"/wiki/Bithynia\" title=\"Bithynia\">Bithynia</a>.</li>\n",
       "<li><a href=\"/wiki/1955\" title=\"1955\">1955</a> – The <a href=\"/wiki/Austrian_State_Treaty\" title=\"Austrian State Treaty\">Austrian State Treaty</a> came into effect, ending the <b><a href=\"/wiki/Allied-occupied_Austria\" title=\"Allied-occupied Austria\">Allied occupation of Austria</a></b>, although the country was not free of Allied troops until October.</li>\n",
       "<li><a href=\"/wiki/1983\" title=\"1983\">1983</a> – <a href=\"/wiki/Madonna\" title=\"Madonna\">Madonna</a> <i>(pictured)</i> released <b><a href=\"/wiki/Madonna_(Madonna_album)\" title=\"Madonna (Madonna album)\">her self-titled debut album</a></b>, which set the standard for the genre of <a href=\"/wiki/Dance-pop\" title=\"Dance-pop\">dance-pop</a> for decades.</li>\n",
       "<li><a href=\"/wiki/2007\" title=\"2007\">2007</a> – While covering a <a href=\"/wiki/Car_chase\" title=\"Car chase\">police pursuit</a> in <a href=\"/wiki/Phoenix,_Arizona\" title=\"Phoenix, Arizona\">Phoenix, Arizona</a>, two news helicopters <b><a href=\"/wiki/Phoenix_news_helicopter_collision\" title=\"Phoenix news helicopter collision\">collided in mid-air</a></b>, killing both crews.</li></ul>\n",
       "<div class=\"hlist hlist-separated\" style=\"margin-top: 0.5em;\"><ul><li><b><a href=\"/wiki/Jeanne_Baret\" title=\"Jeanne Baret\">Jeanne Baret</a></b>  (<abbr title=\"born\">b.</abbr> 1740)</li><li><b><a href=\"/wiki/Elizabeth_Plankinton\" title=\"Elizabeth Plankinton\">Elizabeth Plankinton</a></b>  (<abbr title=\"born\">b.</abbr> 1853)</li><li><b><a href=\"/wiki/Elizabeth_Rona\" title=\"Elizabeth Rona\">Elizabeth Rona</a></b>  (<abbr title=\"died\">d.</abbr> 1981)</li></ul></div>\n",
       "<div style=\"margin-top: 0.5em;\">\n",
       "More anniversaries: <div class=\"hlist hlist-separated inline nowraplinks\">\n",
       "<ul><li><a href=\"/wiki/July_26\" title=\"July 26\">July 26</a></li>\n",
       "<li><b><a href=\"/wiki/July_27\" title=\"July 27\">July 27</a></b></li>\n",
       "<li><a href=\"/wiki/July_28\" title=\"July 28\">July 28</a></li></ul>\n",
       "</div></div>\n",
       "<div class=\"otd-footer hlist hlist-separated noprint\" style=\"text-align: right;\">\n",
       "<ul><li><b><a href=\"/wiki/Wikipedia:Selected_anniversaries/July\" title=\"Wikipedia:Selected anniversaries/July\">Archive</a></b></li>\n",
       "<li><b><a class=\"extiw\" href=\"https://lists.wikimedia.org/mailman/listinfo/daily-article-l\" title=\"mail:daily-article-l\">By email</a></b></li>\n",
       "<li><b><a href=\"/wiki/List_of_days_of_the_year\" title=\"List of days of the year\">List of days of the year</a></b></li></ul>\n",
       "</div></div>\n",
       "</td></tr></tbody></table>\n",
       "<div class=\"MainPageBG mp-bordered\" id=\"mp-lower\">\n",
       "<div id=\"mp-bottom\">\n",
       "<h2 class=\"mp-h2\" id=\"mp-tfp-h2\"><span id=\"Today.27s_featured_picture\"></span><span class=\"mw-headline\" id=\"Today's_featured_picture\">Today's featured picture</span></h2>\n",
       "<div id=\"mp-tfp\">\n",
       "<table role=\"presentation\" style=\"margin:0 3px 3px; width:100%; box-sizing:border-box; text-align:left; background-color:transparent; border-collapse:collapse;\">\n",
       "<tbody><tr>\n",
       "<td style=\"padding:0 0.9em 0 0; width:350px;\"><a class=\"image\" href=\"/wiki/File:Nelly_Diener_cropped.jpg\" title=\"1934 Swissair Tuttlingen accident\"><img alt=\"1934 Swissair Tuttlingen accident\" data-file-height=\"3573\" data-file-width=\"4841\" decoding=\"async\" height=\"258\" src=\"//upload.wikimedia.org/wikipedia/commons/thumb/5/56/Nelly_Diener_cropped.jpg/350px-Nelly_Diener_cropped.jpg\" srcset=\"//upload.wikimedia.org/wikipedia/commons/thumb/5/56/Nelly_Diener_cropped.jpg/525px-Nelly_Diener_cropped.jpg 1.5x, //upload.wikimedia.org/wikipedia/commons/thumb/5/56/Nelly_Diener_cropped.jpg/700px-Nelly_Diener_cropped.jpg 2x\" width=\"350\"/></a>\n",
       "</td>\n",
       "<td style=\"padding:0 6px 0 0\">\n",
       "<p>The <b><a href=\"/wiki/1934_Swissair_Tuttlingen_accident\" title=\"1934 Swissair Tuttlingen accident\">1934 Swissair Tuttlingen accident</a></b> occurred on 27 July 1934 when a <a href=\"/wiki/Curtiss_T-32_Condor_II\" title=\"Curtiss T-32 Condor II\">Curtiss <span class=\"nowrap\">T-32</span> Condor II</a> aircraft operated by <a href=\"/wiki/Swissair\" title=\"Swissair\">Swissair</a> crashed near <a href=\"/wiki/Tuttlingen\" title=\"Tuttlingen\">Tuttlingen</a>, Germany, while flying through a thunderstorm, killing all twelve people on board. This 1934 photograph shows <a href=\"/wiki/Nelly_Diener\" title=\"Nelly Diener\">Nelly Diener</a>, the first air stewardess in Europe, standing in front of the aircraft in which she would lose her life that same year.\n",
       "</p>\n",
       "<p style=\"text-align:left;\"><small>Photograph credit: <a href=\"/wiki/Swissair\" title=\"Swissair\">Swissair</a>; retouched by <a href=\"/wiki/User:Pawe%C5%82MM\" title=\"User:PawełMM\">PawełMM</a> and <a href=\"/wiki/User:Brandmeister\" title=\"User:Brandmeister\">Brandmeister</a></small></p>\n",
       "<div class=\"potd-recent\" style=\"text-align:right;\">\n",
       "Recently featured: <div class=\"hlist hlist-separated inline\">\n",
       "<ul><li><a href=\"/wiki/Template:POTD/2021-07-26\" title=\"Template:POTD/2021-07-26\">Japanese government-issued dollar in Malaya and Borneo</a></li>\n",
       "<li><a href=\"/wiki/Template:POTD/2021-07-25\" title=\"Template:POTD/2021-07-25\">Castle of St John the Baptist</a></li>\n",
       "<li><a href=\"/wiki/Template:POTD/2021-07-24\" title=\"Template:POTD/2021-07-24\">John Adams Dix</a></li></ul>\n",
       "</div></div>\n",
       "<div class=\"potd-footer hlist hlist-separated noprint\" style=\"text-align:right;\">\n",
       "<ul><li><b><a href=\"/wiki/Wikipedia:Picture_of_the_day/Archive\" title=\"Wikipedia:Picture of the day/Archive\">Archive</a></b></li>\n",
       "<li><b><a href=\"/wiki/Wikipedia:Featured_pictures\" title=\"Wikipedia:Featured pictures\">More featured pictures</a></b></li></ul>\n",
       "</div>\n",
       "</td></tr></tbody></table></div>\n",
       "</div>\n",
       "</div>\n",
       "<div class=\"mp-bordered\" id=\"mp-other-lower\">\n",
       "<h2 class=\"mp-h2\" id=\"mp-other\"><span class=\"mw-headline\" id=\"Other_areas_of_Wikipedia\">Other areas of Wikipedia</span></h2>\n",
       "<div id=\"mp-other-content\">\n",
       "<ul><li><b><a href=\"/wiki/Wikipedia:Community_portal\" title=\"Wikipedia:Community portal\">Community portal</a></b> – Bulletin board, projects, resources and activities covering a wide range of Wikipedia areas.</li>\n",
       "<li><b><a href=\"/wiki/Wikipedia:Help_desk\" title=\"Wikipedia:Help desk\">Help desk</a></b> – Ask questions about using Wikipedia.</li>\n",
       "<li><b><a href=\"/wiki/Wikipedia:Reference_desk\" title=\"Wikipedia:Reference desk\">Reference desk</a></b> – Serving as virtual librarians, Wikipedia volunteers tackle your questions on a wide range of subjects.</li>\n",
       "<li><b><a href=\"/wiki/Wikipedia:News\" title=\"Wikipedia:News\">Site news</a></b> – Announcements, updates, articles and press releases on Wikipedia and the Wikimedia Foundation.</li>\n",
       "<li><b><a href=\"/wiki/Wikipedia:Village_pump\" title=\"Wikipedia:Village pump\">Village pump</a></b> – For discussions about Wikipedia itself, including areas for technical issues and policies.</li></ul>\n",
       "</div>\n",
       "<h2 class=\"mp-h2\" id=\"mp-sister\"><span id=\"Wikipedia.27s_sister_projects\"></span><span class=\"mw-headline\" id=\"Wikipedia's_sister_projects\">Wikipedia's sister projects</span></h2>\n",
       "<div id=\"mp-sister-content\"><style data-mw-deduplicate=\"TemplateStyles:r1007624485\">.mw-parser-output #sister-projects-list{display:flex;flex-wrap:wrap}.mw-parser-output #sister-projects-list li{display:inline-block}.mw-parser-output #sister-projects-list li span{font-weight:bold}.mw-parser-output #sister-projects-list li>div{display:inline-block;vertical-align:middle;padding:6px 4px}.mw-parser-output #sister-projects-list li>div:first-child{text-align:center}@media(min-width:360px){.mw-parser-output #sister-projects-list li{width:33%;min-width:20em;white-space:nowrap;flex:1 0 25%}.mw-parser-output #sister-projects-list li>div:first-child{min-width:50px}}</style>\n",
       "<p>Wikipedia is hosted by the <a href=\"/wiki/Wikimedia_Foundation\" title=\"Wikimedia Foundation\">Wikimedia Foundation</a>, a non-profit organization that also hosts a range of other <a class=\"extiw\" href=\"https://wikimediafoundation.org/our-work/wikimedia-projects/\" title=\"foundationsite:our-work/wikimedia-projects/\">projects</a>:\n",
       "</p>\n",
       "<div class=\"plainlist\">\n",
       "<ul id=\"sister-projects-list\">\n",
       "<li>\n",
       "<div><a href=\"https://commons.wikimedia.org/wiki/\" title=\"Commons\"><img alt=\"Commons logo\" data-file-height=\"1376\" data-file-width=\"1024\" decoding=\"async\" height=\"42\" src=\"//upload.wikimedia.org/wikipedia/en/thumb/4/4a/Commons-logo.svg/31px-Commons-logo.svg.png\" srcset=\"//upload.wikimedia.org/wikipedia/en/thumb/4/4a/Commons-logo.svg/47px-Commons-logo.svg.png 1.5x, //upload.wikimedia.org/wikipedia/en/thumb/4/4a/Commons-logo.svg/62px-Commons-logo.svg.png 2x\" width=\"31\"/></a></div>\n",
       "<div><span><a class=\"extiw\" href=\"https://commons.wikimedia.org/wiki/\" title=\"c:\">Commons</a></span><br/>Free media repository</div>\n",
       "</li>\n",
       "<li>\n",
       "<div><a href=\"https://www.mediawiki.org/wiki/\" title=\"MediaWiki\"><img alt=\"MediaWiki logo\" data-file-height=\"100\" data-file-width=\"100\" decoding=\"async\" height=\"35\" src=\"//upload.wikimedia.org/wikipedia/commons/thumb/a/a6/MediaWiki-2020-icon.svg/35px-MediaWiki-2020-icon.svg.png\" srcset=\"//upload.wikimedia.org/wikipedia/commons/thumb/a/a6/MediaWiki-2020-icon.svg/53px-MediaWiki-2020-icon.svg.png 1.5x, //upload.wikimedia.org/wikipedia/commons/thumb/a/a6/MediaWiki-2020-icon.svg/70px-MediaWiki-2020-icon.svg.png 2x\" width=\"35\"/></a></div>\n",
       "<div><span><a class=\"extiw\" href=\"https://www.mediawiki.org/wiki/\" title=\"mw:\">MediaWiki</a></span><br/>Wiki software development</div>\n",
       "</li>\n",
       "<li>\n",
       "<div><a href=\"https://meta.wikimedia.org/wiki/\" title=\"Meta-Wiki\"><img alt=\"Meta-Wiki logo\" data-file-height=\"900\" data-file-width=\"900\" decoding=\"async\" height=\"35\" src=\"//upload.wikimedia.org/wikipedia/commons/thumb/7/75/Wikimedia_Community_Logo.svg/35px-Wikimedia_Community_Logo.svg.png\" srcset=\"//upload.wikimedia.org/wikipedia/commons/thumb/7/75/Wikimedia_Community_Logo.svg/53px-Wikimedia_Community_Logo.svg.png 1.5x, //upload.wikimedia.org/wikipedia/commons/thumb/7/75/Wikimedia_Community_Logo.svg/70px-Wikimedia_Community_Logo.svg.png 2x\" width=\"35\"/></a></div>\n",
       "<div><span><a class=\"extiw\" href=\"https://meta.wikimedia.org/wiki/\" title=\"m:\">Meta-Wiki</a></span><br/>Wikimedia project coordination</div>\n",
       "</li>\n",
       "<li>\n",
       "<div><a href=\"https://en.wikibooks.org/wiki/\" title=\"Wikibooks\"><img alt=\"Wikibooks logo\" data-file-height=\"300\" data-file-width=\"300\" decoding=\"async\" height=\"35\" src=\"//upload.wikimedia.org/wikipedia/commons/thumb/f/fa/Wikibooks-logo.svg/35px-Wikibooks-logo.svg.png\" srcset=\"//upload.wikimedia.org/wikipedia/commons/thumb/f/fa/Wikibooks-logo.svg/53px-Wikibooks-logo.svg.png 1.5x, //upload.wikimedia.org/wikipedia/commons/thumb/f/fa/Wikibooks-logo.svg/70px-Wikibooks-logo.svg.png 2x\" width=\"35\"/></a></div>\n",
       "<div><span><a class=\"extiw\" href=\"https://en.wikibooks.org/wiki/\" title=\"b:\">Wikibooks</a></span><br/>Free textbooks and manuals</div>\n",
       "</li>\n",
       "<li>\n",
       "<div><a href=\"https://www.wikidata.org/wiki/\" title=\"Wikidata\"><img alt=\"Wikidata logo\" data-file-height=\"590\" data-file-width=\"1050\" decoding=\"async\" height=\"26\" src=\"//upload.wikimedia.org/wikipedia/commons/thumb/f/ff/Wikidata-logo.svg/47px-Wikidata-logo.svg.png\" srcset=\"//upload.wikimedia.org/wikipedia/commons/thumb/f/ff/Wikidata-logo.svg/71px-Wikidata-logo.svg.png 1.5x, //upload.wikimedia.org/wikipedia/commons/thumb/f/ff/Wikidata-logo.svg/94px-Wikidata-logo.svg.png 2x\" width=\"47\"/></a></div>\n",
       "<div><span><a class=\"extiw\" href=\"https://www.wikidata.org/wiki/\" title=\"d:\">Wikidata</a></span><br/>Free knowledge base</div>\n",
       "</li>\n",
       "<li>\n",
       "<div><a href=\"https://en.wikinews.org/wiki/\" title=\"Wikinews\"><img alt=\"Wikinews logo\" data-file-height=\"415\" data-file-width=\"759\" decoding=\"async\" height=\"28\" src=\"//upload.wikimedia.org/wikipedia/commons/thumb/2/24/Wikinews-logo.svg/51px-Wikinews-logo.svg.png\" srcset=\"//upload.wikimedia.org/wikipedia/commons/thumb/2/24/Wikinews-logo.svg/77px-Wikinews-logo.svg.png 1.5x, //upload.wikimedia.org/wikipedia/commons/thumb/2/24/Wikinews-logo.svg/102px-Wikinews-logo.svg.png 2x\" width=\"51\"/></a></div>\n",
       "<div><span><a class=\"extiw\" href=\"https://en.wikinews.org/wiki/\" title=\"n:\">Wikinews</a></span><br/>Free-content news</div>\n",
       "</li>\n",
       "<li>\n",
       "<div><a href=\"https://en.wikiquote.org/wiki/\" title=\"Wikiquote\"><img alt=\"Wikiquote logo\" data-file-height=\"355\" data-file-width=\"300\" decoding=\"async\" height=\"41\" src=\"//upload.wikimedia.org/wikipedia/commons/thumb/f/fa/Wikiquote-logo.svg/35px-Wikiquote-logo.svg.png\" srcset=\"//upload.wikimedia.org/wikipedia/commons/thumb/f/fa/Wikiquote-logo.svg/53px-Wikiquote-logo.svg.png 1.5x, //upload.wikimedia.org/wikipedia/commons/thumb/f/fa/Wikiquote-logo.svg/70px-Wikiquote-logo.svg.png 2x\" width=\"35\"/></a></div>\n",
       "<div><span><a class=\"extiw\" href=\"https://en.wikiquote.org/wiki/\" title=\"q:\">Wikiquote</a></span><br/>Collection of quotations</div>\n",
       "</li>\n",
       "<li>\n",
       "<div><a href=\"https://en.wikisource.org/wiki/\" title=\"Wikisource\"><img alt=\"Wikisource logo\" data-file-height=\"430\" data-file-width=\"410\" decoding=\"async\" height=\"37\" src=\"//upload.wikimedia.org/wikipedia/commons/thumb/4/4c/Wikisource-logo.svg/35px-Wikisource-logo.svg.png\" srcset=\"//upload.wikimedia.org/wikipedia/commons/thumb/4/4c/Wikisource-logo.svg/53px-Wikisource-logo.svg.png 1.5x, //upload.wikimedia.org/wikipedia/commons/thumb/4/4c/Wikisource-logo.svg/70px-Wikisource-logo.svg.png 2x\" width=\"35\"/></a></div>\n",
       "<div><span><a class=\"extiw\" href=\"https://en.wikisource.org/wiki/\" title=\"s:\">Wikisource</a></span><br/>Free-content library</div>\n",
       "</li>\n",
       "<li>\n",
       "<div><a href=\"https://species.wikimedia.org/wiki/\" title=\"Wikispecies\"><img alt=\"Wikispecies logo\" data-file-height=\"1103\" data-file-width=\"941\" decoding=\"async\" height=\"41\" src=\"//upload.wikimedia.org/wikipedia/commons/thumb/d/df/Wikispecies-logo.svg/35px-Wikispecies-logo.svg.png\" srcset=\"//upload.wikimedia.org/wikipedia/commons/thumb/d/df/Wikispecies-logo.svg/53px-Wikispecies-logo.svg.png 1.5x, //upload.wikimedia.org/wikipedia/commons/thumb/d/df/Wikispecies-logo.svg/70px-Wikispecies-logo.svg.png 2x\" width=\"35\"/></a></div>\n",
       "<div><span><a class=\"extiw\" href=\"https://species.wikimedia.org/wiki/\" title=\"species:\">Wikispecies</a></span><br/>Directory of species</div>\n",
       "</li>\n",
       "<li>\n",
       "<div><a href=\"https://en.wikiversity.org/wiki/\" title=\"Wikiversity\"><img alt=\"Wikiversity logo\" data-file-height=\"512\" data-file-width=\"626\" decoding=\"async\" height=\"34\" src=\"//upload.wikimedia.org/wikipedia/commons/thumb/0/0b/Wikiversity_logo_2017.svg/41px-Wikiversity_logo_2017.svg.png\" srcset=\"//upload.wikimedia.org/wikipedia/commons/thumb/0/0b/Wikiversity_logo_2017.svg/62px-Wikiversity_logo_2017.svg.png 1.5x, //upload.wikimedia.org/wikipedia/commons/thumb/0/0b/Wikiversity_logo_2017.svg/82px-Wikiversity_logo_2017.svg.png 2x\" width=\"41\"/></a></div>\n",
       "<div><span><a class=\"extiw\" href=\"https://en.wikiversity.org/wiki/\" title=\"v:\">Wikiversity</a></span><br/>Free learning tools</div>\n",
       "</li>\n",
       "<li>\n",
       "<div><a href=\"https://en.wikivoyage.org/wiki/\" title=\"Wikivoyage\"><img alt=\"Wikivoyage logo\" data-file-height=\"193\" data-file-width=\"193\" decoding=\"async\" height=\"35\" src=\"//upload.wikimedia.org/wikipedia/commons/thumb/d/dd/Wikivoyage-Logo-v3-icon.svg/35px-Wikivoyage-Logo-v3-icon.svg.png\" srcset=\"//upload.wikimedia.org/wikipedia/commons/thumb/d/dd/Wikivoyage-Logo-v3-icon.svg/53px-Wikivoyage-Logo-v3-icon.svg.png 1.5x, //upload.wikimedia.org/wikipedia/commons/thumb/d/dd/Wikivoyage-Logo-v3-icon.svg/70px-Wikivoyage-Logo-v3-icon.svg.png 2x\" width=\"35\"/></a></div>\n",
       "<div><span><a class=\"extiw\" href=\"https://en.wikivoyage.org/wiki/\" title=\"voy:\">Wikivoyage</a></span><br/>Free travel guide</div>\n",
       "</li>\n",
       "<li>\n",
       "<div><a href=\"https://en.wiktionary.org/wiki/\" title=\"Wiktionary\"><img alt=\"Wiktionary logo\" data-file-height=\"391\" data-file-width=\"391\" decoding=\"async\" height=\"35\" src=\"//upload.wikimedia.org/wikipedia/en/thumb/0/06/Wiktionary-logo-v2.svg/35px-Wiktionary-logo-v2.svg.png\" srcset=\"//upload.wikimedia.org/wikipedia/en/thumb/0/06/Wiktionary-logo-v2.svg/53px-Wiktionary-logo-v2.svg.png 1.5x, //upload.wikimedia.org/wikipedia/en/thumb/0/06/Wiktionary-logo-v2.svg/70px-Wiktionary-logo-v2.svg.png 2x\" width=\"35\"/></a></div>\n",
       "<div><span><a class=\"extiw\" href=\"https://en.wiktionary.org/wiki/\" title=\"wikt:\">Wiktionary</a></span><br/>Dictionary and thesaurus</div>\n",
       "</li>\n",
       "</ul>\n",
       "</div></div>\n",
       "<h2 class=\"mp-h2\" id=\"mp-lang\"><span class=\"mw-headline\" id=\"Wikipedia_languages\">Wikipedia languages</span></h2>\n",
       "<div><style data-mw-deduplicate=\"TemplateStyles:r997272951\">.mw-parser-output .wikipedia-languages-complete{font-weight:bold}.mw-parser-output .wikipedia-languages ul{margin-left:0}.mw-parser-output .wikipedia-languages ul a{white-space:nowrap}.mw-parser-output .wikipedia-languages>ul{list-style:none;text-align:center;clear:both}.mw-parser-output .wikipedia-languages-count-container{width:90%;display:flex;justify-content:center;padding-top:1em;margin:0 auto}.mw-parser-output .wikipedia-languages-prettybars{width:100%;height:1px;margin:0.5em 0;background-color:#c8ccd1;flex-shrink:1;align-self:center}.mw-parser-output .wikipedia-languages-count{padding:0 1em;white-space:nowrap}</style>\n",
       "<div class=\"wikipedia-languages nourlexpansion\">\n",
       "<p>This Wikipedia is written in <a href=\"/wiki/English_language\" title=\"English language\">English</a>. Many <a class=\"extiw\" href=\"https://meta.wikimedia.org/wiki/List_of_Wikipedias\" title=\"meta:List of Wikipedias\">other Wikipedias are available</a>; some of the largest are listed below.\n",
       "</p>\n",
       "<ul class=\"plainlinks\">\n",
       "<li>\n",
       "<div class=\"wikipedia-languages-count-container\">\n",
       "<div class=\"wikipedia-languages-prettybars\"></div>\n",
       "<div class=\"wikipedia-languages-count\" role=\"heading\">1,000,000+ articles</div>\n",
       "<div class=\"wikipedia-languages-prettybars\"></div>\n",
       "</div>\n",
       "<ul class=\"wikipedia-languages-langs hlist hlist-separated inline\">\n",
       "<li><a class=\"external text\" href=\"https://ar.wikipedia.org/wiki/\"><span class=\"autonym\" lang=\"ar\" title=\"Arabic (ar:)\">العربية</span></a></li>\n",
       "<li><a class=\"external text\" href=\"https://de.wikipedia.org/wiki/\"><span class=\"autonym\" lang=\"de\" title=\"German (de:)\">Deutsch</span></a></li>\n",
       "<li><a class=\"external text\" href=\"https://es.wikipedia.org/wiki/\"><span class=\"autonym\" lang=\"es\" title=\"Spanish (es:)\">Español</span></a></li>\n",
       "<li><a class=\"external text\" href=\"https://fr.wikipedia.org/wiki/\"><span class=\"autonym\" lang=\"fr\" title=\"French (fr:)\">Français</span></a></li>\n",
       "<li><a class=\"external text\" href=\"https://it.wikipedia.org/wiki/\"><span class=\"autonym\" lang=\"it\" title=\"Italian (it:)\">Italiano</span></a></li>\n",
       "<li><a class=\"external text\" href=\"https://nl.wikipedia.org/wiki/\"><span class=\"autonym\" lang=\"nl\" title=\"Dutch (nl:)\">Nederlands</span></a></li>\n",
       "<li><a class=\"external text\" href=\"https://ja.wikipedia.org/wiki/\"><span class=\"autonym\" lang=\"ja\" title=\"Japanese (ja:)\">日本語</span></a></li>\n",
       "<li><a class=\"external text\" href=\"https://pl.wikipedia.org/wiki/\"><span class=\"autonym\" lang=\"pl\" title=\"Polish (pl:)\">Polski</span></a></li>\n",
       "<li><a class=\"external text\" href=\"https://pt.wikipedia.org/wiki/\"><span class=\"autonym\" lang=\"pt\" title=\"Portuguese (pt:)\">Português</span></a></li>\n",
       "<li><a class=\"external text\" href=\"https://ru.wikipedia.org/wiki/\"><span class=\"autonym\" lang=\"ru\" title=\"Russian (ru:)\">Русский</span></a></li>\n",
       "<li><a class=\"external text\" href=\"https://sv.wikipedia.org/wiki/\"><span class=\"autonym\" lang=\"sv\" title=\"Swedish (sv:)\">Svenska</span></a></li>\n",
       "<li><a class=\"external text\" href=\"https://uk.wikipedia.org/wiki/\"><span class=\"autonym\" lang=\"uk\" title=\"Ukrainian (uk:)\">Українська</span></a></li>\n",
       "<li><a class=\"external text\" href=\"https://vi.wikipedia.org/wiki/\"><span class=\"autonym\" lang=\"vi\" title=\"Vietnamese (vi:)\">Tiếng Việt</span></a></li>\n",
       "<li><a class=\"external text\" href=\"https://zh.wikipedia.org/wiki/\"><span class=\"autonym\" lang=\"zh\" title=\"Chinese (zh:)\">中文</span></a></li>\n",
       "</ul>\n",
       "</li>\n",
       "<li>\n",
       "<div class=\"wikipedia-languages-count-container\">\n",
       "<div class=\"wikipedia-languages-prettybars\"></div>\n",
       "<div class=\"wikipedia-languages-count\" role=\"heading\">250,000+ articles</div>\n",
       "<div class=\"wikipedia-languages-prettybars\"></div>\n",
       "</div>\n",
       "<ul class=\"wikipedia-languages-langs hlist hlist-separated inline\">\n",
       "<li><a class=\"external text\" href=\"https://id.wikipedia.org/wiki/\"><span class=\"autonym\" lang=\"id\" title=\"Indonesian (id:)\">Bahasa Indonesia</span></a></li>\n",
       "<li><a class=\"external text\" href=\"https://ms.wikipedia.org/wiki/\"><span class=\"autonym\" lang=\"ms\" title=\"Malay (ms:)\">Bahasa Melayu</span></a></li>\n",
       "<li><a class=\"external text\" href=\"https://zh-min-nan.wikipedia.org/wiki/\"><span class=\"autonym\" lang=\"nan\" title=\"Min Nan Chinese (nan:)\">Bân-lâm-gú</span></a></li>\n",
       "<li><a class=\"external text\" href=\"https://bg.wikipedia.org/wiki/\"><span class=\"autonym\" lang=\"bg\" title=\"Bulgarian (bg:)\">Български</span></a></li>\n",
       "<li><a class=\"external text\" href=\"https://ca.wikipedia.org/wiki/\"><span class=\"autonym\" lang=\"ca\" title=\"Catalan (ca:)\">Català</span></a></li>\n",
       "<li><a class=\"external text\" href=\"https://cs.wikipedia.org/wiki/\"><span class=\"autonym\" lang=\"cs\" title=\"Czech (cs:)\">Čeština</span></a></li>\n",
       "<li><a class=\"external text\" href=\"https://da.wikipedia.org/wiki/\"><span class=\"autonym\" lang=\"da\" title=\"Danish (da:)\">Dansk</span></a></li>\n",
       "<li><a class=\"external text\" href=\"https://eo.wikipedia.org/wiki/\"><span class=\"autonym\" lang=\"eo\" title=\"Esperanto (eo:)\">Esperanto</span></a></li>\n",
       "<li><a class=\"external text\" href=\"https://eu.wikipedia.org/wiki/\"><span class=\"autonym\" lang=\"eu\" title=\"Basque (eu:)\">Euskara</span></a></li>\n",
       "<li><a class=\"external text\" href=\"https://fa.wikipedia.org/wiki/\"><span class=\"autonym\" lang=\"fa\" title=\"Persian (fa:)\">فارسی</span></a>‎</li>\n",
       "<li><a class=\"external text\" href=\"https://he.wikipedia.org/wiki/\"><span class=\"autonym\" lang=\"he\" title=\"Hebrew (he:)\">עברית</span></a></li>\n",
       "<li><a class=\"external text\" href=\"https://ko.wikipedia.org/wiki/\"><span class=\"autonym\" lang=\"ko\" title=\"Korean (ko:)\">한국어</span></a></li>\n",
       "<li><a class=\"external text\" href=\"https://hu.wikipedia.org/wiki/\"><span class=\"autonym\" lang=\"hu\" title=\"Hungarian (hu:)\">Magyar</span></a></li>\n",
       "<li><a class=\"external text\" href=\"https://no.wikipedia.org/wiki/\"><span class=\"autonym\" lang=\"no\" title=\"Norwegian (no:)\">Norsk Bokmål</span></a></li>\n",
       "<li><a class=\"external text\" href=\"https://ro.wikipedia.org/wiki/\"><span class=\"autonym\" lang=\"ro\" title=\"Romanian (ro:)\">Română</span></a></li>\n",
       "<li><a class=\"external text\" href=\"https://sr.wikipedia.org/wiki/\"><span class=\"autonym\" lang=\"sr\" title=\"Serbian (sr:)\">Srpski</span></a></li>\n",
       "<li><a class=\"external text\" href=\"https://sh.wikipedia.org/wiki/\"><span class=\"autonym\" lang=\"sh\" title=\"Serbo-Croatian (sh:)\">Srpskohrvatski</span></a></li>\n",
       "<li><a class=\"external text\" href=\"https://fi.wikipedia.org/wiki/\"><span class=\"autonym\" lang=\"fi\" title=\"Finnish (fi:)\">Suomi</span></a></li>\n",
       "<li><a class=\"external text\" href=\"https://tr.wikipedia.org/wiki/\"><span class=\"autonym\" lang=\"tr\" title=\"Turkish (tr:)\">Türkçe</span></a></li>\n",
       "</ul>\n",
       "</li>\n",
       "<li>\n",
       "<div class=\"wikipedia-languages-count-container\">\n",
       "<div class=\"wikipedia-languages-prettybars\"></div>\n",
       "<div class=\"wikipedia-languages-count\" role=\"heading\">50,000+ articles</div>\n",
       "<div class=\"wikipedia-languages-prettybars\"></div>\n",
       "</div>\n",
       "<ul class=\"wikipedia-languages-langs hlist hlist-separated inline\">\n",
       "<li><a class=\"external text\" href=\"https://ast.wikipedia.org/wiki/\"><span class=\"autonym\" lang=\"ast\" title=\"Asturian (ast:)\">Asturianu</span></a></li>\n",
       "<li><a class=\"external text\" href=\"https://bs.wikipedia.org/wiki/\"><span class=\"autonym\" lang=\"bs\" title=\"Bosnian (bs:)\">Bosanski</span></a></li>\n",
       "<li><a class=\"external text\" href=\"https://et.wikipedia.org/wiki/\"><span class=\"autonym\" lang=\"et\" title=\"Estonian (et:)\">Eesti</span></a></li>\n",
       "<li><a class=\"external text\" href=\"https://el.wikipedia.org/wiki/\"><span class=\"autonym\" lang=\"el\" title=\"Greek (el:)\">Ελληνικά</span></a></li>\n",
       "<li><a class=\"external text\" href=\"https://simple.wikipedia.org/wiki/\"><span class=\"autonym\" lang=\"simple\" title=\"Simple English (simple:)\">Simple English</span></a></li>\n",
       "<li><a class=\"external text\" href=\"https://gl.wikipedia.org/wiki/\"><span class=\"autonym\" lang=\"gl\" title=\"Galician (gl:)\">Galego</span></a></li>\n",
       "<li><a class=\"external text\" href=\"https://hr.wikipedia.org/wiki/\"><span class=\"autonym\" lang=\"hr\" title=\"Croatian (hr:)\">Hrvatski</span></a></li>\n",
       "<li><a class=\"external text\" href=\"https://lv.wikipedia.org/wiki/\"><span class=\"autonym\" lang=\"lv\" title=\"Latvian (lv:)\">Latviešu</span></a></li>\n",
       "<li><a class=\"external text\" href=\"https://lt.wikipedia.org/wiki/\"><span class=\"autonym\" lang=\"lt\" title=\"Lithuanian (lt:)\">Lietuvių</span></a></li>\n",
       "<li><a class=\"external text\" href=\"https://ml.wikipedia.org/wiki/\"><span class=\"autonym\" lang=\"ml\" title=\"Malayalam (ml:)\">മലയാളം</span></a></li>\n",
       "<li><a class=\"external text\" href=\"https://mk.wikipedia.org/wiki/\"><span class=\"autonym\" lang=\"mk\" title=\"Macedonian (mk:)\">Македонски</span></a></li>\n",
       "<li><a class=\"external text\" href=\"https://nn.wikipedia.org/wiki/\"><span class=\"autonym\" lang=\"nn\" title=\"Norwegian Nynorsk (nn:)\">Norsk nynorsk</span></a></li>\n",
       "<li><a class=\"external text\" href=\"https://sk.wikipedia.org/wiki/\"><span class=\"autonym\" lang=\"sk\" title=\"Slovak (sk:)\">Slovenčina</span></a></li>\n",
       "<li><a class=\"external text\" href=\"https://sl.wikipedia.org/wiki/\"><span class=\"autonym\" lang=\"sl\" title=\"Slovenian (sl:)\">Slovenščina</span></a></li>\n",
       "<li><a class=\"external text\" href=\"https://th.wikipedia.org/wiki/\"><span class=\"autonym\" lang=\"th\" title=\"Thai (th:)\">ไทย</span></a></li>\n",
       "</ul>\n",
       "</li>\n",
       "</ul>\n",
       "</div></div>\n",
       "</div>\n",
       "<!-- \n",
       "NewPP limit report\n",
       "Parsed by mw2277\n",
       "Cached time: 20210727091821\n",
       "Cache expiry: 3600\n",
       "Reduced expiry: true\n",
       "Complications: []\n",
       "CPU time usage: 0.467 seconds\n",
       "Real time usage: 0.661 seconds\n",
       "Preprocessor visited node count: 3836/1000000\n",
       "Post‐expand include size: 110602/2097152 bytes\n",
       "Template argument size: 5635/2097152 bytes\n",
       "Highest expansion depth: 21/40\n",
       "Expensive parser function count: 12/500\n",
       "Unstrip recursion depth: 0/20\n",
       "Unstrip post‐expand size: 5370/5000000 bytes\n",
       "Lua time usage: 0.101/10.000 seconds\n",
       "Lua memory usage: 2254594/52428800 bytes\n",
       "Number of Wikibase entities loaded: 0/400\n",
       "-->\n",
       "<!--\n",
       "Transclusion expansion time report (%,ms,calls,template)\n",
       "100.00%  485.122      1 -total\n",
       " 35.68%  173.100      8 Template:Main_page_image\n",
       " 28.58%  138.632      1 Wikipedia:Main_Page/Tomorrow\n",
       " 21.83%  105.903      8 Template:Str_number/trim\n",
       " 19.33%   93.796      2 Template:In_the_news\n",
       " 17.85%   86.579     24 Template:If_empty\n",
       " 16.88%   81.885      2 Template:Main_page_image/ITN\n",
       " 15.40%   74.697      2 Template:Main_page_image/TFA\n",
       " 14.06%   68.220      1 Wikipedia:Selected_anniversaries/July_27\n",
       " 14.05%   68.157      1 Wikipedia:Today's_featured_article/July_27,_2021\n",
       "-->\n",
       "<!-- Saved in parser cache with key enwiki:pcache:idhash:15580374-0!canonical and timestamp 20210727091820 and revision id 1004593520. Serialized with JSON.\n",
       " -->\n",
       "</div><noscript><img alt=\"\" height=\"1\" src=\"//en.wikipedia.org/wiki/Special:CentralAutoLogin/start?type=1x1\" style=\"border: none; position: absolute;\" title=\"\" width=\"1\"/></noscript>\n",
       "<div class=\"printfooter\">Retrieved from \"<a dir=\"ltr\" href=\"https://en.wikipedia.org/w/index.php?title=Main_Page&amp;oldid=1004593520\">https://en.wikipedia.org/w/index.php?title=Main_Page&amp;oldid=1004593520</a>\"</div></div>\n",
       "<div class=\"catlinks catlinks-allhidden\" data-mw=\"interface\" id=\"catlinks\"></div>\n",
       "</div>\n",
       "</div>\n",
       "<div id=\"mw-data-after-content\">\n",
       "<div class=\"read-more-container\"></div>\n",
       "</div>\n",
       "<div id=\"mw-navigation\">\n",
       "<h2>Navigation menu</h2>\n",
       "<div id=\"mw-head\">\n",
       "<nav aria-labelledby=\"p-personal-label\" class=\"mw-portlet mw-portlet-personal vector-user-menu-legacy vector-menu\" id=\"p-personal\" role=\"navigation\">\n",
       "<h3 class=\"vector-menu-heading\" id=\"p-personal-label\">\n",
       "<span>Personal tools</span>\n",
       "</h3>\n",
       "<div class=\"vector-menu-content\">\n",
       "<ul class=\"vector-menu-content-list\"><li id=\"pt-anonuserpage\">Not logged in</li><li id=\"pt-anontalk\"><a accesskey=\"n\" href=\"/wiki/Special:MyTalk\" title=\"Discussion about edits from this IP address [n]\">Talk</a></li><li id=\"pt-anoncontribs\"><a accesskey=\"y\" href=\"/wiki/Special:MyContributions\" title=\"A list of edits made from this IP address [y]\">Contributions</a></li><li id=\"pt-createaccount\"><a href=\"/w/index.php?title=Special:CreateAccount&amp;returnto=Main+Page\" title=\"You are encouraged to create an account and log in; however, it is not mandatory\">Create account</a></li><li id=\"pt-login\"><a accesskey=\"o\" href=\"/w/index.php?title=Special:UserLogin&amp;returnto=Main+Page\" title=\"You're encouraged to log in; however, it's not mandatory. [o]\">Log in</a></li></ul>\n",
       "</div>\n",
       "</nav>\n",
       "<div id=\"left-navigation\">\n",
       "<nav aria-labelledby=\"p-namespaces-label\" class=\"mw-portlet mw-portlet-namespaces vector-menu vector-menu-tabs\" id=\"p-namespaces\" role=\"navigation\">\n",
       "<h3 class=\"vector-menu-heading\" id=\"p-namespaces-label\">\n",
       "<span>Namespaces</span>\n",
       "</h3>\n",
       "<div class=\"vector-menu-content\">\n",
       "<ul class=\"vector-menu-content-list\"><li class=\"selected\" id=\"ca-nstab-main\"><a accesskey=\"c\" href=\"/wiki/Main_Page\" title=\"View the content page [c]\">Main Page</a></li><li id=\"ca-talk\"><a accesskey=\"t\" href=\"/wiki/Talk:Main_Page\" rel=\"discussion\" title=\"Discuss improvements to the content page [t]\">Talk</a></li></ul>\n",
       "</div>\n",
       "</nav>\n",
       "<nav aria-labelledby=\"p-variants-label\" class=\"mw-portlet mw-portlet-variants emptyPortlet vector-menu vector-menu-dropdown\" id=\"p-variants\" role=\"navigation\">\n",
       "<input aria-labelledby=\"p-variants-label\" class=\"vector-menu-checkbox\" data-event-name=\"ui.dropdown-p-variants\" type=\"checkbox\"/>\n",
       "<h3 class=\"vector-menu-heading\" id=\"p-variants-label\">\n",
       "<span>Variants</span>\n",
       "</h3>\n",
       "<div class=\"vector-menu-content\">\n",
       "<ul class=\"vector-menu-content-list\"></ul>\n",
       "</div>\n",
       "</nav>\n",
       "</div>\n",
       "<div id=\"right-navigation\">\n",
       "<nav aria-labelledby=\"p-views-label\" class=\"mw-portlet mw-portlet-views vector-menu vector-menu-tabs\" id=\"p-views\" role=\"navigation\">\n",
       "<h3 class=\"vector-menu-heading\" id=\"p-views-label\">\n",
       "<span>Views</span>\n",
       "</h3>\n",
       "<div class=\"vector-menu-content\">\n",
       "<ul class=\"vector-menu-content-list\"><li class=\"selected\" id=\"ca-view\"><a href=\"/wiki/Main_Page\">Read</a></li><li id=\"ca-viewsource\"><a accesskey=\"e\" href=\"/w/index.php?title=Main_Page&amp;action=edit\" title=\"This page is protected.\n",
       "You can view its source [e]\">View source</a></li><li id=\"ca-history\"><a accesskey=\"h\" href=\"/w/index.php?title=Main_Page&amp;action=history\" title=\"Past revisions of this page [h]\">View history</a></li></ul>\n",
       "</div>\n",
       "</nav>\n",
       "<nav aria-labelledby=\"p-cactions-label\" class=\"mw-portlet mw-portlet-cactions emptyPortlet vector-menu vector-menu-dropdown\" id=\"p-cactions\" role=\"navigation\">\n",
       "<input aria-labelledby=\"p-cactions-label\" class=\"vector-menu-checkbox\" data-event-name=\"ui.dropdown-p-cactions\" type=\"checkbox\"/>\n",
       "<h3 class=\"vector-menu-heading\" id=\"p-cactions-label\">\n",
       "<span>More</span>\n",
       "</h3>\n",
       "<div class=\"vector-menu-content\">\n",
       "<ul class=\"vector-menu-content-list\"></ul>\n",
       "</div>\n",
       "</nav>\n",
       "<div class=\"vector-search-box\" id=\"p-search\" role=\"search\">\n",
       "<div>\n",
       "<h3>\n",
       "<label for=\"searchInput\">Search</label>\n",
       "</h3>\n",
       "<form action=\"/w/index.php\" id=\"searchform\">\n",
       "<div data-search-loc=\"header-navigation\" id=\"simpleSearch\">\n",
       "<input accesskey=\"f\" autocapitalize=\"sentences\" id=\"searchInput\" name=\"search\" placeholder=\"Search Wikipedia\" title=\"Search Wikipedia [f]\" type=\"search\"/>\n",
       "<input name=\"title\" type=\"hidden\" value=\"Special:Search\"/>\n",
       "<input class=\"searchButton mw-fallbackSearchButton\" id=\"mw-searchButton\" name=\"fulltext\" title=\"Search Wikipedia for this text\" type=\"submit\" value=\"Search\"/>\n",
       "<input class=\"searchButton\" id=\"searchButton\" name=\"go\" title=\"Go to a page with this exact name if it exists\" type=\"submit\" value=\"Go\"/>\n",
       "</div>\n",
       "</form>\n",
       "</div>\n",
       "</div>\n",
       "</div>\n",
       "</div>\n",
       "<div id=\"mw-panel\">\n",
       "<div id=\"p-logo\" role=\"banner\">\n",
       "<a class=\"mw-wiki-logo\" href=\"/wiki/Main_Page\" title=\"Visit the main page\"></a>\n",
       "</div>\n",
       "<nav aria-labelledby=\"p-navigation-label\" class=\"mw-portlet mw-portlet-navigation vector-menu vector-menu-portal portal\" id=\"p-navigation\" role=\"navigation\">\n",
       "<h3 class=\"vector-menu-heading\" id=\"p-navigation-label\">\n",
       "<span>Navigation</span>\n",
       "</h3>\n",
       "<div class=\"vector-menu-content\">\n",
       "<ul class=\"vector-menu-content-list\"><li id=\"n-mainpage-description\"><a accesskey=\"z\" href=\"/wiki/Main_Page\" title=\"Visit the main page [z]\">Main page</a></li><li id=\"n-contents\"><a href=\"/wiki/Wikipedia:Contents\" title=\"Guides to browsing Wikipedia\">Contents</a></li><li id=\"n-currentevents\"><a href=\"/wiki/Portal:Current_events\" title=\"Articles related to current events\">Current events</a></li><li id=\"n-randompage\"><a accesskey=\"x\" href=\"/wiki/Special:Random\" title=\"Visit a randomly selected article [x]\">Random article</a></li><li id=\"n-aboutsite\"><a href=\"/wiki/Wikipedia:About\" title=\"Learn about Wikipedia and how it works\">About Wikipedia</a></li><li id=\"n-contactpage\"><a href=\"//en.wikipedia.org/wiki/Wikipedia:Contact_us\" title=\"How to contact Wikipedia\">Contact us</a></li><li id=\"n-sitesupport\"><a href=\"https://donate.wikimedia.org/wiki/Special:FundraiserRedirector?utm_source=donate&amp;utm_medium=sidebar&amp;utm_campaign=C13_en.wikipedia.org&amp;uselang=en\" title=\"Support us by donating to the Wikimedia Foundation\">Donate</a></li></ul>\n",
       "</div>\n",
       "</nav>\n",
       "<nav aria-labelledby=\"p-interaction-label\" class=\"mw-portlet mw-portlet-interaction vector-menu vector-menu-portal portal\" id=\"p-interaction\" role=\"navigation\">\n",
       "<h3 class=\"vector-menu-heading\" id=\"p-interaction-label\">\n",
       "<span>Contribute</span>\n",
       "</h3>\n",
       "<div class=\"vector-menu-content\">\n",
       "<ul class=\"vector-menu-content-list\"><li id=\"n-help\"><a href=\"/wiki/Help:Contents\" title=\"Guidance on how to use and edit Wikipedia\">Help</a></li><li id=\"n-introduction\"><a href=\"/wiki/Help:Introduction\" title=\"Learn how to edit Wikipedia\">Learn to edit</a></li><li id=\"n-portal\"><a href=\"/wiki/Wikipedia:Community_portal\" title=\"The hub for editors\">Community portal</a></li><li id=\"n-recentchanges\"><a accesskey=\"r\" href=\"/wiki/Special:RecentChanges\" title=\"A list of recent changes to Wikipedia [r]\">Recent changes</a></li><li id=\"n-upload\"><a href=\"/wiki/Wikipedia:File_Upload_Wizard\" title=\"Add images or other media for use on Wikipedia\">Upload file</a></li></ul>\n",
       "</div>\n",
       "</nav>\n",
       "<nav aria-labelledby=\"p-tb-label\" class=\"mw-portlet mw-portlet-tb vector-menu vector-menu-portal portal\" id=\"p-tb\" role=\"navigation\">\n",
       "<h3 class=\"vector-menu-heading\" id=\"p-tb-label\">\n",
       "<span>Tools</span>\n",
       "</h3>\n",
       "<div class=\"vector-menu-content\">\n",
       "<ul class=\"vector-menu-content-list\"><li id=\"t-whatlinkshere\"><a accesskey=\"j\" href=\"/wiki/Special:WhatLinksHere/Main_Page\" title=\"List of all English Wikipedia pages containing links to this page [j]\">What links here</a></li><li id=\"t-recentchangeslinked\"><a accesskey=\"k\" href=\"/wiki/Special:RecentChangesLinked/Main_Page\" rel=\"nofollow\" title=\"Recent changes in pages linked from this page [k]\">Related changes</a></li><li id=\"t-upload\"><a accesskey=\"u\" href=\"/wiki/Wikipedia:File_Upload_Wizard\" title=\"Upload files [u]\">Upload file</a></li><li id=\"t-specialpages\"><a accesskey=\"q\" href=\"/wiki/Special:SpecialPages\" title=\"A list of all special pages [q]\">Special pages</a></li><li id=\"t-permalink\"><a href=\"/w/index.php?title=Main_Page&amp;oldid=1004593520\" title=\"Permanent link to this revision of this page\">Permanent link</a></li><li id=\"t-info\"><a href=\"/w/index.php?title=Main_Page&amp;action=info\" title=\"More information about this page\">Page information</a></li><li id=\"t-cite\"><a href=\"/w/index.php?title=Special:CiteThisPage&amp;page=Main_Page&amp;id=1004593520&amp;wpFormIdentifier=titleform\" title=\"Information on how to cite this page\">Cite this page</a></li><li id=\"t-wikibase\"><a accesskey=\"g\" href=\"https://www.wikidata.org/wiki/Special:EntityPage/Q5296\" title=\"Structured data on this page hosted by Wikidata [g]\">Wikidata item</a></li></ul>\n",
       "</div>\n",
       "</nav>\n",
       "<nav aria-labelledby=\"p-coll-print_export-label\" class=\"mw-portlet mw-portlet-coll-print_export vector-menu vector-menu-portal portal\" id=\"p-coll-print_export\" role=\"navigation\">\n",
       "<h3 class=\"vector-menu-heading\" id=\"p-coll-print_export-label\">\n",
       "<span>Print/export</span>\n",
       "</h3>\n",
       "<div class=\"vector-menu-content\">\n",
       "<ul class=\"vector-menu-content-list\"><li id=\"coll-download-as-rl\"><a href=\"/w/index.php?title=Special:DownloadAsPdf&amp;page=Main_Page&amp;action=show-download-screen\" title=\"Download this page as a PDF file\">Download as PDF</a></li><li id=\"t-print\"><a accesskey=\"p\" href=\"/w/index.php?title=Main_Page&amp;printable=yes\" title=\"Printable version of this page [p]\">Printable version</a></li></ul>\n",
       "</div>\n",
       "</nav>\n",
       "<nav aria-labelledby=\"p-wikibase-otherprojects-label\" class=\"mw-portlet mw-portlet-wikibase-otherprojects vector-menu vector-menu-portal portal\" id=\"p-wikibase-otherprojects\" role=\"navigation\">\n",
       "<h3 class=\"vector-menu-heading\" id=\"p-wikibase-otherprojects-label\">\n",
       "<span>In other projects</span>\n",
       "</h3>\n",
       "<div class=\"vector-menu-content\">\n",
       "<ul class=\"vector-menu-content-list\"><li class=\"wb-otherproject-link wb-otherproject-commons\"><a href=\"https://commons.wikimedia.org/wiki/Main_Page\" hreflang=\"en\">Wikimedia Commons</a></li><li class=\"wb-otherproject-link wb-otherproject-mediawiki\"><a href=\"https://www.mediawiki.org/wiki/MediaWiki\" hreflang=\"en\">MediaWiki</a></li><li class=\"wb-otherproject-link wb-otherproject-meta\"><a href=\"https://meta.wikimedia.org/wiki/Main_Page\" hreflang=\"en\">Meta-Wiki</a></li><li class=\"wb-otherproject-link wb-otherproject-sources\"><a href=\"https://wikisource.org/wiki/Main_Page\" hreflang=\"en\">Multilingual Wikisource</a></li><li class=\"wb-otherproject-link wb-otherproject-species\"><a href=\"https://species.wikimedia.org/wiki/Main_Page\" hreflang=\"en\">Wikispecies</a></li><li class=\"wb-otherproject-link wb-otherproject-wikibooks\"><a href=\"https://en.wikibooks.org/wiki/Main_Page\" hreflang=\"en\">Wikibooks</a></li><li class=\"wb-otherproject-link wb-otherproject-wikidata\"><a href=\"https://www.wikidata.org/wiki/Wikidata:Main_Page\" hreflang=\"en\">Wikidata</a></li><li class=\"wb-otherproject-link wb-otherproject-wikimania\"><a href=\"https://wikimania.wikimedia.org/wiki/Wikimania\" hreflang=\"en\">Wikimania</a></li><li class=\"wb-otherproject-link wb-otherproject-wikinews\"><a href=\"https://en.wikinews.org/wiki/Main_Page\" hreflang=\"en\">Wikinews</a></li><li class=\"wb-otherproject-link wb-otherproject-wikiquote\"><a href=\"https://en.wikiquote.org/wiki/Main_Page\" hreflang=\"en\">Wikiquote</a></li><li class=\"wb-otherproject-link wb-otherproject-wikisource\"><a href=\"https://en.wikisource.org/wiki/Main_Page\" hreflang=\"en\">Wikisource</a></li><li class=\"wb-otherproject-link wb-otherproject-wikiversity\"><a href=\"https://en.wikiversity.org/wiki/Wikiversity:Main_Page\" hreflang=\"en\">Wikiversity</a></li><li class=\"wb-otherproject-link wb-otherproject-wikivoyage\"><a href=\"https://en.wikivoyage.org/wiki/Main_Page\" hreflang=\"en\">Wikivoyage</a></li><li class=\"wb-otherproject-link wb-otherproject-wiktionary\"><a href=\"https://en.wiktionary.org/wiki/Wiktionary:Main_Page\" hreflang=\"en\">Wiktionary</a></li></ul>\n",
       "</div>\n",
       "</nav>\n",
       "<nav aria-labelledby=\"p-lang-label\" class=\"mw-portlet mw-portlet-lang vector-menu vector-menu-portal portal\" id=\"p-lang\" role=\"navigation\">\n",
       "<h3 class=\"vector-menu-heading\" id=\"p-lang-label\">\n",
       "<span>Languages</span>\n",
       "</h3>\n",
       "<div class=\"vector-menu-content\">\n",
       "<ul class=\"vector-menu-content-list\"><li class=\"interlanguage-link interwiki-ar\"><a class=\"interlanguage-link-target\" href=\"https://ar.wikipedia.org/wiki/\" hreflang=\"ar\" lang=\"ar\" title=\"Arabic\">العربية</a></li><li class=\"interlanguage-link interwiki-bn\"><a class=\"interlanguage-link-target\" href=\"https://bn.wikipedia.org/wiki/\" hreflang=\"bn\" lang=\"bn\" title=\"Bangla\">বাংলা</a></li><li class=\"interlanguage-link interwiki-bg\"><a class=\"interlanguage-link-target\" href=\"https://bg.wikipedia.org/wiki/\" hreflang=\"bg\" lang=\"bg\" title=\"Bulgarian\">Български</a></li><li class=\"interlanguage-link interwiki-bs\"><a class=\"interlanguage-link-target\" href=\"https://bs.wikipedia.org/wiki/\" hreflang=\"bs\" lang=\"bs\" title=\"Bosnian\">Bosanski</a></li><li class=\"interlanguage-link interwiki-ca\"><a class=\"interlanguage-link-target\" href=\"https://ca.wikipedia.org/wiki/\" hreflang=\"ca\" lang=\"ca\" title=\"Catalan\">Català</a></li><li class=\"interlanguage-link interwiki-cs\"><a class=\"interlanguage-link-target\" href=\"https://cs.wikipedia.org/wiki/\" hreflang=\"cs\" lang=\"cs\" title=\"Czech\">Čeština</a></li><li class=\"interlanguage-link interwiki-da\"><a class=\"interlanguage-link-target\" href=\"https://da.wikipedia.org/wiki/\" hreflang=\"da\" lang=\"da\" title=\"Danish\">Dansk</a></li><li class=\"interlanguage-link interwiki-de\"><a class=\"interlanguage-link-target\" href=\"https://de.wikipedia.org/wiki/\" hreflang=\"de\" lang=\"de\" title=\"German\">Deutsch</a></li><li class=\"interlanguage-link interwiki-et\"><a class=\"interlanguage-link-target\" href=\"https://et.wikipedia.org/wiki/\" hreflang=\"et\" lang=\"et\" title=\"Estonian\">Eesti</a></li><li class=\"interlanguage-link interwiki-el\"><a class=\"interlanguage-link-target\" href=\"https://el.wikipedia.org/wiki/\" hreflang=\"el\" lang=\"el\" title=\"Greek\">Ελληνικά</a></li><li class=\"interlanguage-link interwiki-es\"><a class=\"interlanguage-link-target\" href=\"https://es.wikipedia.org/wiki/\" hreflang=\"es\" lang=\"es\" title=\"Spanish\">Español</a></li><li class=\"interlanguage-link interwiki-eo\"><a class=\"interlanguage-link-target\" href=\"https://eo.wikipedia.org/wiki/\" hreflang=\"eo\" lang=\"eo\" title=\"Esperanto\">Esperanto</a></li><li class=\"interlanguage-link interwiki-eu\"><a class=\"interlanguage-link-target\" href=\"https://eu.wikipedia.org/wiki/\" hreflang=\"eu\" lang=\"eu\" title=\"Basque\">Euskara</a></li><li class=\"interlanguage-link interwiki-fa\"><a class=\"interlanguage-link-target\" href=\"https://fa.wikipedia.org/wiki/\" hreflang=\"fa\" lang=\"fa\" title=\"Persian\">فارسی</a></li><li class=\"interlanguage-link interwiki-fr\"><a class=\"interlanguage-link-target\" href=\"https://fr.wikipedia.org/wiki/\" hreflang=\"fr\" lang=\"fr\" title=\"French\">Français</a></li><li class=\"interlanguage-link interwiki-gl\"><a class=\"interlanguage-link-target\" href=\"https://gl.wikipedia.org/wiki/\" hreflang=\"gl\" lang=\"gl\" title=\"Galician\">Galego</a></li><li class=\"interlanguage-link interwiki-ko\"><a class=\"interlanguage-link-target\" href=\"https://ko.wikipedia.org/wiki/\" hreflang=\"ko\" lang=\"ko\" title=\"Korean\">한국어</a></li><li class=\"interlanguage-link interwiki-hr\"><a class=\"interlanguage-link-target\" href=\"https://hr.wikipedia.org/wiki/\" hreflang=\"hr\" lang=\"hr\" title=\"Croatian\">Hrvatski</a></li><li class=\"interlanguage-link interwiki-id\"><a class=\"interlanguage-link-target\" href=\"https://id.wikipedia.org/wiki/\" hreflang=\"id\" lang=\"id\" title=\"Indonesian\">Bahasa Indonesia</a></li><li class=\"interlanguage-link interwiki-it\"><a class=\"interlanguage-link-target\" href=\"https://it.wikipedia.org/wiki/\" hreflang=\"it\" lang=\"it\" title=\"Italian\">Italiano</a></li><li class=\"interlanguage-link interwiki-he\"><a class=\"interlanguage-link-target\" href=\"https://he.wikipedia.org/wiki/\" hreflang=\"he\" lang=\"he\" title=\"Hebrew\">עברית</a></li><li class=\"interlanguage-link interwiki-ka\"><a class=\"interlanguage-link-target\" href=\"https://ka.wikipedia.org/wiki/\" hreflang=\"ka\" lang=\"ka\" title=\"Georgian\">ქართული</a></li><li class=\"interlanguage-link interwiki-lv\"><a class=\"interlanguage-link-target\" href=\"https://lv.wikipedia.org/wiki/\" hreflang=\"lv\" lang=\"lv\" title=\"Latvian\">Latviešu</a></li><li class=\"interlanguage-link interwiki-lt\"><a class=\"interlanguage-link-target\" href=\"https://lt.wikipedia.org/wiki/\" hreflang=\"lt\" lang=\"lt\" title=\"Lithuanian\">Lietuvių</a></li><li class=\"interlanguage-link interwiki-hu\"><a class=\"interlanguage-link-target\" href=\"https://hu.wikipedia.org/wiki/\" hreflang=\"hu\" lang=\"hu\" title=\"Hungarian\">Magyar</a></li><li class=\"interlanguage-link interwiki-mk\"><a class=\"interlanguage-link-target\" href=\"https://mk.wikipedia.org/wiki/\" hreflang=\"mk\" lang=\"mk\" title=\"Macedonian\">Македонски</a></li><li class=\"interlanguage-link interwiki-ms\"><a class=\"interlanguage-link-target\" href=\"https://ms.wikipedia.org/wiki/\" hreflang=\"ms\" lang=\"ms\" title=\"Malay\">Bahasa Melayu</a></li><li class=\"interlanguage-link interwiki-nl\"><a class=\"interlanguage-link-target\" href=\"https://nl.wikipedia.org/wiki/\" hreflang=\"nl\" lang=\"nl\" title=\"Dutch\">Nederlands</a></li><li class=\"interlanguage-link interwiki-ja\"><a class=\"interlanguage-link-target\" href=\"https://ja.wikipedia.org/wiki/\" hreflang=\"ja\" lang=\"ja\" title=\"Japanese\">日本語</a></li><li class=\"interlanguage-link interwiki-no\"><a class=\"interlanguage-link-target\" href=\"https://no.wikipedia.org/wiki/\" hreflang=\"nb\" lang=\"nb\" title=\"Norwegian Bokmål\">Norsk bokmål</a></li><li class=\"interlanguage-link interwiki-nn\"><a class=\"interlanguage-link-target\" href=\"https://nn.wikipedia.org/wiki/\" hreflang=\"nn\" lang=\"nn\" title=\"Norwegian Nynorsk\">Norsk nynorsk</a></li><li class=\"interlanguage-link interwiki-pl\"><a class=\"interlanguage-link-target\" href=\"https://pl.wikipedia.org/wiki/\" hreflang=\"pl\" lang=\"pl\" title=\"Polish\">Polski</a></li><li class=\"interlanguage-link interwiki-pt\"><a class=\"interlanguage-link-target\" href=\"https://pt.wikipedia.org/wiki/\" hreflang=\"pt\" lang=\"pt\" title=\"Portuguese\">Português</a></li><li class=\"interlanguage-link interwiki-ro\"><a class=\"interlanguage-link-target\" href=\"https://ro.wikipedia.org/wiki/\" hreflang=\"ro\" lang=\"ro\" title=\"Romanian\">Română</a></li><li class=\"interlanguage-link interwiki-ru\"><a class=\"interlanguage-link-target\" href=\"https://ru.wikipedia.org/wiki/\" hreflang=\"ru\" lang=\"ru\" title=\"Russian\">Русский</a></li><li class=\"interlanguage-link interwiki-simple\"><a class=\"interlanguage-link-target\" href=\"https://simple.wikipedia.org/wiki/\" hreflang=\"en-simple\" lang=\"en-simple\" title=\"Simple English\">Simple English</a></li><li class=\"interlanguage-link interwiki-sk\"><a class=\"interlanguage-link-target\" href=\"https://sk.wikipedia.org/wiki/\" hreflang=\"sk\" lang=\"sk\" title=\"Slovak\">Slovenčina</a></li><li class=\"interlanguage-link interwiki-sl\"><a class=\"interlanguage-link-target\" href=\"https://sl.wikipedia.org/wiki/\" hreflang=\"sl\" lang=\"sl\" title=\"Slovenian\">Slovenščina</a></li><li class=\"interlanguage-link interwiki-sr\"><a class=\"interlanguage-link-target\" href=\"https://sr.wikipedia.org/wiki/\" hreflang=\"sr\" lang=\"sr\" title=\"Serbian\">Српски / srpski</a></li><li class=\"interlanguage-link interwiki-sh\"><a class=\"interlanguage-link-target\" href=\"https://sh.wikipedia.org/wiki/\" hreflang=\"sh\" lang=\"sh\" title=\"Serbo-Croatian\">Srpskohrvatski / српскохрватски</a></li><li class=\"interlanguage-link interwiki-fi\"><a class=\"interlanguage-link-target\" href=\"https://fi.wikipedia.org/wiki/\" hreflang=\"fi\" lang=\"fi\" title=\"Finnish\">Suomi</a></li><li class=\"interlanguage-link interwiki-sv\"><a class=\"interlanguage-link-target\" href=\"https://sv.wikipedia.org/wiki/\" hreflang=\"sv\" lang=\"sv\" title=\"Swedish\">Svenska</a></li><li class=\"interlanguage-link interwiki-th\"><a class=\"interlanguage-link-target\" href=\"https://th.wikipedia.org/wiki/\" hreflang=\"th\" lang=\"th\" title=\"Thai\">ไทย</a></li><li class=\"interlanguage-link interwiki-tr\"><a class=\"interlanguage-link-target\" href=\"https://tr.wikipedia.org/wiki/\" hreflang=\"tr\" lang=\"tr\" title=\"Turkish\">Türkçe</a></li><li class=\"interlanguage-link interwiki-uk\"><a class=\"interlanguage-link-target\" href=\"https://uk.wikipedia.org/wiki/\" hreflang=\"uk\" lang=\"uk\" title=\"Ukrainian\">Українська</a></li><li class=\"interlanguage-link interwiki-vi\"><a class=\"interlanguage-link-target\" href=\"https://vi.wikipedia.org/wiki/\" hreflang=\"vi\" lang=\"vi\" title=\"Vietnamese\">Tiếng Việt</a></li><li class=\"interlanguage-link interwiki-zh\"><a class=\"interlanguage-link-target\" href=\"https://zh.wikipedia.org/wiki/\" hreflang=\"zh\" lang=\"zh\" title=\"Chinese\">中文</a></li></ul>\n",
       "</div>\n",
       "</nav>\n",
       "</div>\n",
       "</div>\n",
       "<footer class=\"mw-footer\" id=\"footer\" role=\"contentinfo\">\n",
       "<ul id=\"footer-info\">\n",
       "<li id=\"footer-info-lastmod\"> This page was last edited on 3 February 2021, at 11:11<span class=\"anonymous-show\"> (UTC)</span>.</li>\n",
       "<li id=\"footer-info-copyright\">Text is available under the <a href=\"//en.wikipedia.org/wiki/Wikipedia:Text_of_Creative_Commons_Attribution-ShareAlike_3.0_Unported_License\" rel=\"license\">Creative Commons Attribution-ShareAlike License</a><a href=\"//creativecommons.org/licenses/by-sa/3.0/\" rel=\"license\" style=\"display:none;\"></a>;\n",
       "additional terms may apply.  By using this site, you agree to the <a href=\"//foundation.wikimedia.org/wiki/Terms_of_Use\">Terms of Use</a> and <a href=\"//foundation.wikimedia.org/wiki/Privacy_policy\">Privacy Policy</a>. Wikipedia® is a registered trademark of the <a href=\"//www.wikimediafoundation.org/\">Wikimedia Foundation, Inc.</a>, a non-profit organization.</li>\n",
       "</ul>\n",
       "<ul id=\"footer-places\">\n",
       "<li id=\"footer-places-privacy\"><a class=\"extiw\" href=\"https://foundation.wikimedia.org/wiki/Privacy_policy\" title=\"wmf:Privacy policy\">Privacy policy</a></li>\n",
       "<li id=\"footer-places-about\"><a href=\"/wiki/Wikipedia:About\" title=\"Wikipedia:About\">About Wikipedia</a></li>\n",
       "<li id=\"footer-places-disclaimer\"><a href=\"/wiki/Wikipedia:General_disclaimer\" title=\"Wikipedia:General disclaimer\">Disclaimers</a></li>\n",
       "<li id=\"footer-places-contact\"><a href=\"//en.wikipedia.org/wiki/Wikipedia:Contact_us\">Contact Wikipedia</a></li>\n",
       "<li id=\"footer-places-mobileview\"><a class=\"noprint stopMobileRedirectToggle\" href=\"//en.m.wikipedia.org/w/index.php?title=Main_Page&amp;mobileaction=toggle_view_mobile\">Mobile view</a></li>\n",
       "<li id=\"footer-places-developers\"><a href=\"https://www.mediawiki.org/wiki/Special:MyLanguage/How_to_contribute\">Developers</a></li>\n",
       "<li id=\"footer-places-statslink\"><a href=\"https://stats.wikimedia.org/#/en.wikipedia.org\">Statistics</a></li>\n",
       "<li id=\"footer-places-cookiestatement\"><a href=\"https://foundation.wikimedia.org/wiki/Cookie_statement\">Cookie statement</a></li>\n",
       "</ul>\n",
       "<ul class=\"noprint\" id=\"footer-icons\">\n",
       "<li id=\"footer-copyrightico\"><a href=\"https://wikimediafoundation.org/\"><img alt=\"Wikimedia Foundation\" height=\"31\" loading=\"lazy\" src=\"/static/images/footer/wikimedia-button.png\" srcset=\"/static/images/footer/wikimedia-button-1.5x.png 1.5x, /static/images/footer/wikimedia-button-2x.png 2x\" width=\"88\"/></a></li>\n",
       "<li id=\"footer-poweredbyico\"><a href=\"https://www.mediawiki.org/\"><img alt=\"Powered by MediaWiki\" height=\"31\" loading=\"lazy\" src=\"/static/images/footer/poweredby_mediawiki_88x31.png\" srcset=\"/static/images/footer/poweredby_mediawiki_132x47.png 1.5x, /static/images/footer/poweredby_mediawiki_176x62.png 2x\" width=\"88\"/></a></li>\n",
       "</ul>\n",
       "</footer>\n",
       "<script>(RLQ=window.RLQ||[]).push(function(){mw.config.set({\"wgPageParseReport\":{\"limitreport\":{\"cputime\":\"0.467\",\"walltime\":\"0.661\",\"ppvisitednodes\":{\"value\":3836,\"limit\":1000000},\"postexpandincludesize\":{\"value\":110602,\"limit\":2097152},\"templateargumentsize\":{\"value\":5635,\"limit\":2097152},\"expansiondepth\":{\"value\":21,\"limit\":40},\"expensivefunctioncount\":{\"value\":12,\"limit\":500},\"unstrip-depth\":{\"value\":0,\"limit\":20},\"unstrip-size\":{\"value\":5370,\"limit\":5000000},\"entityaccesscount\":{\"value\":0,\"limit\":400},\"timingprofile\":[\"100.00%  485.122      1 -total\",\" 35.68%  173.100      8 Template:Main_page_image\",\" 28.58%  138.632      1 Wikipedia:Main_Page/Tomorrow\",\" 21.83%  105.903      8 Template:Str_number/trim\",\" 19.33%   93.796      2 Template:In_the_news\",\" 17.85%   86.579     24 Template:If_empty\",\" 16.88%   81.885      2 Template:Main_page_image/ITN\",\" 15.40%   74.697      2 Template:Main_page_image/TFA\",\" 14.06%   68.220      1 Wikipedia:Selected_anniversaries/July_27\",\" 14.05%   68.157      1 Wikipedia:Today's_featured_article/July_27,_2021\"]},\"scribunto\":{\"limitreport-timeusage\":{\"value\":\"0.101\",\"limit\":\"10.000\"},\"limitreport-memusage\":{\"value\":2254594,\"limit\":52428800}},\"cachereport\":{\"origin\":\"mw2277\",\"timestamp\":\"20210727091821\",\"ttl\":3600,\"transientcontent\":true}}});});</script>\n",
       "<script type=\"application/ld+json\">{\"@context\":\"https:\\/\\/schema.org\",\"@type\":\"Article\",\"name\":\"Main Page\",\"url\":\"https:\\/\\/en.wikipedia.org\\/wiki\\/Main_Page\",\"sameAs\":\"http:\\/\\/www.wikidata.org\\/entity\\/Q5296\",\"mainEntity\":\"http:\\/\\/www.wikidata.org\\/entity\\/Q5296\",\"author\":{\"@type\":\"Organization\",\"name\":\"Contributors to Wikimedia projects\"},\"publisher\":{\"@type\":\"Organization\",\"name\":\"Wikimedia Foundation, Inc.\",\"logo\":{\"@type\":\"ImageObject\",\"url\":\"https:\\/\\/www.wikimedia.org\\/static\\/images\\/wmf-hor-googpub.png\"}},\"datePublished\":\"2002-01-26T15:28:12Z\",\"dateModified\":\"2021-02-03T11:11:30Z\",\"image\":\"https:\\/\\/upload.wikimedia.org\\/wikipedia\\/commons\\/4\\/4b\\/Tour_de_l%27%C3%89changeur_en_2018.jpg\",\"headline\":\"Wikimedia project page\"}</script>\n",
       "<script>(RLQ=window.RLQ||[]).push(function(){mw.config.set({\"wgBackendResponseTime\":134,\"wgHostname\":\"mw2329\"});});</script>\n",
       "</body></html>"
      ]
     },
     "execution_count": 5,
     "metadata": {},
     "output_type": "execute_result"
    }
   ],
   "source": [
    "soup=BeautifulSoup(page.content)\n",
    "soup"
   ]
  },
  {
   "cell_type": "code",
   "execution_count": 7,
   "id": "c28e60ed",
   "metadata": {},
   "outputs": [
    {
     "name": "stdout",
     "output_type": "stream",
     "text": [
      "<h1 class=\"firstHeading\" id=\"firstHeading\">Main Page</h1>\n",
      "<h2 class=\"mp-h2\" id=\"mp-tfa-h2\"><span id=\"From_today.27s_featured_article\"></span><span class=\"mw-headline\" id=\"From_today's_featured_article\">From today's featured article</span></h2>\n",
      "<h2 class=\"mp-h2\" id=\"mp-dyk-h2\"><span class=\"mw-headline\" id=\"Did_you_know_...\">Did you know ...</span></h2>\n",
      "<h2 class=\"mp-h2\" id=\"mp-itn-h2\"><span class=\"mw-headline\" id=\"In_the_news\">In the news</span></h2>\n",
      "<h2 class=\"mp-h2\" id=\"mp-otd-h2\"><span class=\"mw-headline\" id=\"On_this_day\">On this day</span></h2>\n",
      "<h2 class=\"mp-h2\" id=\"mp-tfp-h2\"><span id=\"Today.27s_featured_picture\"></span><span class=\"mw-headline\" id=\"Today's_featured_picture\">Today's featured picture</span></h2>\n",
      "<h2 class=\"mp-h2\" id=\"mp-other\"><span class=\"mw-headline\" id=\"Other_areas_of_Wikipedia\">Other areas of Wikipedia</span></h2>\n",
      "<h2 class=\"mp-h2\" id=\"mp-sister\"><span id=\"Wikipedia.27s_sister_projects\"></span><span class=\"mw-headline\" id=\"Wikipedia's_sister_projects\">Wikipedia's sister projects</span></h2>\n",
      "<h2 class=\"mp-h2\" id=\"mp-lang\"><span class=\"mw-headline\" id=\"Wikipedia_languages\">Wikipedia languages</span></h2>\n",
      "<h2>Navigation menu</h2>\n",
      "<h3 class=\"vector-menu-heading\" id=\"p-personal-label\">\n",
      "<span>Personal tools</span>\n",
      "</h3>\n",
      "<h3 class=\"vector-menu-heading\" id=\"p-namespaces-label\">\n",
      "<span>Namespaces</span>\n",
      "</h3>\n",
      "<h3 class=\"vector-menu-heading\" id=\"p-variants-label\">\n",
      "<span>Variants</span>\n",
      "</h3>\n",
      "<h3 class=\"vector-menu-heading\" id=\"p-views-label\">\n",
      "<span>Views</span>\n",
      "</h3>\n",
      "<h3 class=\"vector-menu-heading\" id=\"p-cactions-label\">\n",
      "<span>More</span>\n",
      "</h3>\n",
      "<h3>\n",
      "<label for=\"searchInput\">Search</label>\n",
      "</h3>\n",
      "<h3 class=\"vector-menu-heading\" id=\"p-navigation-label\">\n",
      "<span>Navigation</span>\n",
      "</h3>\n",
      "<h3 class=\"vector-menu-heading\" id=\"p-interaction-label\">\n",
      "<span>Contribute</span>\n",
      "</h3>\n",
      "<h3 class=\"vector-menu-heading\" id=\"p-tb-label\">\n",
      "<span>Tools</span>\n",
      "</h3>\n",
      "<h3 class=\"vector-menu-heading\" id=\"p-coll-print_export-label\">\n",
      "<span>Print/export</span>\n",
      "</h3>\n",
      "<h3 class=\"vector-menu-heading\" id=\"p-wikibase-otherprojects-label\">\n",
      "<span>In other projects</span>\n",
      "</h3>\n",
      "<h3 class=\"vector-menu-heading\" id=\"p-lang-label\">\n",
      "<span>Languages</span>\n",
      "</h3>\n"
     ]
    }
   ],
   "source": [
    "title=soup.find_all(['h1','h2','h3','h4','h5'])\n",
    "print(*title,sep='\\n')"
   ]
  },
  {
   "cell_type": "markdown",
   "id": "fa5c2dcf",
   "metadata": {},
   "source": [
    "#### 2.Write a python program to display IMDB’s Top rated 100 movies’ data (i.e. Name, IMDB rating, Year of release)."
   ]
  },
  {
   "cell_type": "code",
   "execution_count": 8,
   "id": "0498cd7d",
   "metadata": {},
   "outputs": [
    {
     "name": "stdout",
     "output_type": "stream",
     "text": [
      "<Response [200]>\n"
     ]
    }
   ],
   "source": [
    "page_1=requests.get('https://www.imdb.com/chart/top/')\n",
    "print(page_1)\n",
    "\n",
    "soup_1=BeautifulSoup(page_1.content)"
   ]
  },
  {
   "cell_type": "code",
   "execution_count": 9,
   "id": "de639b7b",
   "metadata": {},
   "outputs": [
    {
     "name": "stdout",
     "output_type": "stream",
     "text": [
      "['The Shawshank Redemption', 'The Godfather', 'The Godfather: Part II', 'The Dark Knight', '12 Angry Men', \"Schindler's List\", 'The Lord of the Rings: The Return of the King', 'Pulp Fiction', 'Il buono, il brutto, il cattivo', 'The Lord of the Rings: The Fellowship of the Ring', 'Fight Club', 'Forrest Gump', 'Inception', 'The Lord of the Rings: The Two Towers', 'Star Wars: Episode V - The Empire Strikes Back', 'The Matrix', 'Goodfellas', \"One Flew Over the Cuckoo's Nest\", 'Shichinin no samurai', 'Se7en', 'Cidade de Deus', 'The Silence of the Lambs', 'La vita è bella', \"It's a Wonderful Life\", 'Star Wars', 'Saving Private Ryan', 'Sen to Chihiro no kamikakushi', 'Interstellar', 'The Green Mile', 'Gisaengchung', 'Léon', 'Seppuku', 'The Usual Suspects', 'The Pianist', 'Back to the Future', 'Terminator 2: Judgment Day', 'Modern Times', 'Psycho', 'The Lion King', 'American History X', 'City Lights', 'Hotaru no haka', 'Gladiator', 'Whiplash', 'The Departed', 'The Intouchables', 'The Prestige', 'Casablanca', 'Once Upon a Time in the West', 'Rear Window', 'Nuovo Cinema Paradiso', 'Alien', 'Apocalypse Now', 'Memento', 'Raiders of the Lost Ark', 'The Great Dictator', 'The Lives of Others', 'Django Unchained', 'Paths of Glory', 'Sunset Blvd.', 'WALL·E', 'The Shining', 'Avengers: Infinity War', 'Witness for the Prosecution', 'Dr. Strangelove or: How I Learned to Stop Worrying and Love the Bomb', 'Joker', 'Spider-Man: Into the Spider-Verse', 'Oldeuboi', 'Mononoke-hime', 'Hamilton', 'Kimi no na wa.', 'Once Upon a Time in America', 'The Dark Knight Rises', 'Aliens', 'Coco', 'Das Boot', 'Capharnaüm', 'Avengers: Endgame', 'Tengoku to jigoku', 'American Beauty', 'Toy Story', '3 Idiots', 'Braveheart', 'Amadeus', 'Pather Panchali', 'Inglourious Basterds', 'Good Will Hunting', 'Star Wars: Episode VI - Return of the Jedi', '2001: A Space Odyssey', 'Reservoir Dogs', 'Taare Zameen Par', 'M - Eine Stadt sucht einen Mörder', 'Vertigo', 'Citizen Kane', 'Jagten', 'Requiem for a Dream', 'Idi i smotri', \"Singin' in the Rain\", 'North by Northwest', 'Eternal Sunshine of the Spotless Mind']\n"
     ]
    }
   ],
   "source": [
    "movie_name=soup_1.find_all('td',class_='titleColumn')\n",
    "\n",
    "column_movie=[]\n",
    "for i in movie_name:\n",
    "    column_movie.append(i.text.split('\\n'))\n",
    "column_movie=column_movie[:100]  \n",
    "\n",
    "movies_100=[]\n",
    "for l in column_movie:\n",
    "  movies_100.append(l[2].strip())\n",
    "print(movies_100)"
   ]
  },
  {
   "cell_type": "code",
   "execution_count": 10,
   "id": "93aad2d0",
   "metadata": {},
   "outputs": [
    {
     "name": "stdout",
     "output_type": "stream",
     "text": [
      "['1994', '1972', '1974', '2008', '1957', '1993', '2003', '1994', '1966', '2001', '1999', '1994', '2010', '2002', '1980', '1999', '1990', '1975', '1954', '1995', '2002', '1991', '1997', '1946', '1977', '1998', '2001', '2014', '1999', '2019', '1994', '1962', '1995', '2002', '1985', '1991', '1936', '1960', '1994', '1998', '1931', '1988', '2000', '2014', '2006', '2011', '2006', '1942', '1968', '1954', '1988', '1979', '1979', '2000', '1981', '1940', '2006', '2012', '1957', '1950', '2008', '1980', '2018', '1957', '1964', '2019', '2018', '2003', '1997', '2020', '2016', '1984', '2012', '1986', '2017', '1981', '2018', '2019', '1963', '1999', '1995', '2009', '1995', '1984', '1955', '2009', '1997', '1983', '1968', '1992', '2007', '1931', '1958', '1941', '2012', '2000', '1985', '1952', '1959', '2004']\n"
     ]
    }
   ],
   "source": [
    "movie_year=soup_1.find_all('span',class_='secondaryInfo')\n",
    "movie_year[:100]\n",
    "\n",
    "column_year=[]\n",
    "for i in movie_year[:100]:\n",
    "    column_year.append(i.text.strip('()'))\n",
    "print(column_year[:100])"
   ]
  },
  {
   "cell_type": "code",
   "execution_count": 11,
   "id": "43a6a6f3",
   "metadata": {},
   "outputs": [
    {
     "name": "stdout",
     "output_type": "stream",
     "text": [
      "['9.2', '9.1', '9.0', '9.0', '8.9', '8.9', '8.9', '8.8', '8.8', '8.8', '8.8', '8.7', '8.7', '8.7', '8.7', '8.6', '8.6', '8.6', '8.6', '8.6', '8.6', '8.6', '8.6', '8.6', '8.6', '8.5', '8.5', '8.5', '8.5', '8.5', '8.5', '8.5', '8.5', '8.5', '8.5', '8.5', '8.5', '8.5', '8.5', '8.5', '8.5', '8.5', '8.5', '8.5', '8.5', '8.5', '8.5', '8.4', '8.4', '8.4', '8.4', '8.4', '8.4', '8.4', '8.4', '8.4', '8.4', '8.4', '8.4', '8.4', '8.4', '8.4', '8.4', '8.4', '8.4', '8.4', '8.4', '8.3', '8.3', '8.3', '8.3', '8.3', '8.3', '8.3', '8.3', '8.3', '8.3', '8.3', '8.3', '8.3', '8.3', '8.3', '8.3', '8.3', '8.3', '8.3', '8.3', '8.3', '8.3', '8.3', '8.3', '8.3', '8.3', '8.3', '8.3', '8.3', '8.3', '8.3', '8.3', '8.3']\n"
     ]
    }
   ],
   "source": [
    "movie_rate=soup_1.find_all('td',class_='ratingColumn imdbRating')\n",
    "\n",
    "column_rate=[]\n",
    "for i in movie_rate[0:100]:\n",
    "    column_rate.append(i.text.strip())\n",
    "print(column_rate[:100])"
   ]
  },
  {
   "cell_type": "code",
   "execution_count": 12,
   "id": "96c26dbb",
   "metadata": {},
   "outputs": [
    {
     "data": {
      "text/html": [
       "<div>\n",
       "<style scoped>\n",
       "    .dataframe tbody tr th:only-of-type {\n",
       "        vertical-align: middle;\n",
       "    }\n",
       "\n",
       "    .dataframe tbody tr th {\n",
       "        vertical-align: top;\n",
       "    }\n",
       "\n",
       "    .dataframe thead th {\n",
       "        text-align: right;\n",
       "    }\n",
       "</style>\n",
       "<table border=\"1\" class=\"dataframe\">\n",
       "  <thead>\n",
       "    <tr style=\"text-align: right;\">\n",
       "      <th></th>\n",
       "      <th>Names</th>\n",
       "      <th>ReleaseYear</th>\n",
       "      <th>Rating</th>\n",
       "    </tr>\n",
       "  </thead>\n",
       "  <tbody>\n",
       "    <tr>\n",
       "      <th>0</th>\n",
       "      <td>The Shawshank Redemption</td>\n",
       "      <td>1994</td>\n",
       "      <td>9.2</td>\n",
       "    </tr>\n",
       "    <tr>\n",
       "      <th>1</th>\n",
       "      <td>The Godfather</td>\n",
       "      <td>1972</td>\n",
       "      <td>9.1</td>\n",
       "    </tr>\n",
       "    <tr>\n",
       "      <th>2</th>\n",
       "      <td>The Godfather: Part II</td>\n",
       "      <td>1974</td>\n",
       "      <td>9.0</td>\n",
       "    </tr>\n",
       "    <tr>\n",
       "      <th>3</th>\n",
       "      <td>The Dark Knight</td>\n",
       "      <td>2008</td>\n",
       "      <td>9.0</td>\n",
       "    </tr>\n",
       "    <tr>\n",
       "      <th>4</th>\n",
       "      <td>12 Angry Men</td>\n",
       "      <td>1957</td>\n",
       "      <td>8.9</td>\n",
       "    </tr>\n",
       "    <tr>\n",
       "      <th>...</th>\n",
       "      <td>...</td>\n",
       "      <td>...</td>\n",
       "      <td>...</td>\n",
       "    </tr>\n",
       "    <tr>\n",
       "      <th>95</th>\n",
       "      <td>Requiem for a Dream</td>\n",
       "      <td>2000</td>\n",
       "      <td>8.3</td>\n",
       "    </tr>\n",
       "    <tr>\n",
       "      <th>96</th>\n",
       "      <td>Idi i smotri</td>\n",
       "      <td>1985</td>\n",
       "      <td>8.3</td>\n",
       "    </tr>\n",
       "    <tr>\n",
       "      <th>97</th>\n",
       "      <td>Singin' in the Rain</td>\n",
       "      <td>1952</td>\n",
       "      <td>8.3</td>\n",
       "    </tr>\n",
       "    <tr>\n",
       "      <th>98</th>\n",
       "      <td>North by Northwest</td>\n",
       "      <td>1959</td>\n",
       "      <td>8.3</td>\n",
       "    </tr>\n",
       "    <tr>\n",
       "      <th>99</th>\n",
       "      <td>Eternal Sunshine of the Spotless Mind</td>\n",
       "      <td>2004</td>\n",
       "      <td>8.3</td>\n",
       "    </tr>\n",
       "  </tbody>\n",
       "</table>\n",
       "<p>100 rows × 3 columns</p>\n",
       "</div>"
      ],
      "text/plain": [
       "                                    Names ReleaseYear Rating\n",
       "0                The Shawshank Redemption        1994    9.2\n",
       "1                           The Godfather        1972    9.1\n",
       "2                  The Godfather: Part II        1974    9.0\n",
       "3                         The Dark Knight        2008    9.0\n",
       "4                            12 Angry Men        1957    8.9\n",
       "..                                    ...         ...    ...\n",
       "95                    Requiem for a Dream        2000    8.3\n",
       "96                           Idi i smotri        1985    8.3\n",
       "97                    Singin' in the Rain        1952    8.3\n",
       "98                     North by Northwest        1959    8.3\n",
       "99  Eternal Sunshine of the Spotless Mind        2004    8.3\n",
       "\n",
       "[100 rows x 3 columns]"
      ]
     },
     "execution_count": 12,
     "metadata": {},
     "output_type": "execute_result"
    }
   ],
   "source": [
    "import pandas as pd\n",
    "TopMovies=pd.DataFrame({})\n",
    "TopMovies['Names']=movies_100\n",
    "TopMovies['ReleaseYear']=column_year\n",
    "TopMovies['Rating']=column_rate\n",
    "\n",
    "TopMovies"
   ]
  },
  {
   "cell_type": "markdown",
   "id": "1a4f8c7f",
   "metadata": {},
   "source": [
    "#### 3.Write a python program to display IMDB’s Top rated 100 Indian movies’ data (i.e. Name, IMDB rating, Year of release)."
   ]
  },
  {
   "cell_type": "code",
   "execution_count": 14,
   "id": "c2ed8984",
   "metadata": {},
   "outputs": [
    {
     "name": "stdout",
     "output_type": "stream",
     "text": [
      "<Response [200]>\n"
     ]
    }
   ],
   "source": [
    "page_2=requests.get('https://www.imdb.com/india/top-rated-indian-movies/')\n",
    "print(page_2)\n",
    "\n",
    "soup_2=BeautifulSoup(page_2.content)"
   ]
  },
  {
   "cell_type": "code",
   "execution_count": 15,
   "id": "eff5d11f",
   "metadata": {},
   "outputs": [
    {
     "name": "stdout",
     "output_type": "stream",
     "text": [
      "['Nayakan', 'Pariyerum Perumal', 'Anbe Sivam', 'C/o Kancharapalem', 'Golmaal', 'Pather Panchali', 'Apur Sansar', 'Manichitrathazhu', 'Kireedam', 'Natsamrat', '96', 'Thevar Magan', 'Black Friday', 'Kumbalangi Nights', 'Visaaranai', '3 Idiots', 'Drishyam 2', 'Soorarai Pottru', 'Jersey', 'Taare Zameen Par', 'Thalapathi', 'Asuran', 'Dangal', 'Kaithi', 'Ratsasan', 'Devasuram', 'Aparajito', 'Sarpatta Parambarai', 'Jaane Bhi Do Yaaro', 'Pyaasa', 'Vada Chennai', 'Peranbu', 'Guide', 'Thani Oruvan', 'Kannathil Muthamittal', 'Chupke Chupke', 'Iruvar', 'Spadikam', 'Agent Sai Srinivasa Athreya', 'Super Deluxe', 'Drishyam', 'Mahanati', 'Aruvi', 'Vikram Vedha', 'Khosla Ka Ghosla!', 'Tumbbad', 'Pudhu Pettai', 'Premam', 'Anniyan', 'Anand', 'Kaakkaa Muttai', 'Mudhalvan', 'Bangalore Days', 'Dhuruvangal Pathinaaru', 'Papanasam', 'Satya', 'Andhadhun', 'Soodhu Kavvum', 'Shahid', 'Jigarthanda', 'Gangs of Wasseypur', 'Pithamagan', 'Paan Singh Tomar', 'Bhaag Milkha Bhaag', 'Hera Pheri', 'Sairat', 'Talvar', 'Sholay', 'Swades: We, the People', 'Chak De! India', 'Ustad Hotel', 'Black', 'Drishyam', 'Jo Jeeta Wohi Sikandar', 'Zindagi Na Milegi Dobara', 'Mughal-E-Azam', 'Maheshinte Prathikaaram', 'Nil Battey Sannata', 'Udaan', 'Charulata', 'Theeran adhigaaram ondru', 'Article 15', 'A Wednesday', 'Queen', 'Masaan', 'Munna Bhai M.B.B.S.', 'Alai Payuthey', 'Sarfarosh', 'Baasha', 'Dil Chahta Hai', 'OMG: Oh My God!', 'Chhichhore', 'Roja', 'Rang De Basanti', 'Virumandi', 'Andaz Apna Apna', 'Lagaan: Once Upon a Time in India', 'Kahaani', 'Uri: The Surgical Strike', 'PK']\n"
     ]
    }
   ],
   "source": [
    "movie_name=soup_2.find_all('td',class_='titleColumn')\n",
    "\n",
    "column_movie=[]\n",
    "for i in movie_name:\n",
    "    column_movie.append(i.text.split('\\n'))\n",
    "column_movie=column_movie[:100]  \n",
    "\n",
    "movies_100=[]\n",
    "for l in column_movie:\n",
    "  movies_100.append(l[2].strip())\n",
    "print(movies_100)"
   ]
  },
  {
   "cell_type": "code",
   "execution_count": 16,
   "id": "e3b03147",
   "metadata": {},
   "outputs": [
    {
     "name": "stdout",
     "output_type": "stream",
     "text": [
      "['1987', '2018', '2003', '2018', '1979', '1955', '1959', '1993', '1989', '2016', '2018', '1992', '2004', '2019', '2015', '2009', '2021', '2020', '2019', '2007', '1991', '2019', '2016', '2019', '2018', '1993', '1956', '2021', '1983', '1957', '2018', '2018', '1965', '2015', '2002', '1975', '1997', '1995', '2019', '2019', '2013', '2018', '2016', '2017', '2006', '2018', '2006', '2015', '2005', '1971', '2014', '1999', '2014', '2016', '2015', '1998', '2018', '2013', '2012', '2014', '2012', '2003', '2012', '2013', '2000', '2016', '2015', '1975', '2004', '2007', '2012', '2005', '2015', '1992', '2011', '1960', '2016', '2015', '2010', '1964', '2017', '2019', '2008', '2013', '2015', '2003', '2000', '1999', '1995', '2001', '2012', '2019', '1992', '2006', '2004', '1994', '2001', '2012', '2018', '2014']\n"
     ]
    }
   ],
   "source": [
    "movie_year=soup_2.find_all('span',class_='secondaryInfo')\n",
    "movie_year[:100]\n",
    "\n",
    "column_year=[]\n",
    "for i in movie_year[:100]:\n",
    "    column_year.append(i.text.strip('()'))\n",
    "print(column_year[:100])"
   ]
  },
  {
   "cell_type": "code",
   "execution_count": 17,
   "id": "24f2b1f5",
   "metadata": {},
   "outputs": [
    {
     "name": "stdout",
     "output_type": "stream",
     "text": [
      "['8.5', '8.5', '8.5', '8.5', '8.5', '8.5', '8.5', '8.5', '8.5', '8.4', '8.4', '8.4', '8.4', '8.4', '8.4', '8.4', '8.3', '8.3', '8.3', '8.3', '8.3', '8.3', '8.3', '8.3', '8.3', '8.3', '8.3', '8.3', '8.3', '8.3', '8.3', '8.3', '8.3', '8.3', '8.2', '8.2', '8.2', '8.2', '8.2', '8.2', '8.2', '8.2', '8.2', '8.2', '8.2', '8.2', '8.2', '8.2', '8.2', '8.2', '8.2', '8.2', '8.2', '8.2', '8.2', '8.2', '8.2', '8.2', '8.2', '8.1', '8.1', '8.1', '8.1', '8.1', '8.1', '8.1', '8.1', '8.1', '8.1', '8.1', '8.1', '8.1', '8.1', '8.1', '8.1', '8.1', '8.1', '8.1', '8.1', '8.1', '8.1', '8.1', '8.1', '8.1', '8.1', '8.1', '8.1', '8.1', '8.1', '8.1', '8.1', '8.1', '8.1', '8.1', '8.1', '8.1', '8.1', '8.1', '8.1', '8.1']\n"
     ]
    }
   ],
   "source": [
    "movie_rate=soup_2.find_all('td',class_='ratingColumn imdbRating')\n",
    "\n",
    "column_rate=[]\n",
    "for i in movie_rate[0:100]:\n",
    "    column_rate.append(i.text.strip())\n",
    "print(column_rate[:100])"
   ]
  },
  {
   "cell_type": "code",
   "execution_count": 18,
   "id": "571ded5d",
   "metadata": {},
   "outputs": [
    {
     "data": {
      "text/html": [
       "<div>\n",
       "<style scoped>\n",
       "    .dataframe tbody tr th:only-of-type {\n",
       "        vertical-align: middle;\n",
       "    }\n",
       "\n",
       "    .dataframe tbody tr th {\n",
       "        vertical-align: top;\n",
       "    }\n",
       "\n",
       "    .dataframe thead th {\n",
       "        text-align: right;\n",
       "    }\n",
       "</style>\n",
       "<table border=\"1\" class=\"dataframe\">\n",
       "  <thead>\n",
       "    <tr style=\"text-align: right;\">\n",
       "      <th></th>\n",
       "      <th>Names</th>\n",
       "      <th>ReleaseYear</th>\n",
       "      <th>Rating</th>\n",
       "    </tr>\n",
       "  </thead>\n",
       "  <tbody>\n",
       "    <tr>\n",
       "      <th>0</th>\n",
       "      <td>Nayakan</td>\n",
       "      <td>1987</td>\n",
       "      <td>8.5</td>\n",
       "    </tr>\n",
       "    <tr>\n",
       "      <th>1</th>\n",
       "      <td>Pariyerum Perumal</td>\n",
       "      <td>2018</td>\n",
       "      <td>8.5</td>\n",
       "    </tr>\n",
       "    <tr>\n",
       "      <th>2</th>\n",
       "      <td>Anbe Sivam</td>\n",
       "      <td>2003</td>\n",
       "      <td>8.5</td>\n",
       "    </tr>\n",
       "    <tr>\n",
       "      <th>3</th>\n",
       "      <td>C/o Kancharapalem</td>\n",
       "      <td>2018</td>\n",
       "      <td>8.5</td>\n",
       "    </tr>\n",
       "    <tr>\n",
       "      <th>4</th>\n",
       "      <td>Golmaal</td>\n",
       "      <td>1979</td>\n",
       "      <td>8.5</td>\n",
       "    </tr>\n",
       "    <tr>\n",
       "      <th>...</th>\n",
       "      <td>...</td>\n",
       "      <td>...</td>\n",
       "      <td>...</td>\n",
       "    </tr>\n",
       "    <tr>\n",
       "      <th>95</th>\n",
       "      <td>Andaz Apna Apna</td>\n",
       "      <td>1994</td>\n",
       "      <td>8.1</td>\n",
       "    </tr>\n",
       "    <tr>\n",
       "      <th>96</th>\n",
       "      <td>Lagaan: Once Upon a Time in India</td>\n",
       "      <td>2001</td>\n",
       "      <td>8.1</td>\n",
       "    </tr>\n",
       "    <tr>\n",
       "      <th>97</th>\n",
       "      <td>Kahaani</td>\n",
       "      <td>2012</td>\n",
       "      <td>8.1</td>\n",
       "    </tr>\n",
       "    <tr>\n",
       "      <th>98</th>\n",
       "      <td>Uri: The Surgical Strike</td>\n",
       "      <td>2018</td>\n",
       "      <td>8.1</td>\n",
       "    </tr>\n",
       "    <tr>\n",
       "      <th>99</th>\n",
       "      <td>PK</td>\n",
       "      <td>2014</td>\n",
       "      <td>8.1</td>\n",
       "    </tr>\n",
       "  </tbody>\n",
       "</table>\n",
       "<p>100 rows × 3 columns</p>\n",
       "</div>"
      ],
      "text/plain": [
       "                                Names ReleaseYear Rating\n",
       "0                             Nayakan        1987    8.5\n",
       "1                   Pariyerum Perumal        2018    8.5\n",
       "2                          Anbe Sivam        2003    8.5\n",
       "3                   C/o Kancharapalem        2018    8.5\n",
       "4                             Golmaal        1979    8.5\n",
       "..                                ...         ...    ...\n",
       "95                    Andaz Apna Apna        1994    8.1\n",
       "96  Lagaan: Once Upon a Time in India        2001    8.1\n",
       "97                            Kahaani        2012    8.1\n",
       "98           Uri: The Surgical Strike        2018    8.1\n",
       "99                                 PK        2014    8.1\n",
       "\n",
       "[100 rows x 3 columns]"
      ]
     },
     "execution_count": 18,
     "metadata": {},
     "output_type": "execute_result"
    }
   ],
   "source": [
    "import pandas as pd\n",
    "TopIndianMovies=pd.DataFrame({})\n",
    "TopIndianMovies['Names']=movies_100\n",
    "TopIndianMovies['ReleaseYear']=column_year\n",
    "TopIndianMovies['Rating']=column_rate\n",
    "\n",
    "TopIndianMovies"
   ]
  },
  {
   "cell_type": "markdown",
   "id": "93b79b99",
   "metadata": {},
   "source": [
    "#### 4.Write a python program to scrap book name, author name, genre and book review of any 5 books from\n",
    "‘www.bookpage.com’"
   ]
  },
  {
   "cell_type": "code",
   "execution_count": 19,
   "id": "428f671e",
   "metadata": {},
   "outputs": [
    {
     "name": "stdout",
     "output_type": "stream",
     "text": [
      "<Response [200]>\n"
     ]
    }
   ],
   "source": [
    "page_3=requests.get('https://bookpage.com/reviews?page=1')\n",
    "print(page_3)\n",
    "\n",
    "soup_3=BeautifulSoup(page_3.content)"
   ]
  },
  {
   "cell_type": "code",
   "execution_count": 20,
   "id": "fb1fd666",
   "metadata": {},
   "outputs": [
    {
     "name": "stdout",
     "output_type": "stream",
     "text": [
      "['★ How to Find Your Way in the Dark', 'Hold Fast Through the Fire', 'A Good Day for Chardonnay', 'All’s Well', '★ A Farewell to Gabo and Mercedes']\n"
     ]
    }
   ],
   "source": [
    "book_name=soup_3.find_all('h4',class_='italic')\n",
    "\n",
    "column_book=[]\n",
    "for i in book_name:\n",
    "    column_book.append(i.text.strip())\n",
    "column_book=column_book[:5]  \n",
    "print(column_book)"
   ]
  },
  {
   "cell_type": "code",
   "execution_count": 21,
   "id": "5638342c",
   "metadata": {},
   "outputs": [
    {
     "name": "stdout",
     "output_type": "stream",
     "text": [
      "['Derek B. Miller', 'K.B. Wagers', 'Darynda Jones', 'Mona Awad', 'Rodrigo García']\n"
     ]
    }
   ],
   "source": [
    "book_author=soup_3.find_all('p',class_='sans bold')\n",
    "\n",
    "column_author=[]\n",
    "for i in book_author:\n",
    "    column_author.append(i.text.strip())\n",
    "column_author=column_author[:5]  \n",
    "print(column_author)"
   ]
  },
  {
   "cell_type": "code",
   "execution_count": 22,
   "id": "6532b5a3",
   "metadata": {},
   "outputs": [
    {
     "name": "stdout",
     "output_type": "stream",
     "text": [
      "['Fiction / Coming of Age', 'Science Fiction & Fantasy / Science Fiction', 'Mystery & Suspense / Mystery', 'Fiction / Literary Fiction', 'Nonfiction / Memoir / Family & Relationships']\n"
     ]
    }
   ],
   "source": [
    "genre_name=soup_3.find_all('p',class_='genre-links hidden-phone')\n",
    "\n",
    "column_genre=[]\n",
    "for i in genre_name:\n",
    "    column_genre.append(i.text.replace('\\n',''))\n",
    "column_genre=column_genre[:5]  \n",
    "print(column_genre)"
   ]
  },
  {
   "cell_type": "code",
   "execution_count": 25,
   "id": "068ae25a",
   "metadata": {},
   "outputs": [
    {
     "data": {
      "text/plain": [
       "['The ending of How to Find Your Way in the Dark is nothing short of brilliant, making a powerful statement about the need to fully address antisemitism.',\n",
       " 'Looking for a quick bit of adrenaline, a spot of intrigue and the drama of an international sports event? Look no further than the latest entry in K.B. Wagers’ NeoG series, Hold Fast Through the Fire.',\n",
       " 'Read the Review',\n",
       " '',\n",
       " '']"
      ]
     },
     "execution_count": 25,
     "metadata": {},
     "output_type": "execute_result"
    }
   ],
   "source": [
    "book_review=soup_3.find_all('div',class_='flex-article-content')\n",
    "\n",
    "\n",
    "column_review=[]\n",
    "for i in book_review:\n",
    "    column_review.append(i.text.split('\\n'))\n",
    "column_review=column_review[:5]  \n",
    "\n",
    "\n",
    "book_review=[]\n",
    "for l in column_review:\n",
    "  book_review.append(l[13].strip())\n",
    "book_review=book_review[0:2]\n",
    "\n",
    "\n",
    "book_reviews=[]\n",
    "for l in column_review:\n",
    "  book_reviews.append(l[15].strip())\n",
    "book_reviews=book_reviews[2:4]\n",
    "\n",
    "\n",
    "book_review1=[]\n",
    "for l in column_review:\n",
    "  book_review1.append(l[13].strip())\n",
    "book_review1=book_review1[4:5]\n",
    "\n",
    "book_review.extend(book_reviews)\n",
    "book_review.extend(book_review1)\n",
    "book_review"
   ]
  },
  {
   "cell_type": "code",
   "execution_count": 28,
   "id": "5197a5df",
   "metadata": {},
   "outputs": [
    {
     "data": {
      "text/html": [
       "<div>\n",
       "<style scoped>\n",
       "    .dataframe tbody tr th:only-of-type {\n",
       "        vertical-align: middle;\n",
       "    }\n",
       "\n",
       "    .dataframe tbody tr th {\n",
       "        vertical-align: top;\n",
       "    }\n",
       "\n",
       "    .dataframe thead th {\n",
       "        text-align: right;\n",
       "    }\n",
       "</style>\n",
       "<table border=\"1\" class=\"dataframe\">\n",
       "  <thead>\n",
       "    <tr style=\"text-align: right;\">\n",
       "      <th></th>\n",
       "      <th>Names</th>\n",
       "      <th>AuthorName</th>\n",
       "      <th>Genre</th>\n",
       "      <th>BookReview</th>\n",
       "    </tr>\n",
       "  </thead>\n",
       "  <tbody>\n",
       "    <tr>\n",
       "      <th>0</th>\n",
       "      <td>★ How to Find Your Way in the Dark</td>\n",
       "      <td>Derek B. Miller</td>\n",
       "      <td>Fiction / Coming of Age</td>\n",
       "      <td>The ending of How to Find Your Way in the Dark...</td>\n",
       "    </tr>\n",
       "    <tr>\n",
       "      <th>1</th>\n",
       "      <td>Hold Fast Through the Fire</td>\n",
       "      <td>K.B. Wagers</td>\n",
       "      <td>Science Fiction &amp; Fantasy / Science Fiction</td>\n",
       "      <td>Looking for a quick bit of adrenaline, a spot ...</td>\n",
       "    </tr>\n",
       "    <tr>\n",
       "      <th>2</th>\n",
       "      <td>A Good Day for Chardonnay</td>\n",
       "      <td>Darynda Jones</td>\n",
       "      <td>Mystery &amp; Suspense / Mystery</td>\n",
       "      <td>Read the Review</td>\n",
       "    </tr>\n",
       "    <tr>\n",
       "      <th>3</th>\n",
       "      <td>All’s Well</td>\n",
       "      <td>Mona Awad</td>\n",
       "      <td>Fiction / Literary Fiction</td>\n",
       "      <td>Like Shakespeare’s eponymous work, there’s pat...</td>\n",
       "    </tr>\n",
       "    <tr>\n",
       "      <th>4</th>\n",
       "      <td>★ A Farewell to Gabo and Mercedes</td>\n",
       "      <td>Rodrigo García</td>\n",
       "      <td>Nonfiction / Memoir / Family &amp; Relationships</td>\n",
       "      <td></td>\n",
       "    </tr>\n",
       "  </tbody>\n",
       "</table>\n",
       "</div>"
      ],
      "text/plain": [
       "                                Names       AuthorName  \\\n",
       "0  ★ How to Find Your Way in the Dark  Derek B. Miller   \n",
       "1          Hold Fast Through the Fire      K.B. Wagers   \n",
       "2           A Good Day for Chardonnay    Darynda Jones   \n",
       "3                          All’s Well        Mona Awad   \n",
       "4   ★ A Farewell to Gabo and Mercedes   Rodrigo García   \n",
       "\n",
       "                                          Genre  \\\n",
       "0                       Fiction / Coming of Age   \n",
       "1   Science Fiction & Fantasy / Science Fiction   \n",
       "2                  Mystery & Suspense / Mystery   \n",
       "3                    Fiction / Literary Fiction   \n",
       "4  Nonfiction / Memoir / Family & Relationships   \n",
       "\n",
       "                                          BookReview  \n",
       "0  The ending of How to Find Your Way in the Dark...  \n",
       "1  Looking for a quick bit of adrenaline, a spot ...  \n",
       "2                                    Read the Review  \n",
       "3  Like Shakespeare’s eponymous work, there’s pat...  \n",
       "4                                                     "
      ]
     },
     "execution_count": 28,
     "metadata": {},
     "output_type": "execute_result"
    }
   ],
   "source": [
    "Book=pd.DataFrame({})\n",
    "Book['Names']=column_book\n",
    "Book['AuthorName']=column_author\n",
    "Book['Genre']=column_genre\n",
    "Book['BookReview']=book_review\n",
    "\n",
    "Book"
   ]
  },
  {
   "cell_type": "markdown",
   "id": "ce849ff2",
   "metadata": {},
   "source": [
    "Write a python program to scrape cricket rankings from ‘www.icc-cricket.com’. You have to scrape:\n",
    "i) Top 10 ODI teams in men’s cricket along with the records for matches, points and rating.\n",
    "ii) Top 10 ODI Batsmen in men along with the records of their team and rating.\n",
    "iii) Top 10 ODI bowlers along with the records of their team and rating."
   ]
  },
  {
   "cell_type": "code",
   "execution_count": 29,
   "id": "3966ee4e",
   "metadata": {},
   "outputs": [
    {
     "name": "stdout",
     "output_type": "stream",
     "text": [
      "<Response [200]>\n"
     ]
    }
   ],
   "source": [
    "icc_page=requests.get('https://www.icc-cricket.com/rankings/mens/team-rankings/odi')\n",
    "print(icc_page)\n",
    "\n",
    "icc_soup=BeautifulSoup(icc_page.content)"
   ]
  },
  {
   "cell_type": "code",
   "execution_count": 30,
   "id": "1f0a8cc7",
   "metadata": {},
   "outputs": [
    {
     "name": "stdout",
     "output_type": "stream",
     "text": [
      "['New Zealand', 'England', 'Australia', 'India', 'South Africa', 'Pakistan', 'Bangladesh', 'West Indies', 'Sri Lanka', 'Afghanistan']\n"
     ]
    }
   ],
   "source": [
    "team_name=icc_soup.find_all('span',class_='u-hide-phablet')\n",
    "team_name[0:10]\n",
    "\n",
    "column_team=[]\n",
    "for i in team_name:\n",
    "    column_team.append(i.text.strip('[]'))\n",
    "column_team=column_team[:10]  \n",
    "print(column_team)"
   ]
  },
  {
   "cell_type": "code",
   "execution_count": 31,
   "id": "9fc6fdb6",
   "metadata": {},
   "outputs": [
    {
     "data": {
      "text/plain": [
       "['17', '32', '27', '32', '22', '27', '29', '29', '29', '17']"
      ]
     },
     "execution_count": 31,
     "metadata": {},
     "output_type": "execute_result"
    }
   ],
   "source": [
    "team_matches=icc_soup.find_all('td',class_='rankings-block__banner--matches')\n",
    "\n",
    "team_match=icc_soup.find_all('td',class_='table-body__cell u-center-text')\n",
    "\n",
    "column_matches=[]\n",
    "for i in team_matches:\n",
    "    column_matches.append(i.text.strip())\n",
    "\n",
    "for i in range(0,len(team_match),2):\n",
    "    column_matches.append(team_match[i].text.strip())\n",
    "column_matches=column_matches[0:10]\n",
    "column_matches"
   ]
  },
  {
   "cell_type": "code",
   "execution_count": 32,
   "id": "d425e7a6",
   "metadata": {},
   "outputs": [
    {
     "name": "stdout",
     "output_type": "stream",
     "text": [
      "['2,054', '3,793', '3,109', '3,624', '2,267', '2,524', '2,639', '2,458', '2,303', '1,054']\n"
     ]
    }
   ],
   "source": [
    "team_points=icc_soup.find_all('td',class_='rankings-block__banner--points')\n",
    "\n",
    "team_match=icc_soup.find_all('td',class_='table-body__cell u-center-text')\n",
    "\n",
    "column_points=[]\n",
    "for i in team_points:\n",
    "    column_points.append(i.text.strip())\n",
    "column_points\n",
    "\n",
    "for i in range(1,len(team_match),2):\n",
    "    column_points.append(team_match[i].text.strip())\n",
    "column_points=column_points[0:10]\n",
    "print(column_points)\n"
   ]
  },
  {
   "cell_type": "code",
   "execution_count": 33,
   "id": "4cede9fe",
   "metadata": {},
   "outputs": [
    {
     "data": {
      "text/plain": [
       "['121', '119', '115', '113', '103', '93', '91', '85', '79', '62']"
      ]
     },
     "execution_count": 33,
     "metadata": {},
     "output_type": "execute_result"
    }
   ],
   "source": [
    "team_rating=icc_soup.find_all('td',class_='rankings-block__banner--rating u-text-right')\n",
    "\n",
    "column_rating=[]\n",
    "for i in team_rating:\n",
    "    column_rating.append(i.text.strip())\n",
    "\n",
    "team_rating=icc_soup.find_all('td',class_='table-body__cell u-text-right rating')\n",
    "\n",
    "for i in team_rating:\n",
    "    column_rating.append(i.text.strip())\n",
    "column_rating=column_rating[0:10]\n",
    "column_rating"
   ]
  },
  {
   "cell_type": "code",
   "execution_count": 34,
   "id": "e1c3f5ee",
   "metadata": {},
   "outputs": [
    {
     "data": {
      "text/html": [
       "<div>\n",
       "<style scoped>\n",
       "    .dataframe tbody tr th:only-of-type {\n",
       "        vertical-align: middle;\n",
       "    }\n",
       "\n",
       "    .dataframe tbody tr th {\n",
       "        vertical-align: top;\n",
       "    }\n",
       "\n",
       "    .dataframe thead th {\n",
       "        text-align: right;\n",
       "    }\n",
       "</style>\n",
       "<table border=\"1\" class=\"dataframe\">\n",
       "  <thead>\n",
       "    <tr style=\"text-align: right;\">\n",
       "      <th></th>\n",
       "      <th>Team</th>\n",
       "      <th>Matches</th>\n",
       "      <th>Points</th>\n",
       "      <th>Ratings</th>\n",
       "    </tr>\n",
       "  </thead>\n",
       "  <tbody>\n",
       "    <tr>\n",
       "      <th>0</th>\n",
       "      <td>New Zealand</td>\n",
       "      <td>17</td>\n",
       "      <td>2,054</td>\n",
       "      <td>121</td>\n",
       "    </tr>\n",
       "    <tr>\n",
       "      <th>1</th>\n",
       "      <td>England</td>\n",
       "      <td>32</td>\n",
       "      <td>3,793</td>\n",
       "      <td>119</td>\n",
       "    </tr>\n",
       "    <tr>\n",
       "      <th>2</th>\n",
       "      <td>Australia</td>\n",
       "      <td>27</td>\n",
       "      <td>3,109</td>\n",
       "      <td>115</td>\n",
       "    </tr>\n",
       "    <tr>\n",
       "      <th>3</th>\n",
       "      <td>India</td>\n",
       "      <td>32</td>\n",
       "      <td>3,624</td>\n",
       "      <td>113</td>\n",
       "    </tr>\n",
       "    <tr>\n",
       "      <th>4</th>\n",
       "      <td>South Africa</td>\n",
       "      <td>22</td>\n",
       "      <td>2,267</td>\n",
       "      <td>103</td>\n",
       "    </tr>\n",
       "    <tr>\n",
       "      <th>5</th>\n",
       "      <td>Pakistan</td>\n",
       "      <td>27</td>\n",
       "      <td>2,524</td>\n",
       "      <td>93</td>\n",
       "    </tr>\n",
       "    <tr>\n",
       "      <th>6</th>\n",
       "      <td>Bangladesh</td>\n",
       "      <td>29</td>\n",
       "      <td>2,639</td>\n",
       "      <td>91</td>\n",
       "    </tr>\n",
       "    <tr>\n",
       "      <th>7</th>\n",
       "      <td>West Indies</td>\n",
       "      <td>29</td>\n",
       "      <td>2,458</td>\n",
       "      <td>85</td>\n",
       "    </tr>\n",
       "    <tr>\n",
       "      <th>8</th>\n",
       "      <td>Sri Lanka</td>\n",
       "      <td>29</td>\n",
       "      <td>2,303</td>\n",
       "      <td>79</td>\n",
       "    </tr>\n",
       "    <tr>\n",
       "      <th>9</th>\n",
       "      <td>Afghanistan</td>\n",
       "      <td>17</td>\n",
       "      <td>1,054</td>\n",
       "      <td>62</td>\n",
       "    </tr>\n",
       "  </tbody>\n",
       "</table>\n",
       "</div>"
      ],
      "text/plain": [
       "           Team Matches Points Ratings\n",
       "0   New Zealand      17  2,054     121\n",
       "1       England      32  3,793     119\n",
       "2     Australia      27  3,109     115\n",
       "3         India      32  3,624     113\n",
       "4  South Africa      22  2,267     103\n",
       "5      Pakistan      27  2,524      93\n",
       "6    Bangladesh      29  2,639      91\n",
       "7   West Indies      29  2,458      85\n",
       "8     Sri Lanka      29  2,303      79\n",
       "9   Afghanistan      17  1,054      62"
      ]
     },
     "execution_count": 34,
     "metadata": {},
     "output_type": "execute_result"
    }
   ],
   "source": [
    "import pandas as pd\n",
    "ODI10=pd.DataFrame({})\n",
    "ODI10['Team']=column_team\n",
    "ODI10['Matches']=column_matches\n",
    "ODI10['Points']=column_points\n",
    "ODI10['Ratings']=column_rating\n",
    "\n",
    "ODI10"
   ]
  },
  {
   "cell_type": "markdown",
   "id": "fc6ae207",
   "metadata": {},
   "source": [
    "#### Q5.ii)"
   ]
  },
  {
   "cell_type": "code",
   "execution_count": 35,
   "id": "da5ed1be",
   "metadata": {},
   "outputs": [
    {
     "name": "stdout",
     "output_type": "stream",
     "text": [
      "<Response [200]>\n"
     ]
    }
   ],
   "source": [
    "page_4=requests.get('https://www.icc-cricket.com/rankings/mens/player-rankings/odi/batting')\n",
    "print(page_4)\n",
    "\n",
    "soup_4=BeautifulSoup(page_4.content)"
   ]
  },
  {
   "cell_type": "code",
   "execution_count": 38,
   "id": "f9477041",
   "metadata": {},
   "outputs": [
    {
     "name": "stdout",
     "output_type": "stream",
     "text": [
      "['Babar Azam', 'Virat Kohli', 'Rohit Sharma', 'Ross Taylor', 'Aaron Finch', 'Jonny Bairstow', 'David Warner', 'Shai Hope', 'Francois du Plessis', 'Quinton de Kock']\n"
     ]
    }
   ],
   "source": [
    "player_name=soup_4.find_all('div',class_='rankings-block__banner--name-large')\n",
    "\n",
    "column_name=[]\n",
    "for i in player_name:\n",
    "    column_name.append(i.text.strip())\n",
    "\n",
    "player_name=soup_4.find_all('td',class_='table-body__cell rankings-table__name name')\n",
    "\n",
    "for i in player_name:\n",
    "    column_name.append(i.text.strip())\n",
    "column_name=column_name[0:10]\n",
    "print(column_name)"
   ]
  },
  {
   "cell_type": "code",
   "execution_count": 39,
   "id": "288901c3",
   "metadata": {},
   "outputs": [
    {
     "name": "stdout",
     "output_type": "stream",
     "text": [
      "['PAK', 'IND', 'IND', 'NZ', 'AUS', 'ENG', 'AUS', 'WI', 'SA', 'SA']\n"
     ]
    }
   ],
   "source": [
    "player_country=soup_4.find_all('div',class_='rankings-block__banner--nationality')\n",
    "\n",
    "column_country=[]\n",
    "for i in player_country:\n",
    "    column_country.append(i.text.strip())\n",
    "\n",
    "player_country=soup_4.find_all('td',class_='table-body__cell nationality-logo rankings-table__team')\n",
    "\n",
    "for i in player_country:\n",
    "    column_country.append(i.text.strip())\n",
    "column_country=column_country[0:10]\n",
    "print(column_country)"
   ]
  },
  {
   "cell_type": "code",
   "execution_count": 40,
   "id": "d5c0d226",
   "metadata": {},
   "outputs": [
    {
     "name": "stdout",
     "output_type": "stream",
     "text": [
      "['873', '848', '817', '801', '791', '775', '773', '773', '766', '758']\n"
     ]
    }
   ],
   "source": [
    "player_rating=soup_4.find_all('div',class_='rankings-block__banner--rating')\n",
    "\n",
    "column_rating=[]\n",
    "for i in player_rating:\n",
    "    column_rating.append(i.text.strip())\n",
    "\n",
    "player_rating=soup_4.find_all('td',class_='table-body__cell rating')\n",
    "\n",
    "for i in player_rating:\n",
    "    column_rating.append(i.text.strip())\n",
    "column_rating=column_rating[0:10]\n",
    "print(column_rating)"
   ]
  },
  {
   "cell_type": "code",
   "execution_count": 41,
   "id": "f6e1fce6",
   "metadata": {},
   "outputs": [
    {
     "data": {
      "text/html": [
       "<div>\n",
       "<style scoped>\n",
       "    .dataframe tbody tr th:only-of-type {\n",
       "        vertical-align: middle;\n",
       "    }\n",
       "\n",
       "    .dataframe tbody tr th {\n",
       "        vertical-align: top;\n",
       "    }\n",
       "\n",
       "    .dataframe thead th {\n",
       "        text-align: right;\n",
       "    }\n",
       "</style>\n",
       "<table border=\"1\" class=\"dataframe\">\n",
       "  <thead>\n",
       "    <tr style=\"text-align: right;\">\n",
       "      <th></th>\n",
       "      <th>Names</th>\n",
       "      <th>Team</th>\n",
       "      <th>Rating</th>\n",
       "    </tr>\n",
       "  </thead>\n",
       "  <tbody>\n",
       "    <tr>\n",
       "      <th>0</th>\n",
       "      <td>Babar Azam</td>\n",
       "      <td>PAK</td>\n",
       "      <td>873</td>\n",
       "    </tr>\n",
       "    <tr>\n",
       "      <th>1</th>\n",
       "      <td>Virat Kohli</td>\n",
       "      <td>IND</td>\n",
       "      <td>848</td>\n",
       "    </tr>\n",
       "    <tr>\n",
       "      <th>2</th>\n",
       "      <td>Rohit Sharma</td>\n",
       "      <td>IND</td>\n",
       "      <td>817</td>\n",
       "    </tr>\n",
       "    <tr>\n",
       "      <th>3</th>\n",
       "      <td>Ross Taylor</td>\n",
       "      <td>NZ</td>\n",
       "      <td>801</td>\n",
       "    </tr>\n",
       "    <tr>\n",
       "      <th>4</th>\n",
       "      <td>Aaron Finch</td>\n",
       "      <td>AUS</td>\n",
       "      <td>791</td>\n",
       "    </tr>\n",
       "    <tr>\n",
       "      <th>5</th>\n",
       "      <td>Jonny Bairstow</td>\n",
       "      <td>ENG</td>\n",
       "      <td>775</td>\n",
       "    </tr>\n",
       "    <tr>\n",
       "      <th>6</th>\n",
       "      <td>David Warner</td>\n",
       "      <td>AUS</td>\n",
       "      <td>773</td>\n",
       "    </tr>\n",
       "    <tr>\n",
       "      <th>7</th>\n",
       "      <td>Shai Hope</td>\n",
       "      <td>WI</td>\n",
       "      <td>773</td>\n",
       "    </tr>\n",
       "    <tr>\n",
       "      <th>8</th>\n",
       "      <td>Francois du Plessis</td>\n",
       "      <td>SA</td>\n",
       "      <td>766</td>\n",
       "    </tr>\n",
       "    <tr>\n",
       "      <th>9</th>\n",
       "      <td>Quinton de Kock</td>\n",
       "      <td>SA</td>\n",
       "      <td>758</td>\n",
       "    </tr>\n",
       "  </tbody>\n",
       "</table>\n",
       "</div>"
      ],
      "text/plain": [
       "                 Names Team Rating\n",
       "0           Babar Azam  PAK    873\n",
       "1          Virat Kohli  IND    848\n",
       "2         Rohit Sharma  IND    817\n",
       "3          Ross Taylor   NZ    801\n",
       "4          Aaron Finch  AUS    791\n",
       "5       Jonny Bairstow  ENG    775\n",
       "6         David Warner  AUS    773\n",
       "7            Shai Hope   WI    773\n",
       "8  Francois du Plessis   SA    766\n",
       "9      Quinton de Kock   SA    758"
      ]
     },
     "execution_count": 41,
     "metadata": {},
     "output_type": "execute_result"
    }
   ],
   "source": [
    "Batsman10=pd.DataFrame({})\n",
    "Batsman10['Names']=column_name\n",
    "Batsman10['Team']=column_country\n",
    "Batsman10['Rating']=column_rating\n",
    "\n",
    "Batsman10"
   ]
  },
  {
   "cell_type": "markdown",
   "id": "b55544f6",
   "metadata": {},
   "source": [
    "### Q5.iii)"
   ]
  },
  {
   "cell_type": "code",
   "execution_count": 42,
   "id": "bd04e9a1",
   "metadata": {},
   "outputs": [
    {
     "name": "stdout",
     "output_type": "stream",
     "text": [
      "<Response [200]>\n"
     ]
    }
   ],
   "source": [
    "page_42=requests.get('https://www.icc-cricket.com/rankings/mens/player-rankings/odi/bowling')\n",
    "print(page_42)\n",
    "\n",
    "soup_42=BeautifulSoup(page_42.content)"
   ]
  },
  {
   "cell_type": "code",
   "execution_count": 43,
   "id": "f586a3a2",
   "metadata": {},
   "outputs": [
    {
     "name": "stdout",
     "output_type": "stream",
     "text": [
      "['Trent Boult', 'Mujeeb Ur Rahman', 'Chris Woakes', 'Mehedi Hasan', 'Matt Henry', 'Jasprit Bumrah', 'Josh Hazlewood', 'Shakib Al Hasan', 'Kagiso Rabada', 'Pat Cummins']\n"
     ]
    }
   ],
   "source": [
    "player_name=soup_42.find_all('div',class_='rankings-block__banner--name-large')\n",
    "\n",
    "column_name=[]\n",
    "\n",
    "for i in player_name:\n",
    "    column_name.append(i.text.strip())\n",
    "\n",
    "player_name=soup_42.find_all('td',class_='table-body__cell rankings-table__name name')\n",
    "\n",
    "for i in player_name:\n",
    "    column_name.append(i.text.strip())\n",
    "column_name=column_name[0:10]\n",
    "print(column_name)"
   ]
  },
  {
   "cell_type": "code",
   "execution_count": 44,
   "id": "cd6247d0",
   "metadata": {},
   "outputs": [
    {
     "name": "stdout",
     "output_type": "stream",
     "text": [
      "['NZ', 'AFG', 'ENG', 'BAN', 'NZ', 'IND', 'AUS', 'BAN', 'SA', 'AUS']\n"
     ]
    }
   ],
   "source": [
    "player_country=soup_42.find_all('div',class_='rankings-block__banner--nationality')\n",
    "\n",
    "column_country=[]\n",
    "for i in player_country:\n",
    "    column_country.append(i.text.strip().replace('\\n',''))\n",
    "\n",
    "\n",
    "player_country=soup_42.find_all('td',class_='table-body__cell nationality-logo rankings-table__team')\n",
    "\n",
    "for i in player_country:\n",
    "    column_country.append(i.text.strip())\n",
    "column_country=column_country[0:10]\n",
    "print(column_country)"
   ]
  },
  {
   "cell_type": "code",
   "execution_count": 45,
   "id": "5097ea94",
   "metadata": {},
   "outputs": [
    {
     "data": {
      "text/plain": [
       "['737', '708', '700', '692', '691', '683', '660', '650', '648', '646']"
      ]
     },
     "execution_count": 45,
     "metadata": {},
     "output_type": "execute_result"
    }
   ],
   "source": [
    "player_rating=soup_42.find_all('div',class_='rankings-block__banner--rating')\n",
    "\n",
    "column_rating=[]\n",
    "for i in player_rating:\n",
    "    column_rating.append(i.text.strip())\n",
    "column_rating\n",
    "\n",
    "player_rating=soup_42.find_all('td',class_='table-body__cell rating')\n",
    "\n",
    "for i in player_rating:\n",
    "    column_rating.append(i.text.strip())\n",
    "column_rating=column_rating[0:10]\n",
    "column_rating"
   ]
  },
  {
   "cell_type": "code",
   "execution_count": 46,
   "id": "8c547d4b",
   "metadata": {},
   "outputs": [
    {
     "data": {
      "text/html": [
       "<div>\n",
       "<style scoped>\n",
       "    .dataframe tbody tr th:only-of-type {\n",
       "        vertical-align: middle;\n",
       "    }\n",
       "\n",
       "    .dataframe tbody tr th {\n",
       "        vertical-align: top;\n",
       "    }\n",
       "\n",
       "    .dataframe thead th {\n",
       "        text-align: right;\n",
       "    }\n",
       "</style>\n",
       "<table border=\"1\" class=\"dataframe\">\n",
       "  <thead>\n",
       "    <tr style=\"text-align: right;\">\n",
       "      <th></th>\n",
       "      <th>Names</th>\n",
       "      <th>Team</th>\n",
       "      <th>Rating</th>\n",
       "    </tr>\n",
       "  </thead>\n",
       "  <tbody>\n",
       "    <tr>\n",
       "      <th>0</th>\n",
       "      <td>Trent Boult</td>\n",
       "      <td>NZ</td>\n",
       "      <td>737</td>\n",
       "    </tr>\n",
       "    <tr>\n",
       "      <th>1</th>\n",
       "      <td>Mujeeb Ur Rahman</td>\n",
       "      <td>AFG</td>\n",
       "      <td>708</td>\n",
       "    </tr>\n",
       "    <tr>\n",
       "      <th>2</th>\n",
       "      <td>Chris Woakes</td>\n",
       "      <td>ENG</td>\n",
       "      <td>700</td>\n",
       "    </tr>\n",
       "    <tr>\n",
       "      <th>3</th>\n",
       "      <td>Mehedi Hasan</td>\n",
       "      <td>BAN</td>\n",
       "      <td>692</td>\n",
       "    </tr>\n",
       "    <tr>\n",
       "      <th>4</th>\n",
       "      <td>Matt Henry</td>\n",
       "      <td>NZ</td>\n",
       "      <td>691</td>\n",
       "    </tr>\n",
       "    <tr>\n",
       "      <th>5</th>\n",
       "      <td>Jasprit Bumrah</td>\n",
       "      <td>IND</td>\n",
       "      <td>683</td>\n",
       "    </tr>\n",
       "    <tr>\n",
       "      <th>6</th>\n",
       "      <td>Josh Hazlewood</td>\n",
       "      <td>AUS</td>\n",
       "      <td>660</td>\n",
       "    </tr>\n",
       "    <tr>\n",
       "      <th>7</th>\n",
       "      <td>Shakib Al Hasan</td>\n",
       "      <td>BAN</td>\n",
       "      <td>650</td>\n",
       "    </tr>\n",
       "    <tr>\n",
       "      <th>8</th>\n",
       "      <td>Kagiso Rabada</td>\n",
       "      <td>SA</td>\n",
       "      <td>648</td>\n",
       "    </tr>\n",
       "    <tr>\n",
       "      <th>9</th>\n",
       "      <td>Pat Cummins</td>\n",
       "      <td>AUS</td>\n",
       "      <td>646</td>\n",
       "    </tr>\n",
       "  </tbody>\n",
       "</table>\n",
       "</div>"
      ],
      "text/plain": [
       "              Names Team Rating\n",
       "0       Trent Boult   NZ    737\n",
       "1  Mujeeb Ur Rahman  AFG    708\n",
       "2      Chris Woakes  ENG    700\n",
       "3      Mehedi Hasan  BAN    692\n",
       "4        Matt Henry   NZ    691\n",
       "5    Jasprit Bumrah  IND    683\n",
       "6    Josh Hazlewood  AUS    660\n",
       "7   Shakib Al Hasan  BAN    650\n",
       "8     Kagiso Rabada   SA    648\n",
       "9       Pat Cummins  AUS    646"
      ]
     },
     "execution_count": 46,
     "metadata": {},
     "output_type": "execute_result"
    }
   ],
   "source": [
    "Bowler10=pd.DataFrame({})\n",
    "Bowler10['Names']=column_name\n",
    "Bowler10['Team']=column_country\n",
    "Bowler10['Rating']=column_rating\n",
    "\n",
    "Bowler10"
   ]
  },
  {
   "cell_type": "markdown",
   "id": "d7c493bf",
   "metadata": {},
   "source": [
    "6.Write a python program to scrape cricket rankings from ‘www.icc-cricket.com’. You have to scrape:\n",
    "i) Top 10 ODI teams in women’s cricket along with the records for matches, points and rating.\n",
    "ii) Top 10 women’s ODI players along with the records of their team and rating.\n",
    "iii) Top 10 women’s ODI all-rounder along with the records of their team and rating."
   ]
  },
  {
   "cell_type": "code",
   "execution_count": 47,
   "id": "023b6f40",
   "metadata": {},
   "outputs": [
    {
     "name": "stdout",
     "output_type": "stream",
     "text": [
      "<Response [200]>\n"
     ]
    }
   ],
   "source": [
    "page5=requests.get('https://www.icc-cricket.com/rankings/womens/team-rankings/odi')\n",
    "print(page5)\n",
    "\n",
    "soup5=BeautifulSoup(page5.content)"
   ]
  },
  {
   "cell_type": "code",
   "execution_count": 48,
   "id": "2f737ed3",
   "metadata": {},
   "outputs": [
    {
     "name": "stdout",
     "output_type": "stream",
     "text": [
      "['Australia', 'England', 'South Africa', 'India', 'New Zealand', 'West Indies', 'Pakistan', 'Bangladesh', 'Sri Lanka', 'Ireland']\n"
     ]
    }
   ],
   "source": [
    "team_name=soup5.find_all('span',class_='u-hide-phablet')\n",
    "\n",
    "column_team=[]\n",
    "for i in team_name:\n",
    "    column_team.append(i.text.strip('[]'))\n",
    "column_team=column_team[:10]  \n",
    "print(column_team)"
   ]
  },
  {
   "cell_type": "code",
   "execution_count": 49,
   "id": "05c7ba29",
   "metadata": {},
   "outputs": [
    {
     "name": "stdout",
     "output_type": "stream",
     "text": [
      "['18', '20', '24', '23', '21', '17', '20', '5', '11', '2']\n"
     ]
    }
   ],
   "source": [
    "team_matches=soup5.find_all('td',class_='rankings-block__banner--matches')\n",
    "\n",
    "column_matches=[]\n",
    "for i in team_matches:\n",
    "    column_matches.append(i.text.strip())\n",
    "column_matches\n",
    "\n",
    "team_match=soup5.find_all('td',class_='table-body__cell u-center-text')\n",
    "\n",
    "for i in range(0,len(team_match),2):\n",
    "    column_matches.append(team_match[i].text.strip())\n",
    "column_matches=column_matches[0:10]\n",
    "print(column_matches)"
   ]
  },
  {
   "cell_type": "code",
   "execution_count": 50,
   "id": "fbd6d012",
   "metadata": {},
   "outputs": [
    {
     "name": "stdout",
     "output_type": "stream",
     "text": [
      "['2,955', '2,370', '2,828', '2,535', '1,947', '1,427', '1,496', '306', '519', '25']\n"
     ]
    }
   ],
   "source": [
    "team_points=soup5.find_all('td',class_='rankings-block__banner--points')\n",
    "\n",
    "column_points=[]\n",
    "for i in team_points:\n",
    "    column_points.append(i.text.strip())\n",
    "column_points\n",
    "\n",
    "team_match=soup5.find_all('td',class_='table-body__cell u-center-text')\n",
    "\n",
    "for i in range(1,len(team_match),2):\n",
    "    column_points.append(team_match[i].text.strip())\n",
    "column_points=column_points[0:10]\n",
    "print(column_points)"
   ]
  },
  {
   "cell_type": "code",
   "execution_count": 51,
   "id": "3378dcfb",
   "metadata": {},
   "outputs": [
    {
     "data": {
      "text/plain": [
       "['164', '119', '118', '110', '93', '84', '75', '61', '47', '13']"
      ]
     },
     "execution_count": 51,
     "metadata": {},
     "output_type": "execute_result"
    }
   ],
   "source": [
    "team_rating=soup5.find_all('td',class_='rankings-block__banner--rating u-text-right')\n",
    "\n",
    "column_rating=[]\n",
    "for i in team_rating:\n",
    "    column_rating.append(i.text.strip())\n",
    "\n",
    "\n",
    "team_rating=soup5.find_all('td',class_='table-body__cell u-text-right rating')\n",
    "\n",
    "for i in team_rating:\n",
    "    column_rating.append(i.text.strip())\n",
    "column_rating=column_rating[0:10]\n",
    "column_rating"
   ]
  },
  {
   "cell_type": "code",
   "execution_count": 52,
   "id": "a61986a2",
   "metadata": {},
   "outputs": [
    {
     "data": {
      "text/html": [
       "<div>\n",
       "<style scoped>\n",
       "    .dataframe tbody tr th:only-of-type {\n",
       "        vertical-align: middle;\n",
       "    }\n",
       "\n",
       "    .dataframe tbody tr th {\n",
       "        vertical-align: top;\n",
       "    }\n",
       "\n",
       "    .dataframe thead th {\n",
       "        text-align: right;\n",
       "    }\n",
       "</style>\n",
       "<table border=\"1\" class=\"dataframe\">\n",
       "  <thead>\n",
       "    <tr style=\"text-align: right;\">\n",
       "      <th></th>\n",
       "      <th>Team</th>\n",
       "      <th>Matches</th>\n",
       "      <th>Points</th>\n",
       "      <th>Ratings</th>\n",
       "    </tr>\n",
       "  </thead>\n",
       "  <tbody>\n",
       "    <tr>\n",
       "      <th>0</th>\n",
       "      <td>Australia</td>\n",
       "      <td>18</td>\n",
       "      <td>2,955</td>\n",
       "      <td>164</td>\n",
       "    </tr>\n",
       "    <tr>\n",
       "      <th>1</th>\n",
       "      <td>England</td>\n",
       "      <td>20</td>\n",
       "      <td>2,370</td>\n",
       "      <td>119</td>\n",
       "    </tr>\n",
       "    <tr>\n",
       "      <th>2</th>\n",
       "      <td>South Africa</td>\n",
       "      <td>24</td>\n",
       "      <td>2,828</td>\n",
       "      <td>118</td>\n",
       "    </tr>\n",
       "    <tr>\n",
       "      <th>3</th>\n",
       "      <td>India</td>\n",
       "      <td>23</td>\n",
       "      <td>2,535</td>\n",
       "      <td>110</td>\n",
       "    </tr>\n",
       "    <tr>\n",
       "      <th>4</th>\n",
       "      <td>New Zealand</td>\n",
       "      <td>21</td>\n",
       "      <td>1,947</td>\n",
       "      <td>93</td>\n",
       "    </tr>\n",
       "    <tr>\n",
       "      <th>5</th>\n",
       "      <td>West Indies</td>\n",
       "      <td>17</td>\n",
       "      <td>1,427</td>\n",
       "      <td>84</td>\n",
       "    </tr>\n",
       "    <tr>\n",
       "      <th>6</th>\n",
       "      <td>Pakistan</td>\n",
       "      <td>20</td>\n",
       "      <td>1,496</td>\n",
       "      <td>75</td>\n",
       "    </tr>\n",
       "    <tr>\n",
       "      <th>7</th>\n",
       "      <td>Bangladesh</td>\n",
       "      <td>5</td>\n",
       "      <td>306</td>\n",
       "      <td>61</td>\n",
       "    </tr>\n",
       "    <tr>\n",
       "      <th>8</th>\n",
       "      <td>Sri Lanka</td>\n",
       "      <td>11</td>\n",
       "      <td>519</td>\n",
       "      <td>47</td>\n",
       "    </tr>\n",
       "    <tr>\n",
       "      <th>9</th>\n",
       "      <td>Ireland</td>\n",
       "      <td>2</td>\n",
       "      <td>25</td>\n",
       "      <td>13</td>\n",
       "    </tr>\n",
       "  </tbody>\n",
       "</table>\n",
       "</div>"
      ],
      "text/plain": [
       "           Team Matches Points Ratings\n",
       "0     Australia      18  2,955     164\n",
       "1       England      20  2,370     119\n",
       "2  South Africa      24  2,828     118\n",
       "3         India      23  2,535     110\n",
       "4   New Zealand      21  1,947      93\n",
       "5   West Indies      17  1,427      84\n",
       "6      Pakistan      20  1,496      75\n",
       "7    Bangladesh       5    306      61\n",
       "8     Sri Lanka      11    519      47\n",
       "9       Ireland       2     25      13"
      ]
     },
     "execution_count": 52,
     "metadata": {},
     "output_type": "execute_result"
    }
   ],
   "source": [
    "Women10=pd.DataFrame({})\n",
    "Women10['Team']=column_team\n",
    "Women10['Matches']=column_matches\n",
    "Women10['Points']=column_points\n",
    "Women10['Ratings']=column_rating\n",
    "\n",
    "Women10"
   ]
  },
  {
   "cell_type": "markdown",
   "id": "03b8b998",
   "metadata": {},
   "source": [
    "#### Q6.ii)"
   ]
  },
  {
   "cell_type": "code",
   "execution_count": 53,
   "id": "d2688251",
   "metadata": {},
   "outputs": [
    {
     "name": "stdout",
     "output_type": "stream",
     "text": [
      "<Response [200]>\n"
     ]
    }
   ],
   "source": [
    "page51=requests.get('https://www.icc-cricket.com/rankings/womens/player-rankings/odi/batting')\n",
    "print(page51)\n",
    "\n",
    "soup51=BeautifulSoup(page51.content)"
   ]
  },
  {
   "cell_type": "code",
   "execution_count": 54,
   "id": "5db6d318",
   "metadata": {},
   "outputs": [
    {
     "name": "stdout",
     "output_type": "stream",
     "text": [
      "['Mithali Raj', 'Lizelle Lee', 'Alyssa Healy', 'Tammy Beaumont', 'Stafanie Taylor', 'Meg Lanning', 'Amy Satterthwaite', 'Natalie Sciver', 'Smriti Mandhana', 'Laura Wolvaardt']\n"
     ]
    }
   ],
   "source": [
    "player_name=soup51.find_all('div',class_='rankings-block__banner--name-large')\n",
    "\n",
    "column_name=[]\n",
    "for i in player_name:\n",
    "    column_name.append(i.text.strip())\n",
    "\n",
    "player_name=soup51.find_all('td',class_='table-body__cell rankings-table__name name')\n",
    "\n",
    "for i in player_name:\n",
    "    column_name.append(i.text.strip())\n",
    "column_name=column_name[0:10]\n",
    "print(column_name)"
   ]
  },
  {
   "cell_type": "code",
   "execution_count": 55,
   "id": "ba87fc74",
   "metadata": {},
   "outputs": [
    {
     "name": "stdout",
     "output_type": "stream",
     "text": [
      "['AFG', 'ENG', 'BAN', 'NZ', 'IND', 'AUS', 'BAN', 'SA', 'AUS', 'BAN']\n"
     ]
    }
   ],
   "source": [
    "layer_country=soup51.find_all('div',class_='rankings-block__banner--nationality')\n",
    "\n",
    "column_country=[]\n",
    "for i in player_country:\n",
    "    column_country.append(i.text.strip())\n",
    "\n",
    "player_country=soup51.find_all('td',class_='table-body__cell nationality-logo rankings-table__team')\n",
    "\n",
    "for i in player_country:\n",
    "    column_country.append(i.text.strip())\n",
    "column_country=column_country[0:10]\n",
    "print(column_country)"
   ]
  },
  {
   "cell_type": "code",
   "execution_count": 56,
   "id": "f674a15d",
   "metadata": {},
   "outputs": [
    {
     "name": "stdout",
     "output_type": "stream",
     "text": [
      "['762', '758', '756', '754', '736', '723', '715', '706', '701', '683']\n"
     ]
    }
   ],
   "source": [
    "player_rating=soup51.find_all('div',class_='rankings-block__banner--rating')\n",
    "\n",
    "column_rating=[]\n",
    "for i in player_rating:\n",
    "    column_rating.append(i.text.strip())\n",
    "\n",
    "player_rating=soup51.find_all('td',class_='table-body__cell rating')\n",
    "\n",
    "for i in player_rating:\n",
    "    column_rating.append(i.text.strip())\n",
    "column_rating=column_rating[0:10]\n",
    "print(column_rating)"
   ]
  },
  {
   "cell_type": "code",
   "execution_count": 57,
   "id": "61efe8f2",
   "metadata": {},
   "outputs": [
    {
     "data": {
      "text/html": [
       "<div>\n",
       "<style scoped>\n",
       "    .dataframe tbody tr th:only-of-type {\n",
       "        vertical-align: middle;\n",
       "    }\n",
       "\n",
       "    .dataframe tbody tr th {\n",
       "        vertical-align: top;\n",
       "    }\n",
       "\n",
       "    .dataframe thead th {\n",
       "        text-align: right;\n",
       "    }\n",
       "</style>\n",
       "<table border=\"1\" class=\"dataframe\">\n",
       "  <thead>\n",
       "    <tr style=\"text-align: right;\">\n",
       "      <th></th>\n",
       "      <th>Names</th>\n",
       "      <th>Team</th>\n",
       "      <th>Rating</th>\n",
       "    </tr>\n",
       "  </thead>\n",
       "  <tbody>\n",
       "    <tr>\n",
       "      <th>0</th>\n",
       "      <td>Mithali Raj</td>\n",
       "      <td>AFG</td>\n",
       "      <td>762</td>\n",
       "    </tr>\n",
       "    <tr>\n",
       "      <th>1</th>\n",
       "      <td>Lizelle Lee</td>\n",
       "      <td>ENG</td>\n",
       "      <td>758</td>\n",
       "    </tr>\n",
       "    <tr>\n",
       "      <th>2</th>\n",
       "      <td>Alyssa Healy</td>\n",
       "      <td>BAN</td>\n",
       "      <td>756</td>\n",
       "    </tr>\n",
       "    <tr>\n",
       "      <th>3</th>\n",
       "      <td>Tammy Beaumont</td>\n",
       "      <td>NZ</td>\n",
       "      <td>754</td>\n",
       "    </tr>\n",
       "    <tr>\n",
       "      <th>4</th>\n",
       "      <td>Stafanie Taylor</td>\n",
       "      <td>IND</td>\n",
       "      <td>736</td>\n",
       "    </tr>\n",
       "    <tr>\n",
       "      <th>5</th>\n",
       "      <td>Meg Lanning</td>\n",
       "      <td>AUS</td>\n",
       "      <td>723</td>\n",
       "    </tr>\n",
       "    <tr>\n",
       "      <th>6</th>\n",
       "      <td>Amy Satterthwaite</td>\n",
       "      <td>BAN</td>\n",
       "      <td>715</td>\n",
       "    </tr>\n",
       "    <tr>\n",
       "      <th>7</th>\n",
       "      <td>Natalie Sciver</td>\n",
       "      <td>SA</td>\n",
       "      <td>706</td>\n",
       "    </tr>\n",
       "    <tr>\n",
       "      <th>8</th>\n",
       "      <td>Smriti Mandhana</td>\n",
       "      <td>AUS</td>\n",
       "      <td>701</td>\n",
       "    </tr>\n",
       "    <tr>\n",
       "      <th>9</th>\n",
       "      <td>Laura Wolvaardt</td>\n",
       "      <td>BAN</td>\n",
       "      <td>683</td>\n",
       "    </tr>\n",
       "  </tbody>\n",
       "</table>\n",
       "</div>"
      ],
      "text/plain": [
       "               Names Team Rating\n",
       "0        Mithali Raj  AFG    762\n",
       "1        Lizelle Lee  ENG    758\n",
       "2       Alyssa Healy  BAN    756\n",
       "3     Tammy Beaumont   NZ    754\n",
       "4    Stafanie Taylor  IND    736\n",
       "5        Meg Lanning  AUS    723\n",
       "6  Amy Satterthwaite  BAN    715\n",
       "7     Natalie Sciver   SA    706\n",
       "8    Smriti Mandhana  AUS    701\n",
       "9    Laura Wolvaardt  BAN    683"
      ]
     },
     "execution_count": 57,
     "metadata": {},
     "output_type": "execute_result"
    }
   ],
   "source": [
    "WomanBatsman=pd.DataFrame({})\n",
    "WomanBatsman['Names']=column_name\n",
    "WomanBatsman['Team']=column_country\n",
    "WomanBatsman['Rating']=column_rating\n",
    "\n",
    "WomanBatsman"
   ]
  },
  {
   "cell_type": "markdown",
   "id": "74a0c67f",
   "metadata": {},
   "source": [
    "#### Q6.iii)"
   ]
  },
  {
   "cell_type": "code",
   "execution_count": 58,
   "id": "dd92b34b",
   "metadata": {},
   "outputs": [
    {
     "name": "stdout",
     "output_type": "stream",
     "text": [
      "<Response [200]>\n"
     ]
    }
   ],
   "source": [
    "page52=requests.get('https://www.icc-cricket.com/rankings/womens/player-rankings/odi/all-rounder')\n",
    "print(page52)\n",
    "\n",
    "soup52=BeautifulSoup(page52.content)"
   ]
  },
  {
   "cell_type": "code",
   "execution_count": 59,
   "id": "3f25bbc4",
   "metadata": {},
   "outputs": [
    {
     "name": "stdout",
     "output_type": "stream",
     "text": [
      "['Marizanne Kapp', 'Ellyse Perry', 'Stafanie Taylor', 'Natalie Sciver', 'Deepti Sharma', 'Jess Jonassen', 'Ashleigh Gardner', 'Dane van Niekerk', 'Sophie Devine', 'Katherine Brunt']\n"
     ]
    }
   ],
   "source": [
    "player_name=soup52.find_all('div',class_='rankings-block__banner--name-large')\n",
    "\n",
    "column_name=[]\n",
    "for i in player_name:\n",
    "    column_name.append(i.text.strip())\n",
    "\n",
    "player_name=soup52.find_all('td',class_='table-body__cell rankings-table__name name')\n",
    "\n",
    "for i in player_name:\n",
    "    column_name.append(i.text.strip())\n",
    "column_name=column_name[0:10]\n",
    "print(column_name)"
   ]
  },
  {
   "cell_type": "code",
   "execution_count": 60,
   "id": "2913515b",
   "metadata": {},
   "outputs": [
    {
     "name": "stdout",
     "output_type": "stream",
     "text": [
      "['SA', 'AUS', 'WI', 'ENG', 'IND', 'AUS', 'AUS', 'SA', 'NZ', 'ENG']\n"
     ]
    }
   ],
   "source": [
    "player_country=soup52.find_all('div',class_='rankings-block__banner--nationality')\n",
    "\n",
    "column_country=[]\n",
    "for i in player_country:\n",
    "    column_country.append(i.text.strip())\n",
    "\n",
    "player_country=soup52.find_all('td',class_='table-body__cell nationality-logo rankings-table__team')\n",
    "\n",
    "for i in player_country:\n",
    "    column_country.append(i.text.strip())\n",
    "column_country=column_country[0:10]\n",
    "print(column_country)"
   ]
  },
  {
   "cell_type": "code",
   "execution_count": 61,
   "id": "63b84513",
   "metadata": {},
   "outputs": [
    {
     "name": "stdout",
     "output_type": "stream",
     "text": [
      "['418', '418', '394', '365', '331', '307', '252', '243', '242', '239']\n"
     ]
    }
   ],
   "source": [
    "player_rating=soup52.find_all('div',class_='rankings-block__banner--rating')\n",
    "\n",
    "column_rating=[]\n",
    "for i in player_rating:\n",
    "    column_rating.append(i.text.strip())\n",
    "\n",
    "player_rating=soup52.find_all('td',class_='table-body__cell rating')\n",
    "\n",
    "for i in player_rating:\n",
    "    column_rating.append(i.text.strip())\n",
    "column_rating=column_rating[0:10]\n",
    "print(column_rating)"
   ]
  },
  {
   "cell_type": "code",
   "execution_count": 62,
   "id": "f1801208",
   "metadata": {},
   "outputs": [
    {
     "data": {
      "text/html": [
       "<div>\n",
       "<style scoped>\n",
       "    .dataframe tbody tr th:only-of-type {\n",
       "        vertical-align: middle;\n",
       "    }\n",
       "\n",
       "    .dataframe tbody tr th {\n",
       "        vertical-align: top;\n",
       "    }\n",
       "\n",
       "    .dataframe thead th {\n",
       "        text-align: right;\n",
       "    }\n",
       "</style>\n",
       "<table border=\"1\" class=\"dataframe\">\n",
       "  <thead>\n",
       "    <tr style=\"text-align: right;\">\n",
       "      <th></th>\n",
       "      <th>Names</th>\n",
       "      <th>Team</th>\n",
       "      <th>Rating</th>\n",
       "    </tr>\n",
       "  </thead>\n",
       "  <tbody>\n",
       "    <tr>\n",
       "      <th>0</th>\n",
       "      <td>Marizanne Kapp</td>\n",
       "      <td>SA</td>\n",
       "      <td>418</td>\n",
       "    </tr>\n",
       "    <tr>\n",
       "      <th>1</th>\n",
       "      <td>Ellyse Perry</td>\n",
       "      <td>AUS</td>\n",
       "      <td>418</td>\n",
       "    </tr>\n",
       "    <tr>\n",
       "      <th>2</th>\n",
       "      <td>Stafanie Taylor</td>\n",
       "      <td>WI</td>\n",
       "      <td>394</td>\n",
       "    </tr>\n",
       "    <tr>\n",
       "      <th>3</th>\n",
       "      <td>Natalie Sciver</td>\n",
       "      <td>ENG</td>\n",
       "      <td>365</td>\n",
       "    </tr>\n",
       "    <tr>\n",
       "      <th>4</th>\n",
       "      <td>Deepti Sharma</td>\n",
       "      <td>IND</td>\n",
       "      <td>331</td>\n",
       "    </tr>\n",
       "    <tr>\n",
       "      <th>5</th>\n",
       "      <td>Jess Jonassen</td>\n",
       "      <td>AUS</td>\n",
       "      <td>307</td>\n",
       "    </tr>\n",
       "    <tr>\n",
       "      <th>6</th>\n",
       "      <td>Ashleigh Gardner</td>\n",
       "      <td>AUS</td>\n",
       "      <td>252</td>\n",
       "    </tr>\n",
       "    <tr>\n",
       "      <th>7</th>\n",
       "      <td>Dane van Niekerk</td>\n",
       "      <td>SA</td>\n",
       "      <td>243</td>\n",
       "    </tr>\n",
       "    <tr>\n",
       "      <th>8</th>\n",
       "      <td>Sophie Devine</td>\n",
       "      <td>NZ</td>\n",
       "      <td>242</td>\n",
       "    </tr>\n",
       "    <tr>\n",
       "      <th>9</th>\n",
       "      <td>Katherine Brunt</td>\n",
       "      <td>ENG</td>\n",
       "      <td>239</td>\n",
       "    </tr>\n",
       "  </tbody>\n",
       "</table>\n",
       "</div>"
      ],
      "text/plain": [
       "              Names Team Rating\n",
       "0    Marizanne Kapp   SA    418\n",
       "1      Ellyse Perry  AUS    418\n",
       "2   Stafanie Taylor   WI    394\n",
       "3    Natalie Sciver  ENG    365\n",
       "4     Deepti Sharma  IND    331\n",
       "5     Jess Jonassen  AUS    307\n",
       "6  Ashleigh Gardner  AUS    252\n",
       "7  Dane van Niekerk   SA    243\n",
       "8     Sophie Devine   NZ    242\n",
       "9   Katherine Brunt  ENG    239"
      ]
     },
     "execution_count": 62,
     "metadata": {},
     "output_type": "execute_result"
    }
   ],
   "source": [
    "All10=pd.DataFrame({})\n",
    "All10['Names']=column_name\n",
    "All10['Team']=column_country\n",
    "All10['Rating']=column_rating\n",
    "\n",
    "All10"
   ]
  },
  {
   "cell_type": "markdown",
   "id": "c779bafd",
   "metadata": {},
   "source": [
    "### 7.Write a python program to scrape details of all the mobile phones under Rs. 20,000 listed on Amazon.in. The scraped data should include Product Name, Price, Image URL and Average Rating."
   ]
  },
  {
   "cell_type": "code",
   "execution_count": 64,
   "id": "4a8ced80",
   "metadata": {},
   "outputs": [
    {
     "name": "stdout",
     "output_type": "stream",
     "text": [
      "<Response [200]>\n"
     ]
    }
   ],
   "source": [
    "page6=requests.get('https://www.amazon.in/Mobile-Phone-Under-20000-Rupees/s?k=Mobile+Phone+Under+20000+Rupees')\n",
    "print(page6)\n",
    "\n",
    "soup6=BeautifulSoup(page6.content,'html.parser')"
   ]
  },
  {
   "cell_type": "code",
   "execution_count": 65,
   "id": "10b4034f",
   "metadata": {},
   "outputs": [
    {
     "data": {
      "text/plain": [
       "['Redmi 9 (Sky Blue, 4GB RAM, 64GB Storage)',\n",
       " 'Redmi 9A (Nature Green, 2GB RAM, 32GB Storage)',\n",
       " 'Oppo A31 (Fantasy White, 6GB RAM, 128GB Storage) with No Cost EMI/Additional Exchange Offers',\n",
       " 'Tecno Spark 7T(Jewel Blue, 4GB RAM, 64GB Storage) 6000 mAh Battery',\n",
       " 'Redmi 9 Prime (Sunrise Flare, 4GB RAM, 64GB Storage)- Full HD+ Display & AI Quad Camera',\n",
       " 'Samsung Galaxy M11 (Black, 4GB RAM, 64GB Storage) with No Cost EMI/Additional Exchange Offers',\n",
       " 'Samsung Galaxy M31 (Ocean Blue, 8GB RAM, 128GB Storage) 6 Months Free Screen Replacement for Prime',\n",
       " 'Panasonic Eluga i7 (2GB RAM, 16GB Storage, Finger Print Sensor, 4000mAh Battery) (Black)',\n",
       " 'Redmi Note 9 (Pebble Grey, 4GB RAM 64GB Storage) - 48MP Quad Camera & Full HD+ Display',\n",
       " 'realme C11 (2021) (Cool Blue, 2GB RAM, 32GB Storage) with No Cost EMI/Additional Exchange Offers',\n",
       " 'Redmi 9 (Carbon Black, 4GB RAM, 64GB Storage)',\n",
       " 'Redmi 9A(Midnight Black 3GB RAM 32GB Storage)',\n",
       " 'Oppo A31 (Mystery Black, 6GB RAM, 128GB Storage) with No Cost EMI/Additional Exchange Offers',\n",
       " 'Redmi 9 (Sporty Orange, 4GB RAM, 64GB Storage)',\n",
       " 'Redmi 9A (Sea Blue 3GB RAM 32GB Storage)',\n",
       " 'Redmi 9A (Midnight Black 2GB RAM 32GB Storage)']"
      ]
     },
     "execution_count": 65,
     "metadata": {},
     "output_type": "execute_result"
    }
   ],
   "source": [
    "mobile_name=soup6.find_all('span',class_='a-size-medium a-color-base a-text-normal')\n",
    "\n",
    "column_name=[]\n",
    "for i in mobile_name:\n",
    "    column_name.append(i.text.split('|'))\n",
    "\n",
    "column_names=[]\n",
    "for l in column_name:\n",
    "  column_names.append(l[0].strip())\n",
    "column_names"
   ]
  },
  {
   "cell_type": "code",
   "execution_count": 66,
   "id": "27697430",
   "metadata": {},
   "outputs": [
    {
     "name": "stdout",
     "output_type": "stream",
     "text": [
      "['8,999', '6,799', '11,990', '8,999', '9,999', '9,999', '16,999', '5,498', '11,499', '6,699', '8,999', '7,799', '11,990', '8,999', '7,799', '6,799']\n"
     ]
    }
   ],
   "source": [
    "mobile_price=soup6.find_all('span',class_='a-price-whole')\n",
    "\n",
    "column_price=[]\n",
    "for i in mobile_price:\n",
    "    column_price.append(i.text.strip())\n",
    "print(column_price)"
   ]
  },
  {
   "cell_type": "code",
   "execution_count": 67,
   "id": "1c554f71",
   "metadata": {},
   "outputs": [
    {
     "data": {
      "text/plain": [
       "['https://m.media-amazon.com/images/I/71A9Vo1BatL._AC_UY218_.jpg',\n",
       " 'https://m.media-amazon.com/images/I/71sxlhYhKWL._AC_UY218_.jpg',\n",
       " 'https://m.media-amazon.com/images/I/61CnyJ-IbML._AC_UY218_.jpg',\n",
       " 'https://m.media-amazon.com/images/I/81aWyRY67SS._AC_UY218_.jpg',\n",
       " 'https://m.media-amazon.com/images/I/71U2SiHgbiL._AC_UY218_.jpg',\n",
       " 'https://m.media-amazon.com/images/I/710jkZNub3S._AC_UY218_.jpg',\n",
       " 'https://m.media-amazon.com/images/I/71-Su4Wr0HL._AC_UY218_.jpg',\n",
       " 'https://m.media-amazon.com/images/I/41QsvcpKaZL._AC_UY218_.jpg',\n",
       " 'https://m.media-amazon.com/images/I/71X5I1cVfbL._AC_UY218_.jpg',\n",
       " 'https://m.media-amazon.com/images/I/71FYSKYFupS._AC_UY218_.jpg',\n",
       " 'https://m.media-amazon.com/images/I/716nHhG9SWL._AC_UY218_.jpg',\n",
       " 'https://m.media-amazon.com/images/I/71sxlhYhKWL._AC_UY218_.jpg',\n",
       " 'https://m.media-amazon.com/images/I/71KCwNV6MuL._AC_UY218_.jpg',\n",
       " 'https://m.media-amazon.com/images/I/71A9Vo1BatL._AC_UY218_.jpg',\n",
       " 'https://m.media-amazon.com/images/I/71sxlhYhKWL._AC_UY218_.jpg',\n",
       " 'https://m.media-amazon.com/images/I/71sxlhYhKWL._AC_UY218_.jpg']"
      ]
     },
     "execution_count": 67,
     "metadata": {},
     "output_type": "execute_result"
    }
   ],
   "source": [
    "mobile_image=soup6.find_all('img',class_='s-image')\n",
    "\n",
    "column_image=[]\n",
    "for i in mobile_image:\n",
    "    column_image.append(i['src'])\n",
    "column_image"
   ]
  },
  {
   "cell_type": "code",
   "execution_count": 68,
   "id": "5b1e6404",
   "metadata": {},
   "outputs": [
    {
     "name": "stdout",
     "output_type": "stream",
     "text": [
      "['4.2 out of 5 stars', '4.2 out of 5 stars', '4.2 out of 5 stars', '4.0 out of 5 stars', '4.3 out of 5 stars', '4.1 out of 5 stars', '4.3 out of 5 stars', '3.1 out of 5 stars', '4.3 out of 5 stars', '4.1 out of 5 stars', '4.2 out of 5 stars', '4.2 out of 5 stars', '4.2 out of 5 stars', '4.2 out of 5 stars', '4.2 out of 5 stars', '4.2 out of 5 stars']\n"
     ]
    }
   ],
   "source": [
    "mobile_review=soup6.find_all('span',class_='a-icon-alt')\n",
    "\n",
    "column_review=[]\n",
    "for i in mobile_review:\n",
    "    column_review.append(i.text.strip())\n",
    "column_review=column_review[0:16]\n",
    "print(column_review)"
   ]
  },
  {
   "cell_type": "code",
   "execution_count": 69,
   "id": "656bd366",
   "metadata": {},
   "outputs": [
    {
     "data": {
      "text/html": [
       "<div>\n",
       "<style scoped>\n",
       "    .dataframe tbody tr th:only-of-type {\n",
       "        vertical-align: middle;\n",
       "    }\n",
       "\n",
       "    .dataframe tbody tr th {\n",
       "        vertical-align: top;\n",
       "    }\n",
       "\n",
       "    .dataframe thead th {\n",
       "        text-align: right;\n",
       "    }\n",
       "</style>\n",
       "<table border=\"1\" class=\"dataframe\">\n",
       "  <thead>\n",
       "    <tr style=\"text-align: right;\">\n",
       "      <th></th>\n",
       "      <th>Names</th>\n",
       "      <th>Price</th>\n",
       "      <th>Image url</th>\n",
       "      <th>Review</th>\n",
       "    </tr>\n",
       "  </thead>\n",
       "  <tbody>\n",
       "    <tr>\n",
       "      <th>0</th>\n",
       "      <td>Redmi 9 (Sky Blue, 4GB RAM, 64GB Storage)</td>\n",
       "      <td>8,999</td>\n",
       "      <td>https://m.media-amazon.com/images/I/71A9Vo1Bat...</td>\n",
       "      <td>4.2 out of 5 stars</td>\n",
       "    </tr>\n",
       "    <tr>\n",
       "      <th>1</th>\n",
       "      <td>Redmi 9A (Nature Green, 2GB RAM, 32GB Storage)</td>\n",
       "      <td>6,799</td>\n",
       "      <td>https://m.media-amazon.com/images/I/71sxlhYhKW...</td>\n",
       "      <td>4.2 out of 5 stars</td>\n",
       "    </tr>\n",
       "    <tr>\n",
       "      <th>2</th>\n",
       "      <td>Oppo A31 (Fantasy White, 6GB RAM, 128GB Storag...</td>\n",
       "      <td>11,990</td>\n",
       "      <td>https://m.media-amazon.com/images/I/61CnyJ-IbM...</td>\n",
       "      <td>4.2 out of 5 stars</td>\n",
       "    </tr>\n",
       "    <tr>\n",
       "      <th>3</th>\n",
       "      <td>Tecno Spark 7T(Jewel Blue, 4GB RAM, 64GB Stora...</td>\n",
       "      <td>8,999</td>\n",
       "      <td>https://m.media-amazon.com/images/I/81aWyRY67S...</td>\n",
       "      <td>4.0 out of 5 stars</td>\n",
       "    </tr>\n",
       "    <tr>\n",
       "      <th>4</th>\n",
       "      <td>Redmi 9 Prime (Sunrise Flare, 4GB RAM, 64GB St...</td>\n",
       "      <td>9,999</td>\n",
       "      <td>https://m.media-amazon.com/images/I/71U2SiHgbi...</td>\n",
       "      <td>4.3 out of 5 stars</td>\n",
       "    </tr>\n",
       "    <tr>\n",
       "      <th>5</th>\n",
       "      <td>Samsung Galaxy M11 (Black, 4GB RAM, 64GB Stora...</td>\n",
       "      <td>9,999</td>\n",
       "      <td>https://m.media-amazon.com/images/I/710jkZNub3...</td>\n",
       "      <td>4.1 out of 5 stars</td>\n",
       "    </tr>\n",
       "    <tr>\n",
       "      <th>6</th>\n",
       "      <td>Samsung Galaxy M31 (Ocean Blue, 8GB RAM, 128GB...</td>\n",
       "      <td>16,999</td>\n",
       "      <td>https://m.media-amazon.com/images/I/71-Su4Wr0H...</td>\n",
       "      <td>4.3 out of 5 stars</td>\n",
       "    </tr>\n",
       "    <tr>\n",
       "      <th>7</th>\n",
       "      <td>Panasonic Eluga i7 (2GB RAM, 16GB Storage, Fin...</td>\n",
       "      <td>5,498</td>\n",
       "      <td>https://m.media-amazon.com/images/I/41QsvcpKaZ...</td>\n",
       "      <td>3.1 out of 5 stars</td>\n",
       "    </tr>\n",
       "    <tr>\n",
       "      <th>8</th>\n",
       "      <td>Redmi Note 9 (Pebble Grey, 4GB RAM 64GB Storag...</td>\n",
       "      <td>11,499</td>\n",
       "      <td>https://m.media-amazon.com/images/I/71X5I1cVfb...</td>\n",
       "      <td>4.3 out of 5 stars</td>\n",
       "    </tr>\n",
       "    <tr>\n",
       "      <th>9</th>\n",
       "      <td>realme C11 (2021) (Cool Blue, 2GB RAM, 32GB St...</td>\n",
       "      <td>6,699</td>\n",
       "      <td>https://m.media-amazon.com/images/I/71FYSKYFup...</td>\n",
       "      <td>4.1 out of 5 stars</td>\n",
       "    </tr>\n",
       "    <tr>\n",
       "      <th>10</th>\n",
       "      <td>Redmi 9 (Carbon Black, 4GB RAM, 64GB Storage)</td>\n",
       "      <td>8,999</td>\n",
       "      <td>https://m.media-amazon.com/images/I/716nHhG9SW...</td>\n",
       "      <td>4.2 out of 5 stars</td>\n",
       "    </tr>\n",
       "    <tr>\n",
       "      <th>11</th>\n",
       "      <td>Redmi 9A(Midnight Black 3GB RAM 32GB Storage)</td>\n",
       "      <td>7,799</td>\n",
       "      <td>https://m.media-amazon.com/images/I/71sxlhYhKW...</td>\n",
       "      <td>4.2 out of 5 stars</td>\n",
       "    </tr>\n",
       "    <tr>\n",
       "      <th>12</th>\n",
       "      <td>Oppo A31 (Mystery Black, 6GB RAM, 128GB Storag...</td>\n",
       "      <td>11,990</td>\n",
       "      <td>https://m.media-amazon.com/images/I/71KCwNV6Mu...</td>\n",
       "      <td>4.2 out of 5 stars</td>\n",
       "    </tr>\n",
       "    <tr>\n",
       "      <th>13</th>\n",
       "      <td>Redmi 9 (Sporty Orange, 4GB RAM, 64GB Storage)</td>\n",
       "      <td>8,999</td>\n",
       "      <td>https://m.media-amazon.com/images/I/71A9Vo1Bat...</td>\n",
       "      <td>4.2 out of 5 stars</td>\n",
       "    </tr>\n",
       "    <tr>\n",
       "      <th>14</th>\n",
       "      <td>Redmi 9A (Sea Blue 3GB RAM 32GB Storage)</td>\n",
       "      <td>7,799</td>\n",
       "      <td>https://m.media-amazon.com/images/I/71sxlhYhKW...</td>\n",
       "      <td>4.2 out of 5 stars</td>\n",
       "    </tr>\n",
       "    <tr>\n",
       "      <th>15</th>\n",
       "      <td>Redmi 9A (Midnight Black 2GB RAM 32GB Storage)</td>\n",
       "      <td>6,799</td>\n",
       "      <td>https://m.media-amazon.com/images/I/71sxlhYhKW...</td>\n",
       "      <td>4.2 out of 5 stars</td>\n",
       "    </tr>\n",
       "  </tbody>\n",
       "</table>\n",
       "</div>"
      ],
      "text/plain": [
       "                                                Names   Price  \\\n",
       "0           Redmi 9 (Sky Blue, 4GB RAM, 64GB Storage)   8,999   \n",
       "1      Redmi 9A (Nature Green, 2GB RAM, 32GB Storage)   6,799   \n",
       "2   Oppo A31 (Fantasy White, 6GB RAM, 128GB Storag...  11,990   \n",
       "3   Tecno Spark 7T(Jewel Blue, 4GB RAM, 64GB Stora...   8,999   \n",
       "4   Redmi 9 Prime (Sunrise Flare, 4GB RAM, 64GB St...   9,999   \n",
       "5   Samsung Galaxy M11 (Black, 4GB RAM, 64GB Stora...   9,999   \n",
       "6   Samsung Galaxy M31 (Ocean Blue, 8GB RAM, 128GB...  16,999   \n",
       "7   Panasonic Eluga i7 (2GB RAM, 16GB Storage, Fin...   5,498   \n",
       "8   Redmi Note 9 (Pebble Grey, 4GB RAM 64GB Storag...  11,499   \n",
       "9   realme C11 (2021) (Cool Blue, 2GB RAM, 32GB St...   6,699   \n",
       "10      Redmi 9 (Carbon Black, 4GB RAM, 64GB Storage)   8,999   \n",
       "11      Redmi 9A(Midnight Black 3GB RAM 32GB Storage)   7,799   \n",
       "12  Oppo A31 (Mystery Black, 6GB RAM, 128GB Storag...  11,990   \n",
       "13     Redmi 9 (Sporty Orange, 4GB RAM, 64GB Storage)   8,999   \n",
       "14           Redmi 9A (Sea Blue 3GB RAM 32GB Storage)   7,799   \n",
       "15     Redmi 9A (Midnight Black 2GB RAM 32GB Storage)   6,799   \n",
       "\n",
       "                                            Image url              Review  \n",
       "0   https://m.media-amazon.com/images/I/71A9Vo1Bat...  4.2 out of 5 stars  \n",
       "1   https://m.media-amazon.com/images/I/71sxlhYhKW...  4.2 out of 5 stars  \n",
       "2   https://m.media-amazon.com/images/I/61CnyJ-IbM...  4.2 out of 5 stars  \n",
       "3   https://m.media-amazon.com/images/I/81aWyRY67S...  4.0 out of 5 stars  \n",
       "4   https://m.media-amazon.com/images/I/71U2SiHgbi...  4.3 out of 5 stars  \n",
       "5   https://m.media-amazon.com/images/I/710jkZNub3...  4.1 out of 5 stars  \n",
       "6   https://m.media-amazon.com/images/I/71-Su4Wr0H...  4.3 out of 5 stars  \n",
       "7   https://m.media-amazon.com/images/I/41QsvcpKaZ...  3.1 out of 5 stars  \n",
       "8   https://m.media-amazon.com/images/I/71X5I1cVfb...  4.3 out of 5 stars  \n",
       "9   https://m.media-amazon.com/images/I/71FYSKYFup...  4.1 out of 5 stars  \n",
       "10  https://m.media-amazon.com/images/I/716nHhG9SW...  4.2 out of 5 stars  \n",
       "11  https://m.media-amazon.com/images/I/71sxlhYhKW...  4.2 out of 5 stars  \n",
       "12  https://m.media-amazon.com/images/I/71KCwNV6Mu...  4.2 out of 5 stars  \n",
       "13  https://m.media-amazon.com/images/I/71A9Vo1Bat...  4.2 out of 5 stars  \n",
       "14  https://m.media-amazon.com/images/I/71sxlhYhKW...  4.2 out of 5 stars  \n",
       "15  https://m.media-amazon.com/images/I/71sxlhYhKW...  4.2 out of 5 stars  "
      ]
     },
     "execution_count": 69,
     "metadata": {},
     "output_type": "execute_result"
    }
   ],
   "source": [
    "Mobile=pd.DataFrame({})\n",
    "Mobile['Names']=column_names\n",
    "Mobile['Price']=column_price\n",
    "Mobile['Image url']=column_image\n",
    "Mobile['Review']=column_review\n",
    "\n",
    "Mobile"
   ]
  },
  {
   "cell_type": "markdown",
   "id": "ffb4397a",
   "metadata": {},
   "source": [
    "### 8.Write a python program to extract information about the local weather from the National Weather Service website of USA, https://www.weather.gov/ for the city, San Francisco. You need to extract data about 7 day extended forecast display for the city. The data should include period, short description, temperature and description."
   ]
  },
  {
   "cell_type": "code",
   "execution_count": 71,
   "id": "3d5fd6d1",
   "metadata": {},
   "outputs": [
    {
     "name": "stdout",
     "output_type": "stream",
     "text": [
      "<Response [200]>\n"
     ]
    }
   ],
   "source": [
    "page7=requests.get('https://forecast.weather.gov/MapClick.php?lat=37.777120000000025&lon=-122.41963999999996#.YLcqPBozbIV')\n",
    "print(page7)\n",
    "\n",
    "soup7=BeautifulSoup(page7.content,'html.parser')"
   ]
  },
  {
   "cell_type": "code",
   "execution_count": 72,
   "id": "cf90926d",
   "metadata": {},
   "outputs": [
    {
     "name": "stdout",
     "output_type": "stream",
     "text": [
      "['Overnight', 'Tuesday', 'TuesdayNight', 'Wednesday', 'WednesdayNight', 'Thursday', 'ThursdayNight', 'Friday', 'FridayNight']\n"
     ]
    }
   ],
   "source": [
    "period=soup7.find_all('p',class_='period-name')\n",
    "\n",
    "column_period=[]\n",
    "for i in period:\n",
    "    column_period.append(i.text.strip())\n",
    "print(column_period)"
   ]
  },
  {
   "cell_type": "code",
   "execution_count": 73,
   "id": "0e03daa0",
   "metadata": {},
   "outputs": [
    {
     "name": "stdout",
     "output_type": "stream",
     "text": [
      "['Slight ChanceT-storms', 'Slight ChanceT-storms thenSunny andBreezy', 'Mostly Clearand Breezythen MostlyCloudy', 'Mostly Sunnythen MostlySunny andBreezy', 'Mostly Cloudyand Breezythen MostlyCloudy', 'Partly Sunnythen MostlySunny andBreezy', 'Partly Cloudyand Breezythen MostlyCloudy', 'Mostly Sunny', 'Mostly Cloudy']\n"
     ]
    }
   ],
   "source": [
    "describe=soup7.find_all('p',class_='short-desc')\n",
    "\n",
    "column_describe=[]\n",
    "for i in describe:\n",
    "    column_describe.append(i.text)\n",
    "print(column_describe)"
   ]
  },
  {
   "cell_type": "code",
   "execution_count": 74,
   "id": "85a0f799",
   "metadata": {},
   "outputs": [
    {
     "name": "stdout",
     "output_type": "stream",
     "text": [
      "['Low: 57 °F', 'High: 73 °F', 'Low: 57 °F', 'High: 71 °F', 'Low: 57 °F', 'High: 70 °F', 'Low: 57 °F', 'High: 70 °F', 'Low: 56 °F']\n"
     ]
    }
   ],
   "source": [
    "temperature=soup7.find_all('p',class_='temp')\n",
    "\n",
    "column_temperature=[]\n",
    "for i in temperature:\n",
    "    column_temperature.append(i.text)\n",
    "print(column_temperature)"
   ]
  },
  {
   "cell_type": "code",
   "execution_count": 76,
   "id": "0a3ec5ac",
   "metadata": {},
   "outputs": [
    {
     "data": {
      "text/plain": [
       "['A slight chance of showers, with thunderstorms also possible after 5am.  Mostly cloudy, with a low around 57. West southwest wind around 7 mph.  Chance of precipitation is 20%.',\n",
       " 'A slight chance of showers and thunderstorms before 9am, then a slight chance of showers between 9am and 11am.  Mostly cloudy, then gradually becoming sunny, with a high near 73. Breezy, with a west southwest wind 8 to 13 mph increasing to 17 to 22 mph in the afternoon. Winds could gust as high as 29 mph.  Chance of precipitation is 20%.',\n",
       " 'Partly cloudy, with a low around 57. Breezy, with a west wind 18 to 23 mph decreasing to 10 to 15 mph in the evening. Winds could gust as high as 29 mph. ',\n",
       " 'Mostly sunny, with a high near 71. Breezy, with a west wind 14 to 19 mph increasing to 20 to 25 mph in the afternoon. Winds could gust as high as 32 mph. ',\n",
       " 'Mostly cloudy, with a low around 57. Breezy, with a west southwest wind 20 to 25 mph decreasing to 13 to 18 mph after midnight. Winds could gust as high as 33 mph. ',\n",
       " 'Mostly sunny, with a high near 70. Breezy. ',\n",
       " 'Partly cloudy, with a low around 57. Breezy. ',\n",
       " 'Mostly sunny, with a high near 70.',\n",
       " 'Mostly cloudy, with a low around 56.']"
      ]
     },
     "execution_count": 76,
     "metadata": {},
     "output_type": "execute_result"
    }
   ],
   "source": [
    "description=soup7.find_all('div',class_='col-sm-10 forecast-text')\n",
    "\n",
    "column_description=[]\n",
    "for i in description:\n",
    "    column_description.append(i.text)\n",
    "column_description=column_description[0:9]\n",
    "column_description"
   ]
  },
  {
   "cell_type": "code",
   "execution_count": 78,
   "id": "15bb523c",
   "metadata": {},
   "outputs": [
    {
     "data": {
      "text/html": [
       "<div>\n",
       "<style scoped>\n",
       "    .dataframe tbody tr th:only-of-type {\n",
       "        vertical-align: middle;\n",
       "    }\n",
       "\n",
       "    .dataframe tbody tr th {\n",
       "        vertical-align: top;\n",
       "    }\n",
       "\n",
       "    .dataframe thead th {\n",
       "        text-align: right;\n",
       "    }\n",
       "</style>\n",
       "<table border=\"1\" class=\"dataframe\">\n",
       "  <thead>\n",
       "    <tr style=\"text-align: right;\">\n",
       "      <th></th>\n",
       "      <th>Period</th>\n",
       "      <th>ShortDescription</th>\n",
       "      <th>Temperature</th>\n",
       "      <th>Description</th>\n",
       "    </tr>\n",
       "  </thead>\n",
       "  <tbody>\n",
       "    <tr>\n",
       "      <th>0</th>\n",
       "      <td>Overnight</td>\n",
       "      <td>Slight ChanceT-storms</td>\n",
       "      <td>Low: 57 °F</td>\n",
       "      <td>A slight chance of showers, with thunderstorms...</td>\n",
       "    </tr>\n",
       "    <tr>\n",
       "      <th>1</th>\n",
       "      <td>Tuesday</td>\n",
       "      <td>Slight ChanceT-storms thenSunny andBreezy</td>\n",
       "      <td>High: 73 °F</td>\n",
       "      <td>A slight chance of showers and thunderstorms b...</td>\n",
       "    </tr>\n",
       "    <tr>\n",
       "      <th>2</th>\n",
       "      <td>TuesdayNight</td>\n",
       "      <td>Mostly Clearand Breezythen MostlyCloudy</td>\n",
       "      <td>Low: 57 °F</td>\n",
       "      <td>Partly cloudy, with a low around 57. Breezy, w...</td>\n",
       "    </tr>\n",
       "    <tr>\n",
       "      <th>3</th>\n",
       "      <td>Wednesday</td>\n",
       "      <td>Mostly Sunnythen MostlySunny andBreezy</td>\n",
       "      <td>High: 71 °F</td>\n",
       "      <td>Mostly sunny, with a high near 71. Breezy, wit...</td>\n",
       "    </tr>\n",
       "    <tr>\n",
       "      <th>4</th>\n",
       "      <td>WednesdayNight</td>\n",
       "      <td>Mostly Cloudyand Breezythen MostlyCloudy</td>\n",
       "      <td>Low: 57 °F</td>\n",
       "      <td>Mostly cloudy, with a low around 57. Breezy, w...</td>\n",
       "    </tr>\n",
       "    <tr>\n",
       "      <th>5</th>\n",
       "      <td>Thursday</td>\n",
       "      <td>Partly Sunnythen MostlySunny andBreezy</td>\n",
       "      <td>High: 70 °F</td>\n",
       "      <td>Mostly sunny, with a high near 70. Breezy.</td>\n",
       "    </tr>\n",
       "    <tr>\n",
       "      <th>6</th>\n",
       "      <td>ThursdayNight</td>\n",
       "      <td>Partly Cloudyand Breezythen MostlyCloudy</td>\n",
       "      <td>Low: 57 °F</td>\n",
       "      <td>Partly cloudy, with a low around 57. Breezy.</td>\n",
       "    </tr>\n",
       "    <tr>\n",
       "      <th>7</th>\n",
       "      <td>Friday</td>\n",
       "      <td>Mostly Sunny</td>\n",
       "      <td>High: 70 °F</td>\n",
       "      <td>Mostly sunny, with a high near 70.</td>\n",
       "    </tr>\n",
       "    <tr>\n",
       "      <th>8</th>\n",
       "      <td>FridayNight</td>\n",
       "      <td>Mostly Cloudy</td>\n",
       "      <td>Low: 56 °F</td>\n",
       "      <td>Mostly cloudy, with a low around 56.</td>\n",
       "    </tr>\n",
       "  </tbody>\n",
       "</table>\n",
       "</div>"
      ],
      "text/plain": [
       "           Period                           ShortDescription  Temperature  \\\n",
       "0       Overnight                      Slight ChanceT-storms   Low: 57 °F   \n",
       "1         Tuesday  Slight ChanceT-storms thenSunny andBreezy  High: 73 °F   \n",
       "2    TuesdayNight    Mostly Clearand Breezythen MostlyCloudy   Low: 57 °F   \n",
       "3       Wednesday     Mostly Sunnythen MostlySunny andBreezy  High: 71 °F   \n",
       "4  WednesdayNight   Mostly Cloudyand Breezythen MostlyCloudy   Low: 57 °F   \n",
       "5        Thursday     Partly Sunnythen MostlySunny andBreezy  High: 70 °F   \n",
       "6   ThursdayNight   Partly Cloudyand Breezythen MostlyCloudy   Low: 57 °F   \n",
       "7          Friday                               Mostly Sunny  High: 70 °F   \n",
       "8     FridayNight                              Mostly Cloudy   Low: 56 °F   \n",
       "\n",
       "                                         Description  \n",
       "0  A slight chance of showers, with thunderstorms...  \n",
       "1  A slight chance of showers and thunderstorms b...  \n",
       "2  Partly cloudy, with a low around 57. Breezy, w...  \n",
       "3  Mostly sunny, with a high near 71. Breezy, wit...  \n",
       "4  Mostly cloudy, with a low around 57. Breezy, w...  \n",
       "5        Mostly sunny, with a high near 70. Breezy.   \n",
       "6      Partly cloudy, with a low around 57. Breezy.   \n",
       "7                 Mostly sunny, with a high near 70.  \n",
       "8               Mostly cloudy, with a low around 56.  "
      ]
     },
     "execution_count": 78,
     "metadata": {},
     "output_type": "execute_result"
    }
   ],
   "source": [
    "weather=pd.DataFrame({})\n",
    "weather['Period']=column_period\n",
    "weather['ShortDescription']=column_describe\n",
    "weather['Temperature']=column_temperature\n",
    "weather['Description']=column_description\n",
    "\n",
    "weather"
   ]
  },
  {
   "cell_type": "markdown",
   "id": "acf11e7f",
   "metadata": {},
   "source": [
    "### 9.Write a python program to scrape fresher job listings from ‘https://internshala.com/’. It should include job title, company name, CTC, and apply date."
   ]
  },
  {
   "cell_type": "code",
   "execution_count": 79,
   "id": "9c10f872",
   "metadata": {},
   "outputs": [
    {
     "name": "stdout",
     "output_type": "stream",
     "text": [
      "<Response [200]>\n"
     ]
    }
   ],
   "source": [
    "page8=requests.get('https://internshala.com/fresher-jobs/page-1')\n",
    "print(page8)\n",
    "\n",
    "soup8=BeautifulSoup(page8.content,'html.parser')"
   ]
  },
  {
   "cell_type": "code",
   "execution_count": 80,
   "id": "7fbcbccb",
   "metadata": {},
   "outputs": [
    {
     "name": "stdout",
     "output_type": "stream",
     "text": [
      "['Sales Manager/Omni Sport Leader - Retail', 'MERN Stack Developer', 'Conversion Rate Optimization Analyst', 'Client Service Executive', 'Sales Development Representative', 'Corporate Sales Associate', 'International Business Development Executive', 'Product Marketer', 'Customer Support Associates', 'Content & Customer Care Executive', 'Django Developer', 'Reactjs Developer', 'Web Development Trainee', 'Business Development Executive', 'Cybersecurity Compliance Officer', 'MERN Stack Developer', 'Senior Copywriter', 'Corporate Sales Associate', 'Digital Marketing Associate', 'Social Media Marketing Executive', 'Business Development Executive', 'Operations Manager', 'Lead Counselor', 'Angular.js Developer', 'Digital Marketing Specialist', 'Franchise Manager - Sales (Assistant Manager )', 'Graphic Designer', 'Project Associate', 'Business Development Manager', 'Associate Recruiter', 'Inside Sales Specialist', 'QA Tester', 'Social Media Marketing Specialist', 'Sales Executive', 'Data & BI Consultant', 'Full Stack Developer', 'Business Development Executive', 'Learning Counselor - Sales', 'Program Impact Incharge (Academics)', 'Accountant']\n"
     ]
    }
   ],
   "source": [
    "job_title=soup8.find_all('div',class_='heading_4_5 profile')\n",
    "\n",
    "column_title=[]\n",
    "for i in job_title:\n",
    "    column_title.append(i.text.strip())\n",
    "print(column_title)"
   ]
  },
  {
   "cell_type": "code",
   "execution_count": 81,
   "id": "c9701b65",
   "metadata": {},
   "outputs": [
    {
     "name": "stdout",
     "output_type": "stream",
     "text": [
      "['Decathlon Sport India Private Limited', 'Snippt', 'DataVinci Private Limited', 'Red Tree Design Studio Private Limited', 'HelloAR', 'Best Roadways Limited', 'Advids', 'Habitate Technologies Private Limited', 'Recruit CRM', 'Revo International LLP', 'Startxlabs Technologies Private Limited', 'Startxlabs Technologies Private Limited', 'Softsensor.ai', 'Verzeo', 'S3 Infosoft', 'Binary Numbers', 'Ranksoldier International Private Limited', 'MiM-Essay', 'BubbleNut Wash', 'Erikka India', 'Cosmic Micro Systems Private Limited', 'Kumi Labs', 'HOSS - House Of Soft Skills', 'Systaldyn Consultancy Private Limited', 'Sahadya Consultants', 'Regrob', 'Cynfas', 'StrategyCo.Global', 'Narsipur Chemicals Private Limited', 'Talhive', 'UniHyr', 'RavGins International Private Limited (Wobb.ai)', 'Zolve', 'Apt Medical Systems Private Limited', 'CloudGarage', 'PeakMind', 'Cafe Tatva Ventures LLP', 'Bambinos.Live', 'Open Door Education', 'Lodha & Bhatt']\n"
     ]
    }
   ],
   "source": [
    "job_company=soup8.find_all('div',class_='heading_6 company_name')\n",
    "\n",
    "column_company=[]\n",
    "for i in job_company:\n",
    "    column_company.append(i.text.strip())\n",
    "print(column_company)"
   ]
  },
  {
   "cell_type": "code",
   "execution_count": 82,
   "id": "85be6927",
   "metadata": {},
   "outputs": [
    {
     "name": "stdout",
     "output_type": "stream",
     "text": [
      "['3.3 - 4.5 LPA', '4 - 5 LPA', '5 LPA', '3 LPA', '3 - 3.2 LPA', '3 LPA', '3 - 4 LPA', '3.2 - 4.2 LPA', '5 - 7 LPA', '3 - 3.05 LPA', '3.5 - 7.5 LPA', '3.5 - 7.5 LPA', '3 - 5 LPA', '3 - 6 LPA', '3 - 3.6 LPA', '3 - 7 LPA', '3 LPA', '4.5 - 6 LPA', '3.6 - 5.4 LPA', '3 - 5 LPA', '3 - 4.8 LPA', '3 - 8 LPA', '3.8 - 4.5 LPA', '3 - 5 LPA', '3 - 3.5 LPA', '3 - 3.1 LPA', '3 LPA', '7 - 12 LPA', '5 - 7 LPA', '3 - 5 LPA', '5 LPA', '3 - 4 LPA', '3 - 8 LPA', '3 LPA', '3 LPA', '6 - 8 LPA', '3 - 5.5 LPA', '3 - 3.1 LPA', '6 - 10 LPA', '3.6 - 5 LPA']\n"
     ]
    }
   ],
   "source": [
    "job_ctc=soup8.find_all('div',class_='item_body')\n",
    "\n",
    "column_ctc=[]\n",
    "for i in job_ctc:\n",
    "    column_ctc.append(i.text.strip().replace('Starts\\xa0Immediately',''))\n",
    "\n",
    "col_ctc=[]\n",
    "\n",
    "for i in range(1,len(column_ctc),3):\n",
    "  col_ctc.append(column_ctc[i])\n",
    "\n",
    "print(col_ctc)"
   ]
  },
  {
   "cell_type": "code",
   "execution_count": 83,
   "id": "29d1aa0b",
   "metadata": {},
   "outputs": [
    {
     "name": "stdout",
     "output_type": "stream",
     "text": [
      "[\"21 Aug' 21\", \"26 Aug' 21\", \"26 Aug' 21\", \"26 Aug' 21\", \"26 Aug' 21\", \"26 Aug' 21\", \"26 Aug' 21\", \"25 Aug' 21\", \"25 Aug' 21\", \"25 Aug' 21\", \"25 Aug' 21\", \"25 Aug' 21\", \"25 Aug' 21\", \"25 Aug' 21\", \"25 Aug' 21\", \"23 Aug' 21\", \"23 Aug' 21\", \"25 Aug' 21\", \"23 Aug' 21\", \"23 Aug' 21\", \"22 Aug' 21\", \"25 Aug' 21\", \"22 Aug' 21\", \"22 Aug' 21\", \"22 Aug' 21\", \"22 Aug' 21\", \"22 Aug' 21\", \"21 Aug' 21\", \"21 Aug' 21\", \"21 Aug' 21\", \"21 Aug' 21\", \"21 Aug' 21\", \"21 Aug' 21\", \"21 Aug' 21\", \"21 Aug' 21\", \"21 Aug' 21\", \"21 Aug' 21\", \"21 Aug' 21\", \"19 Aug' 21\", \"19 Aug' 21\"]\n"
     ]
    }
   ],
   "source": [
    "col_applydate=[]\n",
    "\n",
    "for i in range(2,len(column_ctc),3):\n",
    "  col_applydate.append(column_ctc[i])\n",
    "\n",
    "print(col_applydate)"
   ]
  },
  {
   "cell_type": "code",
   "execution_count": 84,
   "id": "df11d3a7",
   "metadata": {},
   "outputs": [
    {
     "data": {
      "text/html": [
       "<div>\n",
       "<style scoped>\n",
       "    .dataframe tbody tr th:only-of-type {\n",
       "        vertical-align: middle;\n",
       "    }\n",
       "\n",
       "    .dataframe tbody tr th {\n",
       "        vertical-align: top;\n",
       "    }\n",
       "\n",
       "    .dataframe thead th {\n",
       "        text-align: right;\n",
       "    }\n",
       "</style>\n",
       "<table border=\"1\" class=\"dataframe\">\n",
       "  <thead>\n",
       "    <tr style=\"text-align: right;\">\n",
       "      <th></th>\n",
       "      <th>Job Title</th>\n",
       "      <th>Company Name</th>\n",
       "      <th>CTC</th>\n",
       "      <th>Apply By</th>\n",
       "    </tr>\n",
       "  </thead>\n",
       "  <tbody>\n",
       "    <tr>\n",
       "      <th>0</th>\n",
       "      <td>Sales Manager/Omni Sport Leader - Retail</td>\n",
       "      <td>Decathlon Sport India Private Limited</td>\n",
       "      <td>3.3 - 4.5 LPA</td>\n",
       "      <td>21 Aug' 21</td>\n",
       "    </tr>\n",
       "    <tr>\n",
       "      <th>1</th>\n",
       "      <td>MERN Stack Developer</td>\n",
       "      <td>Snippt</td>\n",
       "      <td>4 - 5 LPA</td>\n",
       "      <td>26 Aug' 21</td>\n",
       "    </tr>\n",
       "    <tr>\n",
       "      <th>2</th>\n",
       "      <td>Conversion Rate Optimization Analyst</td>\n",
       "      <td>DataVinci Private Limited</td>\n",
       "      <td>5 LPA</td>\n",
       "      <td>26 Aug' 21</td>\n",
       "    </tr>\n",
       "    <tr>\n",
       "      <th>3</th>\n",
       "      <td>Client Service Executive</td>\n",
       "      <td>Red Tree Design Studio Private Limited</td>\n",
       "      <td>3 LPA</td>\n",
       "      <td>26 Aug' 21</td>\n",
       "    </tr>\n",
       "    <tr>\n",
       "      <th>4</th>\n",
       "      <td>Sales Development Representative</td>\n",
       "      <td>HelloAR</td>\n",
       "      <td>3 - 3.2 LPA</td>\n",
       "      <td>26 Aug' 21</td>\n",
       "    </tr>\n",
       "    <tr>\n",
       "      <th>5</th>\n",
       "      <td>Corporate Sales Associate</td>\n",
       "      <td>Best Roadways Limited</td>\n",
       "      <td>3 LPA</td>\n",
       "      <td>26 Aug' 21</td>\n",
       "    </tr>\n",
       "    <tr>\n",
       "      <th>6</th>\n",
       "      <td>International Business Development Executive</td>\n",
       "      <td>Advids</td>\n",
       "      <td>3 - 4 LPA</td>\n",
       "      <td>26 Aug' 21</td>\n",
       "    </tr>\n",
       "    <tr>\n",
       "      <th>7</th>\n",
       "      <td>Product Marketer</td>\n",
       "      <td>Habitate Technologies Private Limited</td>\n",
       "      <td>3.2 - 4.2 LPA</td>\n",
       "      <td>25 Aug' 21</td>\n",
       "    </tr>\n",
       "    <tr>\n",
       "      <th>8</th>\n",
       "      <td>Customer Support Associates</td>\n",
       "      <td>Recruit CRM</td>\n",
       "      <td>5 - 7 LPA</td>\n",
       "      <td>25 Aug' 21</td>\n",
       "    </tr>\n",
       "    <tr>\n",
       "      <th>9</th>\n",
       "      <td>Content &amp; Customer Care Executive</td>\n",
       "      <td>Revo International LLP</td>\n",
       "      <td>3 - 3.05 LPA</td>\n",
       "      <td>25 Aug' 21</td>\n",
       "    </tr>\n",
       "    <tr>\n",
       "      <th>10</th>\n",
       "      <td>Django Developer</td>\n",
       "      <td>Startxlabs Technologies Private Limited</td>\n",
       "      <td>3.5 - 7.5 LPA</td>\n",
       "      <td>25 Aug' 21</td>\n",
       "    </tr>\n",
       "    <tr>\n",
       "      <th>11</th>\n",
       "      <td>Reactjs Developer</td>\n",
       "      <td>Startxlabs Technologies Private Limited</td>\n",
       "      <td>3.5 - 7.5 LPA</td>\n",
       "      <td>25 Aug' 21</td>\n",
       "    </tr>\n",
       "    <tr>\n",
       "      <th>12</th>\n",
       "      <td>Web Development Trainee</td>\n",
       "      <td>Softsensor.ai</td>\n",
       "      <td>3 - 5 LPA</td>\n",
       "      <td>25 Aug' 21</td>\n",
       "    </tr>\n",
       "    <tr>\n",
       "      <th>13</th>\n",
       "      <td>Business Development Executive</td>\n",
       "      <td>Verzeo</td>\n",
       "      <td>3 - 6 LPA</td>\n",
       "      <td>25 Aug' 21</td>\n",
       "    </tr>\n",
       "    <tr>\n",
       "      <th>14</th>\n",
       "      <td>Cybersecurity Compliance Officer</td>\n",
       "      <td>S3 Infosoft</td>\n",
       "      <td>3 - 3.6 LPA</td>\n",
       "      <td>25 Aug' 21</td>\n",
       "    </tr>\n",
       "    <tr>\n",
       "      <th>15</th>\n",
       "      <td>MERN Stack Developer</td>\n",
       "      <td>Binary Numbers</td>\n",
       "      <td>3 - 7 LPA</td>\n",
       "      <td>23 Aug' 21</td>\n",
       "    </tr>\n",
       "    <tr>\n",
       "      <th>16</th>\n",
       "      <td>Senior Copywriter</td>\n",
       "      <td>Ranksoldier International Private Limited</td>\n",
       "      <td>3 LPA</td>\n",
       "      <td>23 Aug' 21</td>\n",
       "    </tr>\n",
       "    <tr>\n",
       "      <th>17</th>\n",
       "      <td>Corporate Sales Associate</td>\n",
       "      <td>MiM-Essay</td>\n",
       "      <td>4.5 - 6 LPA</td>\n",
       "      <td>25 Aug' 21</td>\n",
       "    </tr>\n",
       "    <tr>\n",
       "      <th>18</th>\n",
       "      <td>Digital Marketing Associate</td>\n",
       "      <td>BubbleNut Wash</td>\n",
       "      <td>3.6 - 5.4 LPA</td>\n",
       "      <td>23 Aug' 21</td>\n",
       "    </tr>\n",
       "    <tr>\n",
       "      <th>19</th>\n",
       "      <td>Social Media Marketing Executive</td>\n",
       "      <td>Erikka India</td>\n",
       "      <td>3 - 5 LPA</td>\n",
       "      <td>23 Aug' 21</td>\n",
       "    </tr>\n",
       "    <tr>\n",
       "      <th>20</th>\n",
       "      <td>Business Development Executive</td>\n",
       "      <td>Cosmic Micro Systems Private Limited</td>\n",
       "      <td>3 - 4.8 LPA</td>\n",
       "      <td>22 Aug' 21</td>\n",
       "    </tr>\n",
       "    <tr>\n",
       "      <th>21</th>\n",
       "      <td>Operations Manager</td>\n",
       "      <td>Kumi Labs</td>\n",
       "      <td>3 - 8 LPA</td>\n",
       "      <td>25 Aug' 21</td>\n",
       "    </tr>\n",
       "    <tr>\n",
       "      <th>22</th>\n",
       "      <td>Lead Counselor</td>\n",
       "      <td>HOSS - House Of Soft Skills</td>\n",
       "      <td>3.8 - 4.5 LPA</td>\n",
       "      <td>22 Aug' 21</td>\n",
       "    </tr>\n",
       "    <tr>\n",
       "      <th>23</th>\n",
       "      <td>Angular.js Developer</td>\n",
       "      <td>Systaldyn Consultancy Private Limited</td>\n",
       "      <td>3 - 5 LPA</td>\n",
       "      <td>22 Aug' 21</td>\n",
       "    </tr>\n",
       "    <tr>\n",
       "      <th>24</th>\n",
       "      <td>Digital Marketing Specialist</td>\n",
       "      <td>Sahadya Consultants</td>\n",
       "      <td>3 - 3.5 LPA</td>\n",
       "      <td>22 Aug' 21</td>\n",
       "    </tr>\n",
       "    <tr>\n",
       "      <th>25</th>\n",
       "      <td>Franchise Manager - Sales (Assistant Manager )</td>\n",
       "      <td>Regrob</td>\n",
       "      <td>3 - 3.1 LPA</td>\n",
       "      <td>22 Aug' 21</td>\n",
       "    </tr>\n",
       "    <tr>\n",
       "      <th>26</th>\n",
       "      <td>Graphic Designer</td>\n",
       "      <td>Cynfas</td>\n",
       "      <td>3 LPA</td>\n",
       "      <td>22 Aug' 21</td>\n",
       "    </tr>\n",
       "    <tr>\n",
       "      <th>27</th>\n",
       "      <td>Project Associate</td>\n",
       "      <td>StrategyCo.Global</td>\n",
       "      <td>7 - 12 LPA</td>\n",
       "      <td>21 Aug' 21</td>\n",
       "    </tr>\n",
       "    <tr>\n",
       "      <th>28</th>\n",
       "      <td>Business Development Manager</td>\n",
       "      <td>Narsipur Chemicals Private Limited</td>\n",
       "      <td>5 - 7 LPA</td>\n",
       "      <td>21 Aug' 21</td>\n",
       "    </tr>\n",
       "    <tr>\n",
       "      <th>29</th>\n",
       "      <td>Associate Recruiter</td>\n",
       "      <td>Talhive</td>\n",
       "      <td>3 - 5 LPA</td>\n",
       "      <td>21 Aug' 21</td>\n",
       "    </tr>\n",
       "    <tr>\n",
       "      <th>30</th>\n",
       "      <td>Inside Sales Specialist</td>\n",
       "      <td>UniHyr</td>\n",
       "      <td>5 LPA</td>\n",
       "      <td>21 Aug' 21</td>\n",
       "    </tr>\n",
       "    <tr>\n",
       "      <th>31</th>\n",
       "      <td>QA Tester</td>\n",
       "      <td>RavGins International Private Limited (Wobb.ai)</td>\n",
       "      <td>3 - 4 LPA</td>\n",
       "      <td>21 Aug' 21</td>\n",
       "    </tr>\n",
       "    <tr>\n",
       "      <th>32</th>\n",
       "      <td>Social Media Marketing Specialist</td>\n",
       "      <td>Zolve</td>\n",
       "      <td>3 - 8 LPA</td>\n",
       "      <td>21 Aug' 21</td>\n",
       "    </tr>\n",
       "    <tr>\n",
       "      <th>33</th>\n",
       "      <td>Sales Executive</td>\n",
       "      <td>Apt Medical Systems Private Limited</td>\n",
       "      <td>3 LPA</td>\n",
       "      <td>21 Aug' 21</td>\n",
       "    </tr>\n",
       "    <tr>\n",
       "      <th>34</th>\n",
       "      <td>Data &amp; BI Consultant</td>\n",
       "      <td>CloudGarage</td>\n",
       "      <td>3 LPA</td>\n",
       "      <td>21 Aug' 21</td>\n",
       "    </tr>\n",
       "    <tr>\n",
       "      <th>35</th>\n",
       "      <td>Full Stack Developer</td>\n",
       "      <td>PeakMind</td>\n",
       "      <td>6 - 8 LPA</td>\n",
       "      <td>21 Aug' 21</td>\n",
       "    </tr>\n",
       "    <tr>\n",
       "      <th>36</th>\n",
       "      <td>Business Development Executive</td>\n",
       "      <td>Cafe Tatva Ventures LLP</td>\n",
       "      <td>3 - 5.5 LPA</td>\n",
       "      <td>21 Aug' 21</td>\n",
       "    </tr>\n",
       "    <tr>\n",
       "      <th>37</th>\n",
       "      <td>Learning Counselor - Sales</td>\n",
       "      <td>Bambinos.Live</td>\n",
       "      <td>3 - 3.1 LPA</td>\n",
       "      <td>21 Aug' 21</td>\n",
       "    </tr>\n",
       "    <tr>\n",
       "      <th>38</th>\n",
       "      <td>Program Impact Incharge (Academics)</td>\n",
       "      <td>Open Door Education</td>\n",
       "      <td>6 - 10 LPA</td>\n",
       "      <td>19 Aug' 21</td>\n",
       "    </tr>\n",
       "    <tr>\n",
       "      <th>39</th>\n",
       "      <td>Accountant</td>\n",
       "      <td>Lodha &amp; Bhatt</td>\n",
       "      <td>3.6 - 5 LPA</td>\n",
       "      <td>19 Aug' 21</td>\n",
       "    </tr>\n",
       "  </tbody>\n",
       "</table>\n",
       "</div>"
      ],
      "text/plain": [
       "                                         Job Title  \\\n",
       "0         Sales Manager/Omni Sport Leader - Retail   \n",
       "1                             MERN Stack Developer   \n",
       "2             Conversion Rate Optimization Analyst   \n",
       "3                         Client Service Executive   \n",
       "4                 Sales Development Representative   \n",
       "5                        Corporate Sales Associate   \n",
       "6     International Business Development Executive   \n",
       "7                                 Product Marketer   \n",
       "8                      Customer Support Associates   \n",
       "9                Content & Customer Care Executive   \n",
       "10                                Django Developer   \n",
       "11                               Reactjs Developer   \n",
       "12                         Web Development Trainee   \n",
       "13                  Business Development Executive   \n",
       "14                Cybersecurity Compliance Officer   \n",
       "15                            MERN Stack Developer   \n",
       "16                               Senior Copywriter   \n",
       "17                       Corporate Sales Associate   \n",
       "18                     Digital Marketing Associate   \n",
       "19                Social Media Marketing Executive   \n",
       "20                  Business Development Executive   \n",
       "21                              Operations Manager   \n",
       "22                                  Lead Counselor   \n",
       "23                            Angular.js Developer   \n",
       "24                    Digital Marketing Specialist   \n",
       "25  Franchise Manager - Sales (Assistant Manager )   \n",
       "26                                Graphic Designer   \n",
       "27                               Project Associate   \n",
       "28                    Business Development Manager   \n",
       "29                             Associate Recruiter   \n",
       "30                         Inside Sales Specialist   \n",
       "31                                       QA Tester   \n",
       "32               Social Media Marketing Specialist   \n",
       "33                                 Sales Executive   \n",
       "34                            Data & BI Consultant   \n",
       "35                            Full Stack Developer   \n",
       "36                  Business Development Executive   \n",
       "37                      Learning Counselor - Sales   \n",
       "38             Program Impact Incharge (Academics)   \n",
       "39                                      Accountant   \n",
       "\n",
       "                                       Company Name            CTC   Apply By   \n",
       "0             Decathlon Sport India Private Limited  3.3 - 4.5 LPA  21 Aug' 21  \n",
       "1                                            Snippt      4 - 5 LPA  26 Aug' 21  \n",
       "2                         DataVinci Private Limited          5 LPA  26 Aug' 21  \n",
       "3            Red Tree Design Studio Private Limited          3 LPA  26 Aug' 21  \n",
       "4                                           HelloAR    3 - 3.2 LPA  26 Aug' 21  \n",
       "5                             Best Roadways Limited          3 LPA  26 Aug' 21  \n",
       "6                                            Advids      3 - 4 LPA  26 Aug' 21  \n",
       "7             Habitate Technologies Private Limited  3.2 - 4.2 LPA  25 Aug' 21  \n",
       "8                                       Recruit CRM      5 - 7 LPA  25 Aug' 21  \n",
       "9                            Revo International LLP   3 - 3.05 LPA  25 Aug' 21  \n",
       "10          Startxlabs Technologies Private Limited  3.5 - 7.5 LPA  25 Aug' 21  \n",
       "11          Startxlabs Technologies Private Limited  3.5 - 7.5 LPA  25 Aug' 21  \n",
       "12                                    Softsensor.ai      3 - 5 LPA  25 Aug' 21  \n",
       "13                                           Verzeo      3 - 6 LPA  25 Aug' 21  \n",
       "14                                      S3 Infosoft    3 - 3.6 LPA  25 Aug' 21  \n",
       "15                                   Binary Numbers      3 - 7 LPA  23 Aug' 21  \n",
       "16        Ranksoldier International Private Limited          3 LPA  23 Aug' 21  \n",
       "17                                        MiM-Essay    4.5 - 6 LPA  25 Aug' 21  \n",
       "18                                   BubbleNut Wash  3.6 - 5.4 LPA  23 Aug' 21  \n",
       "19                                     Erikka India      3 - 5 LPA  23 Aug' 21  \n",
       "20             Cosmic Micro Systems Private Limited    3 - 4.8 LPA  22 Aug' 21  \n",
       "21                                        Kumi Labs      3 - 8 LPA  25 Aug' 21  \n",
       "22                      HOSS - House Of Soft Skills  3.8 - 4.5 LPA  22 Aug' 21  \n",
       "23            Systaldyn Consultancy Private Limited      3 - 5 LPA  22 Aug' 21  \n",
       "24                              Sahadya Consultants    3 - 3.5 LPA  22 Aug' 21  \n",
       "25                                           Regrob    3 - 3.1 LPA  22 Aug' 21  \n",
       "26                                           Cynfas          3 LPA  22 Aug' 21  \n",
       "27                                StrategyCo.Global     7 - 12 LPA  21 Aug' 21  \n",
       "28               Narsipur Chemicals Private Limited      5 - 7 LPA  21 Aug' 21  \n",
       "29                                          Talhive      3 - 5 LPA  21 Aug' 21  \n",
       "30                                           UniHyr          5 LPA  21 Aug' 21  \n",
       "31  RavGins International Private Limited (Wobb.ai)      3 - 4 LPA  21 Aug' 21  \n",
       "32                                            Zolve      3 - 8 LPA  21 Aug' 21  \n",
       "33              Apt Medical Systems Private Limited          3 LPA  21 Aug' 21  \n",
       "34                                      CloudGarage          3 LPA  21 Aug' 21  \n",
       "35                                         PeakMind      6 - 8 LPA  21 Aug' 21  \n",
       "36                          Cafe Tatva Ventures LLP    3 - 5.5 LPA  21 Aug' 21  \n",
       "37                                    Bambinos.Live    3 - 3.1 LPA  21 Aug' 21  \n",
       "38                              Open Door Education     6 - 10 LPA  19 Aug' 21  \n",
       "39                                    Lodha & Bhatt    3.6 - 5 LPA  19 Aug' 21  "
      ]
     },
     "execution_count": 84,
     "metadata": {},
     "output_type": "execute_result"
    }
   ],
   "source": [
    "job=pd.DataFrame({})\n",
    "job['Job Title']=column_title\n",
    "job['Company Name']=column_company\n",
    "job['CTC']=col_ctc\n",
    "job['Apply By ']=col_applydate\n",
    "\n",
    "job"
   ]
  },
  {
   "cell_type": "markdown",
   "id": "b4cbb2f6",
   "metadata": {},
   "source": [
    "### 10.Write a python program to scrape house details from https://www.nobroker.in/ for any location. It should include house title, location, area, emi and price"
   ]
  },
  {
   "cell_type": "code",
   "execution_count": 85,
   "id": "681c3ad0",
   "metadata": {},
   "outputs": [
    {
     "name": "stdout",
     "output_type": "stream",
     "text": [
      "<Response [200]>\n"
     ]
    }
   ],
   "source": [
    "page9=requests.get('https://www.nobroker.in/property/sale/mumbai/Ghatkopar%20East?searchParam=W3sibGF0IjoxOS4wNzg1OTg4LCJsb24iOjcyLjkxMDE0NTU5OTk5OTk5LCJwbGFjZUlkIjoiQ2hJSjJVV3gzREhHNXpzUlFSR2hFU0I4THUwIiwicGxhY2VOYW1lIjoiR2hhdGtvcGFyIEVhc3QifV0=&propertyAge=0&radius=2.0')\n",
    "print(page9)\n",
    "\n",
    "soup9=BeautifulSoup(page9.content,'html.parser')"
   ]
  },
  {
   "cell_type": "code",
   "execution_count": 88,
   "id": "1c11533e",
   "metadata": {},
   "outputs": [
    {
     "name": "stdout",
     "output_type": "stream",
     "text": [
      "['1 RK Flat  For Sale  In Topaz Heights In Mumbai Suburban', '1 RK Flat  For Sale  In Krishnabaug  In Mumbai Suburban', '1 BHK Flat  For Sale  In Mumbai Suburban', '1 RK In Independent House  For Sale  In Mumbai Suburban', '2 BHK Flat  For Sale  In Shree Krishna Udaya Bhuvan In Opp Supreme Classic', '1 RK In Independent House  For Sale  In Goregaon East', '3 BHK Flat  For Sale  In Refab Onyx Apartment In Goregaon %28east%29', '1 RK Flat  For Sale  In Royal Palms Piccadilly 4 In Goregaon East', '1 RK For Sale in Royal Palms Piccadilly 4 in Goregaon East Royal Palms', '1 BHK Flat  For Sale  In Garden View In 1 Bhk Flat  For Sale  In Garden View In Garden View Apartment Chs']\n"
     ]
    }
   ],
   "source": [
    "title=soup9.find_all('h2',class_='heading-6 font-semi-bold nb__1AShY')\n",
    "\n",
    "column_title=[]\n",
    "for i in title:\n",
    "    column_title.append(i.text.strip())\n",
    "print(column_title)"
   ]
  },
  {
   "cell_type": "code",
   "execution_count": 89,
   "id": "de78c36b",
   "metadata": {},
   "outputs": [
    {
     "name": "stdout",
     "output_type": "stream",
     "text": [
      "['yashwant gaurav', 'New Maneklal Estate,Sant Narsi Mehta Marg, Nr New Maneklal Ground', 'Standalone Building, Behind damodar park,', 'plot no 51 room no 56 new collector compound gate no 7 malwani malad west mumbai 400095', 'sahakar nagar 1, shell colony', 'Independent House,  Aarey Colony, Near Aarey Hospital', 'A-106, Aarey Colony, Goregaon, Mumbai, Maharashtra 400065, India', 'Aarey Colony', 'Arey colony ..Royal Palms', 'Royal Palm Estate,Aarey road']\n"
     ]
    }
   ],
   "source": [
    "area=soup9.find_all('div',class_='nb__2CMjv')\n",
    "\n",
    "column_title=[]\n",
    "for i in area:\n",
    "    column_title.append(i.text.strip())\n",
    "print(column_title)"
   ]
  },
  {
   "cell_type": "code",
   "execution_count": 97,
   "id": "6156f21b",
   "metadata": {},
   "outputs": [
    {
     "name": "stdout",
     "output_type": "stream",
     "text": [
      "['NorthFacing', 'North-EastFacing', 'WestFacing', 'WestFacing', 'North-EastFacing', 'WestFacing', 'WestFacing', \"Don't KnowFacing\", \"Don't KnowFacing\", 'EastFacing']\n"
     ]
    }
   ],
   "source": [
    "loc=soup9.find_all('div',class_='nb__2e3cc')\n",
    "\n",
    "column_title=[]\n",
    "for i in loc:\n",
    "    column_title.append(i.text.strip())\n",
    "print(column_title)"
   ]
  },
  {
   "cell_type": "code",
   "execution_count": 92,
   "id": "7cdbbffa",
   "metadata": {},
   "outputs": [
    {
     "data": {
      "text/plain": [
       "['₹10,316/Month',\n",
       " '₹42,985/Month',\n",
       " '₹17,194/Month',\n",
       " '₹9,743/Month',\n",
       " '₹97,434/Month',\n",
       " '₹14,328/Month',\n",
       " '₹1.83 Lacs/Month',\n",
       " '₹17,194/Month',\n",
       " '₹16,793/Month',\n",
       " '₹34,388/Month']"
      ]
     },
     "execution_count": 92,
     "metadata": {},
     "output_type": "execute_result"
    }
   ],
   "source": [
    "e=soup9.find_all('div',class_='font-semi-bold heading-6')\n",
    "emi=[]\n",
    "price=[]\n",
    "for i in e:\n",
    "    emi.append(i.text.replace('\\n',' '))\n",
    "emi[1::3]"
   ]
  },
  {
   "cell_type": "code",
   "execution_count": 93,
   "id": "df328321",
   "metadata": {},
   "outputs": [
    {
     "data": {
      "text/plain": [
       "['₹18 Lacs',\n",
       " '₹75 Lacs',\n",
       " '₹30 Lacs',\n",
       " '₹17 Lacs',\n",
       " '₹1.7 Crores',\n",
       " '₹25 Lacs',\n",
       " '₹3.2 Crores',\n",
       " '₹30 Lacs',\n",
       " '₹29.3 Lacs',\n",
       " '₹60 Lacs']"
      ]
     },
     "execution_count": 93,
     "metadata": {},
     "output_type": "execute_result"
    }
   ],
   "source": [
    "emi[2::3]"
   ]
  },
  {
   "cell_type": "code",
   "execution_count": 98,
   "id": "79def6e4",
   "metadata": {},
   "outputs": [
    {
     "data": {
      "text/html": [
       "<div>\n",
       "<style scoped>\n",
       "    .dataframe tbody tr th:only-of-type {\n",
       "        vertical-align: middle;\n",
       "    }\n",
       "\n",
       "    .dataframe tbody tr th {\n",
       "        vertical-align: top;\n",
       "    }\n",
       "\n",
       "    .dataframe thead th {\n",
       "        text-align: right;\n",
       "    }\n",
       "</style>\n",
       "<table border=\"1\" class=\"dataframe\">\n",
       "  <thead>\n",
       "    <tr style=\"text-align: right;\">\n",
       "      <th></th>\n",
       "      <th>House Title</th>\n",
       "      <th>Location</th>\n",
       "      <th>Area</th>\n",
       "      <th>EMI</th>\n",
       "      <th>Price</th>\n",
       "    </tr>\n",
       "  </thead>\n",
       "  <tbody>\n",
       "    <tr>\n",
       "      <th>0</th>\n",
       "      <td>[[1 RK Flat  For Sale  In Topaz Heights In Mum...</td>\n",
       "      <td>[[[North], [&lt;div class=\"heading-7 nb__29QSM\"&gt;F...</td>\n",
       "      <td>[yashwant gaurav]</td>\n",
       "      <td>₹10,316/Month</td>\n",
       "      <td>₹18 Lacs</td>\n",
       "    </tr>\n",
       "    <tr>\n",
       "      <th>1</th>\n",
       "      <td>[[1 RK Flat  For Sale  In Krishnabaug  In Mumb...</td>\n",
       "      <td>[[[North-East], [&lt;div class=\"heading-7 nb__29Q...</td>\n",
       "      <td>[New Maneklal Estate,Sant Narsi Mehta Marg, Nr...</td>\n",
       "      <td>₹42,985/Month</td>\n",
       "      <td>₹75 Lacs</td>\n",
       "    </tr>\n",
       "    <tr>\n",
       "      <th>2</th>\n",
       "      <td>[[1 BHK Flat  For Sale  In Mumbai Suburban],  ...</td>\n",
       "      <td>[[[West], [&lt;div class=\"heading-7 nb__29QSM\"&gt;Fa...</td>\n",
       "      <td>[Standalone Building, Behind damodar park, ]</td>\n",
       "      <td>₹17,194/Month</td>\n",
       "      <td>₹30 Lacs</td>\n",
       "    </tr>\n",
       "    <tr>\n",
       "      <th>3</th>\n",
       "      <td>[[1 RK In Independent House  For Sale  In Mumb...</td>\n",
       "      <td>[[[West], [&lt;div class=\"heading-7 nb__29QSM\"&gt;Fa...</td>\n",
       "      <td>[plot no 51 room no 56 new collector compound ...</td>\n",
       "      <td>₹9,743/Month</td>\n",
       "      <td>₹17 Lacs</td>\n",
       "    </tr>\n",
       "    <tr>\n",
       "      <th>4</th>\n",
       "      <td>[[2 BHK Flat  For Sale  In Shree Krishna Udaya...</td>\n",
       "      <td>[[[North-East], [&lt;div class=\"heading-7 nb__29Q...</td>\n",
       "      <td>[sahakar nagar 1, shell colony]</td>\n",
       "      <td>₹97,434/Month</td>\n",
       "      <td>₹1.7 Crores</td>\n",
       "    </tr>\n",
       "    <tr>\n",
       "      <th>5</th>\n",
       "      <td>[[1 RK In Independent House  For Sale  In Gore...</td>\n",
       "      <td>[[[West], [&lt;div class=\"heading-7 nb__29QSM\"&gt;Fa...</td>\n",
       "      <td>[Independent House,  Aarey Colony, Near Aarey ...</td>\n",
       "      <td>₹14,328/Month</td>\n",
       "      <td>₹25 Lacs</td>\n",
       "    </tr>\n",
       "    <tr>\n",
       "      <th>6</th>\n",
       "      <td>[[3 BHK Flat  For Sale  In Refab Onyx Apartmen...</td>\n",
       "      <td>[[[West], [&lt;div class=\"heading-7 nb__29QSM\"&gt;Fa...</td>\n",
       "      <td>[A-106, Aarey Colony, Goregaon, Mumbai, Mahara...</td>\n",
       "      <td>₹1.83 Lacs/Month</td>\n",
       "      <td>₹3.2 Crores</td>\n",
       "    </tr>\n",
       "    <tr>\n",
       "      <th>7</th>\n",
       "      <td>[[1 RK Flat  For Sale  In Royal Palms Piccadil...</td>\n",
       "      <td>[[[Don't Know], [&lt;div class=\"heading-7 nb__29Q...</td>\n",
       "      <td>[Aarey Colony]</td>\n",
       "      <td>₹17,194/Month</td>\n",
       "      <td>₹30 Lacs</td>\n",
       "    </tr>\n",
       "    <tr>\n",
       "      <th>8</th>\n",
       "      <td>[[1 RK For Sale in Royal Palms Piccadilly 4 in...</td>\n",
       "      <td>[[[Don't Know], [&lt;div class=\"heading-7 nb__29Q...</td>\n",
       "      <td>[Arey colony ..Royal Palms]</td>\n",
       "      <td>₹16,793/Month</td>\n",
       "      <td>₹29.3 Lacs</td>\n",
       "    </tr>\n",
       "    <tr>\n",
       "      <th>9</th>\n",
       "      <td>[[1 BHK Flat  For Sale  In Garden View In 1 Bh...</td>\n",
       "      <td>[[[East], [&lt;div class=\"heading-7 nb__29QSM\"&gt;Fa...</td>\n",
       "      <td>[Royal Palm Estate,Aarey road]</td>\n",
       "      <td>₹34,388/Month</td>\n",
       "      <td>₹60 Lacs</td>\n",
       "    </tr>\n",
       "  </tbody>\n",
       "</table>\n",
       "</div>"
      ],
      "text/plain": [
       "                                         House Title  \\\n",
       "0  [[1 RK Flat  For Sale  In Topaz Heights In Mum...   \n",
       "1  [[1 RK Flat  For Sale  In Krishnabaug  In Mumb...   \n",
       "2  [[1 BHK Flat  For Sale  In Mumbai Suburban],  ...   \n",
       "3  [[1 RK In Independent House  For Sale  In Mumb...   \n",
       "4  [[2 BHK Flat  For Sale  In Shree Krishna Udaya...   \n",
       "5  [[1 RK In Independent House  For Sale  In Gore...   \n",
       "6  [[3 BHK Flat  For Sale  In Refab Onyx Apartmen...   \n",
       "7  [[1 RK Flat  For Sale  In Royal Palms Piccadil...   \n",
       "8  [[1 RK For Sale in Royal Palms Piccadilly 4 in...   \n",
       "9  [[1 BHK Flat  For Sale  In Garden View In 1 Bh...   \n",
       "\n",
       "                                            Location  \\\n",
       "0  [[[North], [<div class=\"heading-7 nb__29QSM\">F...   \n",
       "1  [[[North-East], [<div class=\"heading-7 nb__29Q...   \n",
       "2  [[[West], [<div class=\"heading-7 nb__29QSM\">Fa...   \n",
       "3  [[[West], [<div class=\"heading-7 nb__29QSM\">Fa...   \n",
       "4  [[[North-East], [<div class=\"heading-7 nb__29Q...   \n",
       "5  [[[West], [<div class=\"heading-7 nb__29QSM\">Fa...   \n",
       "6  [[[West], [<div class=\"heading-7 nb__29QSM\">Fa...   \n",
       "7  [[[Don't Know], [<div class=\"heading-7 nb__29Q...   \n",
       "8  [[[Don't Know], [<div class=\"heading-7 nb__29Q...   \n",
       "9  [[[East], [<div class=\"heading-7 nb__29QSM\">Fa...   \n",
       "\n",
       "                                                Area               EMI  \\\n",
       "0                                  [yashwant gaurav]     ₹10,316/Month   \n",
       "1  [New Maneklal Estate,Sant Narsi Mehta Marg, Nr...     ₹42,985/Month   \n",
       "2       [Standalone Building, Behind damodar park, ]     ₹17,194/Month   \n",
       "3  [plot no 51 room no 56 new collector compound ...      ₹9,743/Month   \n",
       "4                    [sahakar nagar 1, shell colony]     ₹97,434/Month   \n",
       "5  [Independent House,  Aarey Colony, Near Aarey ...     ₹14,328/Month   \n",
       "6  [A-106, Aarey Colony, Goregaon, Mumbai, Mahara...  ₹1.83 Lacs/Month   \n",
       "7                                     [Aarey Colony]     ₹17,194/Month   \n",
       "8                        [Arey colony ..Royal Palms]     ₹16,793/Month   \n",
       "9                     [Royal Palm Estate,Aarey road]     ₹34,388/Month   \n",
       "\n",
       "         Price  \n",
       "0     ₹18 Lacs  \n",
       "1     ₹75 Lacs  \n",
       "2     ₹30 Lacs  \n",
       "3     ₹17 Lacs  \n",
       "4  ₹1.7 Crores  \n",
       "5     ₹25 Lacs  \n",
       "6  ₹3.2 Crores  \n",
       "7     ₹30 Lacs  \n",
       "8   ₹29.3 Lacs  \n",
       "9     ₹60 Lacs  "
      ]
     },
     "execution_count": 98,
     "metadata": {},
     "output_type": "execute_result"
    }
   ],
   "source": [
    "nobroker=pd.DataFrame({})\n",
    "nobroker['House Title']=title\n",
    "nobroker['Location']=loc\n",
    "nobroker['Area']=area\n",
    "nobroker['EMI']=emi[1::3]\n",
    "nobroker['Price']=emi[2::3]\n",
    "nobroker"
   ]
  }
 ],
 "metadata": {
  "kernelspec": {
   "display_name": "Python 3",
   "language": "python",
   "name": "python3"
  },
  "language_info": {
   "codemirror_mode": {
    "name": "ipython",
    "version": 3
   },
   "file_extension": ".py",
   "mimetype": "text/x-python",
   "name": "python",
   "nbconvert_exporter": "python",
   "pygments_lexer": "ipython3",
   "version": "3.8.8"
  }
 },
 "nbformat": 4,
 "nbformat_minor": 5
}
