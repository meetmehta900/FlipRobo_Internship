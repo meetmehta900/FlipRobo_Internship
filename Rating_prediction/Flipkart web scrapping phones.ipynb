{
 "cells": [
  {
   "cell_type": "code",
   "execution_count": 1,
   "id": "3a4190e5",
   "metadata": {},
   "outputs": [],
   "source": [
    "import selenium\n",
    "import pandas as pd\n",
    "from selenium import webdriver\n",
    "from selenium.webdriver.common.keys import Keys\n",
    "from selenium.webdriver.common.action_chains import ActionChains\n",
    "from time import sleep\n",
    "import time\n",
    "import calendar\n",
    "from datetime import date\n",
    "from selenium.common.exceptions import StaleElementReferenceException, NoSuchElementException, ElementNotInteractableException\n",
    "import ipyparallel as ipp"
   ]
  },
  {
   "cell_type": "code",
   "execution_count": 2,
   "id": "36c52530",
   "metadata": {},
   "outputs": [],
   "source": [
    "products=['Phones']"
   ]
  },
  {
   "cell_type": "code",
   "execution_count": 3,
   "id": "a145358c",
   "metadata": {},
   "outputs": [],
   "source": [
    "url='https://www.flipkart.com/'\n",
    "driver=webdriver.Chrome('chromedriver.exe')\n",
    "driver.maximize_window()\n",
    "driver.get(url)"
   ]
  },
  {
   "cell_type": "code",
   "execution_count": 4,
   "id": "dd186dd6",
   "metadata": {},
   "outputs": [],
   "source": [
    "try:\n",
    "    button_x=driver.find_elements_by_xpath('/html/body/div[2]/div/div/button')\n",
    "    for i in range(len(button_x)):\n",
    "        if button_x[i].text=='✕':\n",
    "            button_x[i].click() \n",
    "except:\n",
    "    pass"
   ]
  },
  {
   "cell_type": "code",
   "execution_count": 5,
   "id": "60a3b1c1",
   "metadata": {},
   "outputs": [],
   "source": [
    "ratings_5=[]\n",
    "ratings_4=[]\n",
    "ratings_3=[]\n",
    "ratings_2=[]\n",
    "ratings_1=[]"
   ]
  },
  {
   "cell_type": "code",
   "execution_count": 6,
   "id": "860af5af",
   "metadata": {},
   "outputs": [],
   "source": [
    "def change_product(i):\n",
    "    search=driver.find_element_by_xpath(\"//input[@title='Search for products, brands and more']\")\n",
    "    search_btn=driver.find_element_by_class_name('L0Z3Pu')\n",
    "    search.clear()\n",
    "    search.send_keys(i)\n",
    "    search_btn.click()"
   ]
  },
  {
   "cell_type": "code",
   "execution_count": 7,
   "id": "fab23752",
   "metadata": {},
   "outputs": [],
   "source": [
    "def find_pages(page):\n",
    "    page_tag=driver.find_elements_by_xpath('//nav[@class=\"yFHi8N\"]//a')\n",
    "    for pagy in page_tag:\n",
    "        if pagy.get_attribute('href') not in page:\n",
    "            page.append(pagy.get_attribute('href'))\n",
    "    return page[:-1]"
   ]
  },
  {
   "cell_type": "code",
   "execution_count": 8,
   "id": "2bfef02a",
   "metadata": {},
   "outputs": [],
   "source": [
    "def find_product_links():\n",
    "    linkss=[]\n",
    "    urls=driver.find_elements_by_xpath('//div[@class=\"_2kHMtA\"]//a[@class=\"_1fQZEK\"]')\n",
    "    for u in urls:\n",
    "        linkss.append(u.get_attribute('href'))\n",
    "    linkss=linkss[:-1]\n",
    "    return linkss"
   ]
  },
  {
   "cell_type": "code",
   "execution_count": 9,
   "id": "5eaff010",
   "metadata": {},
   "outputs": [],
   "source": [
    "def item_review_nav(next_page):\n",
    "    next_page_tag=driver.find_elements_by_xpath('//nav[@class=\"yFHi8N\"]//a')\n",
    "    for nexty in next_page_tag:\n",
    "        if nexty.get_attribute('href') not in next_page:\n",
    "            next_page.append(nexty.get_attribute('href'))\n",
    "    return next_page"
   ]
  },
  {
   "cell_type": "code",
   "execution_count": 10,
   "id": "dd1d49c3",
   "metadata": {},
   "outputs": [],
   "source": [
    "def populate_data(rating_5,rating_4,rating_3,rating_2,rating_1):\n",
    "    iteration=driver.find_elements_by_xpath('//div[@class=\"_1YokD2 _3Mn1Gg col-9-12\"]/div[@class=\"_1AtVbE col-12-12\"]/div[@class=\"_27M-vq\"]/div/div/div[@class=\"row\"][1]')\n",
    "    for iterr in iteration:\n",
    "        if len(iterr.text.split())>=2:\n",
    "            if iterr.text.split()[0]=='5' and len(rating_5)<2500:\n",
    "                rating_5.append(' '.join(iterr.text.split()[1:]))\n",
    "            elif iterr.text.split()[0]=='4' and len(rating_4)<2500:\n",
    "                rating_4.append(' '.join(iterr.text.split()[1:]))\n",
    "            elif iterr.text.split()[0]=='3' and len(rating_3)<2500:\n",
    "                rating_3.append(' '.join(iterr.text.split()[1:]))\n",
    "            elif iterr.text.split()[0]=='2' and len(rating_2)<2500:\n",
    "                rating_2.append(' '.join(iterr.text.split()[1:]))\n",
    "            elif iterr.text.split()[0]=='1' and len(rating_1)<2500:\n",
    "                rating_1.append(' '.join(iterr.text.split()[1:]))\n",
    "    return rating_5,rating_4,rating_3,rating_2,rating_1"
   ]
  },
  {
   "cell_type": "code",
   "execution_count": 11,
   "id": "dfbeb1ad",
   "metadata": {},
   "outputs": [
    {
     "name": "stdout",
     "output_type": "stream",
     "text": [
      "********************\n",
      "Phones\n",
      "********************\n",
      "[2000, 741, 1930, 2500, 2500]\n",
      "[2500, 1791, 2500, 2500, 2500]\n",
      "[2500, 2380, 2500, 2500, 2500]\n",
      "[2500, 2500, 2500, 2500, 2500]\n"
     ]
    }
   ],
   "source": [
    "for i in products:\n",
    "    print('*'*20)\n",
    "    print(i)\n",
    "    print('*'*20)\n",
    "    change_product(i)\n",
    "    rating_5=[]\n",
    "    rating_4=[]\n",
    "    rating_3=[]\n",
    "    rating_2=[]\n",
    "    rating_1=[]\n",
    "    page=[]\n",
    "    time.sleep(2)\n",
    "    while len(rating_1)<2500 or len(rating_2)<2500 or len(rating_3)<2500 or len(rating_4)<2500 or len(rating_5)<2500:\n",
    "        page=find_pages(page)\n",
    "        for pagy in page:\n",
    "            driver.get(pagy)\n",
    "            time.sleep(2)\n",
    "            links=find_product_links()\n",
    "            for linky in links:\n",
    "                if len(rating_1)>=2500 and len(rating_2)>=2500 and len(rating_3)>=2500 and len(rating_4)>=2500 and len(rating_5)>=2500:\n",
    "                    break\n",
    "                driver.get(linky)\n",
    "                time.sleep(2)\n",
    "                try:\n",
    "                    button_read_more=driver.find_element_by_xpath('//div[@class=\"_3UAT2v _16PBlm\"]')\n",
    "                    button_read_more.click()\n",
    "                    time.sleep(2)\n",
    "                    next_page=[]\n",
    "                    next_page=item_review_nav(next_page)\n",
    "                    if len(next_page)==0:\n",
    "                        next_page.append(linky)\n",
    "                    if len(next_page)>9:\n",
    "                        last_updated=len(next_page)\n",
    "                        driver.get(next_page[-1])\n",
    "                        time.sleep(2)\n",
    "                        next_page=item_review_nav(next_page)\n",
    "                        while last_updated!=len(next_page):\n",
    "                            last_updated=len(next_page)\n",
    "                            driver.get(next_page[-1])\n",
    "                            time.sleep(2)\n",
    "                            next_page=item_review_nav(next_page)\n",
    "                    for nextup in next_page:\n",
    "                        driver.get(nextup)\n",
    "                        time.sleep(2)\n",
    "                        rating_5,rating_4,rating_3,rating_2,rating_1=populate_data(rating_5,rating_4,rating_3,rating_2,rating_1)\n",
    "                        if len(rating_1)>=2500 and len(rating_2)>=2500 and len(rating_3)>=2500 and len(rating_4)>=2500 and len(rating_5)>=2500:\n",
    "                            break\n",
    "                except:\n",
    "                    pass\n",
    "            print([len(rating_1),len(rating_2),len(rating_3),len(rating_4),len(rating_5)])\n",
    "            if len(rating_1)>=2500 and len(rating_2)>=2500 and len(rating_3)>=2500 and len(rating_4)>=2500 and len(rating_5)>=2500:\n",
    "                break\n",
    "    driver.get(url)\n",
    "    time.sleep(2)\n",
    "    ratings_1.extend(rating_1)\n",
    "    ratings_2.extend(rating_2)\n",
    "    ratings_3.extend(rating_3)\n",
    "    ratings_4.extend(rating_4)\n",
    "    ratings_5.extend(rating_5)"
   ]
  },
  {
   "cell_type": "code",
   "execution_count": 12,
   "id": "0b6b10d3",
   "metadata": {},
   "outputs": [],
   "source": [
    "phone_5=pd.DataFrame({})\n",
    "phone_5['comments']=ratings_5[:2500]\n",
    "phone_5['rating']=[5 for i in range(2500)]\n",
    "phone_4=pd.DataFrame({})\n",
    "phone_4['comments']=ratings_4[:2500]\n",
    "phone_4['rating']=[4 for i in range(2500)]\n",
    "phone_3=pd.DataFrame({})\n",
    "phone_3['comments']=ratings_3[:2500]\n",
    "phone_3['rating']=[3 for i in range(2500)]\n",
    "phone_2=pd.DataFrame({})\n",
    "phone_2['comments']=ratings_2[:2500]\n",
    "phone_2['rating']=[2 for i in range(2500)]\n",
    "phone_1=pd.DataFrame({})\n",
    "phone_1['comments']=ratings_1[:2500]\n",
    "phone_1['rating']=[1 for i in range(2500)]"
   ]
  },
  {
   "cell_type": "code",
   "execution_count": 13,
   "id": "a2d6aaed",
   "metadata": {},
   "outputs": [
    {
     "data": {
      "text/html": [
       "<div>\n",
       "<style scoped>\n",
       "    .dataframe tbody tr th:only-of-type {\n",
       "        vertical-align: middle;\n",
       "    }\n",
       "\n",
       "    .dataframe tbody tr th {\n",
       "        vertical-align: top;\n",
       "    }\n",
       "\n",
       "    .dataframe thead th {\n",
       "        text-align: right;\n",
       "    }\n",
       "</style>\n",
       "<table border=\"1\" class=\"dataframe\">\n",
       "  <thead>\n",
       "    <tr style=\"text-align: right;\">\n",
       "      <th></th>\n",
       "      <th>comments</th>\n",
       "      <th>rating</th>\n",
       "    </tr>\n",
       "  </thead>\n",
       "  <tbody>\n",
       "    <tr>\n",
       "      <th>0</th>\n",
       "      <td>Terrific</td>\n",
       "      <td>5</td>\n",
       "    </tr>\n",
       "    <tr>\n",
       "      <th>1</th>\n",
       "      <td>Fantastic</td>\n",
       "      <td>5</td>\n",
       "    </tr>\n",
       "    <tr>\n",
       "      <th>2</th>\n",
       "      <td>Best in the market!</td>\n",
       "      <td>5</td>\n",
       "    </tr>\n",
       "    <tr>\n",
       "      <th>3</th>\n",
       "      <td>Fabulous!</td>\n",
       "      <td>5</td>\n",
       "    </tr>\n",
       "    <tr>\n",
       "      <th>4</th>\n",
       "      <td>Worth every penny</td>\n",
       "      <td>5</td>\n",
       "    </tr>\n",
       "    <tr>\n",
       "      <th>...</th>\n",
       "      <td>...</td>\n",
       "      <td>...</td>\n",
       "    </tr>\n",
       "    <tr>\n",
       "      <th>12495</th>\n",
       "      <td>Useless product</td>\n",
       "      <td>1</td>\n",
       "    </tr>\n",
       "    <tr>\n",
       "      <th>12496</th>\n",
       "      <td>Don't waste your money</td>\n",
       "      <td>1</td>\n",
       "    </tr>\n",
       "    <tr>\n",
       "      <th>12497</th>\n",
       "      <td>Useless product</td>\n",
       "      <td>1</td>\n",
       "    </tr>\n",
       "    <tr>\n",
       "      <th>12498</th>\n",
       "      <td>Utterly Disappointed</td>\n",
       "      <td>1</td>\n",
       "    </tr>\n",
       "    <tr>\n",
       "      <th>12499</th>\n",
       "      <td>Worthless</td>\n",
       "      <td>1</td>\n",
       "    </tr>\n",
       "  </tbody>\n",
       "</table>\n",
       "<p>12500 rows × 2 columns</p>\n",
       "</div>"
      ],
      "text/plain": [
       "                     comments  rating\n",
       "0                    Terrific       5\n",
       "1                   Fantastic       5\n",
       "2         Best in the market!       5\n",
       "3                   Fabulous!       5\n",
       "4           Worth every penny       5\n",
       "...                       ...     ...\n",
       "12495         Useless product       1\n",
       "12496  Don't waste your money       1\n",
       "12497         Useless product       1\n",
       "12498    Utterly Disappointed       1\n",
       "12499               Worthless       1\n",
       "\n",
       "[12500 rows x 2 columns]"
      ]
     },
     "execution_count": 13,
     "metadata": {},
     "output_type": "execute_result"
    }
   ],
   "source": [
    "flipkart_phone=phone_5.copy()\n",
    "flipkart_phone=flipkart_phone.append(phone_4,ignore_index = True)\n",
    "flipkart_phone=flipkart_phone.append(phone_3,ignore_index = True)\n",
    "flipkart_phone=flipkart_phone.append(phone_2,ignore_index = True)\n",
    "flipkart_phone=flipkart_phone.append(phone_1,ignore_index = True)\n",
    "flipkart_phone"
   ]
  },
  {
   "cell_type": "code",
   "execution_count": 14,
   "id": "1d39d8db",
   "metadata": {},
   "outputs": [],
   "source": [
    "flipkart_phone.to_csv('flipkart_phone.csv',index=False)"
   ]
  }
 ],
 "metadata": {
  "kernelspec": {
   "display_name": "Python 3",
   "language": "python",
   "name": "python3"
  },
  "language_info": {
   "codemirror_mode": {
    "name": "ipython",
    "version": 3
   },
   "file_extension": ".py",
   "mimetype": "text/x-python",
   "name": "python",
   "nbconvert_exporter": "python",
   "pygments_lexer": "ipython3",
   "version": "3.8.8"
  }
 },
 "nbformat": 4,
 "nbformat_minor": 5
}
