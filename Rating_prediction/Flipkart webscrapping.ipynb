{
 "cells": [
  {
   "cell_type": "code",
   "execution_count": 1,
   "id": "3a4190e5",
   "metadata": {},
   "outputs": [],
   "source": [
    "import selenium\n",
    "import pandas as pd\n",
    "from selenium import webdriver\n",
    "from selenium.webdriver.common.keys import Keys\n",
    "from selenium.webdriver.common.action_chains import ActionChains\n",
    "from time import sleep\n",
    "import time\n",
    "import calendar\n",
    "from datetime import date\n",
    "from selenium.common.exceptions import StaleElementReferenceException, NoSuchElementException, ElementNotInteractableException\n",
    "import ipyparallel as ipp"
   ]
  },
  {
   "cell_type": "code",
   "execution_count": 2,
   "id": "36c52530",
   "metadata": {},
   "outputs": [],
   "source": [
    "products=['smart watch']"
   ]
  },
  {
   "cell_type": "code",
   "execution_count": 3,
   "id": "a145358c",
   "metadata": {},
   "outputs": [],
   "source": [
    "url='https://www.flipkart.com/'\n",
    "driver=webdriver.Chrome('chromedriver.exe')\n",
    "driver.maximize_window()\n",
    "driver.get(url)"
   ]
  },
  {
   "cell_type": "code",
   "execution_count": 4,
   "id": "dd186dd6",
   "metadata": {},
   "outputs": [],
   "source": [
    "try:\n",
    "    button_x=driver.find_elements_by_xpath('/html/body/div[2]/div/div/button')\n",
    "    for i in range(len(button_x)):\n",
    "        if button_x[i].text=='✕':\n",
    "            button_x[i].click() \n",
    "except:\n",
    "    pass"
   ]
  },
  {
   "cell_type": "code",
   "execution_count": 5,
   "id": "60a3b1c1",
   "metadata": {},
   "outputs": [],
   "source": [
    "ratings_5=[]\n",
    "ratings_4=[]\n",
    "ratings_3=[]\n",
    "ratings_2=[]\n",
    "ratings_1=[]"
   ]
  },
  {
   "cell_type": "code",
   "execution_count": 6,
   "id": "860af5af",
   "metadata": {},
   "outputs": [],
   "source": [
    "def change_product(i):\n",
    "    search=driver.find_element_by_xpath(\"//input[@title='Search for products, brands and more']\")\n",
    "    search_btn=driver.find_element_by_class_name('L0Z3Pu')\n",
    "    search.clear()\n",
    "    search.send_keys(i)\n",
    "    search_btn.click()"
   ]
  },
  {
   "cell_type": "code",
   "execution_count": 7,
   "id": "fab23752",
   "metadata": {},
   "outputs": [],
   "source": [
    "def find_pages(page):\n",
    "    page_tag=driver.find_elements_by_xpath('//nav[@class=\"yFHi8N\"]//a')\n",
    "    for pagy in page_tag:\n",
    "        if pagy.get_attribute('href') not in page:\n",
    "            page.append(pagy.get_attribute('href'))\n",
    "    return page[:-1]"
   ]
  },
  {
   "cell_type": "code",
   "execution_count": 8,
   "id": "2bfef02a",
   "metadata": {},
   "outputs": [],
   "source": [
    "def find_product_links():\n",
    "    linkss=[]\n",
    "    urls=driver.find_elements_by_xpath('//div[@class=\"_2kHMtA\"]//a[@class=\"_1fQZEK\"]')\n",
    "    for u in urls:\n",
    "        linkss.append(u.get_attribute('href'))\n",
    "    linkss=linkss[:-1]\n",
    "    return linkss"
   ]
  },
  {
   "cell_type": "code",
   "execution_count": 9,
   "id": "5eaff010",
   "metadata": {},
   "outputs": [],
   "source": [
    "def item_review_nav(next_page):\n",
    "    next_page_tag=driver.find_elements_by_xpath('//nav[@class=\"yFHi8N\"]//a')\n",
    "    for nexty in next_page_tag:\n",
    "        if nexty.get_attribute('href') not in next_page:\n",
    "            next_page.append(nexty.get_attribute('href'))\n",
    "    return next_page"
   ]
  },
  {
   "cell_type": "code",
   "execution_count": 10,
   "id": "dd1d49c3",
   "metadata": {},
   "outputs": [],
   "source": [
    "def populate_data(rating_5,rating_4,rating_3,rating_2,rating_1):\n",
    "    iteration=driver.find_elements_by_xpath('//div[@class=\"_1YokD2 _3Mn1Gg col-9-12\"]/div[@class=\"_1AtVbE col-12-12\"]/div[@class=\"_27M-vq\"]/div/div/div[@class=\"row\"][1]')\n",
    "    for iterr in iteration:\n",
    "        if len(iterr.text.split())>=2:\n",
    "            if iterr.text.split()[0]=='5' and len(rating_5)<2500:\n",
    "                rating_5.extend(iterr.text.split()[1:])\n",
    "            elif iterr.text.split()[0]=='4' and len(rating_4)<2500:\n",
    "                rating_4.extend(iterr.text.split()[1:])\n",
    "            elif iterr.text.split()[0]=='3' and len(rating_3)<2500:\n",
    "                rating_3.extend(iterr.text.split()[1:])\n",
    "            elif iterr.text.split()[0]=='2' and len(rating_2)<2500:\n",
    "                rating_2.extend(iterr.text.split()[1:])\n",
    "            elif iterr.text.split()[0]=='1' and len(rating_1)<2500:\n",
    "                rating_1.extend(iterr.text.split()[1:])\n",
    "    return rating_5,rating_4,rating_3,rating_2,rating_1"
   ]
  },
  {
   "cell_type": "code",
   "execution_count": null,
   "id": "dfbeb1ad",
   "metadata": {},
   "outputs": [
    {
     "name": "stdout",
     "output_type": "stream",
     "text": [
      "Laptop\n",
      "[281, 99, 200, 892, 2111] ||| [468, 179, 300, 1396, 2500] ||| [732, 263, 430, 2076, 2500] ||| [956, 343, 556, 2500, 2500] ||| [1585, 470, 716, 2500, 2500] ||| [1747, 542, 856, 2500, 2500] ||| [1860, 604, 927, 2500, 2500] ||| [2072, 683, 1079, 2500, 2500] ||| [2269, 755, 1160, 2500, 2500] ||| [2501, 852, 1354, 2500, 2500] ||| [2501, 956, 1469, 2500, 2500] ||| [2501, 1023, 1596, 2500, 2500] ||| [2501, 1079, 1714, 2500, 2500] ||| [2501, 1405, 2178, 2500, 2500] ||| [2501, 1515, 2345, 2500, 2500] ||| [2501, 1600, 2477, 2500, 2500] ||| [2501, 1652, 2500, 2500, 2500] ||| [2501, 1749, 2500, 2500, 2500] ||| [2501, 1860, 2500, 2500, 2500] ||| "
     ]
    }
   ],
   "source": [
    "for i in products:\n",
    "    print(i)\n",
    "    change_product(i)\n",
    "    rating_5=[]\n",
    "    rating_4=[]\n",
    "    rating_3=[]\n",
    "    rating_2=[]\n",
    "    rating_1=[]\n",
    "    page=[]\n",
    "    time.sleep(2)\n",
    "    while len(rating_1)<2500 or len(rating_2)<2500 or len(rating_3)<2500 or len(rating_4)<2500 or len(rating_5)<2500:\n",
    "        page=find_pages(page)\n",
    "        for pagy in page:\n",
    "            driver.get(pagy)\n",
    "            time.sleep(2)\n",
    "            links=find_product_links()\n",
    "            for linky in links:\n",
    "                if len(rating_1)>=2500 and len(rating_2)>=2500 and len(rating_3)>=2500 and len(rating_4)>=2500 and len(rating_5)>=2500:\n",
    "                    break\n",
    "                driver.get(linky)\n",
    "                time.sleep(2)\n",
    "                try:\n",
    "                    button_read_more=driver.find_element_by_xpath('//div[@class=\"_3UAT2v _16PBlm\"]')\n",
    "                    button_read_more.click()\n",
    "                    time.sleep(2)\n",
    "                    next_page=[]\n",
    "                    next_page=item_review_nav(next_page)\n",
    "                    if len(next_page)==0:\n",
    "                        next_page.append(linky)\n",
    "                    if len(next_page)>9:\n",
    "                        last_updated=len(next_page)\n",
    "                        driver.get(next_page[-1])\n",
    "                        time.sleep(2)\n",
    "                        next_page=item_review_nav(next_page)\n",
    "                        while last_updated!=len(next_page):\n",
    "                            last_updated=len(next_page)\n",
    "                            driver.get(next_page[-1])\n",
    "                            time.sleep(2)\n",
    "                            next_page=item_review_nav(next_page)\n",
    "                    for nextup in next_page:\n",
    "                        driver.get(nextup)\n",
    "                        time.sleep(2)\n",
    "                        rating_5,rating_4,rating_3,rating_2,rating_1=populate_data(rating_5,rating_4,rating_3,rating_2,rating_1)\n",
    "                except:\n",
    "                    pass\n",
    "            print([len(rating_1),len(rating_2),len(rating_3),len(rating_4),len(rating_5)],\"|\"*3,end=' ')\n",
    "            if len(rating_1)>=2500 and len(rating_2)>=2500 and len(rating_3)>=2500 and len(rating_4)>=2500 and len(rating_5)>=2500:\n",
    "                break\n",
    "    driver.get(url)\n",
    "    time.sleep(2)\n",
    "    ratings_1.extend(rating_1)\n",
    "    ratings_2.extend(rating_2)\n",
    "    ratings_3.extend(rating_3)\n",
    "    ratings_4.extend(rating_4)\n",
    "    ratings_5.extend(rating_5)\n",
    "    print('')"
   ]
  },
  {
   "cell_type": "code",
   "execution_count": null,
   "id": "b3108be6",
   "metadata": {},
   "outputs": [],
   "source": []
  },
  {
   "cell_type": "code",
   "execution_count": null,
   "id": "0d5e76e4",
   "metadata": {},
   "outputs": [],
   "source": [
    "search=driver.find_element_by_xpath(\"//input[@title='Search for products, brands and more']\")\n",
    "search_btn=driver.find_element_by_class_name('L0Z3Pu')\n",
    "for i in products:\n",
    "    search.clear()\n",
    "    search.send_keys(i)\n",
    "    search_btn.click()\n",
    "    time.sleep(5)"
   ]
  },
  {
   "cell_type": "code",
   "execution_count": null,
   "id": "d7ed701e",
   "metadata": {},
   "outputs": [],
   "source": [
    "page_tag=driver.find_elements_by_xpath('//nav[@class=\"yFHi8N\"]//a')\n",
    "page=[]\n",
    "for i in page_tag:\n",
    "    page.append(i.get_attribute('href'))"
   ]
  },
  {
   "cell_type": "code",
   "execution_count": null,
   "id": "0129476f",
   "metadata": {},
   "outputs": [],
   "source": [
    "links=[]\n",
    "urls=driver.find_elements_by_xpath('//div[@class=\"_2kHMtA\"]//a[@class=\"_1fQZEK\"]')\n",
    "for i in urls:\n",
    "    links.append(i.get_attribute('href'))"
   ]
  },
  {
   "cell_type": "code",
   "execution_count": null,
   "id": "f1c8740d",
   "metadata": {},
   "outputs": [],
   "source": [
    "driver.get('https://www.flipkart.com/msi-modern-14-ryzen-5-hexa-core-4500u-8-gb-512-gb-ssd-windows-10-home-b4mw-423in-notebook/product-reviews/itmc2074b83b6a54?pid=COMG483FQ7YHK7GP&lid=LSTCOMG483FQ7YHK7GP3AEZFN&marketplace=FLIPKART')"
   ]
  },
  {
   "cell_type": "code",
   "execution_count": null,
   "id": "9a8ab6fa",
   "metadata": {},
   "outputs": [],
   "source": [
    "try:\n",
    "    button_read_more=driver.find_element_by_xpath('//div[@class=\"_3UAT2v _16PBlm\"]')\n",
    "    button_read_more.click()\n",
    "except:\n",
    "    pass"
   ]
  },
  {
   "cell_type": "code",
   "execution_count": null,
   "id": "b777a797",
   "metadata": {},
   "outputs": [],
   "source": [
    "iteration=driver.find_elements_by_xpath('//div[@class=\"_1YokD2 _3Mn1Gg col-9-12\"]/div[@class=\"_1AtVbE col-12-12\"]/div[@class=\"_27M-vq\"]/div/div/div[@class=\"row\"][1]')"
   ]
  },
  {
   "cell_type": "code",
   "execution_count": null,
   "id": "347db2d1",
   "metadata": {},
   "outputs": [],
   "source": [
    "rating_5=[]\n",
    "rating_4=[]\n",
    "rating_3=[]\n",
    "rating_2=[]\n",
    "rating_1=[]\n",
    "for i in iteration:\n",
    "    print(i.text.split())\n",
    "    if len(i.text.split())>=2:\n",
    "        if i.text.split()[0]=='5' and len(rating_5)!=2000:\n",
    "            rating_5.extend(i.text.split()[1:])\n",
    "        elif i.text.split()[0]=='4' and len(rating_4)!=2000:\n",
    "            rating_4.extend(i.text.split()[1:])\n",
    "        elif i.text.split()[0]=='3' and len(rating_3)!=2000:\n",
    "            rating_3.extend(i.text.split()[1:])\n",
    "        elif i.text.split()[0]=='2' and len(rating_2)!=2000:\n",
    "            rating_2.extend(i.text.split()[1:])\n",
    "        elif i.text.split()[0]=='1' and len(rating_1)!=2000:\n",
    "            rating_1.extend(i.text.split()[1:])"
   ]
  },
  {
   "cell_type": "code",
   "execution_count": null,
   "id": "aaea5e56",
   "metadata": {},
   "outputs": [],
   "source": [
    "rating_1,rating_2,rating_3,rating_4,rating_5"
   ]
  },
  {
   "cell_type": "code",
   "execution_count": null,
   "id": "af493a07",
   "metadata": {},
   "outputs": [],
   "source": [
    "iteration"
   ]
  },
  {
   "cell_type": "code",
   "execution_count": null,
   "id": "44f6eb55",
   "metadata": {},
   "outputs": [],
   "source": [
    "next_page_tag=driver.find_elements_by_xpath('//nav[@class=\"yFHi8N\"]//a')\n",
    "next_page=[]\n",
    "for nexty in next_page_tag:\n",
    "    next_page.append(nexty.get_attribute('href'))"
   ]
  },
  {
   "cell_type": "code",
   "execution_count": null,
   "id": "09c2f2d2",
   "metadata": {},
   "outputs": [],
   "source": [
    "next_page"
   ]
  }
 ],
 "metadata": {
  "kernelspec": {
   "display_name": "Python 3",
   "language": "python",
   "name": "python3"
  },
  "language_info": {
   "codemirror_mode": {
    "name": "ipython",
    "version": 3
   },
   "file_extension": ".py",
   "mimetype": "text/x-python",
   "name": "python",
   "nbconvert_exporter": "python",
   "pygments_lexer": "ipython3",
   "version": "3.8.8"
  }
 },
 "nbformat": 4,
 "nbformat_minor": 5
}
